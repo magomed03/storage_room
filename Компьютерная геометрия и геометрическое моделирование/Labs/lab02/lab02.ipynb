{
 "cells": [
  {
   "cell_type": "markdown",
   "id": "0841ee29-7a09-4f81-afc0-b7a9c66e8fd3",
   "metadata": {
    "id": "0841ee29-7a09-4f81-afc0-b7a9c66e8fd3"
   },
   "source": [
    "# Компьютерная геометрия и геометрическое моделирование\n",
    "## Лабораторная работа №2\n",
    "- Ф.И.О: **Мухамедияр Адиль**\n",
    "- Ноиер студ. билета: **1032205725**\n",
    "- Группа: **НКНбд-01-20**"
   ]
  },
  {
   "cell_type": "code",
   "source": [
    "import numpy as np\n",
    "import matplotlib.pyplot as plt\n",
    "from matplotlib.patches import Polygon, RegularPolygon"
   ],
   "metadata": {
    "id": "CW3N0p81r1XD",
    "ExecuteTime": {
     "end_time": "2024-10-01T13:37:50.372728Z",
     "start_time": "2024-10-01T13:37:50.203076Z"
    }
   },
   "id": "CW3N0p81r1XD",
   "outputs": [
    {
     "ename": "ModuleNotFoundError",
     "evalue": "No module named 'numpy'",
     "output_type": "error",
     "traceback": [
      "\u001B[1;31m---------------------------------------------------------------------------\u001B[0m",
      "\u001B[1;31mModuleNotFoundError\u001B[0m                       Traceback (most recent call last)",
      "Cell \u001B[1;32mIn[2], line 1\u001B[0m\n\u001B[1;32m----> 1\u001B[0m \u001B[38;5;28;01mimport\u001B[39;00m \u001B[38;5;21;01mnumpy\u001B[39;00m \u001B[38;5;28;01mas\u001B[39;00m \u001B[38;5;21;01mnp\u001B[39;00m\n\u001B[0;32m      2\u001B[0m \u001B[38;5;28;01mimport\u001B[39;00m \u001B[38;5;21;01mmatplotlib\u001B[39;00m\u001B[38;5;21;01m.\u001B[39;00m\u001B[38;5;21;01mpyplot\u001B[39;00m \u001B[38;5;28;01mas\u001B[39;00m \u001B[38;5;21;01mplt\u001B[39;00m\n\u001B[0;32m      3\u001B[0m \u001B[38;5;28;01mfrom\u001B[39;00m \u001B[38;5;21;01mmatplotlib\u001B[39;00m\u001B[38;5;21;01m.\u001B[39;00m\u001B[38;5;21;01mpatches\u001B[39;00m \u001B[38;5;28;01mimport\u001B[39;00m Polygon, RegularPolygon\n",
      "\u001B[1;31mModuleNotFoundError\u001B[0m: No module named 'numpy'"
     ]
    }
   ],
   "execution_count": 2
  },
  {
   "metadata": {},
   "cell_type": "markdown",
   "source": "## №1",
   "id": "e600ee56f00bf3f7"
  },
  {
   "cell_type": "code",
   "source": [
    "# Создает матрицу поворота для заданного угла в градусах\n",
    "def build_rotation_matrix(angle_deg):\n",
    "\n",
    "    angle_rad = np.deg2rad(angle_deg)  # Преобразование угла в радианы\n",
    "    return np.array([[np.cos(angle_rad), -np.sin(angle_rad)], # Возвращает матрицу поворота 2х2\n",
    "                     [np.sin(angle_rad), np.cos(angle_rad)]])\n",
    "\n",
    "# Поворачивает вершины полигона на заданный угол с использованием матричной алгебры\n",
    "def rotate_matrix(vertices, angle_deg):\n",
    "\n",
    "    rotation_matrix = build_rotation_matrix(angle_deg)  # Получение матрицы поворота\n",
    "    rotated_vertices = np.dot(rotation_matrix, np.array(vertices).T).T  # Применение матрицы поворота к вершинам\n",
    "    return rotated_vertices\n",
    "\n",
    "# Поворачивает вершины полигона на заданный угол, используя комплексные числа\n",
    "def rotate_complex(vertices, angle_deg):\n",
    "\n",
    "    angle_rad = np.deg2rad(angle_deg)  # Преобразование угла в радианы\n",
    "    rotated_vertices = [(x * np.cos(angle_rad) - y * np.sin(angle_rad), x * np.sin(angle_rad) + y * np.cos(angle_rad))\n",
    "                        for (x, y) in vertices]  # Применение формулы поворота к каждой вершине\n",
    "    return rotated_vertices\n",
    "\n",
    "# Пример использования:\n",
    "polygon_vertices = [(0, 0), (1, 0), (1, 1), (0, 1)]\n",
    "rotation_angle = 90  # градусы\n",
    "\n",
    "rotated_vertices_matrix = rotate_matrix(polygon_vertices, rotation_angle)\n",
    "rotated_vertices_complex = rotate_complex(polygon_vertices, rotation_angle)\n",
    "\n",
    "rotated_vertices_matrix, rotated_vertices_complex\n"
   ],
   "metadata": {
    "colab": {
     "base_uri": "https://localhost:8080/"
    },
    "id": "3LmAtiUR2ozG",
    "outputId": "44d89435-afee-4a7a-e800-e740a912ad6e",
    "ExecuteTime": {
     "end_time": "2024-10-01T13:37:50.615246Z",
     "start_time": "2024-10-01T13:37:50.425337Z"
    }
   },
   "id": "3LmAtiUR2ozG",
   "outputs": [
    {
     "ename": "NameError",
     "evalue": "name 'np' is not defined",
     "output_type": "error",
     "traceback": [
      "\u001B[1;31m---------------------------------------------------------------------------\u001B[0m",
      "\u001B[1;31mNameError\u001B[0m                                 Traceback (most recent call last)",
      "Cell \u001B[1;32mIn[3], line 27\u001B[0m\n\u001B[0;32m     24\u001B[0m polygon_vertices \u001B[38;5;241m=\u001B[39m [(\u001B[38;5;241m0\u001B[39m, \u001B[38;5;241m0\u001B[39m), (\u001B[38;5;241m1\u001B[39m, \u001B[38;5;241m0\u001B[39m), (\u001B[38;5;241m1\u001B[39m, \u001B[38;5;241m1\u001B[39m), (\u001B[38;5;241m0\u001B[39m, \u001B[38;5;241m1\u001B[39m)]\n\u001B[0;32m     25\u001B[0m rotation_angle \u001B[38;5;241m=\u001B[39m \u001B[38;5;241m90\u001B[39m  \u001B[38;5;66;03m# градусы\u001B[39;00m\n\u001B[1;32m---> 27\u001B[0m rotated_vertices_matrix \u001B[38;5;241m=\u001B[39m \u001B[43mrotate_matrix\u001B[49m\u001B[43m(\u001B[49m\u001B[43mpolygon_vertices\u001B[49m\u001B[43m,\u001B[49m\u001B[43m \u001B[49m\u001B[43mrotation_angle\u001B[49m\u001B[43m)\u001B[49m\n\u001B[0;32m     28\u001B[0m rotated_vertices_complex \u001B[38;5;241m=\u001B[39m rotate_complex(polygon_vertices, rotation_angle)\n\u001B[0;32m     30\u001B[0m rotated_vertices_matrix, rotated_vertices_complex\n",
      "Cell \u001B[1;32mIn[3], line 11\u001B[0m, in \u001B[0;36mrotate_matrix\u001B[1;34m(vertices, angle_deg)\u001B[0m\n\u001B[0;32m      9\u001B[0m \u001B[38;5;28;01mdef\u001B[39;00m \u001B[38;5;21mrotate_matrix\u001B[39m(vertices, angle_deg):\n\u001B[1;32m---> 11\u001B[0m     rotation_matrix \u001B[38;5;241m=\u001B[39m \u001B[43mbuild_rotation_matrix\u001B[49m\u001B[43m(\u001B[49m\u001B[43mangle_deg\u001B[49m\u001B[43m)\u001B[49m  \u001B[38;5;66;03m# Получение матрицы поворота\u001B[39;00m\n\u001B[0;32m     12\u001B[0m     rotated_vertices \u001B[38;5;241m=\u001B[39m np\u001B[38;5;241m.\u001B[39mdot(rotation_matrix, np\u001B[38;5;241m.\u001B[39marray(vertices)\u001B[38;5;241m.\u001B[39mT)\u001B[38;5;241m.\u001B[39mT  \u001B[38;5;66;03m# Применение матрицы поворота к вершинам\u001B[39;00m\n\u001B[0;32m     13\u001B[0m     \u001B[38;5;28;01mreturn\u001B[39;00m rotated_vertices\n",
      "Cell \u001B[1;32mIn[3], line 4\u001B[0m, in \u001B[0;36mbuild_rotation_matrix\u001B[1;34m(angle_deg)\u001B[0m\n\u001B[0;32m      2\u001B[0m \u001B[38;5;28;01mdef\u001B[39;00m \u001B[38;5;21mbuild_rotation_matrix\u001B[39m(angle_deg):\n\u001B[1;32m----> 4\u001B[0m     angle_rad \u001B[38;5;241m=\u001B[39m \u001B[43mnp\u001B[49m\u001B[38;5;241m.\u001B[39mdeg2rad(angle_deg)  \u001B[38;5;66;03m# Преобразование угла в радианы\u001B[39;00m\n\u001B[0;32m      5\u001B[0m     \u001B[38;5;28;01mreturn\u001B[39;00m np\u001B[38;5;241m.\u001B[39marray([[np\u001B[38;5;241m.\u001B[39mcos(angle_rad), \u001B[38;5;241m-\u001B[39mnp\u001B[38;5;241m.\u001B[39msin(angle_rad)], \u001B[38;5;66;03m# Возвращает матрицу поворота 2х2\u001B[39;00m\n\u001B[0;32m      6\u001B[0m                      [np\u001B[38;5;241m.\u001B[39msin(angle_rad), np\u001B[38;5;241m.\u001B[39mcos(angle_rad)]])\n",
      "\u001B[1;31mNameError\u001B[0m: name 'np' is not defined"
     ]
    }
   ],
   "execution_count": 3
  },
  {
   "cell_type": "markdown",
   "source": [
    "## № 2"
   ],
   "metadata": {
    "id": "V4pvgLZM0msO"
   },
   "id": "V4pvgLZM0msO"
  },
  {
   "cell_type": "markdown",
   "source": [
    "## №3"
   ],
   "metadata": {
    "id": "Pc8h4Thx0pEz"
   },
   "id": "Pc8h4Thx0pEz"
  },
  {
   "cell_type": "code",
   "source": [
    "# Создает матрицу поворота для заданного угла в градусах\n",
    "def build_rotation_matrix(angle_deg):\n",
    "\n",
    "    angle_rad = np.deg2rad(angle_deg)\n",
    "    return np.array([[np.cos(angle_rad), -np.sin(angle_rad)],\n",
    "                     [np.sin(angle_rad), np.cos(angle_rad)]])\n",
    "\n",
    "# Поворачивает вершины на заданный угол\n",
    "def rotate_vertices(vertices, angle_deg):\n",
    "\n",
    "    rotation_matrix = build_rotation_matrix(angle_deg)\n",
    "    rotated_vertices = np.dot(np.array(vertices), rotation_matrix.T)\n",
    "    return rotated_vertices # Возвращает список повернутых вершин\n",
    "\n",
    "# Отражает вершины относительно оси Y\n",
    "def reflect_over_y(vertices):\n",
    "\n",
    "    return [(x, -y) for (x, y) in vertices]\n",
    "\n",
    "# Отражает полигон относительно линии, заданной углом\n",
    "def reflect_polygon(vertices, angle_deg):\n",
    "\n",
    "    # Шаг 1: Поворот вершин, чтобы выровнять линию отражения с осью Y\n",
    "    rotated_vertices = rotate_vertices(vertices, -angle_deg)\n",
    "\n",
    "    # Шаг 2: Отражение вершин относительно оси Y\n",
    "    reflected_vertices = reflect_over_y(rotated_vertices)\n",
    "\n",
    "    # Шаг 3: Поворот вершин обратно в исходное положение\n",
    "    reflected_rotated_vertices = rotate_vertices(reflected_vertices, angle_deg)\n",
    "\n",
    "    return reflected_rotated_vertices\n",
    "\n",
    "# Пример использования:\n",
    "polygon_vertices = [(-1, 0), (-0.5, 0.5), (0, 1.5), (1, 2), (1, 0.5)]\n",
    "reflection_angle = 30  # градусы\n",
    "\n",
    "reflected_vertices = reflect_polygon(polygon_vertices, reflection_angle)\n",
    "\n",
    "# Визуализация\n",
    "fig, ax = plt.subplots()\n",
    "\n",
    "# Исходный полигон\n",
    "polygon = plt.Polygon(polygon_vertices, fill=None, edgecolor='r', label='Исходный')\n",
    "ax.add_patch(polygon)\n",
    "\n",
    "# Отраженный полигон\n",
    "reflected_polygon = plt.Polygon(reflected_vertices, fill=None, edgecolor='b', linestyle='--', label='Отраженный')\n",
    "ax.add_patch(reflected_polygon)\n",
    "\n",
    "# Линия отражения\n",
    "x = np.linspace(-1, 2, 400)\n",
    "y = x * np.tan(np.deg2rad(reflection_angle))\n",
    "ax.plot(x, y, 'k-', label='Линия отражения')\n",
    "\n",
    "ax.axis('equal')\n",
    "ax.legend()\n",
    "plt.show()\n"
   ],
   "metadata": {
    "colab": {
     "base_uri": "https://localhost:8080/",
     "height": 430
    },
    "id": "MAlAVde--Rxr",
    "outputId": "2320c311-63ec-46d1-b311-9456c2be318e",
    "ExecuteTime": {
     "end_time": "2024-10-01T13:37:50.615246Z",
     "start_time": "2024-10-01T13:37:50.615246Z"
    }
   },
   "id": "MAlAVde--Rxr",
   "outputs": [],
   "execution_count": null
  },
  {
   "cell_type": "markdown",
   "source": [
    "## №4"
   ],
   "metadata": {
    "id": "ctkxoUbi2paq"
   },
   "id": "ctkxoUbi2paq"
  },
  {
   "cell_type": "code",
   "source": [
    "import matplotlib.pyplot as plt\n",
    "import numpy as np\n",
    "import ipywidgets as widgets\n",
    "from ipywidgets import interactive\n",
    "\n",
    "def rotate_around_point(vertices, angle_deg, center):\n",
    "    # Конвертация угла из градусов в радианы\n",
    "    angle_rad = np.deg2rad(angle_deg)\n",
    "\n",
    "    # Перемещение вершин к началу координат (вычитание координат центра)\n",
    "    vertices = np.array(vertices) - center\n",
    "\n",
    "    # Создание матрицы поворота\n",
    "    rotation_matrix = np.array([[np.cos(angle_rad), -np.sin(angle_rad)],\n",
    "                                [np.sin(angle_rad), np.cos(angle_rad)]])\n",
    "\n",
    "    # Применение матрицы поворота к вершинам\n",
    "    rotated_vertices = np.dot(vertices, rotation_matrix.T)\n",
    "\n",
    "    # Возвращение вершин обратно (прибавление координат центра)\n",
    "    rotated_vertices += center\n",
    "\n",
    "    return rotated_vertices  # Возвращение повернутых вершин\n",
    "\n",
    "def visualize_rotation(vertices, angle_deg, center):\n",
    "    # Получение повернутых вершин\n",
    "    rotated_vertices = rotate_around_point(vertices, angle_deg, center)\n",
    "\n",
    "    # Создание фигуры и осей\n",
    "    fig, ax = plt.subplots()\n",
    "\n",
    "    # Построение исходного полигона\n",
    "    polygon = plt.Polygon(vertices, fill=None, edgecolor='green', label='Original')\n",
    "    ax.add_patch(polygon)\n",
    "\n",
    "    # Построение повернутого полигона\n",
    "    rotated_polygon = plt.Polygon(rotated_vertices, fill=None, edgecolor='b', linestyle='--', label='Rotated')\n",
    "    ax.add_patch(rotated_polygon)\n",
    "\n",
    "    # Построение центра поворота\n",
    "    ax.plot(*center, 'go', label='Center of Rotation')\n",
    "\n",
    "    # Установка одинакового масштабирования и легенды\n",
    "    ax.axis('equal')\n",
    "    ax.legend()\n",
    "    plt.show()\n",
    "\n",
    "# Вершины и центр поворота\n",
    "triangle_vertices = [(0, 0), (1, 0), (1, np.sqrt(3)/2)]\n",
    "rotation_center = (1, 1)\n",
    "\n",
    "# Интерактивный виджет\n",
    "angle_slider = widgets.IntSlider(min=0, max=360, step=1, value=0, description='Angle (deg):')\n",
    "interactive_plot = interactive(visualize_rotation,\n",
    "                               vertices=widgets.fixed(triangle_vertices),\n",
    "                               angle_deg=angle_slider,\n",
    "                               center=widgets.fixed(rotation_center))\n",
    "output = interactive_plot.children[-1]\n",
    "output.layout.height = '350px'\n",
    "interactive_plot\n"
   ],
   "metadata": {
    "colab": {
     "base_uri": "https://localhost:8080/",
     "height": 399,
     "referenced_widgets": [
      "d524487488ac44c4bd8b1d1a125618c0",
      "649ad9fd4e694fbdab132086a9313fff",
      "45290b7ddbc64822a782eb8558624067",
      "67419b7a4e344e87a4cb67204cb2ff9a",
      "cbf1164e6d4449dd9cd2e5f801864c2f",
      "4ce370bb2bdf42129dfbfb57b708e8ed",
      "c0cfd6e1e3884d1989ada2b7b7e74340"
     ]
    },
    "id": "kHD7EMPgJOnC",
    "outputId": "1d4bd75d-aa81-4370-88bd-87d4ee952a4c",
    "ExecuteTime": {
     "end_time": "2024-10-01T13:37:51.106591Z",
     "start_time": "2024-10-01T13:37:50.789017Z"
    }
   },
   "id": "kHD7EMPgJOnC",
   "outputs": [
    {
     "ename": "ModuleNotFoundError",
     "evalue": "No module named 'matplotlib'",
     "output_type": "error",
     "traceback": [
      "\u001B[1;31m---------------------------------------------------------------------------\u001B[0m",
      "\u001B[1;31mModuleNotFoundError\u001B[0m                       Traceback (most recent call last)",
      "Cell \u001B[1;32mIn[4], line 1\u001B[0m\n\u001B[1;32m----> 1\u001B[0m \u001B[38;5;28;01mimport\u001B[39;00m \u001B[38;5;21;01mmatplotlib\u001B[39;00m\u001B[38;5;21;01m.\u001B[39;00m\u001B[38;5;21;01mpyplot\u001B[39;00m \u001B[38;5;28;01mas\u001B[39;00m \u001B[38;5;21;01mplt\u001B[39;00m\n\u001B[0;32m      2\u001B[0m \u001B[38;5;28;01mimport\u001B[39;00m \u001B[38;5;21;01mnumpy\u001B[39;00m \u001B[38;5;28;01mas\u001B[39;00m \u001B[38;5;21;01mnp\u001B[39;00m\n\u001B[0;32m      3\u001B[0m \u001B[38;5;28;01mimport\u001B[39;00m \u001B[38;5;21;01mipywidgets\u001B[39;00m \u001B[38;5;28;01mas\u001B[39;00m \u001B[38;5;21;01mwidgets\u001B[39;00m\n",
      "\u001B[1;31mModuleNotFoundError\u001B[0m: No module named 'matplotlib'"
     ]
    }
   ],
   "execution_count": 4
  },
  {
   "cell_type": "markdown",
   "source": [
    "## №5"
   ],
   "metadata": {
    "id": "IYpmDG5x34ER"
   },
   "id": "IYpmDG5x34ER"
  },
  {
   "cell_type": "code",
   "source": [
    "def plot_kinematic_pair(l1, l2, theta1_deg, theta2_deg):\n",
    "    # Перевод углов из градусов в радианы\n",
    "    theta1_rad = np.deg2rad(theta1_deg)\n",
    "    theta2_rad = np.deg2rad(theta2_deg)\n",
    "\n",
    "    # Расчет координат\n",
    "    # Координаты локтевого сустава (конец первого звена)\n",
    "    x1, y1 = l1 * np.cos(theta1_rad), l1 * np.sin(theta1_rad)\n",
    "    # Координаты конечного исполнителя (конец второго звена)\n",
    "    x2, y2 = x1 + l2 * np.cos(theta1_rad + theta2_rad), y1 + l2 * np.sin(theta1_rad + theta2_rad)\n",
    "\n",
    "    # Создание фигуры и осей\n",
    "    fig, ax = plt.subplots()\n",
    "\n",
    "    # Отображение звеньев и суставов\n",
    "    ax.plot([0, x1], [0, y1], 'k-', linewidth=2, label='Звено 1')  # Первое звено\n",
    "    ax.plot([x1, x2], [y1, y2], 'b-', linewidth=2, label='Звено 2')  # Второе звено\n",
    "    ax.plot(0, 0, 'ro', label='Базовый сустав')  # Базовый сустав\n",
    "    ax.plot(x1, y1, 'go', label='Локтевой сустав')  # Локтевой сустав\n",
    "    ax.plot(x2, y2, 'bo', label='Конечный исполнитель')  # Конечный исполнитель\n",
    "\n",
    "    # Установка равного масштабирования, легенды и сетки\n",
    "    ax.axis('equal')\n",
    "    ax.legend()\n",
    "    ax.grid(True)\n",
    "    plt.show()\n",
    "\n",
    "# Пример использования:\n",
    "plot_kinematic_pair(1, 3, 150, 60)\n"
   ],
   "metadata": {
    "colab": {
     "base_uri": "https://localhost:8080/",
     "height": 430
    },
    "id": "ESKLcDCA-Q8C",
    "outputId": "bfcc92ff-656d-4a86-e9a8-dca71597a4f3",
    "ExecuteTime": {
     "end_time": "2024-10-01T13:37:51.859674Z",
     "start_time": "2024-10-01T13:37:51.152323Z"
    }
   },
   "id": "ESKLcDCA-Q8C",
   "outputs": [
    {
     "ename": "NameError",
     "evalue": "name 'np' is not defined",
     "output_type": "error",
     "traceback": [
      "\u001B[1;31m---------------------------------------------------------------------------\u001B[0m",
      "\u001B[1;31mNameError\u001B[0m                                 Traceback (most recent call last)",
      "Cell \u001B[1;32mIn[5], line 29\u001B[0m\n\u001B[0;32m     26\u001B[0m     plt\u001B[38;5;241m.\u001B[39mshow()\n\u001B[0;32m     28\u001B[0m \u001B[38;5;66;03m# Пример использования:\u001B[39;00m\n\u001B[1;32m---> 29\u001B[0m \u001B[43mplot_kinematic_pair\u001B[49m\u001B[43m(\u001B[49m\u001B[38;5;241;43m1\u001B[39;49m\u001B[43m,\u001B[49m\u001B[43m \u001B[49m\u001B[38;5;241;43m3\u001B[39;49m\u001B[43m,\u001B[49m\u001B[43m \u001B[49m\u001B[38;5;241;43m150\u001B[39;49m\u001B[43m,\u001B[49m\u001B[43m \u001B[49m\u001B[38;5;241;43m60\u001B[39;49m\u001B[43m)\u001B[49m\n",
      "Cell \u001B[1;32mIn[5], line 3\u001B[0m, in \u001B[0;36mplot_kinematic_pair\u001B[1;34m(l1, l2, theta1_deg, theta2_deg)\u001B[0m\n\u001B[0;32m      1\u001B[0m \u001B[38;5;28;01mdef\u001B[39;00m \u001B[38;5;21mplot_kinematic_pair\u001B[39m(l1, l2, theta1_deg, theta2_deg):\n\u001B[0;32m      2\u001B[0m     \u001B[38;5;66;03m# Перевод углов из градусов в радианы\u001B[39;00m\n\u001B[1;32m----> 3\u001B[0m     theta1_rad \u001B[38;5;241m=\u001B[39m \u001B[43mnp\u001B[49m\u001B[38;5;241m.\u001B[39mdeg2rad(theta1_deg)\n\u001B[0;32m      4\u001B[0m     theta2_rad \u001B[38;5;241m=\u001B[39m np\u001B[38;5;241m.\u001B[39mdeg2rad(theta2_deg)\n\u001B[0;32m      6\u001B[0m     \u001B[38;5;66;03m# Расчет координат\u001B[39;00m\n\u001B[0;32m      7\u001B[0m     \u001B[38;5;66;03m# Координаты локтевого сустава (конец первого звена)\u001B[39;00m\n",
      "\u001B[1;31mNameError\u001B[0m: name 'np' is not defined"
     ]
    }
   ],
   "execution_count": 5
  },
  {
   "cell_type": "markdown",
   "source": [
    "## №6"
   ],
   "metadata": {
    "id": "dNDgbCW1MiAj"
   },
   "id": "dNDgbCW1MiAj"
  },
  {
   "cell_type": "code",
   "source": [
    "import matplotlib.animation as animation\n",
    "from matplotlib import rc\n",
    "from IPython.display import HTML\n",
    "\n",
    "# Настройка для отображения анимации в Jupyter Notebook\n",
    "rc('animation', html='html5')\n",
    "\n",
    "# Функция для анимации эпициклоиды\n",
    "def animate_epicycloid(R, r, d, n, theta_step=0.1):\n",
    "    # Создание фигуры и осей\n",
    "    fig, ax = plt.subplots()\n",
    "\n",
    "    # Настройка осей\n",
    "    ax.axis('equal')\n",
    "    ax.grid(True)\n",
    "    ax.set_xlim([-R-r-d, R+r+d])\n",
    "    ax.set_ylim([-R-r-d, R+r+d])\n",
    "\n",
    "    # Инициализация линии для отображения кривой\n",
    "    line, = ax.plot([], [], 'b-', linewidth=2)\n",
    "\n",
    "    # Инициализация точки для отображения конечного исполнителя\n",
    "    point, = ax.plot([], [], 'bo')\n",
    "\n",
    "    # Функция инициализации анимации\n",
    "    def init():\n",
    "        line.set_data([], [])\n",
    "        point.set_data([], [])\n",
    "        return line, point\n",
    "\n",
    "    # Функция для обновления каждого кадра анимации\n",
    "    def update(frame):\n",
    "        theta = np.arange(0, frame, theta_step)  # Параметр theta от 0 до текущего значения frame\n",
    "        x = (R + r) * np.cos(theta) - d * np.cos(((R + r) / r) * theta)\n",
    "        y = (R + r) * np.sin(theta) - d * np.sin(((R + r) / r) * theta)\n",
    "        line.set_data(x, y)\n",
    "        point.set_data(x[-1], y[-1])  # Установка положения конечного исполнителя в последнюю точку кривой\n",
    "        return line, point\n",
    "\n",
    "    # Создание анимации\n",
    "    ani = animation.FuncAnimation(fig, update, frames=np.arange(0, 2*np.pi*n + theta_step, theta_step), init_func=init, blit=True)\n",
    "    plt.close(fig)  # Закрытие фигуры, чтобы предотвратить отображение статического изображения\n",
    "    return ani\n",
    "\n",
    "# Параметры эпициклоиды для примера \"дельтоида\" из таблицы\n",
    "R, r, d, k, n = 3, 1, 1, 3, 1\n",
    "\n",
    "def animate_epicycloid(R, r, d, n, theta_step=0.1):\n",
    "    # Создание фигуры и осей\n",
    "    fig, ax = plt.subplots()\n",
    "\n",
    "    # Настройка осей\n",
    "    ax.axis('equal')\n",
    "    ax.grid(True)\n",
    "    ax.set_xlim([-R-r-d, R+r+d])\n",
    "    ax.set_ylim([-R-r-d, R+r+d])\n",
    "\n",
    "    # Инициализация линии для отображения кривой\n",
    "    line, = ax.plot([], [], 'b-', linewidth=2)\n",
    "\n",
    "    # Инициализация точки для отображения конечного исполнителя\n",
    "    point, = ax.plot([], [], 'bo')\n",
    "\n",
    "    # Функция инициализации анимации\n",
    "    def init():\n",
    "        line.set_data([], [])\n",
    "        point.set_data([], [])\n",
    "        return line, point\n",
    "\n",
    "    # Функция для обновления каждого кадра анимации\n",
    "    def update(frame):\n",
    "        theta = np.arange(0, frame, theta_step)  # Параметр theta от 0 до текущего значения frame\n",
    "        x = (R + r) * np.cos(theta) - d * np.cos(((R + r) / r) * theta)\n",
    "        y = (R + r) * np.sin(theta) - d * np.sin(((R + r) / r) * theta)\n",
    "        line.set_data(x, y)\n",
    "        if len(x) > 0 and len(y) > 0:  # Проверка наличия данных перед установкой положения конечного исполнителя\n",
    "            point.set_data(x[-1], y[-1])\n",
    "        return line, point\n",
    "\n",
    "    # Создание анимации\n",
    "    ani = animation.FuncAnimation(fig, update, frames=np.arange(0, 2*np.pi*n + theta_step, theta_step), init_func=init, blit=True)\n",
    "    plt.close(fig)  # Закрытие фигуры, чтобы предотвратить отображение статического изображения\n",
    "    return ani\n",
    "\n",
    "# Повторное создание и отображение анимации\n",
    "ani = animate_epicycloid(R, r, d, n)\n",
    "ani\n"
   ],
   "metadata": {
    "colab": {
     "base_uri": "https://localhost:8080/",
     "height": 537
    },
    "id": "uIDSyfJ1MIZX",
    "outputId": "39c76458-5816-4be3-aafb-e09a92da53e8",
    "ExecuteTime": {
     "end_time": "2024-10-01T13:37:51.890935Z",
     "start_time": "2024-10-01T13:37:51.890935Z"
    }
   },
   "id": "uIDSyfJ1MIZX",
   "outputs": [],
   "execution_count": null
  }
 ],
 "metadata": {
  "kernelspec": {
   "display_name": "Python 3 (ipykernel)",
   "language": "python",
   "name": "python3"
  },
  "language_info": {
   "codemirror_mode": {
    "name": "ipython",
    "version": 3
   },
   "file_extension": ".py",
   "mimetype": "text/x-python",
   "name": "python",
   "nbconvert_exporter": "python",
   "pygments_lexer": "ipython3",
   "version": "3.11.5"
  },
  "colab": {
   "provenance": []
  },
  "widgets": {
   "application/vnd.jupyter.widget-state+json": {
    "d524487488ac44c4bd8b1d1a125618c0": {
     "model_module": "@jupyter-widgets/controls",
     "model_name": "VBoxModel",
     "model_module_version": "1.5.0",
     "state": {
      "_dom_classes": [
       "widget-interact"
      ],
      "_model_module": "@jupyter-widgets/controls",
      "_model_module_version": "1.5.0",
      "_model_name": "VBoxModel",
      "_view_count": null,
      "_view_module": "@jupyter-widgets/controls",
      "_view_module_version": "1.5.0",
      "_view_name": "VBoxView",
      "box_style": "",
      "children": [
       "IPY_MODEL_649ad9fd4e694fbdab132086a9313fff",
       "IPY_MODEL_45290b7ddbc64822a782eb8558624067"
      ],
      "layout": "IPY_MODEL_67419b7a4e344e87a4cb67204cb2ff9a"
     }
    },
    "649ad9fd4e694fbdab132086a9313fff": {
     "model_module": "@jupyter-widgets/controls",
     "model_name": "IntSliderModel",
     "model_module_version": "1.5.0",
     "state": {
      "_dom_classes": [],
      "_model_module": "@jupyter-widgets/controls",
      "_model_module_version": "1.5.0",
      "_model_name": "IntSliderModel",
      "_view_count": null,
      "_view_module": "@jupyter-widgets/controls",
      "_view_module_version": "1.5.0",
      "_view_name": "IntSliderView",
      "continuous_update": true,
      "description": "Angle (deg):",
      "description_tooltip": null,
      "disabled": false,
      "layout": "IPY_MODEL_cbf1164e6d4449dd9cd2e5f801864c2f",
      "max": 360,
      "min": 0,
      "orientation": "horizontal",
      "readout": true,
      "readout_format": "d",
      "step": 1,
      "style": "IPY_MODEL_4ce370bb2bdf42129dfbfb57b708e8ed",
      "value": 0
     }
    },
    "45290b7ddbc64822a782eb8558624067": {
     "model_module": "@jupyter-widgets/output",
     "model_name": "OutputModel",
     "model_module_version": "1.0.0",
     "state": {
      "_dom_classes": [],
      "_model_module": "@jupyter-widgets/output",
      "_model_module_version": "1.0.0",
      "_model_name": "OutputModel",
      "_view_count": null,
      "_view_module": "@jupyter-widgets/output",
      "_view_module_version": "1.0.0",
      "_view_name": "OutputView",
      "layout": "IPY_MODEL_c0cfd6e1e3884d1989ada2b7b7e74340",
      "msg_id": "",
      "outputs": [
       {
        "output_type": "display_data",
        "data": {
         "text/plain": "<Figure size 640x480 with 1 Axes>",
         "image/png": "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\n"
        },
        "metadata": {}
       }
      ]
     }
    },
    "67419b7a4e344e87a4cb67204cb2ff9a": {
     "model_module": "@jupyter-widgets/base",
     "model_name": "LayoutModel",
     "model_module_version": "1.2.0",
     "state": {
      "_model_module": "@jupyter-widgets/base",
      "_model_module_version": "1.2.0",
      "_model_name": "LayoutModel",
      "_view_count": null,
      "_view_module": "@jupyter-widgets/base",
      "_view_module_version": "1.2.0",
      "_view_name": "LayoutView",
      "align_content": null,
      "align_items": null,
      "align_self": null,
      "border": null,
      "bottom": null,
      "display": null,
      "flex": null,
      "flex_flow": null,
      "grid_area": null,
      "grid_auto_columns": null,
      "grid_auto_flow": null,
      "grid_auto_rows": null,
      "grid_column": null,
      "grid_gap": null,
      "grid_row": null,
      "grid_template_areas": null,
      "grid_template_columns": null,
      "grid_template_rows": null,
      "height": null,
      "justify_content": null,
      "justify_items": null,
      "left": null,
      "margin": null,
      "max_height": null,
      "max_width": null,
      "min_height": null,
      "min_width": null,
      "object_fit": null,
      "object_position": null,
      "order": null,
      "overflow": null,
      "overflow_x": null,
      "overflow_y": null,
      "padding": null,
      "right": null,
      "top": null,
      "visibility": null,
      "width": null
     }
    },
    "cbf1164e6d4449dd9cd2e5f801864c2f": {
     "model_module": "@jupyter-widgets/base",
     "model_name": "LayoutModel",
     "model_module_version": "1.2.0",
     "state": {
      "_model_module": "@jupyter-widgets/base",
      "_model_module_version": "1.2.0",
      "_model_name": "LayoutModel",
      "_view_count": null,
      "_view_module": "@jupyter-widgets/base",
      "_view_module_version": "1.2.0",
      "_view_name": "LayoutView",
      "align_content": null,
      "align_items": null,
      "align_self": null,
      "border": null,
      "bottom": null,
      "display": null,
      "flex": null,
      "flex_flow": null,
      "grid_area": null,
      "grid_auto_columns": null,
      "grid_auto_flow": null,
      "grid_auto_rows": null,
      "grid_column": null,
      "grid_gap": null,
      "grid_row": null,
      "grid_template_areas": null,
      "grid_template_columns": null,
      "grid_template_rows": null,
      "height": null,
      "justify_content": null,
      "justify_items": null,
      "left": null,
      "margin": null,
      "max_height": null,
      "max_width": null,
      "min_height": null,
      "min_width": null,
      "object_fit": null,
      "object_position": null,
      "order": null,
      "overflow": null,
      "overflow_x": null,
      "overflow_y": null,
      "padding": null,
      "right": null,
      "top": null,
      "visibility": null,
      "width": null
     }
    },
    "4ce370bb2bdf42129dfbfb57b708e8ed": {
     "model_module": "@jupyter-widgets/controls",
     "model_name": "SliderStyleModel",
     "model_module_version": "1.5.0",
     "state": {
      "_model_module": "@jupyter-widgets/controls",
      "_model_module_version": "1.5.0",
      "_model_name": "SliderStyleModel",
      "_view_count": null,
      "_view_module": "@jupyter-widgets/base",
      "_view_module_version": "1.2.0",
      "_view_name": "StyleView",
      "description_width": "",
      "handle_color": null
     }
    },
    "c0cfd6e1e3884d1989ada2b7b7e74340": {
     "model_module": "@jupyter-widgets/base",
     "model_name": "LayoutModel",
     "model_module_version": "1.2.0",
     "state": {
      "_model_module": "@jupyter-widgets/base",
      "_model_module_version": "1.2.0",
      "_model_name": "LayoutModel",
      "_view_count": null,
      "_view_module": "@jupyter-widgets/base",
      "_view_module_version": "1.2.0",
      "_view_name": "LayoutView",
      "align_content": null,
      "align_items": null,
      "align_self": null,
      "border": null,
      "bottom": null,
      "display": null,
      "flex": null,
      "flex_flow": null,
      "grid_area": null,
      "grid_auto_columns": null,
      "grid_auto_flow": null,
      "grid_auto_rows": null,
      "grid_column": null,
      "grid_gap": null,
      "grid_row": null,
      "grid_template_areas": null,
      "grid_template_columns": null,
      "grid_template_rows": null,
      "height": "350px",
      "justify_content": null,
      "justify_items": null,
      "left": null,
      "margin": null,
      "max_height": null,
      "max_width": null,
      "min_height": null,
      "min_width": null,
      "object_fit": null,
      "object_position": null,
      "order": null,
      "overflow": null,
      "overflow_x": null,
      "overflow_y": null,
      "padding": null,
      "right": null,
      "top": null,
      "visibility": null,
      "width": null
     }
    }
   }
  }
 },
 "nbformat": 4,
 "nbformat_minor": 5
}
