{
  "nbformat": 4,
  "nbformat_minor": 0,
  "metadata": {
    "colab": {
      "provenance": [],
      "toc_visible": true
    },
    "kernelspec": {
      "name": "python3",
      "display_name": "Python 3"
    },
    "language_info": {
      "name": "python"
    },
    "widgets": {
      "application/vnd.jupyter.widget-state+json": {
        "d04e44fe1b204752b73c6e4fe7494033": {
          "model_module": "@jupyter-widgets/controls",
          "model_name": "HBoxModel",
          "model_module_version": "1.5.0",
          "state": {
            "_dom_classes": [],
            "_model_module": "@jupyter-widgets/controls",
            "_model_module_version": "1.5.0",
            "_model_name": "HBoxModel",
            "_view_count": null,
            "_view_module": "@jupyter-widgets/controls",
            "_view_module_version": "1.5.0",
            "_view_name": "HBoxView",
            "box_style": "",
            "children": [
              "IPY_MODEL_637b1dcc996649229b00591f844fc3f9",
              "IPY_MODEL_34449c8474dc4d00b7f537cfc891ba41",
              "IPY_MODEL_25cea6d9c3fd423f8060cfafd22800c1"
            ],
            "layout": "IPY_MODEL_0b749e5e724e497f841e3df627eb171c"
          }
        },
        "637b1dcc996649229b00591f844fc3f9": {
          "model_module": "@jupyter-widgets/controls",
          "model_name": "HTMLModel",
          "model_module_version": "1.5.0",
          "state": {
            "_dom_classes": [],
            "_model_module": "@jupyter-widgets/controls",
            "_model_module_version": "1.5.0",
            "_model_name": "HTMLModel",
            "_view_count": null,
            "_view_module": "@jupyter-widgets/controls",
            "_view_module_version": "1.5.0",
            "_view_name": "HTMLView",
            "description": "",
            "description_tooltip": null,
            "layout": "IPY_MODEL_ddaac7d3782a43db8919874652e1d944",
            "placeholder": "​",
            "style": "IPY_MODEL_216d46a0629d49f89fe95dadadea3480",
            "value": "Dl Completed...: 100%"
          }
        },
        "34449c8474dc4d00b7f537cfc891ba41": {
          "model_module": "@jupyter-widgets/controls",
          "model_name": "FloatProgressModel",
          "model_module_version": "1.5.0",
          "state": {
            "_dom_classes": [],
            "_model_module": "@jupyter-widgets/controls",
            "_model_module_version": "1.5.0",
            "_model_name": "FloatProgressModel",
            "_view_count": null,
            "_view_module": "@jupyter-widgets/controls",
            "_view_module_version": "1.5.0",
            "_view_name": "ProgressView",
            "bar_style": "success",
            "description": "",
            "description_tooltip": null,
            "layout": "IPY_MODEL_42f82f6017824d84878d2fb3c2f5cbbb",
            "max": 1,
            "min": 0,
            "orientation": "horizontal",
            "style": "IPY_MODEL_d662e72a0f3f4ca6b3f6c942aeea48b8",
            "value": 1
          }
        },
        "25cea6d9c3fd423f8060cfafd22800c1": {
          "model_module": "@jupyter-widgets/controls",
          "model_name": "HTMLModel",
          "model_module_version": "1.5.0",
          "state": {
            "_dom_classes": [],
            "_model_module": "@jupyter-widgets/controls",
            "_model_module_version": "1.5.0",
            "_model_name": "HTMLModel",
            "_view_count": null,
            "_view_module": "@jupyter-widgets/controls",
            "_view_module_version": "1.5.0",
            "_view_name": "HTMLView",
            "description": "",
            "description_tooltip": null,
            "layout": "IPY_MODEL_3952b2726cc141e1a776e3f8136d68e0",
            "placeholder": "​",
            "style": "IPY_MODEL_d40009065c7d470ca18fb46b5400c4bc",
            "value": " 1/1 [00:00&lt;00:00,  4.69 url/s]"
          }
        },
        "0b749e5e724e497f841e3df627eb171c": {
          "model_module": "@jupyter-widgets/base",
          "model_name": "LayoutModel",
          "model_module_version": "1.2.0",
          "state": {
            "_model_module": "@jupyter-widgets/base",
            "_model_module_version": "1.2.0",
            "_model_name": "LayoutModel",
            "_view_count": null,
            "_view_module": "@jupyter-widgets/base",
            "_view_module_version": "1.2.0",
            "_view_name": "LayoutView",
            "align_content": null,
            "align_items": null,
            "align_self": null,
            "border": null,
            "bottom": null,
            "display": null,
            "flex": null,
            "flex_flow": null,
            "grid_area": null,
            "grid_auto_columns": null,
            "grid_auto_flow": null,
            "grid_auto_rows": null,
            "grid_column": null,
            "grid_gap": null,
            "grid_row": null,
            "grid_template_areas": null,
            "grid_template_columns": null,
            "grid_template_rows": null,
            "height": null,
            "justify_content": null,
            "justify_items": null,
            "left": null,
            "margin": null,
            "max_height": null,
            "max_width": null,
            "min_height": null,
            "min_width": null,
            "object_fit": null,
            "object_position": null,
            "order": null,
            "overflow": null,
            "overflow_x": null,
            "overflow_y": null,
            "padding": null,
            "right": null,
            "top": null,
            "visibility": null,
            "width": null
          }
        },
        "ddaac7d3782a43db8919874652e1d944": {
          "model_module": "@jupyter-widgets/base",
          "model_name": "LayoutModel",
          "model_module_version": "1.2.0",
          "state": {
            "_model_module": "@jupyter-widgets/base",
            "_model_module_version": "1.2.0",
            "_model_name": "LayoutModel",
            "_view_count": null,
            "_view_module": "@jupyter-widgets/base",
            "_view_module_version": "1.2.0",
            "_view_name": "LayoutView",
            "align_content": null,
            "align_items": null,
            "align_self": null,
            "border": null,
            "bottom": null,
            "display": null,
            "flex": null,
            "flex_flow": null,
            "grid_area": null,
            "grid_auto_columns": null,
            "grid_auto_flow": null,
            "grid_auto_rows": null,
            "grid_column": null,
            "grid_gap": null,
            "grid_row": null,
            "grid_template_areas": null,
            "grid_template_columns": null,
            "grid_template_rows": null,
            "height": null,
            "justify_content": null,
            "justify_items": null,
            "left": null,
            "margin": null,
            "max_height": null,
            "max_width": null,
            "min_height": null,
            "min_width": null,
            "object_fit": null,
            "object_position": null,
            "order": null,
            "overflow": null,
            "overflow_x": null,
            "overflow_y": null,
            "padding": null,
            "right": null,
            "top": null,
            "visibility": null,
            "width": null
          }
        },
        "216d46a0629d49f89fe95dadadea3480": {
          "model_module": "@jupyter-widgets/controls",
          "model_name": "DescriptionStyleModel",
          "model_module_version": "1.5.0",
          "state": {
            "_model_module": "@jupyter-widgets/controls",
            "_model_module_version": "1.5.0",
            "_model_name": "DescriptionStyleModel",
            "_view_count": null,
            "_view_module": "@jupyter-widgets/base",
            "_view_module_version": "1.2.0",
            "_view_name": "StyleView",
            "description_width": ""
          }
        },
        "42f82f6017824d84878d2fb3c2f5cbbb": {
          "model_module": "@jupyter-widgets/base",
          "model_name": "LayoutModel",
          "model_module_version": "1.2.0",
          "state": {
            "_model_module": "@jupyter-widgets/base",
            "_model_module_version": "1.2.0",
            "_model_name": "LayoutModel",
            "_view_count": null,
            "_view_module": "@jupyter-widgets/base",
            "_view_module_version": "1.2.0",
            "_view_name": "LayoutView",
            "align_content": null,
            "align_items": null,
            "align_self": null,
            "border": null,
            "bottom": null,
            "display": null,
            "flex": null,
            "flex_flow": null,
            "grid_area": null,
            "grid_auto_columns": null,
            "grid_auto_flow": null,
            "grid_auto_rows": null,
            "grid_column": null,
            "grid_gap": null,
            "grid_row": null,
            "grid_template_areas": null,
            "grid_template_columns": null,
            "grid_template_rows": null,
            "height": null,
            "justify_content": null,
            "justify_items": null,
            "left": null,
            "margin": null,
            "max_height": null,
            "max_width": null,
            "min_height": null,
            "min_width": null,
            "object_fit": null,
            "object_position": null,
            "order": null,
            "overflow": null,
            "overflow_x": null,
            "overflow_y": null,
            "padding": null,
            "right": null,
            "top": null,
            "visibility": null,
            "width": "20px"
          }
        },
        "d662e72a0f3f4ca6b3f6c942aeea48b8": {
          "model_module": "@jupyter-widgets/controls",
          "model_name": "ProgressStyleModel",
          "model_module_version": "1.5.0",
          "state": {
            "_model_module": "@jupyter-widgets/controls",
            "_model_module_version": "1.5.0",
            "_model_name": "ProgressStyleModel",
            "_view_count": null,
            "_view_module": "@jupyter-widgets/base",
            "_view_module_version": "1.2.0",
            "_view_name": "StyleView",
            "bar_color": null,
            "description_width": ""
          }
        },
        "3952b2726cc141e1a776e3f8136d68e0": {
          "model_module": "@jupyter-widgets/base",
          "model_name": "LayoutModel",
          "model_module_version": "1.2.0",
          "state": {
            "_model_module": "@jupyter-widgets/base",
            "_model_module_version": "1.2.0",
            "_model_name": "LayoutModel",
            "_view_count": null,
            "_view_module": "@jupyter-widgets/base",
            "_view_module_version": "1.2.0",
            "_view_name": "LayoutView",
            "align_content": null,
            "align_items": null,
            "align_self": null,
            "border": null,
            "bottom": null,
            "display": null,
            "flex": null,
            "flex_flow": null,
            "grid_area": null,
            "grid_auto_columns": null,
            "grid_auto_flow": null,
            "grid_auto_rows": null,
            "grid_column": null,
            "grid_gap": null,
            "grid_row": null,
            "grid_template_areas": null,
            "grid_template_columns": null,
            "grid_template_rows": null,
            "height": null,
            "justify_content": null,
            "justify_items": null,
            "left": null,
            "margin": null,
            "max_height": null,
            "max_width": null,
            "min_height": null,
            "min_width": null,
            "object_fit": null,
            "object_position": null,
            "order": null,
            "overflow": null,
            "overflow_x": null,
            "overflow_y": null,
            "padding": null,
            "right": null,
            "top": null,
            "visibility": null,
            "width": null
          }
        },
        "d40009065c7d470ca18fb46b5400c4bc": {
          "model_module": "@jupyter-widgets/controls",
          "model_name": "DescriptionStyleModel",
          "model_module_version": "1.5.0",
          "state": {
            "_model_module": "@jupyter-widgets/controls",
            "_model_module_version": "1.5.0",
            "_model_name": "DescriptionStyleModel",
            "_view_count": null,
            "_view_module": "@jupyter-widgets/base",
            "_view_module_version": "1.2.0",
            "_view_name": "StyleView",
            "description_width": ""
          }
        },
        "1c3bcf1028b14b99843cfd65b20da6e4": {
          "model_module": "@jupyter-widgets/controls",
          "model_name": "HBoxModel",
          "model_module_version": "1.5.0",
          "state": {
            "_dom_classes": [],
            "_model_module": "@jupyter-widgets/controls",
            "_model_module_version": "1.5.0",
            "_model_name": "HBoxModel",
            "_view_count": null,
            "_view_module": "@jupyter-widgets/controls",
            "_view_module_version": "1.5.0",
            "_view_name": "HBoxView",
            "box_style": "",
            "children": [
              "IPY_MODEL_e5c00960f315456e88ab7f3a1b49c3ce",
              "IPY_MODEL_601e18703ffd4cdb9ef825de9d53a560",
              "IPY_MODEL_85b5ce40ac034a31b99e1bd1a6a5c7da"
            ],
            "layout": "IPY_MODEL_d591818c0ca349fcaffa38ba06c77dd5"
          }
        },
        "e5c00960f315456e88ab7f3a1b49c3ce": {
          "model_module": "@jupyter-widgets/controls",
          "model_name": "HTMLModel",
          "model_module_version": "1.5.0",
          "state": {
            "_dom_classes": [],
            "_model_module": "@jupyter-widgets/controls",
            "_model_module_version": "1.5.0",
            "_model_name": "HTMLModel",
            "_view_count": null,
            "_view_module": "@jupyter-widgets/controls",
            "_view_module_version": "1.5.0",
            "_view_name": "HTMLView",
            "description": "",
            "description_tooltip": null,
            "layout": "IPY_MODEL_471205dc2c214bb38ab83e5aa73f69dd",
            "placeholder": "​",
            "style": "IPY_MODEL_b07d044c11a04703badf596559e520f9",
            "value": "Dl Size...: "
          }
        },
        "601e18703ffd4cdb9ef825de9d53a560": {
          "model_module": "@jupyter-widgets/controls",
          "model_name": "FloatProgressModel",
          "model_module_version": "1.5.0",
          "state": {
            "_dom_classes": [],
            "_model_module": "@jupyter-widgets/controls",
            "_model_module_version": "1.5.0",
            "_model_name": "FloatProgressModel",
            "_view_count": null,
            "_view_module": "@jupyter-widgets/controls",
            "_view_module_version": "1.5.0",
            "_view_name": "ProgressView",
            "bar_style": "success",
            "description": "",
            "description_tooltip": null,
            "layout": "IPY_MODEL_2c3f63d687b349938adeb776b8d44368",
            "max": 1,
            "min": 0,
            "orientation": "horizontal",
            "style": "IPY_MODEL_88c05fa5063c4111a18ec31e01cad8b8",
            "value": 0
          }
        },
        "85b5ce40ac034a31b99e1bd1a6a5c7da": {
          "model_module": "@jupyter-widgets/controls",
          "model_name": "HTMLModel",
          "model_module_version": "1.5.0",
          "state": {
            "_dom_classes": [],
            "_model_module": "@jupyter-widgets/controls",
            "_model_module_version": "1.5.0",
            "_model_name": "HTMLModel",
            "_view_count": null,
            "_view_module": "@jupyter-widgets/controls",
            "_view_module_version": "1.5.0",
            "_view_name": "HTMLView",
            "description": "",
            "description_tooltip": null,
            "layout": "IPY_MODEL_e70b84ec377d400b8301c65ed525f0ff",
            "placeholder": "​",
            "style": "IPY_MODEL_9e2d50736dad4c0a822448b3a834e89a",
            "value": " 0/0 [00:00&lt;?, ? MiB/s]"
          }
        },
        "d591818c0ca349fcaffa38ba06c77dd5": {
          "model_module": "@jupyter-widgets/base",
          "model_name": "LayoutModel",
          "model_module_version": "1.2.0",
          "state": {
            "_model_module": "@jupyter-widgets/base",
            "_model_module_version": "1.2.0",
            "_model_name": "LayoutModel",
            "_view_count": null,
            "_view_module": "@jupyter-widgets/base",
            "_view_module_version": "1.2.0",
            "_view_name": "LayoutView",
            "align_content": null,
            "align_items": null,
            "align_self": null,
            "border": null,
            "bottom": null,
            "display": null,
            "flex": null,
            "flex_flow": null,
            "grid_area": null,
            "grid_auto_columns": null,
            "grid_auto_flow": null,
            "grid_auto_rows": null,
            "grid_column": null,
            "grid_gap": null,
            "grid_row": null,
            "grid_template_areas": null,
            "grid_template_columns": null,
            "grid_template_rows": null,
            "height": null,
            "justify_content": null,
            "justify_items": null,
            "left": null,
            "margin": null,
            "max_height": null,
            "max_width": null,
            "min_height": null,
            "min_width": null,
            "object_fit": null,
            "object_position": null,
            "order": null,
            "overflow": null,
            "overflow_x": null,
            "overflow_y": null,
            "padding": null,
            "right": null,
            "top": null,
            "visibility": null,
            "width": null
          }
        },
        "471205dc2c214bb38ab83e5aa73f69dd": {
          "model_module": "@jupyter-widgets/base",
          "model_name": "LayoutModel",
          "model_module_version": "1.2.0",
          "state": {
            "_model_module": "@jupyter-widgets/base",
            "_model_module_version": "1.2.0",
            "_model_name": "LayoutModel",
            "_view_count": null,
            "_view_module": "@jupyter-widgets/base",
            "_view_module_version": "1.2.0",
            "_view_name": "LayoutView",
            "align_content": null,
            "align_items": null,
            "align_self": null,
            "border": null,
            "bottom": null,
            "display": null,
            "flex": null,
            "flex_flow": null,
            "grid_area": null,
            "grid_auto_columns": null,
            "grid_auto_flow": null,
            "grid_auto_rows": null,
            "grid_column": null,
            "grid_gap": null,
            "grid_row": null,
            "grid_template_areas": null,
            "grid_template_columns": null,
            "grid_template_rows": null,
            "height": null,
            "justify_content": null,
            "justify_items": null,
            "left": null,
            "margin": null,
            "max_height": null,
            "max_width": null,
            "min_height": null,
            "min_width": null,
            "object_fit": null,
            "object_position": null,
            "order": null,
            "overflow": null,
            "overflow_x": null,
            "overflow_y": null,
            "padding": null,
            "right": null,
            "top": null,
            "visibility": null,
            "width": null
          }
        },
        "b07d044c11a04703badf596559e520f9": {
          "model_module": "@jupyter-widgets/controls",
          "model_name": "DescriptionStyleModel",
          "model_module_version": "1.5.0",
          "state": {
            "_model_module": "@jupyter-widgets/controls",
            "_model_module_version": "1.5.0",
            "_model_name": "DescriptionStyleModel",
            "_view_count": null,
            "_view_module": "@jupyter-widgets/base",
            "_view_module_version": "1.2.0",
            "_view_name": "StyleView",
            "description_width": ""
          }
        },
        "2c3f63d687b349938adeb776b8d44368": {
          "model_module": "@jupyter-widgets/base",
          "model_name": "LayoutModel",
          "model_module_version": "1.2.0",
          "state": {
            "_model_module": "@jupyter-widgets/base",
            "_model_module_version": "1.2.0",
            "_model_name": "LayoutModel",
            "_view_count": null,
            "_view_module": "@jupyter-widgets/base",
            "_view_module_version": "1.2.0",
            "_view_name": "LayoutView",
            "align_content": null,
            "align_items": null,
            "align_self": null,
            "border": null,
            "bottom": null,
            "display": null,
            "flex": null,
            "flex_flow": null,
            "grid_area": null,
            "grid_auto_columns": null,
            "grid_auto_flow": null,
            "grid_auto_rows": null,
            "grid_column": null,
            "grid_gap": null,
            "grid_row": null,
            "grid_template_areas": null,
            "grid_template_columns": null,
            "grid_template_rows": null,
            "height": null,
            "justify_content": null,
            "justify_items": null,
            "left": null,
            "margin": null,
            "max_height": null,
            "max_width": null,
            "min_height": null,
            "min_width": null,
            "object_fit": null,
            "object_position": null,
            "order": null,
            "overflow": null,
            "overflow_x": null,
            "overflow_y": null,
            "padding": null,
            "right": null,
            "top": null,
            "visibility": null,
            "width": "20px"
          }
        },
        "88c05fa5063c4111a18ec31e01cad8b8": {
          "model_module": "@jupyter-widgets/controls",
          "model_name": "ProgressStyleModel",
          "model_module_version": "1.5.0",
          "state": {
            "_model_module": "@jupyter-widgets/controls",
            "_model_module_version": "1.5.0",
            "_model_name": "ProgressStyleModel",
            "_view_count": null,
            "_view_module": "@jupyter-widgets/base",
            "_view_module_version": "1.2.0",
            "_view_name": "StyleView",
            "bar_color": null,
            "description_width": ""
          }
        },
        "e70b84ec377d400b8301c65ed525f0ff": {
          "model_module": "@jupyter-widgets/base",
          "model_name": "LayoutModel",
          "model_module_version": "1.2.0",
          "state": {
            "_model_module": "@jupyter-widgets/base",
            "_model_module_version": "1.2.0",
            "_model_name": "LayoutModel",
            "_view_count": null,
            "_view_module": "@jupyter-widgets/base",
            "_view_module_version": "1.2.0",
            "_view_name": "LayoutView",
            "align_content": null,
            "align_items": null,
            "align_self": null,
            "border": null,
            "bottom": null,
            "display": null,
            "flex": null,
            "flex_flow": null,
            "grid_area": null,
            "grid_auto_columns": null,
            "grid_auto_flow": null,
            "grid_auto_rows": null,
            "grid_column": null,
            "grid_gap": null,
            "grid_row": null,
            "grid_template_areas": null,
            "grid_template_columns": null,
            "grid_template_rows": null,
            "height": null,
            "justify_content": null,
            "justify_items": null,
            "left": null,
            "margin": null,
            "max_height": null,
            "max_width": null,
            "min_height": null,
            "min_width": null,
            "object_fit": null,
            "object_position": null,
            "order": null,
            "overflow": null,
            "overflow_x": null,
            "overflow_y": null,
            "padding": null,
            "right": null,
            "top": null,
            "visibility": null,
            "width": null
          }
        },
        "9e2d50736dad4c0a822448b3a834e89a": {
          "model_module": "@jupyter-widgets/controls",
          "model_name": "DescriptionStyleModel",
          "model_module_version": "1.5.0",
          "state": {
            "_model_module": "@jupyter-widgets/controls",
            "_model_module_version": "1.5.0",
            "_model_name": "DescriptionStyleModel",
            "_view_count": null,
            "_view_module": "@jupyter-widgets/base",
            "_view_module_version": "1.2.0",
            "_view_name": "StyleView",
            "description_width": ""
          }
        },
        "deae0936a2494d5983259ba61f259d31": {
          "model_module": "@jupyter-widgets/controls",
          "model_name": "HBoxModel",
          "model_module_version": "1.5.0",
          "state": {
            "_dom_classes": [],
            "_model_module": "@jupyter-widgets/controls",
            "_model_module_version": "1.5.0",
            "_model_name": "HBoxModel",
            "_view_count": null,
            "_view_module": "@jupyter-widgets/controls",
            "_view_module_version": "1.5.0",
            "_view_name": "HBoxView",
            "box_style": "",
            "children": [
              "IPY_MODEL_55cd3048b22f49b5a187916ba4c9aadf",
              "IPY_MODEL_da9fdb745d21440796dade0d5d50658c",
              "IPY_MODEL_09ea70b36ca1402fba7d06824b68e87f"
            ],
            "layout": "IPY_MODEL_9a9f3c348e2e451585cb3577b129de9a"
          }
        },
        "55cd3048b22f49b5a187916ba4c9aadf": {
          "model_module": "@jupyter-widgets/controls",
          "model_name": "HTMLModel",
          "model_module_version": "1.5.0",
          "state": {
            "_dom_classes": [],
            "_model_module": "@jupyter-widgets/controls",
            "_model_module_version": "1.5.0",
            "_model_name": "HTMLModel",
            "_view_count": null,
            "_view_module": "@jupyter-widgets/controls",
            "_view_module_version": "1.5.0",
            "_view_name": "HTMLView",
            "description": "",
            "description_tooltip": null,
            "layout": "IPY_MODEL_e895e757a0644745b73c23ab5087d756",
            "placeholder": "​",
            "style": "IPY_MODEL_68ec9007acaa44f4a6bb79a99c962735",
            "value": "Generating splits...: 100%"
          }
        },
        "da9fdb745d21440796dade0d5d50658c": {
          "model_module": "@jupyter-widgets/controls",
          "model_name": "FloatProgressModel",
          "model_module_version": "1.5.0",
          "state": {
            "_dom_classes": [],
            "_model_module": "@jupyter-widgets/controls",
            "_model_module_version": "1.5.0",
            "_model_name": "FloatProgressModel",
            "_view_count": null,
            "_view_module": "@jupyter-widgets/controls",
            "_view_module_version": "1.5.0",
            "_view_name": "ProgressView",
            "bar_style": "",
            "description": "",
            "description_tooltip": null,
            "layout": "IPY_MODEL_2dcc5f07348b4948ba6cb34fe073a592",
            "max": 1,
            "min": 0,
            "orientation": "horizontal",
            "style": "IPY_MODEL_45d7133ed8ed4e02839903d03059631a",
            "value": 1
          }
        },
        "09ea70b36ca1402fba7d06824b68e87f": {
          "model_module": "@jupyter-widgets/controls",
          "model_name": "HTMLModel",
          "model_module_version": "1.5.0",
          "state": {
            "_dom_classes": [],
            "_model_module": "@jupyter-widgets/controls",
            "_model_module_version": "1.5.0",
            "_model_name": "HTMLModel",
            "_view_count": null,
            "_view_module": "@jupyter-widgets/controls",
            "_view_module_version": "1.5.0",
            "_view_name": "HTMLView",
            "description": "",
            "description_tooltip": null,
            "layout": "IPY_MODEL_9f13d064c39841a2bde0944ad7fb792c",
            "placeholder": "​",
            "style": "IPY_MODEL_0e3e5573e1fe4fac86b3d7963e9cd17a",
            "value": " 1/1 [00:00&lt;00:00,  2.81 splits/s]"
          }
        },
        "9a9f3c348e2e451585cb3577b129de9a": {
          "model_module": "@jupyter-widgets/base",
          "model_name": "LayoutModel",
          "model_module_version": "1.2.0",
          "state": {
            "_model_module": "@jupyter-widgets/base",
            "_model_module_version": "1.2.0",
            "_model_name": "LayoutModel",
            "_view_count": null,
            "_view_module": "@jupyter-widgets/base",
            "_view_module_version": "1.2.0",
            "_view_name": "LayoutView",
            "align_content": null,
            "align_items": null,
            "align_self": null,
            "border": null,
            "bottom": null,
            "display": null,
            "flex": null,
            "flex_flow": null,
            "grid_area": null,
            "grid_auto_columns": null,
            "grid_auto_flow": null,
            "grid_auto_rows": null,
            "grid_column": null,
            "grid_gap": null,
            "grid_row": null,
            "grid_template_areas": null,
            "grid_template_columns": null,
            "grid_template_rows": null,
            "height": null,
            "justify_content": null,
            "justify_items": null,
            "left": null,
            "margin": null,
            "max_height": null,
            "max_width": null,
            "min_height": null,
            "min_width": null,
            "object_fit": null,
            "object_position": null,
            "order": null,
            "overflow": null,
            "overflow_x": null,
            "overflow_y": null,
            "padding": null,
            "right": null,
            "top": null,
            "visibility": "hidden",
            "width": null
          }
        },
        "e895e757a0644745b73c23ab5087d756": {
          "model_module": "@jupyter-widgets/base",
          "model_name": "LayoutModel",
          "model_module_version": "1.2.0",
          "state": {
            "_model_module": "@jupyter-widgets/base",
            "_model_module_version": "1.2.0",
            "_model_name": "LayoutModel",
            "_view_count": null,
            "_view_module": "@jupyter-widgets/base",
            "_view_module_version": "1.2.0",
            "_view_name": "LayoutView",
            "align_content": null,
            "align_items": null,
            "align_self": null,
            "border": null,
            "bottom": null,
            "display": null,
            "flex": null,
            "flex_flow": null,
            "grid_area": null,
            "grid_auto_columns": null,
            "grid_auto_flow": null,
            "grid_auto_rows": null,
            "grid_column": null,
            "grid_gap": null,
            "grid_row": null,
            "grid_template_areas": null,
            "grid_template_columns": null,
            "grid_template_rows": null,
            "height": null,
            "justify_content": null,
            "justify_items": null,
            "left": null,
            "margin": null,
            "max_height": null,
            "max_width": null,
            "min_height": null,
            "min_width": null,
            "object_fit": null,
            "object_position": null,
            "order": null,
            "overflow": null,
            "overflow_x": null,
            "overflow_y": null,
            "padding": null,
            "right": null,
            "top": null,
            "visibility": null,
            "width": null
          }
        },
        "68ec9007acaa44f4a6bb79a99c962735": {
          "model_module": "@jupyter-widgets/controls",
          "model_name": "DescriptionStyleModel",
          "model_module_version": "1.5.0",
          "state": {
            "_model_module": "@jupyter-widgets/controls",
            "_model_module_version": "1.5.0",
            "_model_name": "DescriptionStyleModel",
            "_view_count": null,
            "_view_module": "@jupyter-widgets/base",
            "_view_module_version": "1.2.0",
            "_view_name": "StyleView",
            "description_width": ""
          }
        },
        "2dcc5f07348b4948ba6cb34fe073a592": {
          "model_module": "@jupyter-widgets/base",
          "model_name": "LayoutModel",
          "model_module_version": "1.2.0",
          "state": {
            "_model_module": "@jupyter-widgets/base",
            "_model_module_version": "1.2.0",
            "_model_name": "LayoutModel",
            "_view_count": null,
            "_view_module": "@jupyter-widgets/base",
            "_view_module_version": "1.2.0",
            "_view_name": "LayoutView",
            "align_content": null,
            "align_items": null,
            "align_self": null,
            "border": null,
            "bottom": null,
            "display": null,
            "flex": null,
            "flex_flow": null,
            "grid_area": null,
            "grid_auto_columns": null,
            "grid_auto_flow": null,
            "grid_auto_rows": null,
            "grid_column": null,
            "grid_gap": null,
            "grid_row": null,
            "grid_template_areas": null,
            "grid_template_columns": null,
            "grid_template_rows": null,
            "height": null,
            "justify_content": null,
            "justify_items": null,
            "left": null,
            "margin": null,
            "max_height": null,
            "max_width": null,
            "min_height": null,
            "min_width": null,
            "object_fit": null,
            "object_position": null,
            "order": null,
            "overflow": null,
            "overflow_x": null,
            "overflow_y": null,
            "padding": null,
            "right": null,
            "top": null,
            "visibility": null,
            "width": null
          }
        },
        "45d7133ed8ed4e02839903d03059631a": {
          "model_module": "@jupyter-widgets/controls",
          "model_name": "ProgressStyleModel",
          "model_module_version": "1.5.0",
          "state": {
            "_model_module": "@jupyter-widgets/controls",
            "_model_module_version": "1.5.0",
            "_model_name": "ProgressStyleModel",
            "_view_count": null,
            "_view_module": "@jupyter-widgets/base",
            "_view_module_version": "1.2.0",
            "_view_name": "StyleView",
            "bar_color": null,
            "description_width": ""
          }
        },
        "9f13d064c39841a2bde0944ad7fb792c": {
          "model_module": "@jupyter-widgets/base",
          "model_name": "LayoutModel",
          "model_module_version": "1.2.0",
          "state": {
            "_model_module": "@jupyter-widgets/base",
            "_model_module_version": "1.2.0",
            "_model_name": "LayoutModel",
            "_view_count": null,
            "_view_module": "@jupyter-widgets/base",
            "_view_module_version": "1.2.0",
            "_view_name": "LayoutView",
            "align_content": null,
            "align_items": null,
            "align_self": null,
            "border": null,
            "bottom": null,
            "display": null,
            "flex": null,
            "flex_flow": null,
            "grid_area": null,
            "grid_auto_columns": null,
            "grid_auto_flow": null,
            "grid_auto_rows": null,
            "grid_column": null,
            "grid_gap": null,
            "grid_row": null,
            "grid_template_areas": null,
            "grid_template_columns": null,
            "grid_template_rows": null,
            "height": null,
            "justify_content": null,
            "justify_items": null,
            "left": null,
            "margin": null,
            "max_height": null,
            "max_width": null,
            "min_height": null,
            "min_width": null,
            "object_fit": null,
            "object_position": null,
            "order": null,
            "overflow": null,
            "overflow_x": null,
            "overflow_y": null,
            "padding": null,
            "right": null,
            "top": null,
            "visibility": null,
            "width": null
          }
        },
        "0e3e5573e1fe4fac86b3d7963e9cd17a": {
          "model_module": "@jupyter-widgets/controls",
          "model_name": "DescriptionStyleModel",
          "model_module_version": "1.5.0",
          "state": {
            "_model_module": "@jupyter-widgets/controls",
            "_model_module_version": "1.5.0",
            "_model_name": "DescriptionStyleModel",
            "_view_count": null,
            "_view_module": "@jupyter-widgets/base",
            "_view_module_version": "1.2.0",
            "_view_name": "StyleView",
            "description_width": ""
          }
        },
        "be9fa8df10734038a57247e1c955963d": {
          "model_module": "@jupyter-widgets/controls",
          "model_name": "HBoxModel",
          "model_module_version": "1.5.0",
          "state": {
            "_dom_classes": [],
            "_model_module": "@jupyter-widgets/controls",
            "_model_module_version": "1.5.0",
            "_model_name": "HBoxModel",
            "_view_count": null,
            "_view_module": "@jupyter-widgets/controls",
            "_view_module_version": "1.5.0",
            "_view_name": "HBoxView",
            "box_style": "",
            "children": [
              "IPY_MODEL_2b412e0373d545e0b5145678e7068728",
              "IPY_MODEL_48fd0e2a811e454c9d0ecbf4c15cb66a",
              "IPY_MODEL_7a093f9e64de40c7a788208ea154c6e5"
            ],
            "layout": "IPY_MODEL_ba7bfc13cc8e4e38944a65fc4c52f52d"
          }
        },
        "2b412e0373d545e0b5145678e7068728": {
          "model_module": "@jupyter-widgets/controls",
          "model_name": "HTMLModel",
          "model_module_version": "1.5.0",
          "state": {
            "_dom_classes": [],
            "_model_module": "@jupyter-widgets/controls",
            "_model_module_version": "1.5.0",
            "_model_name": "HTMLModel",
            "_view_count": null,
            "_view_module": "@jupyter-widgets/controls",
            "_view_module_version": "1.5.0",
            "_view_name": "HTMLView",
            "description": "",
            "description_tooltip": null,
            "layout": "IPY_MODEL_3df82e06b26d4c7dacad7e551eae8f84",
            "placeholder": "​",
            "style": "IPY_MODEL_f9a6d1c255c544bc9b8ed93c54dddbf3",
            "value": "Generating train examples...:  90%"
          }
        },
        "48fd0e2a811e454c9d0ecbf4c15cb66a": {
          "model_module": "@jupyter-widgets/controls",
          "model_name": "FloatProgressModel",
          "model_module_version": "1.5.0",
          "state": {
            "_dom_classes": [],
            "_model_module": "@jupyter-widgets/controls",
            "_model_module_version": "1.5.0",
            "_model_name": "FloatProgressModel",
            "_view_count": null,
            "_view_module": "@jupyter-widgets/controls",
            "_view_module_version": "1.5.0",
            "_view_name": "ProgressView",
            "bar_style": "",
            "description": "",
            "description_tooltip": null,
            "layout": "IPY_MODEL_4a61aaa36d654bffb530d749adacb0ae",
            "max": 334,
            "min": 0,
            "orientation": "horizontal",
            "style": "IPY_MODEL_1e6ac13e612140678914758642f12dd4",
            "value": 334
          }
        },
        "7a093f9e64de40c7a788208ea154c6e5": {
          "model_module": "@jupyter-widgets/controls",
          "model_name": "HTMLModel",
          "model_module_version": "1.5.0",
          "state": {
            "_dom_classes": [],
            "_model_module": "@jupyter-widgets/controls",
            "_model_module_version": "1.5.0",
            "_model_name": "HTMLModel",
            "_view_count": null,
            "_view_module": "@jupyter-widgets/controls",
            "_view_module_version": "1.5.0",
            "_view_name": "HTMLView",
            "description": "",
            "description_tooltip": null,
            "layout": "IPY_MODEL_9a2092c2acee4444b259fc372978b81d",
            "placeholder": "​",
            "style": "IPY_MODEL_57ccd699bdf440ad809ef90fd41a8749",
            "value": " 299/334 [00:00&lt;00:00, 1530.93 examples/s]"
          }
        },
        "ba7bfc13cc8e4e38944a65fc4c52f52d": {
          "model_module": "@jupyter-widgets/base",
          "model_name": "LayoutModel",
          "model_module_version": "1.2.0",
          "state": {
            "_model_module": "@jupyter-widgets/base",
            "_model_module_version": "1.2.0",
            "_model_name": "LayoutModel",
            "_view_count": null,
            "_view_module": "@jupyter-widgets/base",
            "_view_module_version": "1.2.0",
            "_view_name": "LayoutView",
            "align_content": null,
            "align_items": null,
            "align_self": null,
            "border": null,
            "bottom": null,
            "display": null,
            "flex": null,
            "flex_flow": null,
            "grid_area": null,
            "grid_auto_columns": null,
            "grid_auto_flow": null,
            "grid_auto_rows": null,
            "grid_column": null,
            "grid_gap": null,
            "grid_row": null,
            "grid_template_areas": null,
            "grid_template_columns": null,
            "grid_template_rows": null,
            "height": null,
            "justify_content": null,
            "justify_items": null,
            "left": null,
            "margin": null,
            "max_height": null,
            "max_width": null,
            "min_height": null,
            "min_width": null,
            "object_fit": null,
            "object_position": null,
            "order": null,
            "overflow": null,
            "overflow_x": null,
            "overflow_y": null,
            "padding": null,
            "right": null,
            "top": null,
            "visibility": "hidden",
            "width": null
          }
        },
        "3df82e06b26d4c7dacad7e551eae8f84": {
          "model_module": "@jupyter-widgets/base",
          "model_name": "LayoutModel",
          "model_module_version": "1.2.0",
          "state": {
            "_model_module": "@jupyter-widgets/base",
            "_model_module_version": "1.2.0",
            "_model_name": "LayoutModel",
            "_view_count": null,
            "_view_module": "@jupyter-widgets/base",
            "_view_module_version": "1.2.0",
            "_view_name": "LayoutView",
            "align_content": null,
            "align_items": null,
            "align_self": null,
            "border": null,
            "bottom": null,
            "display": null,
            "flex": null,
            "flex_flow": null,
            "grid_area": null,
            "grid_auto_columns": null,
            "grid_auto_flow": null,
            "grid_auto_rows": null,
            "grid_column": null,
            "grid_gap": null,
            "grid_row": null,
            "grid_template_areas": null,
            "grid_template_columns": null,
            "grid_template_rows": null,
            "height": null,
            "justify_content": null,
            "justify_items": null,
            "left": null,
            "margin": null,
            "max_height": null,
            "max_width": null,
            "min_height": null,
            "min_width": null,
            "object_fit": null,
            "object_position": null,
            "order": null,
            "overflow": null,
            "overflow_x": null,
            "overflow_y": null,
            "padding": null,
            "right": null,
            "top": null,
            "visibility": null,
            "width": null
          }
        },
        "f9a6d1c255c544bc9b8ed93c54dddbf3": {
          "model_module": "@jupyter-widgets/controls",
          "model_name": "DescriptionStyleModel",
          "model_module_version": "1.5.0",
          "state": {
            "_model_module": "@jupyter-widgets/controls",
            "_model_module_version": "1.5.0",
            "_model_name": "DescriptionStyleModel",
            "_view_count": null,
            "_view_module": "@jupyter-widgets/base",
            "_view_module_version": "1.2.0",
            "_view_name": "StyleView",
            "description_width": ""
          }
        },
        "4a61aaa36d654bffb530d749adacb0ae": {
          "model_module": "@jupyter-widgets/base",
          "model_name": "LayoutModel",
          "model_module_version": "1.2.0",
          "state": {
            "_model_module": "@jupyter-widgets/base",
            "_model_module_version": "1.2.0",
            "_model_name": "LayoutModel",
            "_view_count": null,
            "_view_module": "@jupyter-widgets/base",
            "_view_module_version": "1.2.0",
            "_view_name": "LayoutView",
            "align_content": null,
            "align_items": null,
            "align_self": null,
            "border": null,
            "bottom": null,
            "display": null,
            "flex": null,
            "flex_flow": null,
            "grid_area": null,
            "grid_auto_columns": null,
            "grid_auto_flow": null,
            "grid_auto_rows": null,
            "grid_column": null,
            "grid_gap": null,
            "grid_row": null,
            "grid_template_areas": null,
            "grid_template_columns": null,
            "grid_template_rows": null,
            "height": null,
            "justify_content": null,
            "justify_items": null,
            "left": null,
            "margin": null,
            "max_height": null,
            "max_width": null,
            "min_height": null,
            "min_width": null,
            "object_fit": null,
            "object_position": null,
            "order": null,
            "overflow": null,
            "overflow_x": null,
            "overflow_y": null,
            "padding": null,
            "right": null,
            "top": null,
            "visibility": null,
            "width": null
          }
        },
        "1e6ac13e612140678914758642f12dd4": {
          "model_module": "@jupyter-widgets/controls",
          "model_name": "ProgressStyleModel",
          "model_module_version": "1.5.0",
          "state": {
            "_model_module": "@jupyter-widgets/controls",
            "_model_module_version": "1.5.0",
            "_model_name": "ProgressStyleModel",
            "_view_count": null,
            "_view_module": "@jupyter-widgets/base",
            "_view_module_version": "1.2.0",
            "_view_name": "StyleView",
            "bar_color": null,
            "description_width": ""
          }
        },
        "9a2092c2acee4444b259fc372978b81d": {
          "model_module": "@jupyter-widgets/base",
          "model_name": "LayoutModel",
          "model_module_version": "1.2.0",
          "state": {
            "_model_module": "@jupyter-widgets/base",
            "_model_module_version": "1.2.0",
            "_model_name": "LayoutModel",
            "_view_count": null,
            "_view_module": "@jupyter-widgets/base",
            "_view_module_version": "1.2.0",
            "_view_name": "LayoutView",
            "align_content": null,
            "align_items": null,
            "align_self": null,
            "border": null,
            "bottom": null,
            "display": null,
            "flex": null,
            "flex_flow": null,
            "grid_area": null,
            "grid_auto_columns": null,
            "grid_auto_flow": null,
            "grid_auto_rows": null,
            "grid_column": null,
            "grid_gap": null,
            "grid_row": null,
            "grid_template_areas": null,
            "grid_template_columns": null,
            "grid_template_rows": null,
            "height": null,
            "justify_content": null,
            "justify_items": null,
            "left": null,
            "margin": null,
            "max_height": null,
            "max_width": null,
            "min_height": null,
            "min_width": null,
            "object_fit": null,
            "object_position": null,
            "order": null,
            "overflow": null,
            "overflow_x": null,
            "overflow_y": null,
            "padding": null,
            "right": null,
            "top": null,
            "visibility": null,
            "width": null
          }
        },
        "57ccd699bdf440ad809ef90fd41a8749": {
          "model_module": "@jupyter-widgets/controls",
          "model_name": "DescriptionStyleModel",
          "model_module_version": "1.5.0",
          "state": {
            "_model_module": "@jupyter-widgets/controls",
            "_model_module_version": "1.5.0",
            "_model_name": "DescriptionStyleModel",
            "_view_count": null,
            "_view_module": "@jupyter-widgets/base",
            "_view_module_version": "1.2.0",
            "_view_name": "StyleView",
            "description_width": ""
          }
        },
        "c3f82b95764f4c25ab03e395d9c0eb86": {
          "model_module": "@jupyter-widgets/controls",
          "model_name": "HBoxModel",
          "model_module_version": "1.5.0",
          "state": {
            "_dom_classes": [],
            "_model_module": "@jupyter-widgets/controls",
            "_model_module_version": "1.5.0",
            "_model_name": "HBoxModel",
            "_view_count": null,
            "_view_module": "@jupyter-widgets/controls",
            "_view_module_version": "1.5.0",
            "_view_name": "HBoxView",
            "box_style": "",
            "children": [
              "IPY_MODEL_2ad1e6590c064f1797ed5f5c8080397e",
              "IPY_MODEL_1671c677436c476f8be9e21e56e2d0e8",
              "IPY_MODEL_32a0f09efadc4920a9c5d1c38954fb2a"
            ],
            "layout": "IPY_MODEL_1948692d076946679e8f71339026b0a4"
          }
        },
        "2ad1e6590c064f1797ed5f5c8080397e": {
          "model_module": "@jupyter-widgets/controls",
          "model_name": "HTMLModel",
          "model_module_version": "1.5.0",
          "state": {
            "_dom_classes": [],
            "_model_module": "@jupyter-widgets/controls",
            "_model_module_version": "1.5.0",
            "_model_name": "HTMLModel",
            "_view_count": null,
            "_view_module": "@jupyter-widgets/controls",
            "_view_module_version": "1.5.0",
            "_view_name": "HTMLView",
            "description": "",
            "description_tooltip": null,
            "layout": "IPY_MODEL_230a4491f9ec43f9b561f052f2173f20",
            "placeholder": "​",
            "style": "IPY_MODEL_85664dba89db4032939cb8ffd146d44a",
            "value": "Shuffling /root/tensorflow_datasets/penguins/processed/1.0.0.incompleteNY6O9A/penguins-train.tfrecord*...:   0%"
          }
        },
        "1671c677436c476f8be9e21e56e2d0e8": {
          "model_module": "@jupyter-widgets/controls",
          "model_name": "FloatProgressModel",
          "model_module_version": "1.5.0",
          "state": {
            "_dom_classes": [],
            "_model_module": "@jupyter-widgets/controls",
            "_model_module_version": "1.5.0",
            "_model_name": "FloatProgressModel",
            "_view_count": null,
            "_view_module": "@jupyter-widgets/controls",
            "_view_module_version": "1.5.0",
            "_view_name": "ProgressView",
            "bar_style": "",
            "description": "",
            "description_tooltip": null,
            "layout": "IPY_MODEL_533a727b069d446881f59f2b0e689b20",
            "max": 334,
            "min": 0,
            "orientation": "horizontal",
            "style": "IPY_MODEL_4a51b43bb79843e999734e2a6a463abe",
            "value": 334
          }
        },
        "32a0f09efadc4920a9c5d1c38954fb2a": {
          "model_module": "@jupyter-widgets/controls",
          "model_name": "HTMLModel",
          "model_module_version": "1.5.0",
          "state": {
            "_dom_classes": [],
            "_model_module": "@jupyter-widgets/controls",
            "_model_module_version": "1.5.0",
            "_model_name": "HTMLModel",
            "_view_count": null,
            "_view_module": "@jupyter-widgets/controls",
            "_view_module_version": "1.5.0",
            "_view_name": "HTMLView",
            "description": "",
            "description_tooltip": null,
            "layout": "IPY_MODEL_3215bf64096844418e8591b1068da55f",
            "placeholder": "​",
            "style": "IPY_MODEL_8e81ef6984d742d4b7a19b8663f968a8",
            "value": " 0/334 [00:00&lt;?, ? examples/s]"
          }
        },
        "1948692d076946679e8f71339026b0a4": {
          "model_module": "@jupyter-widgets/base",
          "model_name": "LayoutModel",
          "model_module_version": "1.2.0",
          "state": {
            "_model_module": "@jupyter-widgets/base",
            "_model_module_version": "1.2.0",
            "_model_name": "LayoutModel",
            "_view_count": null,
            "_view_module": "@jupyter-widgets/base",
            "_view_module_version": "1.2.0",
            "_view_name": "LayoutView",
            "align_content": null,
            "align_items": null,
            "align_self": null,
            "border": null,
            "bottom": null,
            "display": null,
            "flex": null,
            "flex_flow": null,
            "grid_area": null,
            "grid_auto_columns": null,
            "grid_auto_flow": null,
            "grid_auto_rows": null,
            "grid_column": null,
            "grid_gap": null,
            "grid_row": null,
            "grid_template_areas": null,
            "grid_template_columns": null,
            "grid_template_rows": null,
            "height": null,
            "justify_content": null,
            "justify_items": null,
            "left": null,
            "margin": null,
            "max_height": null,
            "max_width": null,
            "min_height": null,
            "min_width": null,
            "object_fit": null,
            "object_position": null,
            "order": null,
            "overflow": null,
            "overflow_x": null,
            "overflow_y": null,
            "padding": null,
            "right": null,
            "top": null,
            "visibility": "hidden",
            "width": null
          }
        },
        "230a4491f9ec43f9b561f052f2173f20": {
          "model_module": "@jupyter-widgets/base",
          "model_name": "LayoutModel",
          "model_module_version": "1.2.0",
          "state": {
            "_model_module": "@jupyter-widgets/base",
            "_model_module_version": "1.2.0",
            "_model_name": "LayoutModel",
            "_view_count": null,
            "_view_module": "@jupyter-widgets/base",
            "_view_module_version": "1.2.0",
            "_view_name": "LayoutView",
            "align_content": null,
            "align_items": null,
            "align_self": null,
            "border": null,
            "bottom": null,
            "display": null,
            "flex": null,
            "flex_flow": null,
            "grid_area": null,
            "grid_auto_columns": null,
            "grid_auto_flow": null,
            "grid_auto_rows": null,
            "grid_column": null,
            "grid_gap": null,
            "grid_row": null,
            "grid_template_areas": null,
            "grid_template_columns": null,
            "grid_template_rows": null,
            "height": null,
            "justify_content": null,
            "justify_items": null,
            "left": null,
            "margin": null,
            "max_height": null,
            "max_width": null,
            "min_height": null,
            "min_width": null,
            "object_fit": null,
            "object_position": null,
            "order": null,
            "overflow": null,
            "overflow_x": null,
            "overflow_y": null,
            "padding": null,
            "right": null,
            "top": null,
            "visibility": null,
            "width": null
          }
        },
        "85664dba89db4032939cb8ffd146d44a": {
          "model_module": "@jupyter-widgets/controls",
          "model_name": "DescriptionStyleModel",
          "model_module_version": "1.5.0",
          "state": {
            "_model_module": "@jupyter-widgets/controls",
            "_model_module_version": "1.5.0",
            "_model_name": "DescriptionStyleModel",
            "_view_count": null,
            "_view_module": "@jupyter-widgets/base",
            "_view_module_version": "1.2.0",
            "_view_name": "StyleView",
            "description_width": ""
          }
        },
        "533a727b069d446881f59f2b0e689b20": {
          "model_module": "@jupyter-widgets/base",
          "model_name": "LayoutModel",
          "model_module_version": "1.2.0",
          "state": {
            "_model_module": "@jupyter-widgets/base",
            "_model_module_version": "1.2.0",
            "_model_name": "LayoutModel",
            "_view_count": null,
            "_view_module": "@jupyter-widgets/base",
            "_view_module_version": "1.2.0",
            "_view_name": "LayoutView",
            "align_content": null,
            "align_items": null,
            "align_self": null,
            "border": null,
            "bottom": null,
            "display": null,
            "flex": null,
            "flex_flow": null,
            "grid_area": null,
            "grid_auto_columns": null,
            "grid_auto_flow": null,
            "grid_auto_rows": null,
            "grid_column": null,
            "grid_gap": null,
            "grid_row": null,
            "grid_template_areas": null,
            "grid_template_columns": null,
            "grid_template_rows": null,
            "height": null,
            "justify_content": null,
            "justify_items": null,
            "left": null,
            "margin": null,
            "max_height": null,
            "max_width": null,
            "min_height": null,
            "min_width": null,
            "object_fit": null,
            "object_position": null,
            "order": null,
            "overflow": null,
            "overflow_x": null,
            "overflow_y": null,
            "padding": null,
            "right": null,
            "top": null,
            "visibility": null,
            "width": null
          }
        },
        "4a51b43bb79843e999734e2a6a463abe": {
          "model_module": "@jupyter-widgets/controls",
          "model_name": "ProgressStyleModel",
          "model_module_version": "1.5.0",
          "state": {
            "_model_module": "@jupyter-widgets/controls",
            "_model_module_version": "1.5.0",
            "_model_name": "ProgressStyleModel",
            "_view_count": null,
            "_view_module": "@jupyter-widgets/base",
            "_view_module_version": "1.2.0",
            "_view_name": "StyleView",
            "bar_color": null,
            "description_width": ""
          }
        },
        "3215bf64096844418e8591b1068da55f": {
          "model_module": "@jupyter-widgets/base",
          "model_name": "LayoutModel",
          "model_module_version": "1.2.0",
          "state": {
            "_model_module": "@jupyter-widgets/base",
            "_model_module_version": "1.2.0",
            "_model_name": "LayoutModel",
            "_view_count": null,
            "_view_module": "@jupyter-widgets/base",
            "_view_module_version": "1.2.0",
            "_view_name": "LayoutView",
            "align_content": null,
            "align_items": null,
            "align_self": null,
            "border": null,
            "bottom": null,
            "display": null,
            "flex": null,
            "flex_flow": null,
            "grid_area": null,
            "grid_auto_columns": null,
            "grid_auto_flow": null,
            "grid_auto_rows": null,
            "grid_column": null,
            "grid_gap": null,
            "grid_row": null,
            "grid_template_areas": null,
            "grid_template_columns": null,
            "grid_template_rows": null,
            "height": null,
            "justify_content": null,
            "justify_items": null,
            "left": null,
            "margin": null,
            "max_height": null,
            "max_width": null,
            "min_height": null,
            "min_width": null,
            "object_fit": null,
            "object_position": null,
            "order": null,
            "overflow": null,
            "overflow_x": null,
            "overflow_y": null,
            "padding": null,
            "right": null,
            "top": null,
            "visibility": null,
            "width": null
          }
        },
        "8e81ef6984d742d4b7a19b8663f968a8": {
          "model_module": "@jupyter-widgets/controls",
          "model_name": "DescriptionStyleModel",
          "model_module_version": "1.5.0",
          "state": {
            "_model_module": "@jupyter-widgets/controls",
            "_model_module_version": "1.5.0",
            "_model_name": "DescriptionStyleModel",
            "_view_count": null,
            "_view_module": "@jupyter-widgets/base",
            "_view_module_version": "1.2.0",
            "_view_name": "StyleView",
            "description_width": ""
          }
        }
      }
    }
  },
  "cells": [
    {
      "cell_type": "markdown",
      "source": [
        "### РОССИЙСКИЙ УНИВЕРСИТЕТ ДРУЖБЫ НАРОДОВ\n",
        "\n",
        "#### Факультет физико-математических и естественных наук  \n",
        "#### Кафедра информационных технологий"
      ],
      "metadata": {
        "id": "po9gCnqlVdBk"
      }
    },
    {
      "cell_type": "markdown",
      "source": [
        "### ОТЧЕТ ПО ЛАБОРАТОРНОЙ РАБОТЕ № 4\n",
        "\n",
        "\n",
        "#### Дисциплина: Методы машинного обучения"
      ],
      "metadata": {
        "id": "wt0YJUzjVsJz"
      }
    },
    {
      "cell_type": "markdown",
      "source": [
        "##### Студент: Мухамедияр Адиль\n",
        "##### Группа: НКНбд-01-20"
      ],
      "metadata": {
        "id": "SUdyGbY4XwB3"
      }
    },
    {
      "cell_type": "markdown",
      "source": [
        "## Москва 2023\n",
        "***"
      ],
      "metadata": {
        "id": "f5EG4uRVWn9s"
      }
    },
    {
      "cell_type": "markdown",
      "source": [
        "# Постановка задачи:\n",
        "\n",
        "В соответствии с индивидуальным заданием, указанным в записной книжке команды, выполните следующие работы:  \n",
        "\n",
        "1. Загрузите заданный в индивидуальном задании набор данных из Tensorflow Datasets, включая указанные в задании независимые признаки и метку класса.\n",
        "\n",
        "2. Визуализируйте точки набора данных на плоскости с координатами, соответствующими двум независимым признакам, отображая точки различных классов разными цветами. Подпишите оси и рисунок, создайте легенду для классов набора данных.\n",
        "\n",
        "3. Если признак с метками классов содержит более двух классов, то объедините некоторые классы, чтобы получить набор для бинарной классификации. Объединяйте классы таким образом, чтобы положительный и отрицательный классы были сопоставимы по количеству точек.\n",
        "\n",
        "4. Разбейте набор данных из двух признаков и меток класса на обучающую и тестовую выборки. Постройте нейронную сеть с нормализующим слоем и параметрами, указанными в индивидуальном задании, для бинарной классификации и обучите ее на обучающей выборке. Оцените качество бинарной классификации при помощи матрицы ошибок для тестовой выборки.\n",
        "\n",
        "5. Визуализируйте границы принятия решений построенной нейронной сетью на обучающей и тестовой выборках.\n",
        "\n",
        "6. Визуализируйте ROC-кривую для построенного классификатора и вычислите площадь под ROC-кривой методом трапеций или иным методом.\n",
        "\n",
        "7. Обучите на полном наборе данных нейронную сеть с одним слоем и одним выходным нейроном с функцией активации сигмоида и определите дополнительный признак, отличный от указанных в задании двух независимых признаков, принимающий непрерывные значения и являющийся важным по абсолютному значению веса в обученной нейронной сети.\n",
        "\n",
        "8. Визуализируйте точки набора данных в трехмерном пространстве с координатами, соответствующими трем независимым признакам, отображая точки различных классов разными цветами. Подпишите оси и рисунок, создайте легенду для классов набора данных.\n",
        "\n",
        "9. Разбейте полный набор данных на обучающую и тестовую выборки. Постройте нейронную сеть с нормализующим слоем и параметрами, указанными в индивидуальном задании, для многоклассовой классификации и обучите ее на обучающей выборке.\n",
        "\n",
        "10. Постройте кривые обучения в зависимости от эпохи обучения, подписывая оси и рисунок и создавая легенду."
      ],
      "metadata": {
        "id": "89LcxBM5ztSl"
      }
    },
    {
      "cell_type": "markdown",
      "source": [
        "# Вариант №11\n",
        "\n"
      ],
      "metadata": {
        "id": "gQ1qG1DPX27L"
      }
    },
    {
      "cell_type": "markdown",
      "source": [
        "### Дополнение к основной задаче:\n",
        "\n",
        "1. Набор данных: penguins.\n",
        "2. Независимые признаки: V0, V2.\n",
        "3. Метка класса: species.\n",
        "4. Параметры глубокой нейронной сети: кол-во скрытых слоев – 4, кол-во нейронов в скрытом слое – 64."
      ],
      "metadata": {
        "id": "uuzPdchPYVj9"
      }
    },
    {
      "cell_type": "markdown",
      "source": [
        "## Решение:"
      ],
      "metadata": {
        "id": "h5E8uWjFk_jH"
      }
    },
    {
      "cell_type": "code",
      "source": [
        "# Добавляем библиотеки, которыми мы воспользуемся в дальнейшем:\n",
        "import numpy as np\n",
        "import matplotlib.pyplot as plt\n",
        "import pandas as pd\n",
        "import tensorflow as tf\n",
        "import tensorflow_datasets as tfds\n",
        "import seaborn as sns\n",
        "from sklearn.model_selection import train_test_split\n",
        "from sklearn.metrics import roc_auc_score,roc_curve\n",
        "from mpl_toolkits.mplot3d import Axes3D"
      ],
      "metadata": {
        "id": "ZKv9UZtbMLqF"
      },
      "execution_count": null,
      "outputs": []
    },
    {
      "cell_type": "markdown",
      "source": [
        "### Пункт 1"
      ],
      "metadata": {
        "id": "8_rN8BXwkNoR"
      }
    },
    {
      "cell_type": "code",
      "source": [
        "# Загружаем набор данных \"Пингвины\", независимые признаки и метку класса:\n",
        "ds = tfds.load(\"penguins\", split='train')\n",
        "df_1 = tfds.as_dataframe(ds)\n",
        "\n",
        "df_1 = tfds.as_dataframe(ds)\n",
        "\n",
        "# Добавляем четыре(V0, V1, V2 и V3) новых признака и убираем столбец \"features\":\n",
        "for i in range(4):\n",
        "    df_1['V'+str(i)] = df_1['features'].apply([lambda x:x[i]])\n",
        "df_1.drop(columns=['features'],inplace=True)\n",
        "\n",
        "df_1.head()"
      ],
      "metadata": {
        "colab": {
          "base_uri": "https://localhost:8080/",
          "height": 306,
          "referenced_widgets": [
            "d04e44fe1b204752b73c6e4fe7494033",
            "637b1dcc996649229b00591f844fc3f9",
            "34449c8474dc4d00b7f537cfc891ba41",
            "25cea6d9c3fd423f8060cfafd22800c1",
            "0b749e5e724e497f841e3df627eb171c",
            "ddaac7d3782a43db8919874652e1d944",
            "216d46a0629d49f89fe95dadadea3480",
            "42f82f6017824d84878d2fb3c2f5cbbb",
            "d662e72a0f3f4ca6b3f6c942aeea48b8",
            "3952b2726cc141e1a776e3f8136d68e0",
            "d40009065c7d470ca18fb46b5400c4bc",
            "1c3bcf1028b14b99843cfd65b20da6e4",
            "e5c00960f315456e88ab7f3a1b49c3ce",
            "601e18703ffd4cdb9ef825de9d53a560",
            "85b5ce40ac034a31b99e1bd1a6a5c7da",
            "d591818c0ca349fcaffa38ba06c77dd5",
            "471205dc2c214bb38ab83e5aa73f69dd",
            "b07d044c11a04703badf596559e520f9",
            "2c3f63d687b349938adeb776b8d44368",
            "88c05fa5063c4111a18ec31e01cad8b8",
            "e70b84ec377d400b8301c65ed525f0ff",
            "9e2d50736dad4c0a822448b3a834e89a",
            "deae0936a2494d5983259ba61f259d31",
            "55cd3048b22f49b5a187916ba4c9aadf",
            "da9fdb745d21440796dade0d5d50658c",
            "09ea70b36ca1402fba7d06824b68e87f",
            "9a9f3c348e2e451585cb3577b129de9a",
            "e895e757a0644745b73c23ab5087d756",
            "68ec9007acaa44f4a6bb79a99c962735",
            "2dcc5f07348b4948ba6cb34fe073a592",
            "45d7133ed8ed4e02839903d03059631a",
            "9f13d064c39841a2bde0944ad7fb792c",
            "0e3e5573e1fe4fac86b3d7963e9cd17a",
            "be9fa8df10734038a57247e1c955963d",
            "2b412e0373d545e0b5145678e7068728",
            "48fd0e2a811e454c9d0ecbf4c15cb66a",
            "7a093f9e64de40c7a788208ea154c6e5",
            "ba7bfc13cc8e4e38944a65fc4c52f52d",
            "3df82e06b26d4c7dacad7e551eae8f84",
            "f9a6d1c255c544bc9b8ed93c54dddbf3",
            "4a61aaa36d654bffb530d749adacb0ae",
            "1e6ac13e612140678914758642f12dd4",
            "9a2092c2acee4444b259fc372978b81d",
            "57ccd699bdf440ad809ef90fd41a8749",
            "c3f82b95764f4c25ab03e395d9c0eb86",
            "2ad1e6590c064f1797ed5f5c8080397e",
            "1671c677436c476f8be9e21e56e2d0e8",
            "32a0f09efadc4920a9c5d1c38954fb2a",
            "1948692d076946679e8f71339026b0a4",
            "230a4491f9ec43f9b561f052f2173f20",
            "85664dba89db4032939cb8ffd146d44a",
            "533a727b069d446881f59f2b0e689b20",
            "4a51b43bb79843e999734e2a6a463abe",
            "3215bf64096844418e8591b1068da55f",
            "8e81ef6984d742d4b7a19b8663f968a8"
          ]
        },
        "id": "LY74ObVhz3fJ",
        "outputId": "43e7259e-328d-41e0-c93d-eecb886ba40d"
      },
      "execution_count": null,
      "outputs": [
        {
          "output_type": "stream",
          "name": "stdout",
          "text": [
            "Downloading and preparing dataset 25.05 KiB (download: 25.05 KiB, generated: 17.61 KiB, total: 42.66 KiB) to /root/tensorflow_datasets/penguins/processed/1.0.0...\n"
          ]
        },
        {
          "output_type": "display_data",
          "data": {
            "text/plain": [
              "Dl Completed...: 0 url [00:00, ? url/s]"
            ],
            "application/vnd.jupyter.widget-view+json": {
              "version_major": 2,
              "version_minor": 0,
              "model_id": "d04e44fe1b204752b73c6e4fe7494033"
            }
          },
          "metadata": {}
        },
        {
          "output_type": "display_data",
          "data": {
            "text/plain": [
              "Dl Size...: 0 MiB [00:00, ? MiB/s]"
            ],
            "application/vnd.jupyter.widget-view+json": {
              "version_major": 2,
              "version_minor": 0,
              "model_id": "1c3bcf1028b14b99843cfd65b20da6e4"
            }
          },
          "metadata": {}
        },
        {
          "output_type": "display_data",
          "data": {
            "text/plain": [
              "Generating splits...:   0%|          | 0/1 [00:00<?, ? splits/s]"
            ],
            "application/vnd.jupyter.widget-view+json": {
              "version_major": 2,
              "version_minor": 0,
              "model_id": "deae0936a2494d5983259ba61f259d31"
            }
          },
          "metadata": {}
        },
        {
          "output_type": "display_data",
          "data": {
            "text/plain": [
              "Generating train examples...:   0%|          | 0/334 [00:00<?, ? examples/s]"
            ],
            "application/vnd.jupyter.widget-view+json": {
              "version_major": 2,
              "version_minor": 0,
              "model_id": "be9fa8df10734038a57247e1c955963d"
            }
          },
          "metadata": {}
        },
        {
          "output_type": "display_data",
          "data": {
            "text/plain": [
              "Shuffling /root/tensorflow_datasets/penguins/processed/1.0.0.incompleteNY6O9A/penguins-train.tfrecord*...:   0…"
            ],
            "application/vnd.jupyter.widget-view+json": {
              "version_major": 2,
              "version_minor": 0,
              "model_id": "c3f82b95764f4c25ab03e395d9c0eb86"
            }
          },
          "metadata": {}
        },
        {
          "output_type": "stream",
          "name": "stdout",
          "text": [
            "Dataset penguins downloaded and prepared to /root/tensorflow_datasets/penguins/processed/1.0.0. Subsequent calls will reuse this data.\n"
          ]
        },
        {
          "output_type": "execute_result",
          "data": {
            "text/plain": [
              "   species        V0        V1        V2        V3\n",
              "0        2  0.654545  0.226190  0.898305  0.638889\n",
              "1        2  0.360000  0.047619  0.644068  0.402778\n",
              "2        2  0.680000  0.309524  0.915254  0.694444\n",
              "3        2  0.618182  0.202381  0.813559  0.680556\n",
              "4        2  0.552727  0.261905  0.847458  0.708333"
            ],
            "text/html": [
              "\n",
              "  <div id=\"df-2e0fbb08-2edd-48dd-be87-f7276ce1ceab\">\n",
              "    <div class=\"colab-df-container\">\n",
              "      <div>\n",
              "<style scoped>\n",
              "    .dataframe tbody tr th:only-of-type {\n",
              "        vertical-align: middle;\n",
              "    }\n",
              "\n",
              "    .dataframe tbody tr th {\n",
              "        vertical-align: top;\n",
              "    }\n",
              "\n",
              "    .dataframe thead th {\n",
              "        text-align: right;\n",
              "    }\n",
              "</style>\n",
              "<table border=\"1\" class=\"dataframe\">\n",
              "  <thead>\n",
              "    <tr style=\"text-align: right;\">\n",
              "      <th></th>\n",
              "      <th>species</th>\n",
              "      <th>V0</th>\n",
              "      <th>V1</th>\n",
              "      <th>V2</th>\n",
              "      <th>V3</th>\n",
              "    </tr>\n",
              "  </thead>\n",
              "  <tbody>\n",
              "    <tr>\n",
              "      <th>0</th>\n",
              "      <td>2</td>\n",
              "      <td>0.654545</td>\n",
              "      <td>0.226190</td>\n",
              "      <td>0.898305</td>\n",
              "      <td>0.638889</td>\n",
              "    </tr>\n",
              "    <tr>\n",
              "      <th>1</th>\n",
              "      <td>2</td>\n",
              "      <td>0.360000</td>\n",
              "      <td>0.047619</td>\n",
              "      <td>0.644068</td>\n",
              "      <td>0.402778</td>\n",
              "    </tr>\n",
              "    <tr>\n",
              "      <th>2</th>\n",
              "      <td>2</td>\n",
              "      <td>0.680000</td>\n",
              "      <td>0.309524</td>\n",
              "      <td>0.915254</td>\n",
              "      <td>0.694444</td>\n",
              "    </tr>\n",
              "    <tr>\n",
              "      <th>3</th>\n",
              "      <td>2</td>\n",
              "      <td>0.618182</td>\n",
              "      <td>0.202381</td>\n",
              "      <td>0.813559</td>\n",
              "      <td>0.680556</td>\n",
              "    </tr>\n",
              "    <tr>\n",
              "      <th>4</th>\n",
              "      <td>2</td>\n",
              "      <td>0.552727</td>\n",
              "      <td>0.261905</td>\n",
              "      <td>0.847458</td>\n",
              "      <td>0.708333</td>\n",
              "    </tr>\n",
              "  </tbody>\n",
              "</table>\n",
              "</div>\n",
              "      <button class=\"colab-df-convert\" onclick=\"convertToInteractive('df-2e0fbb08-2edd-48dd-be87-f7276ce1ceab')\"\n",
              "              title=\"Convert this dataframe to an interactive table.\"\n",
              "              style=\"display:none;\">\n",
              "        \n",
              "  <svg xmlns=\"http://www.w3.org/2000/svg\" height=\"24px\"viewBox=\"0 0 24 24\"\n",
              "       width=\"24px\">\n",
              "    <path d=\"M0 0h24v24H0V0z\" fill=\"none\"/>\n",
              "    <path d=\"M18.56 5.44l.94 2.06.94-2.06 2.06-.94-2.06-.94-.94-2.06-.94 2.06-2.06.94zm-11 1L8.5 8.5l.94-2.06 2.06-.94-2.06-.94L8.5 2.5l-.94 2.06-2.06.94zm10 10l.94 2.06.94-2.06 2.06-.94-2.06-.94-.94-2.06-.94 2.06-2.06.94z\"/><path d=\"M17.41 7.96l-1.37-1.37c-.4-.4-.92-.59-1.43-.59-.52 0-1.04.2-1.43.59L10.3 9.45l-7.72 7.72c-.78.78-.78 2.05 0 2.83L4 21.41c.39.39.9.59 1.41.59.51 0 1.02-.2 1.41-.59l7.78-7.78 2.81-2.81c.8-.78.8-2.07 0-2.86zM5.41 20L4 18.59l7.72-7.72 1.47 1.35L5.41 20z\"/>\n",
              "  </svg>\n",
              "      </button>\n",
              "      \n",
              "  <style>\n",
              "    .colab-df-container {\n",
              "      display:flex;\n",
              "      flex-wrap:wrap;\n",
              "      gap: 12px;\n",
              "    }\n",
              "\n",
              "    .colab-df-convert {\n",
              "      background-color: #E8F0FE;\n",
              "      border: none;\n",
              "      border-radius: 50%;\n",
              "      cursor: pointer;\n",
              "      display: none;\n",
              "      fill: #1967D2;\n",
              "      height: 32px;\n",
              "      padding: 0 0 0 0;\n",
              "      width: 32px;\n",
              "    }\n",
              "\n",
              "    .colab-df-convert:hover {\n",
              "      background-color: #E2EBFA;\n",
              "      box-shadow: 0px 1px 2px rgba(60, 64, 67, 0.3), 0px 1px 3px 1px rgba(60, 64, 67, 0.15);\n",
              "      fill: #174EA6;\n",
              "    }\n",
              "\n",
              "    [theme=dark] .colab-df-convert {\n",
              "      background-color: #3B4455;\n",
              "      fill: #D2E3FC;\n",
              "    }\n",
              "\n",
              "    [theme=dark] .colab-df-convert:hover {\n",
              "      background-color: #434B5C;\n",
              "      box-shadow: 0px 1px 3px 1px rgba(0, 0, 0, 0.15);\n",
              "      filter: drop-shadow(0px 1px 2px rgba(0, 0, 0, 0.3));\n",
              "      fill: #FFFFFF;\n",
              "    }\n",
              "  </style>\n",
              "\n",
              "      <script>\n",
              "        const buttonEl =\n",
              "          document.querySelector('#df-2e0fbb08-2edd-48dd-be87-f7276ce1ceab button.colab-df-convert');\n",
              "        buttonEl.style.display =\n",
              "          google.colab.kernel.accessAllowed ? 'block' : 'none';\n",
              "\n",
              "        async function convertToInteractive(key) {\n",
              "          const element = document.querySelector('#df-2e0fbb08-2edd-48dd-be87-f7276ce1ceab');\n",
              "          const dataTable =\n",
              "            await google.colab.kernel.invokeFunction('convertToInteractive',\n",
              "                                                     [key], {});\n",
              "          if (!dataTable) return;\n",
              "\n",
              "          const docLinkHtml = 'Like what you see? Visit the ' +\n",
              "            '<a target=\"_blank\" href=https://colab.research.google.com/notebooks/data_table.ipynb>data table notebook</a>'\n",
              "            + ' to learn more about interactive tables.';\n",
              "          element.innerHTML = '';\n",
              "          dataTable['output_type'] = 'display_data';\n",
              "          await google.colab.output.renderOutput(dataTable, element);\n",
              "          const docLink = document.createElement('div');\n",
              "          docLink.innerHTML = docLinkHtml;\n",
              "          element.appendChild(docLink);\n",
              "        }\n",
              "      </script>\n",
              "    </div>\n",
              "  </div>\n",
              "  "
            ]
          },
          "metadata": {},
          "execution_count": 2
        }
      ]
    },
    {
      "cell_type": "code",
      "source": [
        "df_1.species.value_counts()"
      ],
      "metadata": {
        "colab": {
          "base_uri": "https://localhost:8080/"
        },
        "id": "5cgP2CCyjY5O",
        "outputId": "f1dd6175-bfe3-4512-b5ab-139ca91e7d53"
      },
      "execution_count": null,
      "outputs": [
        {
          "output_type": "execute_result",
          "data": {
            "text/plain": [
              "0    146\n",
              "2    120\n",
              "1     68\n",
              "Name: species, dtype: int64"
            ]
          },
          "metadata": {},
          "execution_count": 27
        }
      ]
    },
    {
      "cell_type": "markdown",
      "source": [
        "Оставим в наборе данных два независимых признака features/V0 и features/V2 и метки классов species:"
      ],
      "metadata": {
        "id": "h0fu5NYh4-jK"
      }
    },
    {
      "cell_type": "code",
      "source": [
        "df = df_1[['V0','V2','species']]\n",
        "df.columns = ['V0','V2','species']\n",
        "\n",
        "df.head()"
      ],
      "metadata": {
        "colab": {
          "base_uri": "https://localhost:8080/",
          "height": 206
        },
        "id": "1BxJAdY45kyJ",
        "outputId": "299d1232-82e7-4ff8-93a3-8530b42f0506"
      },
      "execution_count": null,
      "outputs": [
        {
          "output_type": "execute_result",
          "data": {
            "text/plain": [
              "         V0        V2  species\n",
              "0  0.654545  0.898305        2\n",
              "1  0.360000  0.644068        2\n",
              "2  0.680000  0.915254        2\n",
              "3  0.618182  0.813559        2\n",
              "4  0.552727  0.847458        2"
            ],
            "text/html": [
              "\n",
              "  <div id=\"df-718aacf4-0832-4379-a083-2418c32377f4\">\n",
              "    <div class=\"colab-df-container\">\n",
              "      <div>\n",
              "<style scoped>\n",
              "    .dataframe tbody tr th:only-of-type {\n",
              "        vertical-align: middle;\n",
              "    }\n",
              "\n",
              "    .dataframe tbody tr th {\n",
              "        vertical-align: top;\n",
              "    }\n",
              "\n",
              "    .dataframe thead th {\n",
              "        text-align: right;\n",
              "    }\n",
              "</style>\n",
              "<table border=\"1\" class=\"dataframe\">\n",
              "  <thead>\n",
              "    <tr style=\"text-align: right;\">\n",
              "      <th></th>\n",
              "      <th>V0</th>\n",
              "      <th>V2</th>\n",
              "      <th>species</th>\n",
              "    </tr>\n",
              "  </thead>\n",
              "  <tbody>\n",
              "    <tr>\n",
              "      <th>0</th>\n",
              "      <td>0.654545</td>\n",
              "      <td>0.898305</td>\n",
              "      <td>2</td>\n",
              "    </tr>\n",
              "    <tr>\n",
              "      <th>1</th>\n",
              "      <td>0.360000</td>\n",
              "      <td>0.644068</td>\n",
              "      <td>2</td>\n",
              "    </tr>\n",
              "    <tr>\n",
              "      <th>2</th>\n",
              "      <td>0.680000</td>\n",
              "      <td>0.915254</td>\n",
              "      <td>2</td>\n",
              "    </tr>\n",
              "    <tr>\n",
              "      <th>3</th>\n",
              "      <td>0.618182</td>\n",
              "      <td>0.813559</td>\n",
              "      <td>2</td>\n",
              "    </tr>\n",
              "    <tr>\n",
              "      <th>4</th>\n",
              "      <td>0.552727</td>\n",
              "      <td>0.847458</td>\n",
              "      <td>2</td>\n",
              "    </tr>\n",
              "  </tbody>\n",
              "</table>\n",
              "</div>\n",
              "      <button class=\"colab-df-convert\" onclick=\"convertToInteractive('df-718aacf4-0832-4379-a083-2418c32377f4')\"\n",
              "              title=\"Convert this dataframe to an interactive table.\"\n",
              "              style=\"display:none;\">\n",
              "        \n",
              "  <svg xmlns=\"http://www.w3.org/2000/svg\" height=\"24px\"viewBox=\"0 0 24 24\"\n",
              "       width=\"24px\">\n",
              "    <path d=\"M0 0h24v24H0V0z\" fill=\"none\"/>\n",
              "    <path d=\"M18.56 5.44l.94 2.06.94-2.06 2.06-.94-2.06-.94-.94-2.06-.94 2.06-2.06.94zm-11 1L8.5 8.5l.94-2.06 2.06-.94-2.06-.94L8.5 2.5l-.94 2.06-2.06.94zm10 10l.94 2.06.94-2.06 2.06-.94-2.06-.94-.94-2.06-.94 2.06-2.06.94z\"/><path d=\"M17.41 7.96l-1.37-1.37c-.4-.4-.92-.59-1.43-.59-.52 0-1.04.2-1.43.59L10.3 9.45l-7.72 7.72c-.78.78-.78 2.05 0 2.83L4 21.41c.39.39.9.59 1.41.59.51 0 1.02-.2 1.41-.59l7.78-7.78 2.81-2.81c.8-.78.8-2.07 0-2.86zM5.41 20L4 18.59l7.72-7.72 1.47 1.35L5.41 20z\"/>\n",
              "  </svg>\n",
              "      </button>\n",
              "      \n",
              "  <style>\n",
              "    .colab-df-container {\n",
              "      display:flex;\n",
              "      flex-wrap:wrap;\n",
              "      gap: 12px;\n",
              "    }\n",
              "\n",
              "    .colab-df-convert {\n",
              "      background-color: #E8F0FE;\n",
              "      border: none;\n",
              "      border-radius: 50%;\n",
              "      cursor: pointer;\n",
              "      display: none;\n",
              "      fill: #1967D2;\n",
              "      height: 32px;\n",
              "      padding: 0 0 0 0;\n",
              "      width: 32px;\n",
              "    }\n",
              "\n",
              "    .colab-df-convert:hover {\n",
              "      background-color: #E2EBFA;\n",
              "      box-shadow: 0px 1px 2px rgba(60, 64, 67, 0.3), 0px 1px 3px 1px rgba(60, 64, 67, 0.15);\n",
              "      fill: #174EA6;\n",
              "    }\n",
              "\n",
              "    [theme=dark] .colab-df-convert {\n",
              "      background-color: #3B4455;\n",
              "      fill: #D2E3FC;\n",
              "    }\n",
              "\n",
              "    [theme=dark] .colab-df-convert:hover {\n",
              "      background-color: #434B5C;\n",
              "      box-shadow: 0px 1px 3px 1px rgba(0, 0, 0, 0.15);\n",
              "      filter: drop-shadow(0px 1px 2px rgba(0, 0, 0, 0.3));\n",
              "      fill: #FFFFFF;\n",
              "    }\n",
              "  </style>\n",
              "\n",
              "      <script>\n",
              "        const buttonEl =\n",
              "          document.querySelector('#df-718aacf4-0832-4379-a083-2418c32377f4 button.colab-df-convert');\n",
              "        buttonEl.style.display =\n",
              "          google.colab.kernel.accessAllowed ? 'block' : 'none';\n",
              "\n",
              "        async function convertToInteractive(key) {\n",
              "          const element = document.querySelector('#df-718aacf4-0832-4379-a083-2418c32377f4');\n",
              "          const dataTable =\n",
              "            await google.colab.kernel.invokeFunction('convertToInteractive',\n",
              "                                                     [key], {});\n",
              "          if (!dataTable) return;\n",
              "\n",
              "          const docLinkHtml = 'Like what you see? Visit the ' +\n",
              "            '<a target=\"_blank\" href=https://colab.research.google.com/notebooks/data_table.ipynb>data table notebook</a>'\n",
              "            + ' to learn more about interactive tables.';\n",
              "          element.innerHTML = '';\n",
              "          dataTable['output_type'] = 'display_data';\n",
              "          await google.colab.output.renderOutput(dataTable, element);\n",
              "          const docLink = document.createElement('div');\n",
              "          docLink.innerHTML = docLinkHtml;\n",
              "          element.appendChild(docLink);\n",
              "        }\n",
              "      </script>\n",
              "    </div>\n",
              "  </div>\n",
              "  "
            ]
          },
          "metadata": {},
          "execution_count": 3
        }
      ]
    },
    {
      "cell_type": "markdown",
      "source": [
        "### Пункт 2"
      ],
      "metadata": {
        "id": "wQlDHrnW12X2"
      }
    },
    {
      "cell_type": "code",
      "source": [
        "plt.scatter(df['V0'], df['V2'], c = df['species'], cmap = plt.cm.RdYlBu)"
      ],
      "metadata": {
        "id": "f-MfxM1M3QmJ",
        "colab": {
          "base_uri": "https://localhost:8080/",
          "height": 448
        },
        "outputId": "85b47ca8-aa06-45ca-8d0a-a5cea4064a15"
      },
      "execution_count": null,
      "outputs": [
        {
          "output_type": "execute_result",
          "data": {
            "text/plain": [
              "<matplotlib.collections.PathCollection at 0x7f0e8468d810>"
            ]
          },
          "metadata": {},
          "execution_count": 4
        },
        {
          "output_type": "display_data",
          "data": {
            "text/plain": [
              "<Figure size 640x480 with 1 Axes>"
            ],
            "image/png": "[encoded data removed]"
          },
          "metadata": {}
        }
      ]
    },
    {
      "cell_type": "code",
      "source": [
        "fig, (ax1, ax2) = plt.subplots(1, 2, figsize=(12, 6))\n",
        "\n",
        "# Построим первую точечную диаграмму(для V0)\n",
        "ax1.scatter(df['V0'], df['species'], c=df['species'], cmap=plt.cm.RdYlBu)\n",
        "ax1.set_xlabel('features/V0')\n",
        "ax1.set_ylabel('Species')\n",
        "\n",
        "# Построим вторую точечную диаграмму(для V2)\n",
        "ax2.scatter(df['V2'], df['species'], c=df['species'], cmap=plt.cm.RdYlBu)\n",
        "ax2.set_xlabel('features/V2')\n",
        "ax2.set_ylabel('Species')\n",
        "\n",
        "plt.show()"
      ],
      "metadata": {
        "id": "i-OAFaj56YfJ",
        "colab": {
          "base_uri": "https://localhost:8080/",
          "height": 542
        },
        "outputId": "e792fd57-2fc6-4c0b-b70b-55545bc9a364"
      },
      "execution_count": null,
      "outputs": [
        {
          "output_type": "display_data",
          "data": {
            "text/plain": [
              "<Figure size 1200x600 with 2 Axes>"
            ],
            "image/png": "[encoded data removed]"
          },
          "metadata": {}
        }
      ]
    },
    {
      "cell_type": "code",
      "source": [
        "fig, ax = plt.subplots()\n",
        "sns.scatterplot(data=df, x='V0', y='species', color='gray', size='species')\n",
        "sns.scatterplot(data=df, x='V2', y='species', color='blue', marker='+')\n",
        "plt.xlabel('features/V0')\n",
        "plt.ylabel('features/V2')\n",
        "plt.title('Penguins Dataset')\n",
        "plt.show()"
      ],
      "metadata": {
        "id": "3zGJAJbh63bZ",
        "colab": {
          "base_uri": "https://localhost:8080/",
          "height": 472
        },
        "outputId": "126bc220-1149-4cf1-b790-3da33da2ebf6"
      },
      "execution_count": null,
      "outputs": [
        {
          "output_type": "display_data",
          "data": {
            "text/plain": [
              "<Figure size 640x480 with 1 Axes>"
            ],
            "image/png": "[encoded data removed]"
          },
          "metadata": {}
        }
      ]
    },
    {
      "cell_type": "markdown",
      "source": [
        "### Пункт 3"
      ],
      "metadata": {
        "id": "ezOE2FR97hXt"
      }
    },
    {
      "cell_type": "markdown",
      "source": [
        "Оценим количество записей с различными значениями признака species:"
      ],
      "metadata": {
        "id": "Ib89RNMC888a"
      }
    },
    {
      "cell_type": "code",
      "source": [
        "df['species'].unique()"
      ],
      "metadata": {
        "id": "XSRNzN0uC6AD",
        "colab": {
          "base_uri": "https://localhost:8080/"
        },
        "outputId": "db4ee45d-a330-4493-e1e3-9c5536f4077d"
      },
      "execution_count": null,
      "outputs": [
        {
          "output_type": "execute_result",
          "data": {
            "text/plain": [
              "array([2, 0, 1])"
            ]
          },
          "metadata": {},
          "execution_count": 7
        }
      ]
    },
    {
      "cell_type": "code",
      "source": [
        "df['species'].value_counts()"
      ],
      "metadata": {
        "colab": {
          "base_uri": "https://localhost:8080/"
        },
        "id": "U42UczyR8boT",
        "outputId": "2f7557df-b1ee-4bf1-86d2-8e4d09bad020"
      },
      "execution_count": null,
      "outputs": [
        {
          "output_type": "execute_result",
          "data": {
            "text/plain": [
              "0    146\n",
              "2    120\n",
              "1     68\n",
              "Name: species, dtype: int64"
            ]
          },
          "metadata": {},
          "execution_count": 8
        }
      ]
    },
    {
      "cell_type": "markdown",
      "source": [
        "Объединяем классы:"
      ],
      "metadata": {
        "id": "8Ex0BBI3BjyA"
      }
    },
    {
      "cell_type": "code",
      "source": [
        "print((df['species'].apply(lambda x: 1 if x > 0 else 0).value_counts()))\n",
        "df.loc[:, 'species'] = df['species'].apply(lambda x: 1 if x > 0 else 0)\n"
      ],
      "metadata": {
        "colab": {
          "base_uri": "https://localhost:8080/"
        },
        "id": "BTC66BoW9k8J",
        "outputId": "bcafc034-bdb4-4d25-f1de-572619a280b3"
      },
      "execution_count": null,
      "outputs": [
        {
          "output_type": "stream",
          "name": "stdout",
          "text": [
            "1    188\n",
            "0    146\n",
            "Name: species, dtype: int64\n"
          ]
        },
        {
          "output_type": "stream",
          "name": "stderr",
          "text": [
            "<ipython-input-9-07511fbd3b59>:2: SettingWithCopyWarning: \n",
            "A value is trying to be set on a copy of a slice from a DataFrame.\n",
            "Try using .loc[row_indexer,col_indexer] = value instead\n",
            "\n",
            "See the caveats in the documentation: https://pandas.pydata.org/pandas-docs/stable/user_guide/indexing.html#returning-a-view-versus-a-copy\n",
            "  df.loc[:, 'species'] = df['species'].apply(lambda x: 1 if x > 0 else 0)\n"
          ]
        }
      ]
    },
    {
      "cell_type": "code",
      "source": [
        "df['species'].value_counts()"
      ],
      "metadata": {
        "colab": {
          "base_uri": "https://localhost:8080/"
        },
        "id": "R5J9Y3a0BuP2",
        "outputId": "15bceed2-330c-4a38-887d-648a5cf636a5"
      },
      "execution_count": null,
      "outputs": [
        {
          "output_type": "execute_result",
          "data": {
            "text/plain": [
              "1    188\n",
              "0    146\n",
              "Name: species, dtype: int64"
            ]
          },
          "metadata": {},
          "execution_count": 10
        }
      ]
    },
    {
      "cell_type": "markdown",
      "source": [
        "### Пункт 4\n"
      ],
      "metadata": {
        "id": "bwjhaYJM-ZDU"
      }
    },
    {
      "cell_type": "code",
      "source": [
        "X_train, X_test, y_train, y_test = train_test_split(df[['V0','V2']],df['species'], test_size=0.4, random_state=42)\n",
        "\n",
        "X_train.shape"
      ],
      "metadata": {
        "colab": {
          "base_uri": "https://localhost:8080/"
        },
        "id": "HFZMhRoCGYKK",
        "outputId": "1e967bf6-8dda-49a2-a18b-16b4adbe98f4"
      },
      "execution_count": null,
      "outputs": [
        {
          "output_type": "execute_result",
          "data": {
            "text/plain": [
              "(200, 2)"
            ]
          },
          "metadata": {},
          "execution_count": 11
        }
      ]
    },
    {
      "cell_type": "code",
      "source": [
        "# Слой нормализации:\n",
        "feature_normalizer = tf.keras.layers.Normalization(axis=None,input_shape=(X_train.shape[1],)) \n",
        "feature_normalizer.adapt(X_train)"
      ],
      "metadata": {
        "id": "20QqQGaSG6lu"
      },
      "execution_count": null,
      "outputs": []
    },
    {
      "cell_type": "markdown",
      "source": [
        "Создадаем нейронную сеть со слоем нормализации, четырьмя скрытыми плотными слоями с 64 нейронами и функцией активации ReLu и выходным слоем из одного нейрона с функцией активации сигмоида:"
      ],
      "metadata": {
        "id": "Pf0SR5PzHUhs"
      }
    },
    {
      "cell_type": "code",
      "source": [
        "model = tf.keras.Sequential([\n",
        "    feature_normalizer,\n",
        "    tf.keras.layers.Dense(64, activation='relu'),\n",
        "    tf.keras.layers.Dense(64, activation='relu'),\n",
        "    tf.keras.layers.Dense(64, activation='relu'),\n",
        "    tf.keras.layers.Dense(64, activation='relu'),\n",
        "    tf.keras.layers.Dense(1, activation='sigmoid')\n",
        "])\n",
        "\n",
        "model.summary()"
      ],
      "metadata": {
        "colab": {
          "base_uri": "https://localhost:8080/"
        },
        "id": "9l_2waONHICk",
        "outputId": "f53ae41b-a4d9-4d49-cdef-b451bcd39966"
      },
      "execution_count": null,
      "outputs": [
        {
          "output_type": "stream",
          "name": "stdout",
          "text": [
            "Model: \"sequential\"\n",
            "_________________________________________________________________\n",
            " Layer (type)                Output Shape              Param #   \n",
            "=================================================================\n",
            " normalization (Normalizatio  (None, 2)                3         \n",
            " n)                                                              \n",
            "                                                                 \n",
            " dense (Dense)               (None, 64)                192       \n",
            "                                                                 \n",
            " dense_1 (Dense)             (None, 64)                4160      \n",
            "                                                                 \n",
            " dense_2 (Dense)             (None, 64)                4160      \n",
            "                                                                 \n",
            " dense_3 (Dense)             (None, 64)                4160      \n",
            "                                                                 \n",
            " dense_4 (Dense)             (None, 1)                 65        \n",
            "                                                                 \n",
            "=================================================================\n",
            "Total params: 12,740\n",
            "Trainable params: 12,737\n",
            "Non-trainable params: 3\n",
            "_________________________________________________________________\n"
          ]
        }
      ]
    },
    {
      "cell_type": "markdown",
      "source": [
        "Используем в качестве функции потерь при работе с задачами бинарной классификации `binary_crossentropy`. Для отслеживания показателя аккуратности (accuracy) во время обучения:"
      ],
      "metadata": {
        "id": "6yDGn-_3H3zq"
      }
    },
    {
      "cell_type": "code",
      "source": [
        "model.compile(\n",
        "    loss=tf.keras.losses.binary_crossentropy,\n",
        "    optimizer=tf.keras.optimizers.Adam(learning_rate=0.03),\n",
        "    metrics=[tf.keras.metrics.BinaryAccuracy(name='accuracy')]\n",
        ")\n",
        "\n",
        "history = model.fit(X_train, y_train, epochs=3)"
      ],
      "metadata": {
        "colab": {
          "base_uri": "https://localhost:8080/"
        },
        "id": "WY0yDp--Hye9",
        "outputId": "6d2ff56d-4664-4d26-bee4-d54d3abbab76"
      },
      "execution_count": null,
      "outputs": [
        {
          "output_type": "stream",
          "name": "stdout",
          "text": [
            "Epoch 1/3\n",
            "7/7 [==============================] - 3s 6ms/step - loss: 0.3203 - accuracy: 0.8500\n",
            "Epoch 2/3\n",
            "7/7 [==============================] - 0s 4ms/step - loss: 0.1333 - accuracy: 0.9700\n",
            "Epoch 3/3\n",
            "7/7 [==============================] - 0s 3ms/step - loss: 0.1160 - accuracy: 0.9700\n"
          ]
        }
      ]
    },
    {
      "cell_type": "markdown",
      "source": [
        "Значения, которые можно интерпретировать как вероятности при помощи обученной нейронной сети:"
      ],
      "metadata": {
        "id": "oVVDqkO-Ko2W"
      }
    },
    {
      "cell_type": "code",
      "source": [
        "prediction = model.predict(X_test)\n",
        "prediction"
      ],
      "metadata": {
        "colab": {
          "base_uri": "https://localhost:8080/"
        },
        "id": "WPzydvZ7KHlM",
        "outputId": "0422ab85-55bc-4796-848d-43f23ee28e26"
      },
      "execution_count": null,
      "outputs": [
        {
          "output_type": "stream",
          "name": "stdout",
          "text": [
            "5/5 [==============================] - 0s 5ms/step\n"
          ]
        },
        {
          "output_type": "execute_result",
          "data": {
            "text/plain": [
              "array([[4.33107107e-06],\n",
              "       [9.99334157e-01],\n",
              "       [9.99999881e-01],\n",
              "       [9.99746799e-01],\n",
              "       [5.73555194e-03],\n",
              "       [1.27997453e-04],\n",
              "       [1.07650404e-08],\n",
              "       [9.86444771e-01],\n",
              "       [1.00000000e+00],\n",
              "       [9.99870241e-01],\n",
              "       [4.30236454e-04],\n",
              "       [7.49780838e-07],\n",
              "       [1.00000000e+00],\n",
              "       [9.99995172e-01],\n",
              "       [9.55632686e-07],\n",
              "       [1.53016089e-08],\n",
              "       [9.99999881e-01],\n",
              "       [1.00000000e+00],\n",
              "       [8.62625820e-05],\n",
              "       [9.99722183e-01],\n",
              "       [7.68920572e-08],\n",
              "       [1.95870398e-05],\n",
              "       [9.99097347e-01],\n",
              "       [9.99999642e-01],\n",
              "       [4.35647891e-08],\n",
              "       [3.06422383e-01],\n",
              "       [1.24481967e-05],\n",
              "       [9.99956667e-01],\n",
              "       [2.15621867e-08],\n",
              "       [9.94038701e-01],\n",
              "       [9.99458253e-01],\n",
              "       [7.09196478e-02],\n",
              "       [1.80088726e-08],\n",
              "       [9.99999881e-01],\n",
              "       [2.20236740e-09],\n",
              "       [9.99990642e-01],\n",
              "       [9.99999583e-01],\n",
              "       [9.99452889e-01],\n",
              "       [9.99999762e-01],\n",
              "       [9.84368920e-01],\n",
              "       [8.13709562e-08],\n",
              "       [3.21318475e-06],\n",
              "       [1.28833291e-08],\n",
              "       [9.41009760e-01],\n",
              "       [9.96173620e-01],\n",
              "       [9.99962449e-01],\n",
              "       [9.99700665e-01],\n",
              "       [9.99956667e-01],\n",
              "       [1.23948421e-05],\n",
              "       [9.97369766e-01],\n",
              "       [9.99975324e-01],\n",
              "       [1.30139583e-07],\n",
              "       [1.00000000e+00],\n",
              "       [9.99503970e-01],\n",
              "       [9.99888420e-01],\n",
              "       [9.91716385e-01],\n",
              "       [9.99993265e-01],\n",
              "       [2.64167058e-04],\n",
              "       [1.00000000e+00],\n",
              "       [2.21702906e-10],\n",
              "       [8.05829465e-01],\n",
              "       [9.97717559e-01],\n",
              "       [3.03283196e-06],\n",
              "       [9.99999821e-01],\n",
              "       [7.44596422e-01],\n",
              "       [2.08094642e-01],\n",
              "       [9.99999940e-01],\n",
              "       [1.12431103e-07],\n",
              "       [1.53016089e-08],\n",
              "       [9.99988973e-01],\n",
              "       [9.99994576e-01],\n",
              "       [1.26704181e-05],\n",
              "       [9.87013996e-01],\n",
              "       [9.27738845e-01],\n",
              "       [1.15652336e-02],\n",
              "       [9.99992371e-01],\n",
              "       [1.00000000e+00],\n",
              "       [1.53715209e-08],\n",
              "       [9.99978483e-01],\n",
              "       [1.73683201e-08],\n",
              "       [9.97498631e-01],\n",
              "       [2.17545292e-07],\n",
              "       [7.28430692e-04],\n",
              "       [9.99535084e-01],\n",
              "       [9.99958158e-01],\n",
              "       [1.03304847e-05],\n",
              "       [9.99992609e-01],\n",
              "       [5.84872067e-01],\n",
              "       [9.99979794e-01],\n",
              "       [9.99819279e-01],\n",
              "       [1.06656145e-07],\n",
              "       [5.14086696e-06],\n",
              "       [6.12959639e-06],\n",
              "       [9.86617982e-01],\n",
              "       [9.99999464e-01],\n",
              "       [2.07128481e-10],\n",
              "       [4.46183585e-05],\n",
              "       [4.38013330e-07],\n",
              "       [7.63313024e-10],\n",
              "       [9.99957740e-01],\n",
              "       [9.99957383e-01],\n",
              "       [9.99983251e-01],\n",
              "       [9.99998927e-01],\n",
              "       [9.99999166e-01],\n",
              "       [8.69138259e-03],\n",
              "       [1.13954382e-04],\n",
              "       [6.32163903e-07],\n",
              "       [9.06219840e-01],\n",
              "       [9.22479103e-07],\n",
              "       [9.99985695e-01],\n",
              "       [9.99969482e-01],\n",
              "       [9.89129901e-01],\n",
              "       [1.00000000e+00],\n",
              "       [5.45434631e-08],\n",
              "       [1.42368685e-06],\n",
              "       [4.24665814e-08],\n",
              "       [1.00000000e+00],\n",
              "       [9.98594940e-01],\n",
              "       [1.05957799e-04],\n",
              "       [2.14294255e-06],\n",
              "       [7.42465431e-07],\n",
              "       [9.99975860e-01],\n",
              "       [3.13608139e-09],\n",
              "       [9.99999404e-01],\n",
              "       [9.99854147e-01],\n",
              "       [2.11578707e-04],\n",
              "       [9.99999583e-01],\n",
              "       [1.24725716e-06],\n",
              "       [9.99999881e-01],\n",
              "       [9.99970317e-01],\n",
              "       [9.99997139e-01],\n",
              "       [1.00000000e+00],\n",
              "       [6.56772777e-02],\n",
              "       [9.98856008e-01]], dtype=float32)"
            ]
          },
          "metadata": {},
          "execution_count": 15
        }
      ]
    },
    {
      "cell_type": "code",
      "source": [
        "y_pred = np.array([1 if prob > 0.5 else 0 for prob in np.ravel(prediction)])\n",
        "print(y_pred)"
      ],
      "metadata": {
        "colab": {
          "base_uri": "https://localhost:8080/"
        },
        "id": "M0qAkfILKOS5",
        "outputId": "65a7e04f-da11-42ff-d377-654c1bb75845"
      },
      "execution_count": null,
      "outputs": [
        {
          "output_type": "stream",
          "name": "stdout",
          "text": [
            "[0 1 1 1 0 0 0 1 1 1 0 0 1 1 0 0 1 1 0 1 0 0 1 1 0 0 0 1 0 1 1 0 0 1 0 1 1\n",
            " 1 1 1 0 0 0 1 1 1 1 1 0 1 1 0 1 1 1 1 1 0 1 0 1 1 0 1 1 0 1 0 0 1 1 0 1 1\n",
            " 0 1 1 0 1 0 1 0 0 1 1 0 1 1 1 1 0 0 0 1 1 0 0 0 0 1 1 1 1 1 0 0 0 1 0 1 1\n",
            " 1 1 0 0 0 1 1 0 0 0 1 0 1 1 0 1 0 1 1 1 1 0 1]\n"
          ]
        }
      ]
    },
    {
      "cell_type": "markdown",
      "source": [
        "Оценим модель на тестовой выборке:"
      ],
      "metadata": {
        "id": "qSl2JWRwKVMC"
      }
    },
    {
      "cell_type": "code",
      "source": [
        "loss, accuracy = model.evaluate(X_test, y_test)\n",
        "loss, accuracy"
      ],
      "metadata": {
        "colab": {
          "base_uri": "https://localhost:8080/"
        },
        "id": "A0Lhwn8JKUD5",
        "outputId": "d1400b83-5e70-43df-b1b5-15cffc2cf6f6"
      },
      "execution_count": null,
      "outputs": [
        {
          "output_type": "stream",
          "name": "stdout",
          "text": [
            "5/5 [==============================] - 0s 4ms/step - loss: 0.1250 - accuracy: 0.9627\n"
          ]
        },
        {
          "output_type": "execute_result",
          "data": {
            "text/plain": [
              "(0.12497681379318237, 0.9626865386962891)"
            ]
          },
          "metadata": {},
          "execution_count": 17
        }
      ]
    },
    {
      "cell_type": "markdown",
      "source": [
        "Теперь определим матрицу ошибок для бинарной классифкации, где:"
      ],
      "metadata": {
        "id": "de5URY41K15-"
      }
    },
    {
      "cell_type": "markdown",
      "source": [
        "* $TP$ – (True Positives) – число корректно спрогнозированных точек в классе $c_{1}$ \n",
        "* $FN$ – (False Negatives) – число точек в классе $c_{1}$, ошибочно спрогнозированных в класс $c_{2}$\n",
        "* $FP$ – (False Positives) – число точек в классе $c_{2}$, ошибочно спрогнозированных в класс $c_{1}$\n",
        "* $TN$ – (True Negatives) – число корректно спрогнозированных точек в классе $c_{2}$ "
      ],
      "metadata": {
        "id": "PdXyKXP6LHvj"
      }
    },
    {
      "cell_type": "code",
      "source": [
        "# TN:\n",
        "def TN(y_true, y_predict):\n",
        "    assert len(y_true) == len(y_predict)\n",
        "    return np.sum((y_true == 0) & (y_predict == 0))\n",
        "\n",
        "# FP:\n",
        "def FP(y_true, y_predict):\n",
        "    assert len(y_true) == len(y_predict)\n",
        "    return np.sum((y_true == 0) & (y_predict == 1))\n",
        "\n",
        "# FN:\n",
        "def FN(y_true, y_predict):\n",
        "    assert len(y_true) == len(y_predict)\n",
        "    return np.sum((y_true == 1) & (y_predict == 0))\n",
        "\n",
        "# TP:\n",
        "def TP(y_true, y_predict):\n",
        "    assert len(y_true) == len(y_predict)\n",
        "    return np.sum((y_true == 1) & (y_predict == 1))\n",
        "\n",
        "# Матрица ошибок для бинарной классификации:\n",
        "def confusion_matrix(y_true, y_predict):\n",
        "    return np.array([\n",
        "        [TP(y_true, y_predict), FN(y_true, y_predict)],\n",
        "        [FP(y_true, y_predict), TN(y_true, y_predict)]\n",
        "    ])\n",
        "# Выводим результат:\n",
        "confusion_matrix(y_test, y_pred)"
      ],
      "metadata": {
        "colab": {
          "base_uri": "https://localhost:8080/"
        },
        "id": "dgsL00W1I4eT",
        "outputId": "fdf37a3d-2763-4034-90f8-3c199952bd54"
      },
      "execution_count": null,
      "outputs": [
        {
          "output_type": "execute_result",
          "data": {
            "text/plain": [
              "array([[75,  3],\n",
              "       [ 2, 54]])"
            ]
          },
          "metadata": {},
          "execution_count": 18
        }
      ]
    },
    {
      "cell_type": "markdown",
      "source": [
        "### Пункт 5\n"
      ],
      "metadata": {
        "id": "uYJZ3ne6Ditk"
      }
    },
    {
      "cell_type": "markdown",
      "source": [
        "Для визуализации областей принятия решения воспользуемся следующей функцией:"
      ],
      "metadata": {
        "id": "suynDpT3NGDg"
      }
    },
    {
      "cell_type": "code",
      "source": [
        "def plot_decision_boundary(model, X, y):\n",
        "    # Найдем диапазоны изменения по осям и построим сетку\n",
        "    x_min, x_max = X.iloc[:, 0].min() - 0.1, X.iloc[:, 0].max() + 0.1\n",
        "    y_min, y_max = X.iloc[:, 1].min() - 0.1, X.iloc[:, 1].max() + 0.1\n",
        "    xx, yy = np.meshgrid(np.linspace(x_min, x_max, 100),\n",
        "                         np.linspace(y_min, y_max, 100))\n",
        "    # Набор данных для прогнозирования\n",
        "    X_in = np.c_[xx.ravel(), yy.ravel()] \n",
        "    # Прогноз при помощи обученной модели\n",
        "    y_pred = model.predict(X_in)\n",
        "    # Проверка мультиклассовости\n",
        "    if len(y_pred[1]) > 1:\n",
        "        # мультиклассовая классификация\n",
        "        # изменяем форму прогноза для визуализации \n",
        "        y_pred = np.argmax(y_pred, axis=1).reshape(xx.shape)\n",
        "    else:\n",
        "        # бинарная классификация \n",
        "        y_pred = np.round(y_pred).reshape(xx.shape)\n",
        "    # Рисуем границу решения\n",
        "    plt.contourf(xx, yy, y_pred, cmap=plt.cm.RdYlBu, alpha=0.7)\n",
        "    plt.scatter(X.iloc[:, 0], X.iloc[:, 1], c=y, s=40, cmap=plt.cm.RdYlBu)\n",
        "    plt.xlim(xx.min(), xx.max())\n",
        "    plt.ylim(yy.min(), yy.max())\n",
        "\n",
        "plt.figure(figsize=(12, 6))\n",
        "plt.subplot(1, 2, 1)\n",
        "plt.title(\"Обучающая выборка\")\n",
        "plot_decision_boundary(model, X=X_train, y=y_train)\n",
        "plt.subplot(1, 2, 2)\n",
        "plt.title(\"Тестовая выборка\")\n",
        "plot_decision_boundary(model, X=X_test, y=y_test)"
      ],
      "metadata": {
        "colab": {
          "base_uri": "https://localhost:8080/",
          "height": 582
        },
        "id": "ROtR4znDN7VL",
        "outputId": "1091aa25-0102-4e29-91b7-c5e9afea5a48"
      },
      "execution_count": null,
      "outputs": [
        {
          "output_type": "stream",
          "name": "stdout",
          "text": [
            "313/313 [==============================] - 1s 3ms/step\n",
            "313/313 [==============================] - 1s 2ms/step\n"
          ]
        },
        {
          "output_type": "display_data",
          "data": {
            "text/plain": [
              "<Figure size 1200x600 with 2 Axes>"
            ],
            "image/png": "[encoded data removed]"
          },
          "metadata": {}
        }
      ]
    },
    {
      "cell_type": "markdown",
      "source": [
        "### Пункт 6\n"
      ],
      "metadata": {
        "id": "spJgGn0kEDY8"
      }
    },
    {
      "cell_type": "markdown",
      "source": [
        "Показатель  FPR  откладывается вдоль оси x, а показатель  TPR  – вдоль оси y. В результате получаем ROC кривую (кривую Лоренца)."
      ],
      "metadata": {
        "id": "fBHOVYTWPPXX"
      }
    },
    {
      "cell_type": "code",
      "source": [
        "y_pred = model.predict(X_test)\n",
        "fpr, tpr, thresholds = roc_curve(y_test, y_pred)\n",
        "\n",
        "plt.plot(fpr, tpr, color='green', lw=3)\n",
        "plt.title('ROC кривая', fontsize=20)\n",
        "# False Positive Rate\n",
        "plt.xlabel('Показатель FPR')\n",
        "# True Positive Rate\n",
        "plt.ylabel('Показатель TPR')\n",
        "plt.show()\n"
      ],
      "metadata": {
        "colab": {
          "base_uri": "https://localhost:8080/",
          "height": 498
        },
        "id": "pvFp3aGDPQJ0",
        "outputId": "547406c2-9a68-4673-a6a2-d5bd8c2253d4"
      },
      "execution_count": null,
      "outputs": [
        {
          "output_type": "stream",
          "name": "stdout",
          "text": [
            "5/5 [==============================] - 0s 3ms/step\n"
          ]
        },
        {
          "output_type": "display_data",
          "data": {
            "text/plain": [
              "<Figure size 640x480 with 1 Axes>"
            ],
            "image/png": "[encoded data removed]"
          },
          "metadata": {}
        }
      ]
    },
    {
      "cell_type": "markdown",
      "source": [
        "### Пункт 7"
      ],
      "metadata": {
        "id": "bm1n6_lfFs4c"
      }
    },
    {
      "cell_type": "code",
      "source": [
        "X = np.array(df_1.drop('species', axis=1))\n",
        "y = np.array(df['species'])\n",
        "\n",
        "X.shape"
      ],
      "metadata": {
        "colab": {
          "base_uri": "https://localhost:8080/"
        },
        "id": "pLzFNoxJSIxj",
        "outputId": "ba90255b-63c7-4e3a-c4fe-cfbf6418e102"
      },
      "execution_count": null,
      "outputs": [
        {
          "output_type": "execute_result",
          "data": {
            "text/plain": [
              "(334, 4)"
            ]
          },
          "metadata": {},
          "execution_count": 21
        }
      ]
    },
    {
      "cell_type": "code",
      "source": [
        "# Создадим и адаптируем слой нормализации для всех признаков:\n",
        "feature_normalizer = tf.keras.layers.Normalization(axis=None,input_shape=(X.shape[1],)) \n",
        "feature_normalizer.adapt(X)\n",
        "\n",
        "model_2 = tf.keras.Sequential([\n",
        "    feature_normalizer,\n",
        "    tf.keras.layers.Dense(1, activation='sigmoid')\n",
        "])\n",
        "\n",
        "model_2.summary()"
      ],
      "metadata": {
        "colab": {
          "base_uri": "https://localhost:8080/"
        },
        "id": "1C54B6HHSvqW",
        "outputId": "a4aac306-3cbc-4640-c57c-fbd55d0c1af6"
      },
      "execution_count": null,
      "outputs": [
        {
          "output_type": "stream",
          "name": "stdout",
          "text": [
            "Model: \"sequential_1\"\n",
            "_________________________________________________________________\n",
            " Layer (type)                Output Shape              Param #   \n",
            "=================================================================\n",
            " normalization_1 (Normalizat  (None, 4)                3         \n",
            " ion)                                                            \n",
            "                                                                 \n",
            " dense_5 (Dense)             (None, 1)                 5         \n",
            "                                                                 \n",
            "=================================================================\n",
            "Total params: 8\n",
            "Trainable params: 5\n",
            "Non-trainable params: 3\n",
            "_________________________________________________________________\n"
          ]
        }
      ]
    },
    {
      "cell_type": "code",
      "source": [
        "# Скомпилируем и обучим модель:\n",
        "model_2.compile(loss=tf.keras.losses.binary_crossentropy)\n",
        "model_2.fit(X, y, epochs=500, verbose=0);\n",
        "\n",
        "# Посмотрим на значения весов в выходном слое:\n",
        "model_2.layers[1].kernel"
      ],
      "metadata": {
        "colab": {
          "base_uri": "https://localhost:8080/"
        },
        "id": "klt7qURhUcrL",
        "outputId": "f2311285-9570-49c7-ed2d-05877a5348d0"
      },
      "execution_count": null,
      "outputs": [
        {
          "output_type": "execute_result",
          "data": {
            "text/plain": [
              "<tf.Variable 'dense_5/kernel:0' shape=(4, 1) dtype=float32, numpy=\n",
              "array([[ 4.988406  ],\n",
              "       [-2.1537004 ],\n",
              "       [ 0.8455459 ],\n",
              "       [-0.89959115]], dtype=float32)>"
            ]
          },
          "metadata": {},
          "execution_count": 23
        }
      ]
    },
    {
      "cell_type": "code",
      "source": [
        "df_1.columns"
      ],
      "metadata": {
        "colab": {
          "base_uri": "https://localhost:8080/"
        },
        "id": "nhjFhvVtclRj",
        "outputId": "b7f0318b-99db-447e-de92-be1c6febce48"
      },
      "execution_count": null,
      "outputs": [
        {
          "output_type": "execute_result",
          "data": {
            "text/plain": [
              "Index(['species', 'V0', 'V1', 'V2', 'V3'], dtype='object')"
            ]
          },
          "metadata": {},
          "execution_count": 24
        }
      ]
    },
    {
      "cell_type": "markdown",
      "source": [
        "### Пункт 8"
      ],
      "metadata": {
        "id": "pcb42ZFBLzaa"
      }
    },
    {
      "cell_type": "code",
      "source": [
        "fig = plt.figure(figsize=(12, 12))\n",
        "ax = fig.add_subplot(111, projection='3d')\n",
        "ax.scatter(df_1['V1'][y==0], df_1['V0'][y==0], df_1['V2'][y==0], c='r', marker='o', label='Low species')\n",
        "ax.scatter(df_1['V1'][y==1], df_1['V0'][y==1], df_1['V2'][y==1], c='b', marker='^', label='High species')\n",
        "\n",
        "# Подписываем оси и добавляем легенду\n",
        "ax.set_xlabel('V1')\n",
        "ax.set_ylabel('V0')\n",
        "ax.set_zlabel('V2')\n",
        "ax.legend()\n",
        "\n",
        "plt.show()"
      ],
      "metadata": {
        "colab": {
          "base_uri": "https://localhost:8080/",
          "height": 961
        },
        "id": "urKOhB_KUx0S",
        "outputId": "0e05be0b-232e-4fb9-dc35-d99e7deb44e8"
      },
      "execution_count": null,
      "outputs": [
        {
          "output_type": "display_data",
          "data": {
            "text/plain": [
              "<Figure size 1200x1200 with 1 Axes>"
            ],
            "image/png": "[encoded data removed]"
          },
          "metadata": {}
        }
      ]
    },
    {
      "cell_type": "markdown",
      "source": [
        "### Пункт 9"
      ],
      "metadata": {
        "id": "gvrazaDKSQHs"
      }
    },
    {
      "cell_type": "code",
      "source": [
        "from keras.utils import to_categorical\n",
        "\n",
        "X_train, X_test, y_train, y_test = train_test_split(df_1[[\"V0\",\"V1\",\"V2\",'V3']], to_categorical(df_1['species']), test_size=0.3, random_state=30)\n",
        "print(X_train.shape, y_test.shape)"
      ],
      "metadata": {
        "colab": {
          "base_uri": "https://localhost:8080/"
        },
        "id": "RU29FfNzjA80",
        "outputId": "11b65998-1e83-46cf-86fa-af96e1fc3677"
      },
      "execution_count": null,
      "outputs": [
        {
          "output_type": "stream",
          "name": "stdout",
          "text": [
            "(233, 4) (101, 3)\n"
          ]
        }
      ]
    },
    {
      "cell_type": "code",
      "source": [
        "feature_normalizer = tf.keras.layers.Normalization(axis=None,input_shape=(X_train.shape[1],)) \n",
        "feature_normalizer.adapt(X_train)\n",
        "\n",
        "model = tf.keras.Sequential([\n",
        "\n",
        "    feature_normalizer,\n",
        "    tf.keras.layers.Dense(64, activation='relu'),\n",
        "    tf.keras.layers.Dense(64, activation='relu'),\n",
        "    tf.keras.layers.Dense(64, activation='relu'),\n",
        "    tf.keras.layers.Dense(64, activation='relu'),\n",
        "    tf.keras.layers.Dense(3, activation='softmax')\n",
        "])\n",
        "\n",
        "model.summary()\n",
        "model.compile(\n",
        "    loss=tf.keras.losses.categorical_crossentropy,\n",
        "    optimizer=tf.keras.optimizers.Adam(learning_rate=1e-3),\n",
        "    metrics=[tf.keras.metrics.BinaryAccuracy(name='accuracy')]\n",
        ")\n",
        "\n",
        "\n",
        "history = model.fit(\n",
        "    X_train, y_train,\n",
        "    validation_data=(X_test,y_test),\n",
        "    epochs=50,\n",
        ")"
      ],
      "metadata": {
        "colab": {
          "base_uri": "https://localhost:8080/"
        },
        "id": "56epB2hVjn7T",
        "outputId": "db2d40fe-5873-4bf4-cfcb-ffff3c890306"
      },
      "execution_count": null,
      "outputs": [
        {
          "output_type": "stream",
          "name": "stdout",
          "text": [
            "Model: \"sequential_3\"\n",
            "_________________________________________________________________\n",
            " Layer (type)                Output Shape              Param #   \n",
            "=================================================================\n",
            " normalization_3 (Normalizat  (None, 4)                3         \n",
            " ion)                                                            \n",
            "                                                                 \n",
            " dense_11 (Dense)            (None, 64)                320       \n",
            "                                                                 \n",
            " dense_12 (Dense)            (None, 64)                4160      \n",
            "                                                                 \n",
            " dense_13 (Dense)            (None, 64)                4160      \n",
            "                                                                 \n",
            " dense_14 (Dense)            (None, 64)                4160      \n",
            "                                                                 \n",
            " dense_15 (Dense)            (None, 3)                 195       \n",
            "                                                                 \n",
            "=================================================================\n",
            "Total params: 12,998\n",
            "Trainable params: 12,995\n",
            "Non-trainable params: 3\n",
            "_________________________________________________________________\n",
            "Epoch 1/50\n",
            "8/8 [==============================] - 2s 47ms/step - loss: 1.0213 - accuracy: 0.6681 - val_loss: 0.9091 - val_accuracy: 0.7360\n",
            "Epoch 2/50\n",
            "8/8 [==============================] - 0s 8ms/step - loss: 0.8105 - accuracy: 0.7926 - val_loss: 0.7267 - val_accuracy: 0.7822\n",
            "Epoch 3/50\n",
            "8/8 [==============================] - 0s 8ms/step - loss: 0.5949 - accuracy: 0.8240 - val_loss: 0.5465 - val_accuracy: 0.8779\n",
            "Epoch 4/50\n",
            "8/8 [==============================] - 0s 8ms/step - loss: 0.3745 - accuracy: 0.9385 - val_loss: 0.3425 - val_accuracy: 0.9340\n",
            "Epoch 5/50\n",
            "8/8 [==============================] - 0s 11ms/step - loss: 0.1824 - accuracy: 0.9871 - val_loss: 0.1864 - val_accuracy: 0.9538\n",
            "Epoch 6/50\n",
            "8/8 [==============================] - 0s 10ms/step - loss: 0.0792 - accuracy: 1.0000 - val_loss: 0.1342 - val_accuracy: 0.9538\n",
            "Epoch 7/50\n",
            "8/8 [==============================] - 0s 11ms/step - loss: 0.0358 - accuracy: 1.0000 - val_loss: 0.1418 - val_accuracy: 0.9538\n",
            "Epoch 8/50\n",
            "8/8 [==============================] - 0s 8ms/step - loss: 0.0186 - accuracy: 1.0000 - val_loss: 0.1206 - val_accuracy: 0.9604\n",
            "Epoch 9/50\n",
            "8/8 [==============================] - 0s 12ms/step - loss: 0.0111 - accuracy: 1.0000 - val_loss: 0.1121 - val_accuracy: 0.9604\n",
            "Epoch 10/50\n",
            "8/8 [==============================] - 0s 8ms/step - loss: 0.0077 - accuracy: 1.0000 - val_loss: 0.1197 - val_accuracy: 0.9604\n",
            "Epoch 11/50\n",
            "8/8 [==============================] - 0s 9ms/step - loss: 0.0060 - accuracy: 1.0000 - val_loss: 0.1145 - val_accuracy: 0.9604\n",
            "Epoch 12/50\n",
            "8/8 [==============================] - 0s 10ms/step - loss: 0.0046 - accuracy: 1.0000 - val_loss: 0.1231 - val_accuracy: 0.9604\n",
            "Epoch 13/50\n",
            "8/8 [==============================] - 0s 8ms/step - loss: 0.0040 - accuracy: 1.0000 - val_loss: 0.1236 - val_accuracy: 0.9604\n",
            "Epoch 14/50\n",
            "8/8 [==============================] - 0s 8ms/step - loss: 0.0034 - accuracy: 1.0000 - val_loss: 0.1317 - val_accuracy: 0.9604\n",
            "Epoch 15/50\n",
            "8/8 [==============================] - 0s 8ms/step - loss: 0.0029 - accuracy: 1.0000 - val_loss: 0.1375 - val_accuracy: 0.9604\n",
            "Epoch 16/50\n",
            "8/8 [==============================] - 0s 8ms/step - loss: 0.0026 - accuracy: 1.0000 - val_loss: 0.1458 - val_accuracy: 0.9604\n",
            "Epoch 17/50\n",
            "8/8 [==============================] - 0s 10ms/step - loss: 0.0023 - accuracy: 1.0000 - val_loss: 0.1576 - val_accuracy: 0.9604\n",
            "Epoch 18/50\n",
            "8/8 [==============================] - 0s 9ms/step - loss: 0.0021 - accuracy: 1.0000 - val_loss: 0.1565 - val_accuracy: 0.9604\n",
            "Epoch 19/50\n",
            "8/8 [==============================] - 0s 9ms/step - loss: 0.0018 - accuracy: 1.0000 - val_loss: 0.1527 - val_accuracy: 0.9604\n",
            "Epoch 20/50\n",
            "8/8 [==============================] - 0s 9ms/step - loss: 0.0017 - accuracy: 1.0000 - val_loss: 0.1528 - val_accuracy: 0.9604\n",
            "Epoch 21/50\n",
            "8/8 [==============================] - 0s 11ms/step - loss: 0.0015 - accuracy: 1.0000 - val_loss: 0.1619 - val_accuracy: 0.9604\n",
            "Epoch 22/50\n",
            "8/8 [==============================] - 0s 10ms/step - loss: 0.0014 - accuracy: 1.0000 - val_loss: 0.1543 - val_accuracy: 0.9604\n",
            "Epoch 23/50\n",
            "8/8 [==============================] - 0s 10ms/step - loss: 0.0013 - accuracy: 1.0000 - val_loss: 0.1572 - val_accuracy: 0.9604\n",
            "Epoch 24/50\n",
            "8/8 [==============================] - 0s 9ms/step - loss: 0.0012 - accuracy: 1.0000 - val_loss: 0.1708 - val_accuracy: 0.9604\n",
            "Epoch 25/50\n",
            "8/8 [==============================] - 0s 8ms/step - loss: 0.0011 - accuracy: 1.0000 - val_loss: 0.1650 - val_accuracy: 0.9604\n",
            "Epoch 26/50\n",
            "8/8 [==============================] - 0s 6ms/step - loss: 9.8458e-04 - accuracy: 1.0000 - val_loss: 0.1641 - val_accuracy: 0.9604\n",
            "Epoch 27/50\n",
            "8/8 [==============================] - 0s 6ms/step - loss: 9.1854e-04 - accuracy: 1.0000 - val_loss: 0.1708 - val_accuracy: 0.9604\n",
            "Epoch 28/50\n",
            "8/8 [==============================] - 0s 8ms/step - loss: 8.4926e-04 - accuracy: 1.0000 - val_loss: 0.1863 - val_accuracy: 0.9604\n",
            "Epoch 29/50\n",
            "8/8 [==============================] - 0s 8ms/step - loss: 8.4178e-04 - accuracy: 1.0000 - val_loss: 0.1915 - val_accuracy: 0.9604\n",
            "Epoch 30/50\n",
            "8/8 [==============================] - 0s 6ms/step - loss: 7.1986e-04 - accuracy: 1.0000 - val_loss: 0.1833 - val_accuracy: 0.9604\n",
            "Epoch 31/50\n",
            "8/8 [==============================] - 0s 6ms/step - loss: 6.6805e-04 - accuracy: 1.0000 - val_loss: 0.1810 - val_accuracy: 0.9604\n",
            "Epoch 32/50\n",
            "8/8 [==============================] - 0s 6ms/step - loss: 6.4128e-04 - accuracy: 1.0000 - val_loss: 0.1833 - val_accuracy: 0.9604\n",
            "Epoch 33/50\n",
            "8/8 [==============================] - 0s 8ms/step - loss: 5.9894e-04 - accuracy: 1.0000 - val_loss: 0.1866 - val_accuracy: 0.9604\n",
            "Epoch 34/50\n",
            "8/8 [==============================] - 0s 8ms/step - loss: 5.5199e-04 - accuracy: 1.0000 - val_loss: 0.1966 - val_accuracy: 0.9604\n",
            "Epoch 35/50\n",
            "8/8 [==============================] - 0s 6ms/step - loss: 5.3133e-04 - accuracy: 1.0000 - val_loss: 0.2003 - val_accuracy: 0.9604\n",
            "Epoch 36/50\n",
            "8/8 [==============================] - 0s 6ms/step - loss: 5.1709e-04 - accuracy: 1.0000 - val_loss: 0.1920 - val_accuracy: 0.9604\n",
            "Epoch 37/50\n",
            "8/8 [==============================] - 0s 6ms/step - loss: 4.5660e-04 - accuracy: 1.0000 - val_loss: 0.1933 - val_accuracy: 0.9604\n",
            "Epoch 38/50\n",
            "8/8 [==============================] - 0s 6ms/step - loss: 4.2878e-04 - accuracy: 1.0000 - val_loss: 0.1947 - val_accuracy: 0.9604\n",
            "Epoch 39/50\n",
            "8/8 [==============================] - 0s 6ms/step - loss: 4.0859e-04 - accuracy: 1.0000 - val_loss: 0.1984 - val_accuracy: 0.9604\n",
            "Epoch 40/50\n",
            "8/8 [==============================] - 0s 8ms/step - loss: 3.8715e-04 - accuracy: 1.0000 - val_loss: 0.1974 - val_accuracy: 0.9604\n",
            "Epoch 41/50\n",
            "8/8 [==============================] - 0s 6ms/step - loss: 3.6137e-04 - accuracy: 1.0000 - val_loss: 0.1999 - val_accuracy: 0.9604\n",
            "Epoch 42/50\n",
            "8/8 [==============================] - 0s 6ms/step - loss: 3.4074e-04 - accuracy: 1.0000 - val_loss: 0.2036 - val_accuracy: 0.9604\n",
            "Epoch 43/50\n",
            "8/8 [==============================] - 0s 6ms/step - loss: 3.2650e-04 - accuracy: 1.0000 - val_loss: 0.2054 - val_accuracy: 0.9604\n",
            "Epoch 44/50\n",
            "8/8 [==============================] - 0s 6ms/step - loss: 3.1000e-04 - accuracy: 1.0000 - val_loss: 0.2067 - val_accuracy: 0.9604\n",
            "Epoch 45/50\n",
            "8/8 [==============================] - 0s 8ms/step - loss: 3.0414e-04 - accuracy: 1.0000 - val_loss: 0.2118 - val_accuracy: 0.9604\n",
            "Epoch 46/50\n",
            "8/8 [==============================] - 0s 8ms/step - loss: 2.8571e-04 - accuracy: 1.0000 - val_loss: 0.2088 - val_accuracy: 0.9604\n",
            "Epoch 47/50\n",
            "8/8 [==============================] - 0s 8ms/step - loss: 2.6887e-04 - accuracy: 1.0000 - val_loss: 0.2132 - val_accuracy: 0.9604\n",
            "Epoch 48/50\n",
            "8/8 [==============================] - 0s 8ms/step - loss: 2.5675e-04 - accuracy: 1.0000 - val_loss: 0.2172 - val_accuracy: 0.9604\n",
            "Epoch 49/50\n",
            "8/8 [==============================] - 0s 6ms/step - loss: 2.4302e-04 - accuracy: 1.0000 - val_loss: 0.2204 - val_accuracy: 0.9604\n",
            "Epoch 50/50\n",
            "8/8 [==============================] - 0s 6ms/step - loss: 2.3855e-04 - accuracy: 1.0000 - val_loss: 0.2236 - val_accuracy: 0.9604\n"
          ]
        }
      ]
    },
    {
      "cell_type": "markdown",
      "source": [
        "### Пункт 10"
      ],
      "metadata": {
        "id": "LFyY07KJjBaw"
      }
    },
    {
      "cell_type": "code",
      "source": [
        "epochs = range(1, len(history.history[\"loss\"]) + 1)\n",
        "plt.plot(epochs, history.history[\"loss\"],  label=\"Потери на обучающей выборке\")\n",
        "plt.plot(epochs, history.history[\"val_loss\"], label=\"Потери на тестовой выборке\")\n",
        "plt.title(\"Функция потерь\")\n",
        "plt.xlabel(\"Эпохи\")\n",
        "plt.ylabel(\"Функция потерь\")\n",
        "plt.legend();"
      ],
      "metadata": {
        "colab": {
          "base_uri": "https://localhost:8080/",
          "height": 472
        },
        "id": "LmD4Cy2vjE4_",
        "outputId": "af96d146-58c3-4917-f98c-a83d57574b2e"
      },
      "execution_count": null,
      "outputs": [
        {
          "output_type": "display_data",
          "data": {
            "text/plain": [
              "<Figure size 640x480 with 1 Axes>"
            ],
            "image/png": "[encoded data removed]"
          },
          "metadata": {}
        }
      ]
    }
  ]
}