{
  "nbformat": 4,
  "nbformat_minor": 0,
  "metadata": {
    "colab": {
      "provenance": []
    },
    "kernelspec": {
      "name": "python3",
      "display_name": "Python 3"
    },
    "language_info": {
      "name": "python"
    }
  },
  "cells": [
    {
      "cell_type": "markdown",
      "source": [
        "### РОССИЙСКИЙ УНИВЕРСИТЕТ ДРУЖБЫ НАРОДОВ\n",
        "\n",
        "#### Факультет физико-математических и естественных наук  \n",
        "#### Кафедра информационных технологий"
      ],
      "metadata": {
        "id": "po9gCnqlVdBk"
      }
    },
    {
      "cell_type": "markdown",
      "source": [
        "### ОТЧЕТ ПО ЛАБОРАТОРНОЙ РАБОТЕ № 1\n",
        "\n",
        "\n",
        "#### Дисциплина: Методы машинного обучения"
      ],
      "metadata": {
        "id": "wt0YJUzjVsJz"
      }
    },
    {
      "cell_type": "markdown",
      "source": [
        "##### Студент: Мухамедияр Адиль\n",
        "##### Группа: НКНбд-01-20"
      ],
      "metadata": {
        "id": "SUdyGbY4XwB3"
      }
    },
    {
      "cell_type": "markdown",
      "source": [
        "## Москва 2023\n",
        "***"
      ],
      "metadata": {
        "id": "f5EG4uRVWn9s"
      }
    },
    {
      "cell_type": "markdown",
      "source": [
        "# Вариант №7\n"
      ],
      "metadata": {
        "id": "gQ1qG1DPX27L"
      }
    },
    {
      "cell_type": "markdown",
      "source": [
        "### Постановка задачи:\n",
        "\n",
        "1. Набор данных: wine_quality \n",
        "\n",
        "2. Независимая переменная: features/density \n",
        "\n",
        "3. Зависимая переменная: features/alcohol \n",
        "\n",
        "4. Визуализация для независимой переменной – эмпирическая функция распределения \n",
        "\n",
        "5. Визуализация для зависимой переменной – диаграмма размаха \n",
        "\n",
        "6. Показатель качества регрессии – MSE (mean squared error) "
      ],
      "metadata": {
        "id": "uuzPdchPYVj9"
      }
    },
    {
      "cell_type": "markdown",
      "source": [
        "## Решение:"
      ],
      "metadata": {
        "id": "h5E8uWjFk_jH"
      }
    },
    {
      "cell_type": "markdown",
      "source": [
        "### Пункт 1"
      ],
      "metadata": {
        "id": "8_rN8BXwkNoR"
      }
    },
    {
      "cell_type": "markdown",
      "source": [
        "Исправляем ошибку при обращении к датасету:\n"
      ],
      "metadata": {
        "id": "wVTWRPKOfhDR"
      }
    },
    {
      "cell_type": "code",
      "source": [
        "!pip install -q tfds-nightly"
      ],
      "metadata": {
        "id": "WKAxCbGNfzhy"
      },
      "execution_count": 67,
      "outputs": []
    },
    {
      "cell_type": "markdown",
      "source": [
        "Добавляем библиотеки, которыми мы воспользуемся в дальнейшем:"
      ],
      "metadata": {
        "id": "F7qXz1m5fy69"
      }
    },
    {
      "cell_type": "code",
      "execution_count": 68,
      "metadata": {
        "id": "7upKfWfxsAhk"
      },
      "outputs": [],
      "source": [
        "import tensorflow_datasets as tfds\n",
        "import pandas as pd\n",
        "import tensorflow as tf\n",
        "import numpy as np\n",
        "from tensorflow.keras import regularizers\n",
        "from tensorflow.keras.layers import Input, Dense\n",
        "from sklearn.metrics import r2_score, mean_squared_error\n",
        "from sklearn.linear_model import LinearRegression\n",
        "from tensorflow.keras.layers.experimental import preprocessing\n",
        "from sklearn.model_selection import train_test_split\n",
        "import matplotlib.pyplot as plt\n",
        "import tensorflow_datasets as tfds\n",
        "from tensorflow.keras import models\n",
        "from tensorflow.keras import layers\n",
        "from tensorflow.keras.models import Model"
      ]
    },
    {
      "cell_type": "markdown",
      "source": [
        "Считываем из TFDS набор данных \"wine_quality\":"
      ],
      "metadata": {
        "id": "8WT6EW2PgOjE"
      }
    },
    {
      "cell_type": "code",
      "execution_count": 69,
      "metadata": {
        "id": "2JzBPaGis2kA",
        "colab": {
          "base_uri": "https://localhost:8080/",
          "height": 0
        },
        "outputId": "27e09863-a34a-4459-888a-319cd0a03d66"
      },
      "outputs": [
        {
          "output_type": "execute_result",
          "data": {
            "text/plain": [
              "<_PrefetchDataset element_spec={'features': {'alcohol': TensorSpec(shape=(), dtype=tf.float32, name=None), 'chlorides': TensorSpec(shape=(), dtype=tf.float32, name=None), 'citric acid': TensorSpec(shape=(), dtype=tf.float32, name=None), 'density': TensorSpec(shape=(), dtype=tf.float32, name=None), 'fixed acidity': TensorSpec(shape=(), dtype=tf.float32, name=None), 'free sulfur dioxide': TensorSpec(shape=(), dtype=tf.float32, name=None), 'pH': TensorSpec(shape=(), dtype=tf.float32, name=None), 'residual sugar': TensorSpec(shape=(), dtype=tf.float32, name=None), 'sulphates': TensorSpec(shape=(), dtype=tf.float64, name=None), 'total sulfur dioxide': TensorSpec(shape=(), dtype=tf.float32, name=None), 'volatile acidity': TensorSpec(shape=(), dtype=tf.float32, name=None)}, 'quality': TensorSpec(shape=(), dtype=tf.int32, name=None)}>"
            ]
          },
          "metadata": {},
          "execution_count": 69
        }
      ],
      "source": [
        "ds = tfds.load(\"wine_quality\", split='train') \n",
        "ds"
      ]
    },
    {
      "cell_type": "markdown",
      "source": [
        "Преобразуем объект PrefetchDataset в датафрейм:"
      ],
      "metadata": {
        "id": "d55TKo74lszr"
      }
    },
    {
      "cell_type": "code",
      "source": [
        "df = tfds.as_dataframe(ds)\n",
        "df.head()\n"
      ],
      "metadata": {
        "colab": {
          "base_uri": "https://localhost:8080/",
          "height": 250
        },
        "id": "z-HJ87bPqKjd",
        "outputId": "80b610c0-4a7c-47e8-fca5-4d289d9f2a4f"
      },
      "execution_count": 70,
      "outputs": [
        {
          "output_type": "execute_result",
          "data": {
            "text/plain": [
              "   features/alcohol  features/chlorides  features/citric acid  \\\n",
              "0               9.0               0.054                  0.34   \n",
              "1              12.2               0.063                  0.49   \n",
              "2              11.2               0.029                  0.11   \n",
              "3               9.0               0.110                  0.27   \n",
              "4              12.0               0.035                  0.30   \n",
              "\n",
              "   features/density  features/fixed acidity  features/free sulfur dioxide  \\\n",
              "0           1.00080                     7.6                          44.0   \n",
              "1           0.99110                     6.3                          35.0   \n",
              "2           0.99076                     5.3                           6.0   \n",
              "3           0.99672                     6.6                          20.0   \n",
              "4           0.99016                     5.9                          57.0   \n",
              "\n",
              "   features/pH  features/residual sugar  features/sulphates  \\\n",
              "0         3.22                    18.35                0.55   \n",
              "1         3.38                     1.20                0.42   \n",
              "2         3.51                     1.10                0.48   \n",
              "3         3.08                    10.70                0.41   \n",
              "4         3.09                     3.80                0.34   \n",
              "\n",
              "   features/total sulfur dioxide  features/volatile acidity  quality  \n",
              "0                          197.0                       0.32        5  \n",
              "1                           92.0                       0.27        6  \n",
              "2                           51.0                       0.43        4  \n",
              "3                          103.0                       0.41        6  \n",
              "4                          135.0                       0.34        6  "
            ],
            "text/html": [
              "\n",
              "  <div id=\"df-1206d34d-dc5a-4d92-90a5-a0df758686c2\">\n",
              "    <div class=\"colab-df-container\">\n",
              "      <div>\n",
              "<style scoped>\n",
              "    .dataframe tbody tr th:only-of-type {\n",
              "        vertical-align: middle;\n",
              "    }\n",
              "\n",
              "    .dataframe tbody tr th {\n",
              "        vertical-align: top;\n",
              "    }\n",
              "\n",
              "    .dataframe thead th {\n",
              "        text-align: right;\n",
              "    }\n",
              "</style>\n",
              "<table border=\"1\" class=\"dataframe\">\n",
              "  <thead>\n",
              "    <tr style=\"text-align: right;\">\n",
              "      <th></th>\n",
              "      <th>features/alcohol</th>\n",
              "      <th>features/chlorides</th>\n",
              "      <th>features/citric acid</th>\n",
              "      <th>features/density</th>\n",
              "      <th>features/fixed acidity</th>\n",
              "      <th>features/free sulfur dioxide</th>\n",
              "      <th>features/pH</th>\n",
              "      <th>features/residual sugar</th>\n",
              "      <th>features/sulphates</th>\n",
              "      <th>features/total sulfur dioxide</th>\n",
              "      <th>features/volatile acidity</th>\n",
              "      <th>quality</th>\n",
              "    </tr>\n",
              "  </thead>\n",
              "  <tbody>\n",
              "    <tr>\n",
              "      <th>0</th>\n",
              "      <td>9.0</td>\n",
              "      <td>0.054</td>\n",
              "      <td>0.34</td>\n",
              "      <td>1.00080</td>\n",
              "      <td>7.6</td>\n",
              "      <td>44.0</td>\n",
              "      <td>3.22</td>\n",
              "      <td>18.35</td>\n",
              "      <td>0.55</td>\n",
              "      <td>197.0</td>\n",
              "      <td>0.32</td>\n",
              "      <td>5</td>\n",
              "    </tr>\n",
              "    <tr>\n",
              "      <th>1</th>\n",
              "      <td>12.2</td>\n",
              "      <td>0.063</td>\n",
              "      <td>0.49</td>\n",
              "      <td>0.99110</td>\n",
              "      <td>6.3</td>\n",
              "      <td>35.0</td>\n",
              "      <td>3.38</td>\n",
              "      <td>1.20</td>\n",
              "      <td>0.42</td>\n",
              "      <td>92.0</td>\n",
              "      <td>0.27</td>\n",
              "      <td>6</td>\n",
              "    </tr>\n",
              "    <tr>\n",
              "      <th>2</th>\n",
              "      <td>11.2</td>\n",
              "      <td>0.029</td>\n",
              "      <td>0.11</td>\n",
              "      <td>0.99076</td>\n",
              "      <td>5.3</td>\n",
              "      <td>6.0</td>\n",
              "      <td>3.51</td>\n",
              "      <td>1.10</td>\n",
              "      <td>0.48</td>\n",
              "      <td>51.0</td>\n",
              "      <td>0.43</td>\n",
              "      <td>4</td>\n",
              "    </tr>\n",
              "    <tr>\n",
              "      <th>3</th>\n",
              "      <td>9.0</td>\n",
              "      <td>0.110</td>\n",
              "      <td>0.27</td>\n",
              "      <td>0.99672</td>\n",
              "      <td>6.6</td>\n",
              "      <td>20.0</td>\n",
              "      <td>3.08</td>\n",
              "      <td>10.70</td>\n",
              "      <td>0.41</td>\n",
              "      <td>103.0</td>\n",
              "      <td>0.41</td>\n",
              "      <td>6</td>\n",
              "    </tr>\n",
              "    <tr>\n",
              "      <th>4</th>\n",
              "      <td>12.0</td>\n",
              "      <td>0.035</td>\n",
              "      <td>0.30</td>\n",
              "      <td>0.99016</td>\n",
              "      <td>5.9</td>\n",
              "      <td>57.0</td>\n",
              "      <td>3.09</td>\n",
              "      <td>3.80</td>\n",
              "      <td>0.34</td>\n",
              "      <td>135.0</td>\n",
              "      <td>0.34</td>\n",
              "      <td>6</td>\n",
              "    </tr>\n",
              "  </tbody>\n",
              "</table>\n",
              "</div>\n",
              "      <button class=\"colab-df-convert\" onclick=\"convertToInteractive('df-1206d34d-dc5a-4d92-90a5-a0df758686c2')\"\n",
              "              title=\"Convert this dataframe to an interactive table.\"\n",
              "              style=\"display:none;\">\n",
              "        \n",
              "  <svg xmlns=\"http://www.w3.org/2000/svg\" height=\"24px\"viewBox=\"0 0 24 24\"\n",
              "       width=\"24px\">\n",
              "    <path d=\"M0 0h24v24H0V0z\" fill=\"none\"/>\n",
              "    <path d=\"M18.56 5.44l.94 2.06.94-2.06 2.06-.94-2.06-.94-.94-2.06-.94 2.06-2.06.94zm-11 1L8.5 8.5l.94-2.06 2.06-.94-2.06-.94L8.5 2.5l-.94 2.06-2.06.94zm10 10l.94 2.06.94-2.06 2.06-.94-2.06-.94-.94-2.06-.94 2.06-2.06.94z\"/><path d=\"M17.41 7.96l-1.37-1.37c-.4-.4-.92-.59-1.43-.59-.52 0-1.04.2-1.43.59L10.3 9.45l-7.72 7.72c-.78.78-.78 2.05 0 2.83L4 21.41c.39.39.9.59 1.41.59.51 0 1.02-.2 1.41-.59l7.78-7.78 2.81-2.81c.8-.78.8-2.07 0-2.86zM5.41 20L4 18.59l7.72-7.72 1.47 1.35L5.41 20z\"/>\n",
              "  </svg>\n",
              "      </button>\n",
              "      \n",
              "  <style>\n",
              "    .colab-df-container {\n",
              "      display:flex;\n",
              "      flex-wrap:wrap;\n",
              "      gap: 12px;\n",
              "    }\n",
              "\n",
              "    .colab-df-convert {\n",
              "      background-color: #E8F0FE;\n",
              "      border: none;\n",
              "      border-radius: 50%;\n",
              "      cursor: pointer;\n",
              "      display: none;\n",
              "      fill: #1967D2;\n",
              "      height: 32px;\n",
              "      padding: 0 0 0 0;\n",
              "      width: 32px;\n",
              "    }\n",
              "\n",
              "    .colab-df-convert:hover {\n",
              "      background-color: #E2EBFA;\n",
              "      box-shadow: 0px 1px 2px rgba(60, 64, 67, 0.3), 0px 1px 3px 1px rgba(60, 64, 67, 0.15);\n",
              "      fill: #174EA6;\n",
              "    }\n",
              "\n",
              "    [theme=dark] .colab-df-convert {\n",
              "      background-color: #3B4455;\n",
              "      fill: #D2E3FC;\n",
              "    }\n",
              "\n",
              "    [theme=dark] .colab-df-convert:hover {\n",
              "      background-color: #434B5C;\n",
              "      box-shadow: 0px 1px 3px 1px rgba(0, 0, 0, 0.15);\n",
              "      filter: drop-shadow(0px 1px 2px rgba(0, 0, 0, 0.3));\n",
              "      fill: #FFFFFF;\n",
              "    }\n",
              "  </style>\n",
              "\n",
              "      <script>\n",
              "        const buttonEl =\n",
              "          document.querySelector('#df-1206d34d-dc5a-4d92-90a5-a0df758686c2 button.colab-df-convert');\n",
              "        buttonEl.style.display =\n",
              "          google.colab.kernel.accessAllowed ? 'block' : 'none';\n",
              "\n",
              "        async function convertToInteractive(key) {\n",
              "          const element = document.querySelector('#df-1206d34d-dc5a-4d92-90a5-a0df758686c2');\n",
              "          const dataTable =\n",
              "            await google.colab.kernel.invokeFunction('convertToInteractive',\n",
              "                                                     [key], {});\n",
              "          if (!dataTable) return;\n",
              "\n",
              "          const docLinkHtml = 'Like what you see? Visit the ' +\n",
              "            '<a target=\"_blank\" href=https://colab.research.google.com/notebooks/data_table.ipynb>data table notebook</a>'\n",
              "            + ' to learn more about interactive tables.';\n",
              "          element.innerHTML = '';\n",
              "          dataTable['output_type'] = 'display_data';\n",
              "          await google.colab.output.renderOutput(dataTable, element);\n",
              "          const docLink = document.createElement('div');\n",
              "          docLink.innerHTML = docLinkHtml;\n",
              "          element.appendChild(docLink);\n",
              "        }\n",
              "      </script>\n",
              "    </div>\n",
              "  </div>\n",
              "  "
            ]
          },
          "metadata": {},
          "execution_count": 70
        }
      ]
    },
    {
      "cell_type": "markdown",
      "source": [
        "Удаляем ненужные столбцы из датафрейма:\n"
      ],
      "metadata": {
        "id": "70J8bLC1lyND"
      }
    },
    {
      "cell_type": "code",
      "source": [
        "df.drop(columns=['features/chlorides', 'features/fixed acidity', 'features/citric acid', 'features/residual sugar', 'features/sulphates', 'features/total sulfur dioxide', 'features/volatile acidity', 'features/free sulfur dioxide', 'features/pH', 'quality'],inplace=True)\n",
        "df.head()"
      ],
      "metadata": {
        "colab": {
          "base_uri": "https://localhost:8080/",
          "height": 206
        },
        "id": "SXRzq-6qwEY8",
        "outputId": "e290b41b-ee54-4484-8c73-62d00c586baa"
      },
      "execution_count": 71,
      "outputs": [
        {
          "output_type": "execute_result",
          "data": {
            "text/plain": [
              "   features/alcohol  features/density\n",
              "0               9.0           1.00080\n",
              "1              12.2           0.99110\n",
              "2              11.2           0.99076\n",
              "3               9.0           0.99672\n",
              "4              12.0           0.99016"
            ],
            "text/html": [
              "\n",
              "  <div id=\"df-e2073288-037c-42e0-b7fa-70942ac8a2b7\">\n",
              "    <div class=\"colab-df-container\">\n",
              "      <div>\n",
              "<style scoped>\n",
              "    .dataframe tbody tr th:only-of-type {\n",
              "        vertical-align: middle;\n",
              "    }\n",
              "\n",
              "    .dataframe tbody tr th {\n",
              "        vertical-align: top;\n",
              "    }\n",
              "\n",
              "    .dataframe thead th {\n",
              "        text-align: right;\n",
              "    }\n",
              "</style>\n",
              "<table border=\"1\" class=\"dataframe\">\n",
              "  <thead>\n",
              "    <tr style=\"text-align: right;\">\n",
              "      <th></th>\n",
              "      <th>features/alcohol</th>\n",
              "      <th>features/density</th>\n",
              "    </tr>\n",
              "  </thead>\n",
              "  <tbody>\n",
              "    <tr>\n",
              "      <th>0</th>\n",
              "      <td>9.0</td>\n",
              "      <td>1.00080</td>\n",
              "    </tr>\n",
              "    <tr>\n",
              "      <th>1</th>\n",
              "      <td>12.2</td>\n",
              "      <td>0.99110</td>\n",
              "    </tr>\n",
              "    <tr>\n",
              "      <th>2</th>\n",
              "      <td>11.2</td>\n",
              "      <td>0.99076</td>\n",
              "    </tr>\n",
              "    <tr>\n",
              "      <th>3</th>\n",
              "      <td>9.0</td>\n",
              "      <td>0.99672</td>\n",
              "    </tr>\n",
              "    <tr>\n",
              "      <th>4</th>\n",
              "      <td>12.0</td>\n",
              "      <td>0.99016</td>\n",
              "    </tr>\n",
              "  </tbody>\n",
              "</table>\n",
              "</div>\n",
              "      <button class=\"colab-df-convert\" onclick=\"convertToInteractive('df-e2073288-037c-42e0-b7fa-70942ac8a2b7')\"\n",
              "              title=\"Convert this dataframe to an interactive table.\"\n",
              "              style=\"display:none;\">\n",
              "        \n",
              "  <svg xmlns=\"http://www.w3.org/2000/svg\" height=\"24px\"viewBox=\"0 0 24 24\"\n",
              "       width=\"24px\">\n",
              "    <path d=\"M0 0h24v24H0V0z\" fill=\"none\"/>\n",
              "    <path d=\"M18.56 5.44l.94 2.06.94-2.06 2.06-.94-2.06-.94-.94-2.06-.94 2.06-2.06.94zm-11 1L8.5 8.5l.94-2.06 2.06-.94-2.06-.94L8.5 2.5l-.94 2.06-2.06.94zm10 10l.94 2.06.94-2.06 2.06-.94-2.06-.94-.94-2.06-.94 2.06-2.06.94z\"/><path d=\"M17.41 7.96l-1.37-1.37c-.4-.4-.92-.59-1.43-.59-.52 0-1.04.2-1.43.59L10.3 9.45l-7.72 7.72c-.78.78-.78 2.05 0 2.83L4 21.41c.39.39.9.59 1.41.59.51 0 1.02-.2 1.41-.59l7.78-7.78 2.81-2.81c.8-.78.8-2.07 0-2.86zM5.41 20L4 18.59l7.72-7.72 1.47 1.35L5.41 20z\"/>\n",
              "  </svg>\n",
              "      </button>\n",
              "      \n",
              "  <style>\n",
              "    .colab-df-container {\n",
              "      display:flex;\n",
              "      flex-wrap:wrap;\n",
              "      gap: 12px;\n",
              "    }\n",
              "\n",
              "    .colab-df-convert {\n",
              "      background-color: #E8F0FE;\n",
              "      border: none;\n",
              "      border-radius: 50%;\n",
              "      cursor: pointer;\n",
              "      display: none;\n",
              "      fill: #1967D2;\n",
              "      height: 32px;\n",
              "      padding: 0 0 0 0;\n",
              "      width: 32px;\n",
              "    }\n",
              "\n",
              "    .colab-df-convert:hover {\n",
              "      background-color: #E2EBFA;\n",
              "      box-shadow: 0px 1px 2px rgba(60, 64, 67, 0.3), 0px 1px 3px 1px rgba(60, 64, 67, 0.15);\n",
              "      fill: #174EA6;\n",
              "    }\n",
              "\n",
              "    [theme=dark] .colab-df-convert {\n",
              "      background-color: #3B4455;\n",
              "      fill: #D2E3FC;\n",
              "    }\n",
              "\n",
              "    [theme=dark] .colab-df-convert:hover {\n",
              "      background-color: #434B5C;\n",
              "      box-shadow: 0px 1px 3px 1px rgba(0, 0, 0, 0.15);\n",
              "      filter: drop-shadow(0px 1px 2px rgba(0, 0, 0, 0.3));\n",
              "      fill: #FFFFFF;\n",
              "    }\n",
              "  </style>\n",
              "\n",
              "      <script>\n",
              "        const buttonEl =\n",
              "          document.querySelector('#df-e2073288-037c-42e0-b7fa-70942ac8a2b7 button.colab-df-convert');\n",
              "        buttonEl.style.display =\n",
              "          google.colab.kernel.accessAllowed ? 'block' : 'none';\n",
              "\n",
              "        async function convertToInteractive(key) {\n",
              "          const element = document.querySelector('#df-e2073288-037c-42e0-b7fa-70942ac8a2b7');\n",
              "          const dataTable =\n",
              "            await google.colab.kernel.invokeFunction('convertToInteractive',\n",
              "                                                     [key], {});\n",
              "          if (!dataTable) return;\n",
              "\n",
              "          const docLinkHtml = 'Like what you see? Visit the ' +\n",
              "            '<a target=\"_blank\" href=https://colab.research.google.com/notebooks/data_table.ipynb>data table notebook</a>'\n",
              "            + ' to learn more about interactive tables.';\n",
              "          element.innerHTML = '';\n",
              "          dataTable['output_type'] = 'display_data';\n",
              "          await google.colab.output.renderOutput(dataTable, element);\n",
              "          const docLink = document.createElement('div');\n",
              "          docLink.innerHTML = docLinkHtml;\n",
              "          element.appendChild(docLink);\n",
              "        }\n",
              "      </script>\n",
              "    </div>\n",
              "  </div>\n",
              "  "
            ]
          },
          "metadata": {},
          "execution_count": 71
        }
      ]
    },
    {
      "cell_type": "markdown",
      "source": [
        "Вычислим матрицу корреляции признаков:"
      ],
      "metadata": {
        "id": "hOS-5EI-mopO"
      }
    },
    {
      "cell_type": "code",
      "source": [
        "df.corr()"
      ],
      "metadata": {
        "colab": {
          "base_uri": "https://localhost:8080/",
          "height": 112
        },
        "id": "dRdUE7dp3aJH",
        "outputId": "ab43e120-c49c-4466-eb97-264f5b52ecc9"
      },
      "execution_count": 72,
      "outputs": [
        {
          "output_type": "execute_result",
          "data": {
            "text/plain": [
              "                  features/alcohol  features/density\n",
              "features/alcohol          1.000000         -0.780138\n",
              "features/density         -0.780138          1.000000"
            ],
            "text/html": [
              "\n",
              "  <div id=\"df-3161c023-5aa1-42f5-b9db-8e64155eb7b9\">\n",
              "    <div class=\"colab-df-container\">\n",
              "      <div>\n",
              "<style scoped>\n",
              "    .dataframe tbody tr th:only-of-type {\n",
              "        vertical-align: middle;\n",
              "    }\n",
              "\n",
              "    .dataframe tbody tr th {\n",
              "        vertical-align: top;\n",
              "    }\n",
              "\n",
              "    .dataframe thead th {\n",
              "        text-align: right;\n",
              "    }\n",
              "</style>\n",
              "<table border=\"1\" class=\"dataframe\">\n",
              "  <thead>\n",
              "    <tr style=\"text-align: right;\">\n",
              "      <th></th>\n",
              "      <th>features/alcohol</th>\n",
              "      <th>features/density</th>\n",
              "    </tr>\n",
              "  </thead>\n",
              "  <tbody>\n",
              "    <tr>\n",
              "      <th>features/alcohol</th>\n",
              "      <td>1.000000</td>\n",
              "      <td>-0.780138</td>\n",
              "    </tr>\n",
              "    <tr>\n",
              "      <th>features/density</th>\n",
              "      <td>-0.780138</td>\n",
              "      <td>1.000000</td>\n",
              "    </tr>\n",
              "  </tbody>\n",
              "</table>\n",
              "</div>\n",
              "      <button class=\"colab-df-convert\" onclick=\"convertToInteractive('df-3161c023-5aa1-42f5-b9db-8e64155eb7b9')\"\n",
              "              title=\"Convert this dataframe to an interactive table.\"\n",
              "              style=\"display:none;\">\n",
              "        \n",
              "  <svg xmlns=\"http://www.w3.org/2000/svg\" height=\"24px\"viewBox=\"0 0 24 24\"\n",
              "       width=\"24px\">\n",
              "    <path d=\"M0 0h24v24H0V0z\" fill=\"none\"/>\n",
              "    <path d=\"M18.56 5.44l.94 2.06.94-2.06 2.06-.94-2.06-.94-.94-2.06-.94 2.06-2.06.94zm-11 1L8.5 8.5l.94-2.06 2.06-.94-2.06-.94L8.5 2.5l-.94 2.06-2.06.94zm10 10l.94 2.06.94-2.06 2.06-.94-2.06-.94-.94-2.06-.94 2.06-2.06.94z\"/><path d=\"M17.41 7.96l-1.37-1.37c-.4-.4-.92-.59-1.43-.59-.52 0-1.04.2-1.43.59L10.3 9.45l-7.72 7.72c-.78.78-.78 2.05 0 2.83L4 21.41c.39.39.9.59 1.41.59.51 0 1.02-.2 1.41-.59l7.78-7.78 2.81-2.81c.8-.78.8-2.07 0-2.86zM5.41 20L4 18.59l7.72-7.72 1.47 1.35L5.41 20z\"/>\n",
              "  </svg>\n",
              "      </button>\n",
              "      \n",
              "  <style>\n",
              "    .colab-df-container {\n",
              "      display:flex;\n",
              "      flex-wrap:wrap;\n",
              "      gap: 12px;\n",
              "    }\n",
              "\n",
              "    .colab-df-convert {\n",
              "      background-color: #E8F0FE;\n",
              "      border: none;\n",
              "      border-radius: 50%;\n",
              "      cursor: pointer;\n",
              "      display: none;\n",
              "      fill: #1967D2;\n",
              "      height: 32px;\n",
              "      padding: 0 0 0 0;\n",
              "      width: 32px;\n",
              "    }\n",
              "\n",
              "    .colab-df-convert:hover {\n",
              "      background-color: #E2EBFA;\n",
              "      box-shadow: 0px 1px 2px rgba(60, 64, 67, 0.3), 0px 1px 3px 1px rgba(60, 64, 67, 0.15);\n",
              "      fill: #174EA6;\n",
              "    }\n",
              "\n",
              "    [theme=dark] .colab-df-convert {\n",
              "      background-color: #3B4455;\n",
              "      fill: #D2E3FC;\n",
              "    }\n",
              "\n",
              "    [theme=dark] .colab-df-convert:hover {\n",
              "      background-color: #434B5C;\n",
              "      box-shadow: 0px 1px 3px 1px rgba(0, 0, 0, 0.15);\n",
              "      filter: drop-shadow(0px 1px 2px rgba(0, 0, 0, 0.3));\n",
              "      fill: #FFFFFF;\n",
              "    }\n",
              "  </style>\n",
              "\n",
              "      <script>\n",
              "        const buttonEl =\n",
              "          document.querySelector('#df-3161c023-5aa1-42f5-b9db-8e64155eb7b9 button.colab-df-convert');\n",
              "        buttonEl.style.display =\n",
              "          google.colab.kernel.accessAllowed ? 'block' : 'none';\n",
              "\n",
              "        async function convertToInteractive(key) {\n",
              "          const element = document.querySelector('#df-3161c023-5aa1-42f5-b9db-8e64155eb7b9');\n",
              "          const dataTable =\n",
              "            await google.colab.kernel.invokeFunction('convertToInteractive',\n",
              "                                                     [key], {});\n",
              "          if (!dataTable) return;\n",
              "\n",
              "          const docLinkHtml = 'Like what you see? Visit the ' +\n",
              "            '<a target=\"_blank\" href=https://colab.research.google.com/notebooks/data_table.ipynb>data table notebook</a>'\n",
              "            + ' to learn more about interactive tables.';\n",
              "          element.innerHTML = '';\n",
              "          dataTable['output_type'] = 'display_data';\n",
              "          await google.colab.output.renderOutput(dataTable, element);\n",
              "          const docLink = document.createElement('div');\n",
              "          docLink.innerHTML = docLinkHtml;\n",
              "          element.appendChild(docLink);\n",
              "        }\n",
              "      </script>\n",
              "    </div>\n",
              "  </div>\n",
              "  "
            ]
          },
          "metadata": {},
          "execution_count": 72
        }
      ]
    },
    {
      "cell_type": "markdown",
      "source": [
        "Прошу заметить что наибольшее значение корреляции имеет одна пара признаков, а именно элементы матрицы с индексами 11 и 22 *(равна 1.000000)*. Так же наименьшее значение одна пара признаков, а именно элементы матрицы с индексами 12 и 21 *(равна -0.780138)*."
      ],
      "metadata": {
        "id": "awIBZ52SnLri"
      }
    },
    {
      "cell_type": "markdown",
      "source": [
        "### Пункт 2"
      ],
      "metadata": {
        "id": "X8blZGshomxo"
      }
    },
    {
      "cell_type": "code",
      "source": [
        "def ECDF(data, x):\n",
        "    counter = 0\n",
        "    for v in data:\n",
        "        if v <= x:\n",
        "            counter += 1\n",
        "    return counter / len(data)"
      ],
      "metadata": {
        "id": "lF1b1pabuQ-g"
      },
      "execution_count": 73,
      "outputs": []
    },
    {
      "cell_type": "code",
      "source": [
        "samples = df['features/alcohol'] # sepal length\n",
        "npoints = 500\n",
        "dx = (samples.max()-samples.min())/npoints\n",
        "\n",
        "xlist = [samples.min()+dx*i for i in range(npoints)]\n",
        "ylist = [ECDF(samples, x) for x in xlist]"
      ],
      "metadata": {
        "id": "q0aWYhC0uRin"
      },
      "execution_count": 74,
      "outputs": []
    },
    {
      "cell_type": "code",
      "source": [
        "df_ECDF = pd.DataFrame(ylist, columns=['features/alcohol'],index=xlist)\n",
        "df_ECDF\n"
      ],
      "metadata": {
        "colab": {
          "base_uri": "https://localhost:8080/",
          "height": 423
        },
        "id": "K_woyEcAvH5X",
        "outputId": "f07d9b2f-1150-4269-ae6a-264287b0ca93"
      },
      "execution_count": 75,
      "outputs": [
        {
          "output_type": "execute_result",
          "data": {
            "text/plain": [
              "         features/alcohol\n",
              "8.0000           0.000408\n",
              "8.0124           0.000408\n",
              "8.0248           0.000408\n",
              "8.0372           0.000408\n",
              "8.0496           0.000408\n",
              "...                   ...\n",
              "14.1380          0.999796\n",
              "14.1504          0.999796\n",
              "14.1628          0.999796\n",
              "14.1752          0.999796\n",
              "14.1876          0.999796\n",
              "\n",
              "[500 rows x 1 columns]"
            ],
            "text/html": [
              "\n",
              "  <div id=\"df-2a5a2989-4376-4c91-bd8a-064ed928cf3b\">\n",
              "    <div class=\"colab-df-container\">\n",
              "      <div>\n",
              "<style scoped>\n",
              "    .dataframe tbody tr th:only-of-type {\n",
              "        vertical-align: middle;\n",
              "    }\n",
              "\n",
              "    .dataframe tbody tr th {\n",
              "        vertical-align: top;\n",
              "    }\n",
              "\n",
              "    .dataframe thead th {\n",
              "        text-align: right;\n",
              "    }\n",
              "</style>\n",
              "<table border=\"1\" class=\"dataframe\">\n",
              "  <thead>\n",
              "    <tr style=\"text-align: right;\">\n",
              "      <th></th>\n",
              "      <th>features/alcohol</th>\n",
              "    </tr>\n",
              "  </thead>\n",
              "  <tbody>\n",
              "    <tr>\n",
              "      <th>8.0000</th>\n",
              "      <td>0.000408</td>\n",
              "    </tr>\n",
              "    <tr>\n",
              "      <th>8.0124</th>\n",
              "      <td>0.000408</td>\n",
              "    </tr>\n",
              "    <tr>\n",
              "      <th>8.0248</th>\n",
              "      <td>0.000408</td>\n",
              "    </tr>\n",
              "    <tr>\n",
              "      <th>8.0372</th>\n",
              "      <td>0.000408</td>\n",
              "    </tr>\n",
              "    <tr>\n",
              "      <th>8.0496</th>\n",
              "      <td>0.000408</td>\n",
              "    </tr>\n",
              "    <tr>\n",
              "      <th>...</th>\n",
              "      <td>...</td>\n",
              "    </tr>\n",
              "    <tr>\n",
              "      <th>14.1380</th>\n",
              "      <td>0.999796</td>\n",
              "    </tr>\n",
              "    <tr>\n",
              "      <th>14.1504</th>\n",
              "      <td>0.999796</td>\n",
              "    </tr>\n",
              "    <tr>\n",
              "      <th>14.1628</th>\n",
              "      <td>0.999796</td>\n",
              "    </tr>\n",
              "    <tr>\n",
              "      <th>14.1752</th>\n",
              "      <td>0.999796</td>\n",
              "    </tr>\n",
              "    <tr>\n",
              "      <th>14.1876</th>\n",
              "      <td>0.999796</td>\n",
              "    </tr>\n",
              "  </tbody>\n",
              "</table>\n",
              "<p>500 rows × 1 columns</p>\n",
              "</div>\n",
              "      <button class=\"colab-df-convert\" onclick=\"convertToInteractive('df-2a5a2989-4376-4c91-bd8a-064ed928cf3b')\"\n",
              "              title=\"Convert this dataframe to an interactive table.\"\n",
              "              style=\"display:none;\">\n",
              "        \n",
              "  <svg xmlns=\"http://www.w3.org/2000/svg\" height=\"24px\"viewBox=\"0 0 24 24\"\n",
              "       width=\"24px\">\n",
              "    <path d=\"M0 0h24v24H0V0z\" fill=\"none\"/>\n",
              "    <path d=\"M18.56 5.44l.94 2.06.94-2.06 2.06-.94-2.06-.94-.94-2.06-.94 2.06-2.06.94zm-11 1L8.5 8.5l.94-2.06 2.06-.94-2.06-.94L8.5 2.5l-.94 2.06-2.06.94zm10 10l.94 2.06.94-2.06 2.06-.94-2.06-.94-.94-2.06-.94 2.06-2.06.94z\"/><path d=\"M17.41 7.96l-1.37-1.37c-.4-.4-.92-.59-1.43-.59-.52 0-1.04.2-1.43.59L10.3 9.45l-7.72 7.72c-.78.78-.78 2.05 0 2.83L4 21.41c.39.39.9.59 1.41.59.51 0 1.02-.2 1.41-.59l7.78-7.78 2.81-2.81c.8-.78.8-2.07 0-2.86zM5.41 20L4 18.59l7.72-7.72 1.47 1.35L5.41 20z\"/>\n",
              "  </svg>\n",
              "      </button>\n",
              "      \n",
              "  <style>\n",
              "    .colab-df-container {\n",
              "      display:flex;\n",
              "      flex-wrap:wrap;\n",
              "      gap: 12px;\n",
              "    }\n",
              "\n",
              "    .colab-df-convert {\n",
              "      background-color: #E8F0FE;\n",
              "      border: none;\n",
              "      border-radius: 50%;\n",
              "      cursor: pointer;\n",
              "      display: none;\n",
              "      fill: #1967D2;\n",
              "      height: 32px;\n",
              "      padding: 0 0 0 0;\n",
              "      width: 32px;\n",
              "    }\n",
              "\n",
              "    .colab-df-convert:hover {\n",
              "      background-color: #E2EBFA;\n",
              "      box-shadow: 0px 1px 2px rgba(60, 64, 67, 0.3), 0px 1px 3px 1px rgba(60, 64, 67, 0.15);\n",
              "      fill: #174EA6;\n",
              "    }\n",
              "\n",
              "    [theme=dark] .colab-df-convert {\n",
              "      background-color: #3B4455;\n",
              "      fill: #D2E3FC;\n",
              "    }\n",
              "\n",
              "    [theme=dark] .colab-df-convert:hover {\n",
              "      background-color: #434B5C;\n",
              "      box-shadow: 0px 1px 3px 1px rgba(0, 0, 0, 0.15);\n",
              "      filter: drop-shadow(0px 1px 2px rgba(0, 0, 0, 0.3));\n",
              "      fill: #FFFFFF;\n",
              "    }\n",
              "  </style>\n",
              "\n",
              "      <script>\n",
              "        const buttonEl =\n",
              "          document.querySelector('#df-2a5a2989-4376-4c91-bd8a-064ed928cf3b button.colab-df-convert');\n",
              "        buttonEl.style.display =\n",
              "          google.colab.kernel.accessAllowed ? 'block' : 'none';\n",
              "\n",
              "        async function convertToInteractive(key) {\n",
              "          const element = document.querySelector('#df-2a5a2989-4376-4c91-bd8a-064ed928cf3b');\n",
              "          const dataTable =\n",
              "            await google.colab.kernel.invokeFunction('convertToInteractive',\n",
              "                                                     [key], {});\n",
              "          if (!dataTable) return;\n",
              "\n",
              "          const docLinkHtml = 'Like what you see? Visit the ' +\n",
              "            '<a target=\"_blank\" href=https://colab.research.google.com/notebooks/data_table.ipynb>data table notebook</a>'\n",
              "            + ' to learn more about interactive tables.';\n",
              "          element.innerHTML = '';\n",
              "          dataTable['output_type'] = 'display_data';\n",
              "          await google.colab.output.renderOutput(dataTable, element);\n",
              "          const docLink = document.createElement('div');\n",
              "          docLink.innerHTML = docLinkHtml;\n",
              "          element.appendChild(docLink);\n",
              "        }\n",
              "      </script>\n",
              "    </div>\n",
              "  </div>\n",
              "  "
            ]
          },
          "metadata": {},
          "execution_count": 75
        }
      ]
    },
    {
      "cell_type": "markdown",
      "source": [
        "Визуализируем эмпирическую функцию распределения для независимой переменной"
      ],
      "metadata": {
        "id": "m1r31JVY-9MN"
      }
    },
    {
      "cell_type": "code",
      "source": [
        "df_ECDF.plot.line(title='График эмпирической функции распределения признака features/alcohol');"
      ],
      "metadata": {
        "colab": {
          "base_uri": "https://localhost:8080/",
          "height": 452
        },
        "id": "iZCuiAGiri1X",
        "outputId": "69f403d9-ef57-4bdb-fc9e-d41719fb7c4b"
      },
      "execution_count": 76,
      "outputs": [
        {
          "output_type": "display_data",
          "data": {
            "text/plain": [
              "<Figure size 640x480 with 1 Axes>"
            ],
            "image/png": "[encoded data removed]"
          },
          "metadata": {}
        }
      ]
    },
    {
      "cell_type": "markdown",
      "source": [
        "Тут же мы изуализируем диаграмму размаха для зависимой переменной"
      ],
      "metadata": {
        "id": "Hl0Mpl39_TLz"
      }
    },
    {
      "cell_type": "code",
      "source": [
        "df['features/density'].plot.box(title='Диаграмма размаха признака features/density');"
      ],
      "metadata": {
        "colab": {
          "base_uri": "https://localhost:8080/",
          "height": 452
        },
        "id": "TnMgVLJswMTT",
        "outputId": "300250f9-d1de-481a-b6ec-6682fa563ae3"
      },
      "execution_count": 77,
      "outputs": [
        {
          "output_type": "display_data",
          "data": {
            "text/plain": [
              "<Figure size 640x480 with 1 Axes>"
            ],
            "image/png": "[encoded data removed]"
          },
          "metadata": {}
        }
      ]
    },
    {
      "cell_type": "markdown",
      "source": [
        "### Пункт 3"
      ],
      "metadata": {
        "id": "U7yHkVXKx7u3"
      }
    },
    {
      "cell_type": "code",
      "source": [
        "x = df['features/density'].values.reshape(-1, 1)\n",
        "y = df['features/alcohol'].values"
      ],
      "metadata": {
        "id": "TPGeA0eiz4Im"
      },
      "execution_count": 78,
      "outputs": []
    },
    {
      "cell_type": "code",
      "source": [
        "model = LinearRegression().fit(x, y)\n",
        "\n",
        "y_pred = model.predict(x)\n",
        "\n",
        "l = r2_score(y, y_pred)\n",
        "\n",
        "print(\"R^2 \",l)"
      ],
      "metadata": {
        "colab": {
          "base_uri": "https://localhost:8080/",
          "height": 0
        },
        "id": "3My93Q4Rz4oc",
        "outputId": "4fe0758b-8964-489e-9ace-0c0bebad206d"
      },
      "execution_count": 79,
      "outputs": [
        {
          "output_type": "stream",
          "name": "stdout",
          "text": [
            "R^2  0.6086142361997957\n"
          ]
        }
      ]
    },
    {
      "cell_type": "code",
      "source": [
        "model = tf.keras.Sequential([\n",
        "    tf.keras.layers.Dense(units=1, input_shape=[1])\n",
        "])\n",
        "\n",
        "tf.random.set_seed(10)\n",
        "\n",
        "model.compile(optimizer='adam', loss='mse')\n",
        "\n",
        "model.fit(x, y, epochs=60, verbose=False)\n",
        "\n",
        "y_pred = model.predict(x)\n",
        "\n",
        "l = r2_score(y, y_pred)\n",
        "\n",
        "print(\"R^2 \",l)"
      ],
      "metadata": {
        "colab": {
          "base_uri": "https://localhost:8080/",
          "height": 0
        },
        "id": "bEqHx_0Dz8V-",
        "outputId": "1e795b58-75b2-418d-c8f4-40078b7e0cf4"
      },
      "execution_count": 80,
      "outputs": [
        {
          "output_type": "stream",
          "name": "stdout",
          "text": [
            "154/154 [==============================] - 0s 2ms/step\n",
            "R^2  -0.019096816457412347\n"
          ]
        }
      ]
    },
    {
      "cell_type": "markdown",
      "source": [
        "### Пункт 4"
      ],
      "metadata": {
        "id": "J5I2YWpY5I7C"
      }
    },
    {
      "cell_type": "code",
      "source": [
        "fig, ax = plt.subplots()\n",
        "ax.scatter(x, y, label='Исходные данные')\n",
        "ax.plot(x, y_pred, color='red', label=f'Линия регрессии (R^2={l})')\n",
        "ax.set_xlabel('Концентрация')\n",
        "ax.set_ylabel('Процент алкоголя')\n",
        "ax.set_title('Рассеяние и линия регрессии модели')\n",
        "ax.legend()\n",
        "plt.show()"
      ],
      "metadata": {
        "colab": {
          "base_uri": "https://localhost:8080/",
          "height": 472
        },
        "id": "bbsjlkWG4AZv",
        "outputId": "9e3fb9da-3735-49d2-cc61-3ec1a83917aa"
      },
      "execution_count": 81,
      "outputs": [
        {
          "output_type": "display_data",
          "data": {
            "text/plain": [
              "<Figure size 640x480 with 1 Axes>"
            ],
            "image/png": "[encoded data removed]"
          },
          "metadata": {}
        }
      ]
    },
    {
      "cell_type": "markdown",
      "source": [
        "### Пункт 5"
      ],
      "metadata": {
        "id": "bZ08ajmM_GMk"
      }
    },
    {
      "cell_type": "markdown",
      "source": [
        "Из библиотеки sklearn берем train_test_split для деление датасета на train и test. Следом создаем слой:"
      ],
      "metadata": {
        "id": "Zm8wqL2-9t4N"
      }
    },
    {
      "cell_type": "code",
      "source": [
        "x_train, x_test, y_train, y_test = train_test_split(x, y, test_size=0.3, random_state=1)\n",
        "\n",
        "normalizer = tf.keras.layers.Normalization()\n",
        "normalizer(x_train).numpy()\n",
        "\n",
        "feature = np.array(x_train)\n",
        "\n",
        "feature_normalizer = tf.keras.layers.Normalization(axis=None,input_shape=(1,)) \n",
        "feature_normalizer.adapt(feature)\n",
        "\n",
        "feature_model = tf.keras.Sequential([\n",
        "    feature_normalizer,\n",
        "    tf.keras.layers.Dense(units=1)\n",
        "])\n",
        "\n",
        "feature_model.summary()"
      ],
      "metadata": {
        "id": "zhro0XMT_K90",
        "colab": {
          "base_uri": "https://localhost:8080/",
          "height": 0
        },
        "outputId": "59d8d429-c1cc-4001-8564-e09241ed8766"
      },
      "execution_count": 82,
      "outputs": [
        {
          "output_type": "stream",
          "name": "stdout",
          "text": [
            "Model: \"sequential_7\"\n",
            "_________________________________________________________________\n",
            " Layer (type)                Output Shape              Param #   \n",
            "=================================================================\n",
            " normalization_9 (Normalizat  (None, 1)                3         \n",
            " ion)                                                            \n",
            "                                                                 \n",
            " dense_20 (Dense)            (None, 1)                 2         \n",
            "                                                                 \n",
            "=================================================================\n",
            "Total params: 5\n",
            "Trainable params: 2\n",
            "Non-trainable params: 3\n",
            "_________________________________________________________________\n"
          ]
        }
      ]
    },
    {
      "cell_type": "markdown",
      "source": [
        "### Пункт 6"
      ],
      "metadata": {
        "id": "wC7rEi5CoU-4"
      }
    },
    {
      "cell_type": "markdown",
      "source": [
        "#### 1"
      ],
      "metadata": {
        "id": "iL4Q-_Ts-FTg"
      }
    },
    {
      "cell_type": "code",
      "source": [
        "\n",
        "inputs = Input(shape=(x_train.shape[1],)) # ввод\n",
        "\n",
        "normalized = normalizer(inputs) #нормализация\n",
        "\n",
        "outputs = Dense(1)(normalized) # вывод через 1 слой\n",
        "lin_reg_model = Model(inputs, outputs) #лин. регрессия\n",
        "\n",
        "outputs = Dense(1, kernel_regularizer=regularizers.l2(0.01))(normalized) #выводии под регуляризации l2\n",
        "ridge_model = Model(inputs, outputs) #модель l2\n",
        "\n",
        "outputs = Dense(1, kernel_regularizer=regularizers.l1(0.01))(normalized) #вывод l1\n",
        "lasso_model = Model(inputs, outputs) #модель l1\n",
        "\n",
        "#компилируем\n",
        "lin_reg_model.compile(optimizer='adam', loss='mse')\n",
        "ridge_model.compile(optimizer='adam', loss='mse')\n",
        "lasso_model.compile(optimizer='adam', loss='mse')\n",
        "\n",
        "#подчсчет\n",
        "history_lin_reg = lin_reg_model.fit(x_train, y_train, epochs=50, verbose=0)\n",
        "history_ridge = ridge_model.fit(x_train, y_train, epochs=50,  verbose=0)\n",
        "history_lasso = lasso_model.fit(x_train, y_train, epochs=50, verbose=0)\n",
        "\n",
        "#проверка\n",
        "y_pred_lin_reg = lin_reg_model.predict(x_test)\n",
        "y_pred_ridge = ridge_model.predict(x_test)\n",
        "y_pred_lasso = lasso_model.predict(x_test)\n",
        "#считаем метрику\n",
        "mse_lin_reg = mean_squared_error(y_test, y_pred_lin_reg)\n",
        "mse_ridge = mean_squared_error(y_test, y_pred_ridge)\n",
        "mse_lasso = mean_squared_error(y_test, y_pred_lasso)\n",
        "\n",
        "\n",
        "print(\"Регресоры на базе следующих моделей множественной регрессии: \")\n",
        "print(\"Линейная регрессия \", mse_lin_reg)\n",
        "print(\"Гребневая регрессия \", mse_ridge)\n",
        "print(\"Лассо регрессия \", mse_lasso)\n"
      ],
      "metadata": {
        "colab": {
          "base_uri": "https://localhost:8080/",
          "height": 0
        },
        "id": "bDhQAurNoUAv",
        "outputId": "28b77de6-9079-409d-c160-d7dee0166933"
      },
      "execution_count": 85,
      "outputs": [
        {
          "output_type": "stream",
          "name": "stdout",
          "text": [
            "46/46 [==============================] - 0s 1ms/step\n",
            "46/46 [==============================] - 0s 1ms/step\n",
            "46/46 [==============================] - 0s 2ms/step\n",
            "Регресоры на базе следующих моделей множественной регрессии: \n",
            "Линейная регрессия  8.332326\n",
            "Гребневая регрессия  3.2013648\n",
            "Лассо регрессия  2.646475\n"
          ]
        }
      ]
    },
    {
      "cell_type": "markdown",
      "source": [
        "#### 2"
      ],
      "metadata": {
        "id": "enHAVBRB9uc3"
      }
    },
    {
      "cell_type": "markdown",
      "source": [
        "Визуализируем кривые обучения для лучшего регрессора(берем минимально значение)"
      ],
      "metadata": {
        "id": "eM7MJGpwAz5r"
      }
    },
    {
      "cell_type": "code",
      "source": [
        "plt.plot(history_lasso.history['loss'])\n",
        "plt.title('Кривые обучения')\n",
        "plt.xlabel('Цикл обучения')\n",
        "plt.ylabel('MSE')\n",
        "plt.show()"
      ],
      "metadata": {
        "id": "_s3cSKFp41sr",
        "colab": {
          "base_uri": "https://localhost:8080/",
          "height": 472
        },
        "outputId": "beb79ff8-ddaa-4ef4-9891-612dc5ea9d06"
      },
      "execution_count": 87,
      "outputs": [
        {
          "output_type": "display_data",
          "data": {
            "text/plain": [
              "<Figure size 640x480 with 1 Axes>"
            ],
            "image/png": "[encoded data removed]"
          },
          "metadata": {}
        }
      ]
    }
  ]
}