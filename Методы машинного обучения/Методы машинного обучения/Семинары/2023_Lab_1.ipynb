{
  "cells": [
    {
      "cell_type": "markdown",
      "metadata": {
        "id": "VQlcDy9BC5bE"
      },
      "source": [
        "# Методы машинного обучения – Лабораторная работа №1\n",
        "\n",
        "# Линейная регрессия"
      ]
    },
    {
      "cell_type": "markdown",
      "metadata": {
        "id": "XsBpRAmqDLgM"
      },
      "source": [
        "## Порядок сдачи лабораторных работ\n",
        "\n",
        "Для каждого направления подготовки будет создана отдельная команда MS Teams, а для каждой лабораторной работы в рамках команды будет создан отдельный канал. Варианты заданий будут направляться каждому студенту через записную книжку команды.\n",
        "\n",
        "Отчет по лабораторной работе должен быть представлен в виде файла PDF, представляющего собой содержимое Jupiter Notebook с титульным листом, вариантом задания, программным кодом, комментариями к программному коду и результатами выполнения программы. Отчет в формате PDF и исходный файл ipynb передаются как ответ на задание MS Teams. Моментом сдачи задания является дата и время отправки файлов путем нажатия кнопки «сдать» в MS Teams.\n",
        "\n",
        "Лабораторная работа оценивается с максимальной оценкой 10 баллов, если студент присутствовал на занятии, программа корректно решает поставленные задачи и отчет сдан в оговоренный срок. В случае отсутствия на занятии оценка снижается на 1 балл. В случае просрочки сдачи лабораторной работы оценка снижается на 1 балл за каждый день просрочки, но не более чем на 5 баллов. Лабораторные работы с просрочкой более 5 дней оцениваются в конце семестра.\n",
        "\n",
        "Если по дисциплине будет предусмотрен экзамен, то на экзамене будут предложен итоговый тест с теоретическим вопросом и задачами и итоговая оценка будет суммой баллов за лабораторные работы и баллов за итоговый тест. Если экзамена не будет, то для итоговой оценки баллы за лабораторные работы будут пересчитаны."
      ]
    },
    {
      "cell_type": "markdown",
      "metadata": {
        "id": "G7bqP_ddqolB"
      },
      "source": [
        "# Google Colab\n",
        "\n",
        "__Google Colab__ - это инструмент компании Google, который позволяет разрабатывать, запускать и публиковать код Python. Google Colab можно рассматривать как расширенную версию Jupyter Notebook, размещенную на облачных серверах Google.\n",
        "\n",
        "Google Colab доступен в браузере по ссылке https://colab.research.google.com/. \n",
        "\n",
        "В Colab есть два типа ячеек – ячейки кода и текстовые ячейки. Текстовые ячейки можно использовать для добавления комментариев к вашему коду, а также для отображения изображений, видео, заголовков, списков и многого другого. Язык, используемый в текстовых ячейках, называется «Markdown» (https://colab.research.google.com/notebooks/markdown_guide.ipynb). "
      ]
    },
    {
      "cell_type": "markdown",
      "metadata": {
        "id": "Tp3hyMmwteU5"
      },
      "source": [
        "Для запуска ячейки с кодом нужно нажать кнопку воспроизведения в левой части ячейки.\n",
        "\n",
        "Если книжка Colab не используется в течение нескольких часов, то произойдет разъединение с серверами Google, при этом значения переменных и состояния текущего сеанса будут потеряны. Для продолжения работы с книжкой Colab нужно снова запустить ячейки с кодом – либо одну за другой, либо можно выбрать  «Среда выполнения» (Runtime) в верхнем левом углу записной книжки и нажать, скажем, «Выполнить все»."
      ]
    },
    {
      "cell_type": "markdown",
      "metadata": {
        "id": "yrl5P-krDiGA"
      },
      "source": [
        "## Язык программирования Python\n",
        "\n",
        "Лабораторные работы будут выполняться на языке программирования __Python__. \n",
        "\n",
        "Пример простой программы на языке __Python__:"
      ]
    },
    {
      "cell_type": "code",
      "execution_count": null,
      "metadata": {
        "id": "EAUHo64aC2Q7"
      },
      "outputs": [],
      "source": [
        "def hello_ML():\n",
        "    print('Hello, Machine Learning!')\n",
        "\n",
        "for _ in range(10):\n",
        "    hello_ML()"
      ]
    },
    {
      "cell_type": "markdown",
      "metadata": {
        "id": "3G0xU5-CEQIG"
      },
      "source": [
        "Язык Python – это развитый, современный, популярный язык программирования с мощной стандартной библиотекой.\n",
        "\n",
        "В языке Python реализованы, в частности, такие структуры данных как списки (`list`), кортежи (`tuple`), словари (`dict`), множества (`set`). "
      ]
    },
    {
      "cell_type": "code",
      "execution_count": null,
      "metadata": {
        "id": "C29UeR5_a5G5"
      },
      "outputs": [],
      "source": [
        "alist = [1, 2., \"3\"]  # список\n",
        "alist"
      ]
    },
    {
      "cell_type": "code",
      "execution_count": null,
      "metadata": {
        "id": "oGSKx2ZlbGCF"
      },
      "outputs": [],
      "source": [
        "atuple = (1, [2,3], (4,5))  # кортеж\n",
        "atuple"
      ]
    },
    {
      "cell_type": "code",
      "execution_count": null,
      "metadata": {
        "id": "CZoLbiuObl0s"
      },
      "outputs": [],
      "source": [
        "adict = {1: \"один\", 2: \"два\", 3: \"три\"}  # словарь\n",
        "adict"
      ]
    },
    {
      "cell_type": "code",
      "execution_count": null,
      "metadata": {
        "id": "qTvm2wwydMtY"
      },
      "outputs": [],
      "source": [
        "aset = {1, 2, 1, 3, 1, 2}  # множество\n",
        "aset"
      ]
    },
    {
      "cell_type": "markdown",
      "metadata": {
        "id": "72eW5SxyFtu9"
      },
      "source": [
        "## Библиотека __NumPy__\n",
        "\n",
        "__NumPy__ (Numerical Python) — это библиотека __Python__ с поддержкой многомерных массивов (включая матрицы) и математических функций, предназначенных для работы с многомерными массивами. [__NumPy__](https://numpy.org) является основой для многих других библиотек __Python__, в т.ч. библиотек машинного обучения.\n",
        "\n",
        "Для использования __NumPy__ импортируем библиотеку командой `import`:"
      ]
    },
    {
      "cell_type": "code",
      "execution_count": null,
      "metadata": {
        "id": "ZxfOMXdtFWKR"
      },
      "outputs": [],
      "source": [
        "import numpy as np"
      ]
    },
    {
      "cell_type": "markdown",
      "metadata": {
        "id": "UfXyT-ROGN1B"
      },
      "source": [
        "### Создание массива __NumPy__\n",
        "\n",
        "Объект `ndarray` (многомерный массив) может быть создан из списка или кортежа.\n",
        "\n",
        "Объект `ndarray` имеет такие свойства как:\n",
        "\n",
        "• `ndim` – ранг (число осей или измерений) массива \n",
        "\n",
        "• `shape` – кортеж, показывающий длину массива по каждой из осей (размеры массива). Для матрицы из `n` строк и `m` столбов, свойство `shape` равно `(n,m)`. Число элементов в кортеже `shape` равно рангу массива, то есть свойству `ndim`.\n",
        "\n",
        "• `size` – число элементов в массиве, равное произведению всех элементов кортежа `shape`.\n",
        "\n",
        "• `dtype` – тип элементов массива. Тип `dtype` можно определить явно, используя стандартные типы данных __Python__ или типы, предусмотренные библиотекой __NumPy__, например, `dtype=np.int8`. Тип `dtype` также может быть составным, например, целое число и число с плавающей точкой."
      ]
    },
    {
      "cell_type": "code",
      "execution_count": null,
      "metadata": {
        "id": "2GjGrot6GdeF"
      },
      "outputs": [],
      "source": [
        "oneDim = np.array([1, 2, 3, 4, 5],dtype=np.float16) # одномерный массив (вектор)\n",
        "print(oneDim)\n",
        "print(\"Ранг =\", oneDim.ndim) \n",
        "print(\"Размеры =\", oneDim.shape) \n",
        "print(\"Число элементов =\", oneDim.size) \n",
        "print(\"Тип массива =\", oneDim.dtype)"
      ]
    },
    {
      "cell_type": "code",
      "execution_count": null,
      "metadata": {
        "id": "HxyoCk-ZLsLI"
      },
      "outputs": [],
      "source": [
        "twoDim = np.array([[1,2], [3,4], [5,6], [7,8]]) # двумерный массив (матрица) \n",
        "print(twoDim)\n",
        "print(\"Ранг =\", twoDim.ndim)\n",
        "print(\"Размеры =\", twoDim.shape)\n",
        "print(\"Число элементов =\", twoDim.size) \n",
        "print(\"Тип массива =\", twoDim.dtype)"
      ]
    },
    {
      "cell_type": "code",
      "execution_count": null,
      "metadata": {
        "id": "2qN-Bo8cL_af"
      },
      "outputs": [],
      "source": [
        "arrFromTuple = np.array(((1,'a',3.0), (2,'b',3.5))) # массив из кортежа \n",
        "print(arrFromTuple)\n",
        "print(\"Ранг =\", arrFromTuple.ndim)\n",
        "print(\"Размеры =\", arrFromTuple.shape)\n",
        "print(\"Число элементов =\", arrFromTuple.size)\n",
        "print(\"Тип массива =\", arrFromTuple.dtype)"
      ]
    },
    {
      "cell_type": "markdown",
      "metadata": {
        "id": "UPctHXftMULn"
      },
      "source": [
        "В __NumPy__ имеется ряд встроенных функций для создания объектов `ndarray`. "
      ]
    },
    {
      "cell_type": "code",
      "execution_count": null,
      "metadata": {
        "id": "YHorYZCyMaXW"
      },
      "outputs": [],
      "source": [
        "print(np.random.rand(5)) # случайные числа с равномерным распределением на [0,1]"
      ]
    },
    {
      "cell_type": "code",
      "execution_count": null,
      "metadata": {
        "id": "X41oN_EgM1Bx"
      },
      "outputs": [],
      "source": [
        "print(np.random.randn(5)) # случайные числа со станд. нормальным распределением"
      ]
    },
    {
      "cell_type": "code",
      "execution_count": null,
      "metadata": {
        "id": "XttPKWr7M8bH"
      },
      "outputs": [],
      "source": [
        "print(np.arange(-10,10,3)) # аналогично range, возвращается массив вместо списка"
      ]
    },
    {
      "cell_type": "code",
      "execution_count": null,
      "metadata": {
        "id": "LYTOkbTMNCVX"
      },
      "outputs": [],
      "source": [
        "print(np.arange(12).reshape(4,3)) # преобразование вектора в матрицу или тензор"
      ]
    },
    {
      "cell_type": "code",
      "execution_count": null,
      "metadata": {
        "id": "3ObjSk1VNWSF"
      },
      "outputs": [],
      "source": [
        "print(np.linspace(0,1,11)) # разбиение интервала на равноудаленные значения"
      ]
    },
    {
      "cell_type": "code",
      "execution_count": null,
      "metadata": {
        "id": "W67YmxMuNrkS"
      },
      "outputs": [],
      "source": [
        "print(np.zeros((2,3)))           # матрица из нулей"
      ]
    },
    {
      "cell_type": "code",
      "execution_count": null,
      "metadata": {
        "id": "mT4Gufj5N0pw"
      },
      "outputs": [],
      "source": [
        "print(np.ones((3,2),dtype=int))  # матрица из единиц"
      ]
    },
    {
      "cell_type": "code",
      "execution_count": null,
      "metadata": {
        "id": "jBGMHzqLN5PQ"
      },
      "outputs": [],
      "source": [
        "print(np.eye(4,dtype=np.int16))  # единичная матрица размером 4 x 4 (np.int16)"
      ]
    },
    {
      "cell_type": "markdown",
      "metadata": {
        "id": "W3fJqttskBBI"
      },
      "source": [
        "### Поэлементные операции\n",
        "\n",
        "Можно применять стандартные операции, такие как сложение и умножение, к каждому элементу объекта `ndarray`, при этом создается новый массив, который заполняется результатами действия оператора."
      ]
    },
    {
      "cell_type": "code",
      "execution_count": null,
      "metadata": {
        "id": "nxqZdeEFkHwP"
      },
      "outputs": [],
      "source": [
        "x = np.array([1, 2, 3, 4, 5]) # ndarray из списка Python\n",
        "\n",
        "print(x + 1)      # сложение\n",
        "print(x - 1)      # вычитание\n",
        "print(x * 2)      # умножение\n",
        "print(x // 2)     # целая часть от деления\n",
        "print(x ** 2)     # возведение в квадрат\n",
        "print(x % 2)      # остаток от деления  \n",
        "print(1 / x)      # деление"
      ]
    },
    {
      "cell_type": "code",
      "execution_count": null,
      "metadata": {
        "id": "FOSBWORskaaP"
      },
      "outputs": [],
      "source": [
        "x = np.array([2, 4, 6, 8, 10])\n",
        "y = np.array([1, 2, 3, 4, 5])\n",
        "\n",
        "print(x + y)\n",
        "print(x - y)\n",
        "print(x * y)\n",
        "print(x / y)\n",
        "print(x // y)\n",
        "print(x ** y)"
      ]
    },
    {
      "cell_type": "markdown",
      "metadata": {
        "id": "k8D7rivzkwEL"
      },
      "source": [
        "### Индексы и срезы\n",
        "\n",
        "Существуют различные способы выбрать определенные элементы в массиве `ndarray`. Нумерация элементов в массиве (как и в других структурах данных) начинается с нуля. При обращениие к конкретному элементу массива по индексу индекс указывается в квадратных скобках:"
      ]
    },
    {
      "cell_type": "code",
      "execution_count": null,
      "metadata": {
        "id": "rVlpva4yk5UP"
      },
      "outputs": [],
      "source": [
        "x = np.arange(-5,5)\n",
        "print('x =', x)\n",
        "print('x[3] =', x[3])\n",
        "print('x[-1] =', x[-1])"
      ]
    },
    {
      "cell_type": "markdown",
      "metadata": {
        "id": "QITl7ehknBBN"
      },
      "source": [
        "Срез (slice) представляет собой инструмент для работы с подмножествами элементов массива. Срез записывается как обращение к элементам массива по индексу вида `some_array[START:STOP:STEP]`, где \n",
        "`START` — индекс первого выбираемого элемента,\n",
        "`STOP` — индекс элемента, перед которым срез должен закончиться (т.е. сам элемент с индексом `STOP` не будет выбираться),\n",
        "`STEP` — шаг прироста выбираемых индексов.\n",
        "\n",
        "Любой из трёх параметров среза может быть опущен и вместо соответствующего параметра будет выбрано значение по умолчанию, а именно,\n",
        "`START` по умолчанию означает \"от начала массива\",\n",
        "`STOP` по умолчанию означает \"до конца массива\" (включительно),\n",
        "`STEP` по умолчанию означает \"брать каждый элемент\"."
      ]
    },
    {
      "cell_type": "code",
      "execution_count": null,
      "metadata": {
        "id": "LwSkwdhrlLza"
      },
      "outputs": [],
      "source": [
        "y = x[3:5]     # y - это срез \n",
        "print(\"y =\",y)"
      ]
    },
    {
      "cell_type": "markdown",
      "metadata": {
        "id": "9r4JlPHtwdrE"
      },
      "source": [
        "Срезы могут использоваться не только для выборки, но и для присваивания значений. Например, для присваивания значения каждому элементу можно использовать такой код:"
      ]
    },
    {
      "cell_type": "code",
      "execution_count": null,
      "metadata": {
        "id": "_l0cCbG6wUv1"
      },
      "outputs": [],
      "source": [
        "y[:] = 1000    # каждый элемент y заменяется на 1000\n",
        "print(\"y =\",y)"
      ]
    },
    {
      "cell_type": "markdown",
      "metadata": {
        "id": "IH2zPokhxCs-"
      },
      "source": [
        "Срез массива представляет собой указатель на подмассив, поэтому изменение среза приводит к изменению самого массива:"
      ]
    },
    {
      "cell_type": "code",
      "execution_count": null,
      "metadata": {
        "id": "gUQqlHqLxDWN"
      },
      "outputs": [],
      "source": [
        "print(\"x =\",x) # изменение y приводит к изменению x"
      ]
    },
    {
      "cell_type": "markdown",
      "metadata": {
        "id": "AjNTp0r5x2Sl"
      },
      "source": [
        "Срез массива является представлением тех же самых данных (ссылку на данные), а для создания копии данных массива можно воспользоваться методом `copy()`:"
      ]
    },
    {
      "cell_type": "code",
      "execution_count": null,
      "metadata": {
        "id": "Hpsp6iwPyFI2"
      },
      "outputs": [],
      "source": [
        "z = x[3:5].copy()   # делаем копию подмассива\n",
        "print(\"z =\",z)\n",
        "z[:] = 500          # изменяем z\n",
        "print(\"z =\",z)\n",
        "print(\"x =\",x)      # изменение z не влияет на x"
      ]
    },
    {
      "cell_type": "markdown",
      "metadata": {
        "id": "Z5iSmIK2ysvL"
      },
      "source": [
        "Объект `ndarray` также поддерживает булево индексирование. Создадим массив из случайных чисел:"
      ]
    },
    {
      "cell_type": "code",
      "execution_count": null,
      "metadata": {
        "id": "2SDmngfmyu1M"
      },
      "outputs": [],
      "source": [
        "arr = np.random.randn(10)\n",
        "print(arr)"
      ]
    },
    {
      "cell_type": "markdown",
      "metadata": {
        "id": "AtnwTvvXzTwC"
      },
      "source": [
        "Чтобы отобрать только отрицательные элементы, можно использовать конструкцию:"
      ]
    },
    {
      "cell_type": "code",
      "execution_count": null,
      "metadata": {
        "id": "52fhUXO4zI3W"
      },
      "outputs": [],
      "source": [
        "arr[arr < 0]"
      ]
    },
    {
      "cell_type": "markdown",
      "metadata": {
        "id": "5ZRIifKH2c0h"
      },
      "source": [
        "### Арифметические и статистические функции __Numpy__\n",
        "\n",
        "В __NumPy__ встроены многие математические функции для манипулирования элементами `ndarray`:"
      ]
    },
    {
      "cell_type": "code",
      "execution_count": null,
      "metadata": {
        "id": "itaughqT240b"
      },
      "outputs": [],
      "source": [
        "y = np.array([-1.4, 0.4, -3.2, 2.5, 3.4])    # массив чисел\n",
        "print('y =', y)"
      ]
    },
    {
      "cell_type": "code",
      "execution_count": null,
      "metadata": {
        "id": "mygnc2HF2_v9"
      },
      "outputs": [],
      "source": [
        "print('exp(y) =', np.exp(y))          # экспонента"
      ]
    },
    {
      "cell_type": "code",
      "execution_count": null,
      "metadata": {
        "id": "XW07jNZu3VJ5"
      },
      "outputs": [],
      "source": [
        "print('sort(y) =', np.sort(y))         # сортировка"
      ]
    },
    {
      "cell_type": "code",
      "execution_count": null,
      "metadata": {
        "id": "O-gHzNS83a8P"
      },
      "outputs": [],
      "source": [
        "print(\"Минимум  =\", np.min(y))           \n",
        "print(\"Максимум =\", np.max(y))      \n",
        "print(\"Сумма =\",    np.sum(y))        \n",
        "print(\"Среднее  =\", np.mean(y))        \n",
        "print(\"Стандартное отклонение =\", np.std(y))      "
      ]
    },
    {
      "cell_type": "markdown",
      "metadata": {
        "id": "ddYe_wvL3vEd"
      },
      "source": [
        "Также бывают полезны такие функции как определение индекса минимального и максимального элемента:"
      ]
    },
    {
      "cell_type": "code",
      "execution_count": null,
      "metadata": {
        "id": "6jFMjeAs34As"
      },
      "outputs": [],
      "source": [
        "print('Индекс мин. элемента =', np.argmin(y))\n",
        "print('Индекс макс.элемента =', np.argmax(y))"
      ]
    },
    {
      "cell_type": "markdown",
      "metadata": {
        "id": "LRG8TBZICThW"
      },
      "source": [
        "### Линейная алгебра в __Numpy__\n",
        "\n",
        "__Numpy__ поддерживает многие операции линейной алгебры, например, транспонирование матрицы и матричное умножение:"
      ]
    },
    {
      "cell_type": "code",
      "execution_count": null,
      "metadata": {
        "id": "5gBYAjBICeyP"
      },
      "outputs": [],
      "source": [
        "X = np.random.randn(2,4) # случайная матрица 2 x 4 \n",
        "print('X =\\n', X, '\\n')\n",
        "print('X^T =\\n', X.T)    # транспонирование матрицы X^T "
      ]
    },
    {
      "cell_type": "code",
      "execution_count": null,
      "metadata": {
        "id": "fD217SIYCx9E"
      },
      "outputs": [],
      "source": [
        "y = np.random.randn(4) # случайный вектор\n",
        "print('y =', y)"
      ]
    },
    {
      "cell_type": "code",
      "execution_count": null,
      "metadata": {
        "id": "nL37AwZ1C_8O"
      },
      "outputs": [],
      "source": [
        "print('X * y =', X.dot(y))        # умножение матрицы X на вектор y: X * y"
      ]
    },
    {
      "cell_type": "code",
      "execution_count": null,
      "metadata": {
        "id": "CUj9AZkjDM78"
      },
      "outputs": [],
      "source": [
        "print('X * X^T =\\n', X.dot(X.T))  # умножение матрицы X на матрицу X^T: X * X^T"
      ]
    },
    {
      "cell_type": "code",
      "execution_count": null,
      "metadata": {
        "id": "PO6XeJGBDZWQ"
      },
      "outputs": [],
      "source": [
        "print('X^T * X =\\n', X.T.dot(X))  # умножение матрицы X^T на матрицу X: X^T * X"
      ]
    },
    {
      "cell_type": "markdown",
      "metadata": {
        "id": "pej6QOQDDkOs"
      },
      "source": [
        "Также в __NumPy__ поддерживается вычисление определителя, обратной матрицы, собственных значений и собственных векторов матрицы:"
      ]
    },
    {
      "cell_type": "code",
      "execution_count": null,
      "metadata": {
        "id": "qjJbLtJFDq7u"
      },
      "outputs": [],
      "source": [
        "X = np.random.randn(5,3)     # случайная матрица 5 x 3\n",
        "print('X =\\n', X)"
      ]
    },
    {
      "cell_type": "code",
      "execution_count": null,
      "metadata": {
        "id": "8Yj9p5-1DzVT"
      },
      "outputs": [],
      "source": [
        "C = X.T.dot(X)               # C = X^T * X - это квадратная матрица 3 на 3\n",
        "print('C = X^T * X =\\n', C)"
      ]
    },
    {
      "cell_type": "code",
      "execution_count": null,
      "metadata": {
        "id": "8pWJazacEbjU"
      },
      "outputs": [],
      "source": [
        "detC = np.linalg.det(C)      # определитель матрицы\n",
        "print('det(C) =', detC)"
      ]
    },
    {
      "cell_type": "code",
      "execution_count": null,
      "metadata": {
        "id": "MgM0na7nENIF"
      },
      "outputs": [],
      "source": [
        "invC = np.linalg.inv(C)      # обратная матрица 3 на 3\n",
        "print('C^(-1) =\\n', invC)"
      ]
    },
    {
      "cell_type": "code",
      "execution_count": null,
      "metadata": {
        "id": "ensBL1ngEoSi"
      },
      "outputs": [],
      "source": [
        "S, U = np.linalg.eig(C)      # собственные значения S и собственные векторы U \n",
        "print('Собственные значения S:', S, '\\n') # собственные значения (по убыванию)\n",
        "print('Собственные векторы S:\\n', U)  # собственные векторы в столбцах матрицы"
      ]
    },
    {
      "cell_type": "code",
      "execution_count": null,
      "metadata": {
        "id": "v_RfS0fcFDnM"
      },
      "outputs": [],
      "source": [
        "C.dot(U[:,0])/S[0] # проверка!"
      ]
    },
    {
      "cell_type": "markdown",
      "metadata": {
        "id": "Mq654sAGXCpI"
      },
      "source": [
        "## Библиотека __Pandas__\n",
        "\n",
        "Библиотека [__Pandas__](https://pandas.pydata.org) содержит две удобных структуры данных для хранения и манипуляций с данными – объекты `Series` и `DataFrame`. Объект `Series` подобен одномерному массиву, в то время, как объект `DataFrame` более напоминает матрицу или таблицу.\n",
        "\n",
        "### Объект `Series`\n",
        "\n",
        "Объект `Series` состоит из одномерного массива значений (свойство `values`), к элементам которого можно обращаться при помощи массива индексов (свойство `index`). Все элементы в объекте `Series` имеют один и тот же тип. Объект `Series` может быть создан из списка, массива __NumPy__ или словаря __Python__. "
      ]
    },
    {
      "cell_type": "code",
      "execution_count": null,
      "metadata": {
        "id": "ZrM9mC8TXr4B"
      },
      "outputs": [],
      "source": [
        "import pandas as pd\n",
        "\n",
        "s1 = pd.Series([3.1, 2.4, -1.7, 0.2, -2.9, 4.5])   # объект Series из списка\n",
        "print(s1)\n",
        "print('Values =', s1.values)     # значения объекта Series\n",
        "print('Index =', s1.index)       # индексы объекта Series"
      ]
    },
    {
      "cell_type": "code",
      "execution_count": null,
      "metadata": {
        "id": "lVxT5AVHX7Ha"
      },
      "outputs": [],
      "source": [
        "s2 = pd.Series(np.random.randn(6))  # объект Series из массива numpy\n",
        "print(s2)\n",
        "print('Values =', s2.values)   # значения объекта Series\n",
        "print('Index =', list(s2.index))     # индексы объекта Series"
      ]
    },
    {
      "cell_type": "code",
      "execution_count": null,
      "metadata": {
        "id": "oCdIxSzQYZ-o"
      },
      "outputs": [],
      "source": [
        "s3 = pd.Series([1.2,2.5,-2.2,3.1,-0.8,-3.2], \n",
        "            index = ['Jan 1','Jan 2','Jan 3','Jan 4','Jan 5','Jan 6',])\n",
        "print(s3)\n",
        "print('Values=', s3.values)   # значения объекта Series\n",
        "print('Index=', s3.index)     # индексы объекта Series"
      ]
    },
    {
      "cell_type": "code",
      "execution_count": null,
      "metadata": {
        "id": "K0FeWyj4YqBu"
      },
      "outputs": [],
      "source": [
        "capitals = {'MI':'Lansing', 'CA':'Sacramento', 'TX':'Austin', 'MN':'St Paul'}\n",
        "\n",
        "s4 = pd.Series(capitals)   # объект Series из словаря\n",
        "print(s4)\n",
        "print('Values=', s4.values)     # значения объекта Series\n",
        "print('Index =', list(s4.index)) # индексы объекта Series"
      ]
    },
    {
      "cell_type": "markdown",
      "metadata": {
        "id": "KIjgT4tSY6fw"
      },
      "source": [
        "Доступ к элементам объекта `Series` возможен по номеру объекта или по ключу:"
      ]
    },
    {
      "cell_type": "code",
      "execution_count": null,
      "metadata": {
        "id": "I9OGPTdwZF7Z"
      },
      "outputs": [],
      "source": [
        "print('\\ns3[2]=', s3[2])             # доступ по номеру\n",
        "print('s3[\\'Jan 3\\']=', s3['Jan 3']) # доступ по индексу\n",
        "\n",
        "print('\\ns3[1:3]=')                  # срез объекта Series\n",
        "print(s3[1:3])"
      ]
    },
    {
      "cell_type": "markdown",
      "metadata": {
        "id": "lhmEJIXVZfdY"
      },
      "source": [
        "Большинство конструкций __NumPy__ могут применяться к объекту `Series`:"
      ]
    },
    {
      "cell_type": "code",
      "execution_count": null,
      "metadata": {
        "id": "9WAOPBC8Zkbd"
      },
      "outputs": [],
      "source": [
        "print('shape =', s3.shape)  # размеры Series\n",
        "print('size =', s3.size)    # число элементов в Series"
      ]
    },
    {
      "cell_type": "code",
      "execution_count": null,
      "metadata": {
        "id": "fqAKG8kWZwK4"
      },
      "outputs": [],
      "source": [
        "print(s3[s3 < 0])   # фильтр для выбора элементов Series"
      ]
    },
    {
      "cell_type": "code",
      "execution_count": null,
      "metadata": {
        "id": "kxfsf1hlZrmn"
      },
      "outputs": [],
      "source": [
        "print(s3 + 4, '\\n') # операции числового объекта Series со скалярными величинами\n",
        "print(s3 / 4, '\\n')    \n",
        "print(np.log(s3 + 4), '\\n') # функция numpy от числового объекта Series"
      ]
    },
    {
      "cell_type": "markdown",
      "metadata": {
        "id": "YPEyNLqGdXp2"
      },
      "source": [
        "## Объект `DataFrame`\n",
        "\n",
        "Объект `DataFrame` представляет собой табличную структуру данных, содержащую набор столбцов, каждый из которых может иметь различный тип (числовой, строковый, логический и т.п.). В отличие от объекта `Series` объект `DataFrame` имеет различные индексы для строк и столбцов. Существуют различные способы создания объекта `DataFrame` (например, из словаря, списка кортежей или массивов `ndarray`)."
      ]
    },
    {
      "cell_type": "code",
      "execution_count": null,
      "metadata": {
        "id": "AaP_XsAUdnJs"
      },
      "outputs": [],
      "source": [
        "cars = {'make': ['Ford', 'Honda', 'Toyota', 'Tesla'],\n",
        "       'model': ['Taurus', 'Accord', 'Camry', 'Model S'],\n",
        "       'MSRP': [27595, 23570, 23495, 68000]}          \n",
        "carData = pd.DataFrame(cars)   # объект DataFrame из словаря\n",
        "print(carData)              "
      ]
    },
    {
      "cell_type": "code",
      "execution_count": null,
      "metadata": {
        "id": "jvIyENdOd5i5"
      },
      "outputs": [],
      "source": [
        "print(list(carData.index))       # индексы строк\n",
        "print(list(carData.columns))     # индексы столбцов"
      ]
    },
    {
      "cell_type": "code",
      "execution_count": null,
      "metadata": {
        "id": "f-LW5smfeVc6"
      },
      "outputs": [],
      "source": [
        "carData2 = pd.DataFrame(cars, index=[100,200,300,400]) # изменяем индексы строк\n",
        "carData2['year'] = 2023    # добавляем столбец с одним и тем же значением\n",
        "carData2['dealer'] = ['Courtesy Ford','Capital Honda','Spartan Toyota','NA']\n",
        "print(carData2)     "
      ]
    },
    {
      "cell_type": "markdown",
      "metadata": {
        "id": "HDR6jjY0etop"
      },
      "source": [
        "Объект `DataFrame` может быть создан из списка кортежей:"
      ]
    },
    {
      "cell_type": "code",
      "execution_count": null,
      "metadata": {
        "id": "Z9L_zcOsekuJ"
      },
      "outputs": [],
      "source": [
        "tuplelist = [(2017,7.3,32.4),(2018,5.8,34.5),(2019,8.4,39.2),\n",
        "              (2020,6.8,31.4),(2021,4.4,29.8),(2022,5.3,36.7)]\n",
        "columnNames = ['Год','Темп','Осадки']\n",
        "weatherData = pd.DataFrame(tuplelist, columns=columnNames)\n",
        "print(weatherData)"
      ]
    },
    {
      "cell_type": "markdown",
      "metadata": {
        "id": "FwHmhqmSe4yz"
      },
      "source": [
        "Объект `DataFrame` может быть создан из массива __NumPy__ (объекта `ndarray`):"
      ]
    },
    {
      "cell_type": "code",
      "execution_count": null,
      "metadata": {
        "id": "APQo5shofBYw"
      },
      "outputs": [],
      "source": [
        "npdata = np.random.randn(5,3)  # случайная матрица 5 на 3\n",
        "columnNames = ['x1','x2','x3']\n",
        "data = pd.DataFrame(npdata, columns=columnNames)\n",
        "print(data)"
      ]
    },
    {
      "cell_type": "markdown",
      "metadata": {
        "id": "iXjuCsEY8sEK"
      },
      "source": [
        "Для обращения к столбцу объекта `DataFrame` можно использовать имя столбца (в квадратных скобках как символьную строку или иногда через точку): "
      ]
    },
    {
      "cell_type": "code",
      "execution_count": null,
      "metadata": {
        "id": "VYizNX698uuL"
      },
      "outputs": [],
      "source": [
        "print(data.x2,'\\n')\n",
        "print(data['x2'])"
      ]
    },
    {
      "cell_type": "markdown",
      "metadata": {
        "id": "KYImLQai9N1X"
      },
      "source": [
        "В результате получаем объект `Series`. \n",
        "\n",
        "Над объектами `DataFrame` можно совершать различные операции."
      ]
    },
    {
      "cell_type": "code",
      "execution_count": null,
      "metadata": {
        "id": "bRaRUeL--lVt"
      },
      "outputs": [],
      "source": [
        "data"
      ]
    },
    {
      "cell_type": "code",
      "execution_count": null,
      "metadata": {
        "id": "Sj2KAzNUIdPA"
      },
      "outputs": [],
      "source": [
        "print(\"Данные:\\n\",data)"
      ]
    },
    {
      "cell_type": "code",
      "execution_count": null,
      "metadata": {
        "id": "MfvqlsCQIm_m"
      },
      "outputs": [],
      "source": [
        "print('Транспонированные данные:')\n",
        "print(data.T)    # транспонирование"
      ]
    },
    {
      "cell_type": "code",
      "execution_count": null,
      "metadata": {
        "id": "jOwOdao0Iy68"
      },
      "outputs": [],
      "source": [
        "print('Сложение:')\n",
        "print(data + 4)    # операция сложения"
      ]
    },
    {
      "cell_type": "code",
      "execution_count": null,
      "metadata": {
        "id": "z9kUdHzMI5pO"
      },
      "outputs": [],
      "source": [
        "# columnNames = ['x1','x2','x3']\n",
        "data2 = pd.DataFrame(np.random.randn(5,3), columns=columnNames)\n",
        "print('\\ndata2 =')\n",
        "print(data2)"
      ]
    },
    {
      "cell_type": "code",
      "execution_count": null,
      "metadata": {
        "id": "73YTQ_OiJGZ5"
      },
      "outputs": [],
      "source": [
        "print('\\ndata + data2 = ')\n",
        "print(data+data2) # data.add(data2)\n",
        "\n",
        "print('\\ndata * data2 = ')\n",
        "print(data*data2) # data.mul(data2)"
      ]
    },
    {
      "cell_type": "code",
      "execution_count": null,
      "metadata": {
        "id": "C5RtuIbmJYqS"
      },
      "outputs": [],
      "source": [
        "print(data.abs())    # абсолютное значение по каждому элементу"
      ]
    },
    {
      "cell_type": "markdown",
      "metadata": {
        "id": "p8sWeoYpk1Qt"
      },
      "source": [
        "В объекте `DataFrame` два измерения – операция может выполняться по строкам (параметр `axis=0`) или по столбцам (параметр `axis=1`).  "
      ]
    },
    {
      "cell_type": "code",
      "execution_count": null,
      "metadata": {
        "id": "73OM5flvJa8H"
      },
      "outputs": [],
      "source": [
        "print('\\nМаксимальное значение в столбцах:')\n",
        "print(data.max()) # максимальное значение в столбцах (по умолчанию axis=0)"
      ]
    },
    {
      "cell_type": "code",
      "execution_count": null,
      "metadata": {
        "id": "4sc_PUGBJiex"
      },
      "outputs": [],
      "source": [
        "print('\\nМинимальное значение в строках:')\n",
        "print(data.min(axis=1)) # минимальное значение в строках"
      ]
    },
    {
      "cell_type": "code",
      "execution_count": null,
      "metadata": {
        "id": "_jJVfyMdJqEr"
      },
      "outputs": [],
      "source": [
        "print('\\nСумма значений в столбцах:')\n",
        "print(data.sum()) # найти сумму значений для каждого столбца – применяем по строкам"
      ]
    },
    {
      "cell_type": "code",
      "execution_count": null,
      "metadata": {
        "id": "l9fDc_OrJvR8"
      },
      "outputs": [],
      "source": [
        "print('\\nСреднее значение в строках:')\n",
        "print(data.mean(axis=1)) # найти среднее значение для каждой строки – применяем по столбцам"
      ]
    },
    {
      "cell_type": "markdown",
      "metadata": {
        "id": "KSGoo8NRPym1"
      },
      "source": [
        "##  Загрузка данных из __Tensorflow Datasets__\n",
        "\n",
        "[__TensorFlow__](https://www.tensorflow.org) — открытая программная библиотека для машинного обучения, разработанная компанией Google для решения задач построения и обучения нейронных сетей.\n",
        "\n",
        "Модуль __Tensorflow Datasets__ (TFDS) представляет собой коллекцию из более чем тысячи наборов данных для использования в учебных и исследовательских целях с библиотекой __TensorFlow__.\n"
      ]
    },
    {
      "cell_type": "code",
      "execution_count": null,
      "metadata": {
        "id": "7upKfWfxsAhk"
      },
      "outputs": [],
      "source": [
        "import tensorflow_datasets as tfds"
      ]
    },
    {
      "cell_type": "markdown",
      "metadata": {
        "id": "E_bvQNbzsSrE"
      },
      "source": [
        "__NB__ Иногда при обращении к датасету TFDS из Colab может возникать ошибка, которую можно устранить выполнением в ячейке команды `!pip install -q tfds-nightly` (требуется перезагрузка ядра блокнота).\n",
        "\n",
        "Считаем из TFDS набор данных [__Ирисы__](https://www.tensorflow.org/datasets/catalog/iris):  "
      ]
    },
    {
      "cell_type": "code",
      "execution_count": null,
      "metadata": {
        "id": "2JzBPaGis2kA"
      },
      "outputs": [],
      "source": [
        "ds = tfds.load(\"iris\", split='train') \n",
        "ds"
      ]
    },
    {
      "cell_type": "markdown",
      "metadata": {
        "id": "74UskaLFtGL1"
      },
      "source": [
        "Преобразуем объект `PrefetchDataset` в датафрейм:"
      ]
    },
    {
      "cell_type": "code",
      "execution_count": null,
      "metadata": {
        "id": "YAdf9TKKtSfJ"
      },
      "outputs": [],
      "source": [
        "df = tfds.as_dataframe(ds)\n",
        "df.head()"
      ]
    },
    {
      "cell_type": "markdown",
      "metadata": {
        "id": "SyTDw_ZGttWu"
      },
      "source": [
        "Добавим в датафрейм новые четыре признака `V0`, `V1`, `V2`, `V3`:"
      ]
    },
    {
      "cell_type": "code",
      "execution_count": null,
      "metadata": {
        "id": "9omfvnQRtpvN"
      },
      "outputs": [],
      "source": [
        "for i in range(4):\n",
        "    df['V'+str(i)] = df['features'].apply([lambda x:x[i]])\n",
        "\n",
        "df.head()"
      ]
    },
    {
      "cell_type": "markdown",
      "metadata": {
        "id": "_Dnrq475uRPj"
      },
      "source": [
        "Удалим из датафрейма столбец `features`:"
      ]
    },
    {
      "cell_type": "code",
      "execution_count": null,
      "metadata": {
        "id": "WiE_8hZ3uYqL"
      },
      "outputs": [],
      "source": [
        "df.drop(columns=['features'],inplace=True)\n",
        "df.head()"
      ]
    },
    {
      "cell_type": "markdown",
      "metadata": {
        "id": "8l3_3I_-woun"
      },
      "source": [
        "### Дескриптивный анализ данных\n",
        "\n",
        "__Дескриптивный__ (описательный) __анализ__ (аналитика, статистика) – это разновидность анализа данных, ориентированная на сбор, систематизацию и обобщение данных с целью обнаружения в них интерпретируемых зависимостей и закономерностей.\n",
        "\n",
        "Оценить размеры датафрейма и типы столбцов можно так:"
      ]
    },
    {
      "cell_type": "code",
      "execution_count": null,
      "metadata": {
        "id": "t0aGksIi51cQ"
      },
      "outputs": [],
      "source": [
        "df.info()"
      ]
    },
    {
      "cell_type": "markdown",
      "metadata": {
        "id": "5o4fCJeA51cQ"
      },
      "source": [
        "1. Значения данных и их частоты\n",
        "\n",
        "Перечень уникальных значения и таблица частот могут быть построены следующими командами:"
      ]
    },
    {
      "cell_type": "code",
      "execution_count": null,
      "metadata": {
        "id": "47M_2BV7xP83"
      },
      "outputs": [],
      "source": [
        "df['label'].unique()"
      ]
    },
    {
      "cell_type": "code",
      "execution_count": null,
      "metadata": {
        "id": "8BSkgGd4w4jc"
      },
      "outputs": [],
      "source": [
        "df['label'].value_counts()"
      ]
    },
    {
      "cell_type": "markdown",
      "metadata": {
        "id": "EYsJ1Oe1xXSc"
      },
      "source": [
        "2. Средние значения (центральная тенденция) данных"
      ]
    },
    {
      "cell_type": "code",
      "execution_count": null,
      "metadata": {
        "id": "43KUAA9Rxgp0"
      },
      "outputs": [],
      "source": [
        "df.mean() # средние значения"
      ]
    },
    {
      "cell_type": "code",
      "execution_count": null,
      "metadata": {
        "id": "IILNIiVNx8lb"
      },
      "outputs": [],
      "source": [
        "df.median() # медианы"
      ]
    },
    {
      "cell_type": "markdown",
      "metadata": {
        "id": "lznyHPuMya_M"
      },
      "source": [
        "3. Рассеяние (разброс) данных"
      ]
    },
    {
      "cell_type": "code",
      "execution_count": null,
      "metadata": {
        "id": "QOQFeXlfyl2i"
      },
      "outputs": [],
      "source": [
        "df.min() # минимумы"
      ]
    },
    {
      "cell_type": "code",
      "execution_count": null,
      "metadata": {
        "id": "xhcNDfxIy1VJ"
      },
      "outputs": [],
      "source": [
        "df.max() # максимумы"
      ]
    },
    {
      "cell_type": "code",
      "execution_count": null,
      "metadata": {
        "id": "Bklkqqcty_Qq"
      },
      "outputs": [],
      "source": [
        "df.std() # стандартные отклонения"
      ]
    },
    {
      "cell_type": "code",
      "execution_count": null,
      "metadata": {
        "id": "r29Kr9VF51cT"
      },
      "outputs": [],
      "source": [
        "df.var() # дисперсии - квадраты стандартных отклонений"
      ]
    },
    {
      "cell_type": "markdown",
      "metadata": {
        "id": "OQs27DDPz5WS"
      },
      "source": [
        "4. Расположение данных (квантили распределения)"
      ]
    },
    {
      "cell_type": "code",
      "execution_count": null,
      "metadata": {
        "id": "CpOhCPGMz-ik"
      },
      "outputs": [],
      "source": [
        "df.quantile(0.9) # квантили 90%"
      ]
    },
    {
      "cell_type": "markdown",
      "metadata": {
        "id": "uu9ihn--51cU"
      },
      "source": [
        "5. Описательный анализ набора данных"
      ]
    },
    {
      "cell_type": "code",
      "execution_count": null,
      "metadata": {
        "id": "jrQn44l70Hhq"
      },
      "outputs": [],
      "source": [
        "df.describe()"
      ]
    },
    {
      "cell_type": "markdown",
      "metadata": {
        "id": "gW0-2gWU9X06"
      },
      "source": [
        "## Разведочный анализ данных\n",
        "\n",
        "__Разведочный анализ данных__ (exploratory data analysis) — анализ основных свойств данных, нахождение в них общих закономерностей, распределений и аномалий, построение моделей данных с использованием инструментов визуализации.\n",
        "\n",
        "Основные средства разведочного анализа — изучение вероятностных распределений переменных, построение и анализ корреляционных матриц, факторный анализ, дискриминантный анализ.\n",
        "\n",
        "### Эмпирическая функция и эмпирическая плотность распределения\n",
        "\n",
        "Пусть рассматривается числовой признак $X$, принимающий значения $x_{i},i=\\overline{1,n}.$\n",
        "\n",
        "Тогда __эмпирическая__ (кумулятивная) __функция распределения__ (CDF) в точке $x$ задается как сумма относительных частот для всех элементов выборки $\\{x_{i}\\}$, меньше или равных $x$:\n",
        "\n",
        "$\\hat{F}(x)=\\frac{1}{n}\\;\\sum_{i=1}^{n}I\\left(x_{i}\\leqslant x\\right)$,\n",
        "\n",
        "где индикаторная переменная $I$ принимает значение $1$, когда указанное в качестве аргумента условие выполняется, или $0$ в противном случае. Для каждой точки $x_{i}$ используется одинаковая относительная частотв (коэффициент) $\\frac{1}{n}$. "
      ]
    },
    {
      "cell_type": "code",
      "execution_count": null,
      "metadata": {
        "id": "gU8OUevx9nwg"
      },
      "outputs": [],
      "source": [
        "def ECDF(data, x):\n",
        "    counter = 0\n",
        "    for v in data:\n",
        "        if v <= x:\n",
        "            counter += 1\n",
        "    return counter / len(data)"
      ]
    },
    {
      "cell_type": "code",
      "execution_count": null,
      "metadata": {
        "id": "FM9IB-4G9vrR"
      },
      "outputs": [],
      "source": [
        "samples = df['V0'] # sepal length\n",
        "npoints = 500\n",
        "dx = (samples.max()-samples.min())/npoints\n",
        "\n",
        "xlist = [samples.min()+dx*i for i in range(npoints)]\n",
        "ylist = [ECDF(samples, x) for x in xlist]"
      ]
    },
    {
      "cell_type": "code",
      "execution_count": null,
      "metadata": {
        "id": "3AzIA-dE-BQ3"
      },
      "outputs": [],
      "source": [
        "df_ECDF = pd.DataFrame(ylist, columns=['V0'],index=xlist)\n",
        "df_ECDF\n"
      ]
    },
    {
      "cell_type": "code",
      "execution_count": null,
      "metadata": {
        "id": "DoppqXiy-8mu"
      },
      "outputs": [],
      "source": [
        "df_ECDF.plot.line(title='График эмпирической функции распределения признака V0');"
      ]
    },
    {
      "cell_type": "markdown",
      "metadata": {
        "id": "FU8zkTJh_yBe"
      },
      "source": [
        "__Эмпирическая__ (выборочная) __плотность распределения__ (PDF) – это ступенчатая функция, в которой высота ступени на промежутке вычисляется из условия, что площадь прямоугольника (ступени) равна относительной частоте попадания в этот промежуток. \n",
        "\n",
        "Для построения эмпирической плотности распределения можно воспользоваться мет одом для построения гистограммы с параметром `density=True`:"
      ]
    },
    {
      "cell_type": "code",
      "execution_count": null,
      "metadata": {
        "id": "5vC6hBQOBvyK"
      },
      "outputs": [],
      "source": [
        "df['V0'].plot.hist(density=True);"
      ]
    },
    {
      "cell_type": "code",
      "execution_count": null,
      "metadata": {
        "id": "QJynmYyNB-oM"
      },
      "outputs": [],
      "source": [
        "df['V0'].plot.hist(color='yellow', edgecolor='black', bins=20, density=True);"
      ]
    },
    {
      "cell_type": "markdown",
      "metadata": {
        "id": "taeMBExzCgEb"
      },
      "source": [
        "### Ковариация и корреляция между признаками\n",
        "\n",
        "__Ковариация__ — это мера линейной зависимости двух случайных величин. Для вычисления ковариации числовых признаков датафрейма можно воспользоваться методом `cov()`:"
      ]
    },
    {
      "cell_type": "code",
      "execution_count": null,
      "metadata": {
        "id": "4vBnEbJ8CTZD"
      },
      "outputs": [],
      "source": [
        "df.cov()"
      ]
    },
    {
      "cell_type": "markdown",
      "metadata": {
        "id": "0J2ZXGJsC_3h"
      },
      "source": [
        "__Корреляция__ (корреляция Пирсона) — это статистическая взаимосвязь двух или более случайных величин. Для вычисления корреляции числовых признаков датафрейма можно воспользоваться методом `corr()`:"
      ]
    },
    {
      "cell_type": "code",
      "execution_count": null,
      "metadata": {
        "id": "QZ0DwXJLC2KL"
      },
      "outputs": [],
      "source": [
        "df.corr()"
      ]
    },
    {
      "cell_type": "markdown",
      "metadata": {
        "id": "-PY3AsNV0zIO"
      },
      "source": [
        "### Визуализация данных датасета средствами Pandas\n",
        "\n",
        "В Pandas имеются встроенные средства для отображения данных объектов `Series` и `DataFrame`. Например, __линейный график__ (line plot) состоит из серии точек, соединенных линиями:"
      ]
    },
    {
      "cell_type": "code",
      "execution_count": null,
      "metadata": {
        "id": "UnQ0n0Jb4oWi"
      },
      "outputs": [],
      "source": [
        "df['V0'].plot.line(title='Линейный график признака V0');"
      ]
    },
    {
      "cell_type": "code",
      "execution_count": null,
      "metadata": {
        "id": "kvRyrxbD4zhX"
      },
      "outputs": [],
      "source": [
        "df.plot.line(title='Линейный график признаков набора Ирисы',figsize=(12,6));"
      ]
    },
    {
      "cell_type": "markdown",
      "metadata": {
        "id": "2n027BFL5Fpm"
      },
      "source": [
        "__Столбчатая диаграмма__ (bar chart) представляет величины прямоугольными зонами, высоты или длины которых пропорциональны величинам, которые они отображают:"
      ]
    },
    {
      "cell_type": "code",
      "execution_count": null,
      "metadata": {
        "id": "Ch8GtbAM5Ox3"
      },
      "outputs": [],
      "source": [
        "df['V0'].plot.bar(title='Столбчатая диаграмма признака V0', figsize=(15,6));"
      ]
    },
    {
      "cell_type": "code",
      "execution_count": null,
      "metadata": {
        "id": "CdrrKnL65oeo"
      },
      "outputs": [],
      "source": [
        "df[::5]['V0'].plot.bar(title='Столбчатая диаграмма признака V0'); # шаг 5"
      ]
    },
    {
      "cell_type": "code",
      "execution_count": null,
      "metadata": {
        "id": "yGqWne_959Nv"
      },
      "outputs": [],
      "source": [
        "df[::10].plot.bar(title='Столбчатая диаграмма признаков набора Ирисы',\n",
        "                       figsize=(12,8)); # шаг 10"
      ]
    },
    {
      "cell_type": "markdown",
      "metadata": {
        "id": "Rc-clEwp6IfK"
      },
      "source": [
        "__Гистограмма__ (histogram) — это столбчатая диаграмма, в которой высота каждого прямоугольника (или его площадь) пропорциональна числу элементов выборки, попадающих в соответствующий интервал. "
      ]
    },
    {
      "cell_type": "code",
      "execution_count": null,
      "metadata": {
        "id": "UPQpok7k6Kq-"
      },
      "outputs": [],
      "source": [
        "df['V0'].plot.hist(bins=15,title='Гистограмма признака V0');"
      ]
    },
    {
      "cell_type": "markdown",
      "metadata": {
        "id": "e65YYQUB6dog"
      },
      "source": [
        "__Диаграмма размаха__ (box plot) в удобной форме показывает медиану (среднее), первый (25%) и третий (75%) квартили, края статистически значимой выборки (минимальное и максимальное значения) и, возможно, выбросы."
      ]
    },
    {
      "cell_type": "code",
      "execution_count": null,
      "metadata": {
        "id": "aa18B15c6hRj"
      },
      "outputs": [],
      "source": [
        "df['V0'].plot.box(title='Диаграмма размаха признака V0');"
      ]
    },
    {
      "cell_type": "code",
      "execution_count": null,
      "metadata": {
        "id": "yNq2S-gn6zmM"
      },
      "outputs": [],
      "source": [
        "df.plot.box(title='Диаграммы размаха признаков набора Ирисы'); # by='label',"
      ]
    },
    {
      "cell_type": "markdown",
      "metadata": {
        "id": "Bknghkmg6wBU"
      },
      "source": [
        "__Диаграмма рассеяния__ (scatter plot) изображает значения двух переменных в виде точек на плоскости:"
      ]
    },
    {
      "cell_type": "code",
      "execution_count": null,
      "metadata": {
        "id": "RdNK-tho7GGw"
      },
      "outputs": [],
      "source": [
        "df.plot.scatter('V0','V1',title='Диаграмма рассеяния признаков V0 и V1');"
      ]
    },
    {
      "cell_type": "markdown",
      "metadata": {
        "id": "RKlRxa2EKcTu"
      },
      "source": [
        "## Визуализация данных при помощи __Matplotlib__\n",
        "\n",
        "Библиотека __Matplotlib__ предназначена для визуализации данных."
      ]
    },
    {
      "cell_type": "code",
      "execution_count": null,
      "metadata": {
        "id": "GCNmPhYuurZN"
      },
      "outputs": [],
      "source": [
        "import matplotlib.pyplot as plt"
      ]
    },
    {
      "cell_type": "markdown",
      "metadata": {
        "id": "ea4FLN13u0ER"
      },
      "source": [
        "Построим простую линейную зависимость $y=x$, дадим нашему графику название, подпишем оси и отобразим сетку:"
      ]
    },
    {
      "cell_type": "code",
      "execution_count": null,
      "metadata": {
        "id": "YB8EvIk5vDFY"
      },
      "outputs": [],
      "source": [
        "# Независимая (x) и зависимая (y) переменные\n",
        "x = np.linspace(0, 10, 50)\n",
        "y = x"
      ]
    },
    {
      "cell_type": "code",
      "execution_count": null,
      "metadata": {
        "id": "eTwVnLapvLbP"
      },
      "outputs": [],
      "source": [
        "plt.title(\"Линейная зависимость y = x\") # заголовок\n",
        "plt.xlabel(\"x\") # ось абсцисс\n",
        "plt.ylabel(\"y\") # ось ординат\n",
        "plt.grid(True)  # включение отображение сетки\n",
        "plt.plot(x, y); # построение графика"
      ]
    },
    {
      "cell_type": "markdown",
      "metadata": {
        "id": "MfbCnAOmvo_n"
      },
      "source": [
        "Изменим тип линии и ее цвет, для этого в функцию `plot()` в качестве третьего параметра передадим строку, сформированную определенным образом, в нашем случае это `“r--”`, где `“r”` означает красный цвет, а `“--”` – это тип линии (пунктирная линия)."
      ]
    },
    {
      "cell_type": "code",
      "execution_count": null,
      "metadata": {
        "id": "p7APqhK-vz6X"
      },
      "outputs": [],
      "source": [
        "plt.title(\"Линейная зависимость y = x\") # заголовок\n",
        "plt.xlabel(\"x\") # ось абсцисс\n",
        "plt.ylabel(\"y\") # ось ординат\n",
        "plt.grid(True)  # включение отображение сетки\n",
        "plt.plot(x, y, \"r--\");  # построение графика"
      ]
    },
    {
      "cell_type": "markdown",
      "metadata": {
        "id": "09jU4noIwExK"
      },
      "source": [
        "Построим несколько графиков на одном поле, для этого добавим квадратичную зависимость $y=x^2$:"
      ]
    },
    {
      "cell_type": "code",
      "execution_count": null,
      "metadata": {
        "id": "TjLFRgqhwY1H"
      },
      "outputs": [],
      "source": [
        "x = np.linspace(0, 10, 50)\n",
        "y1 = x # Линейная зависимость\n",
        "y2 = [i**2 for i in x] # Квадратичная зависимость с исп. спискового генератора\n",
        "# Построение графика\n",
        "plt.title(r\"Зависимости: $y_1 = x, y_2 = x^2$\") # заголовок с r-строкой\n",
        "plt.xlabel(\"x\")              # ось абсцисс\n",
        "plt.ylabel(r\"$y_1, y_2$\")    # ось ординат (с r-строкой)\n",
        "plt.grid(True)               # включение отображение сетки\n",
        "plt.plot(x, y1, x, y2);      # построение графика"
      ]
    },
    {
      "cell_type": "markdown",
      "metadata": {
        "id": "95uN08DfCWtf"
      },
      "source": [
        "В приведенном примере в функцию `plot()` передаются два массива для построения первого графика и два массива для построения второго графика, при этом для обоих графиков массив значений независимой переменной $x$ один и то же.\n",
        "\n",
        "Построим уже известные нам две зависимости в виде двух рисунков."
      ]
    },
    {
      "cell_type": "code",
      "execution_count": null,
      "metadata": {
        "id": "CxxozfeOC4gL"
      },
      "outputs": [],
      "source": [
        "x = np.linspace(0, 10, 50)\n",
        "y1 = x                        # Линейная зависимость\n",
        "y2 = [i**2 for i in x]        # Квадратичная зависимость\n",
        "# Построение графиков\n",
        "plt.figure(figsize=(9, 9))\n",
        "plt.subplot(2, 1, 1)          # график №1 из двух\n",
        "plt.plot(x, y1)               # построение графика\n",
        "plt.title(r\"Зависимости: $y_1 = x$, $y_2 = x^2$\") # заголовок\n",
        "plt.ylabel(r\"$y_1$\", fontsize=14) # ось ординат\n",
        "plt.grid(True)                # включение отображение сетки\n",
        "plt.subplot(2, 1, 2)          # график №2 из двух\n",
        "plt.plot(x, y2)               # построение графика\n",
        "plt.xlabel(r\"$x$\", fontsize=14)  # ось абсцисс\n",
        "plt.ylabel(r\"$y_2$\", fontsize=14) # ось ординат\n",
        "plt.grid(True);               # включение отображение сетки"
      ]
    },
    {
      "cell_type": "markdown",
      "metadata": {
        "id": "9hwtgwQUDzNP"
      },
      "source": [
        "Здесь мы воспользовались новыми функциями: \n",
        "\n",
        "`figure()` – функция для задания глобальных параметров отображения графиков. В нее, в качестве аргумента, мы передаем кортеж, определяющий размер общего поля. \n",
        "\n",
        "`subplot()` – функция для задания местоположения поля с графиком. Существует несколько способов задания областей для вывода через функцию `subplot()` мы воспользовались следующим: первый аргумент – количество строк, второй – количество столбцов в формируемом поле, третий – индекс (номер поля, считаем сверху вниз, слева направо).\n",
        "\n",
        "Остальные функции уже вам знакомы, дополнительно мы использовали параметр `fontsize` для функций `xlabel()` и `ylabel()` для задания размера шрифта."
      ]
    },
    {
      "cell_type": "markdown",
      "metadata": {
        "id": "TTgbNgA1TSFd"
      },
      "source": [
        "### Основные элементы графика\n",
        "\n",
        "Рассмотрим основные термины и понятия, касающиеся изображения графиков в библиотеке __Matplotlib__ на следующем более сложном примере:"
      ]
    },
    {
      "cell_type": "code",
      "execution_count": null,
      "metadata": {
        "id": "EL49HDihTSFe"
      },
      "outputs": [],
      "source": [
        "from matplotlib.ticker import AutoMinorLocator\n",
        "\n",
        "x = np.linspace(0, 10, 10)\n",
        "y1 = 4*x\n",
        "y2 = x**2\n",
        "\n",
        "fig, ax = plt.subplots(figsize=(8, 6))\n",
        "\n",
        "ax.set_title(r\"Графики зависимостей: $y_1=4x$, $y_2=x^2$\", fontsize=16)\n",
        "ax.set_xlabel(r\"$x$\", fontsize=14)        \n",
        "ax.set_ylabel(r\"$y_1, y_2$\", fontsize=14)\n",
        "ax.grid(which=\"major\", linewidth=1.2)\n",
        "ax.grid(which=\"minor\", linestyle=\"--\", color=\"gray\", linewidth=0.5)\n",
        "ax.scatter(x, y1, c=\"red\", label=r\"$y_1 = 4x$\")\n",
        "ax.plot(x, y2, label=r\"$y_2 = x^2$\")\n",
        "ax.legend()\n",
        "\n",
        "ax.xaxis.set_minor_locator(AutoMinorLocator())\n",
        "ax.yaxis.set_minor_locator(AutoMinorLocator())\n",
        "ax.tick_params(which='major', length=10, width=2)\n",
        "ax.tick_params(which='minor', length=5, width=1);"
      ]
    },
    {
      "cell_type": "markdown",
      "metadata": {
        "id": "xxvjPYbGTSFf"
      },
      "source": [
        "Корневым элементом при построения графиков в системе __Matplotlib__ является объект `Figure`. Все, что нарисовано на рисунке выше является элементами этого объекта.\n",
        "\n",
        "#### График\n",
        "\n",
        "На рисунке представлены два графика – линейный и точечный. __Matplotlib__ предоставляет огромное количество различных настроек, которые можно использовать для того, чтобы придать графику вид, который вам нужен: цвет, толщина и тип линии, стиль линии и многое другое.\n",
        "\n",
        "#### Оси\n",
        "\n",
        "Вторым, после непосредственно самого графика, по важности элементом являются оси. Для каждой оси можно задать метку (подпись), основные (`major`) и дополнительные (`minor`) тики, их подписи, размер и толщину, также можно задать диапазоны по каждой из осей.\n",
        "\n",
        "#### Сетка и легенда\n",
        "\n",
        "Значительно повышают информативность графика сетка и легенда. Сетка может быть основной (`major`) и дополнительной (`minor`). Каждому типу сетки можно задавать цвет, толщину линии и тип. Для отображения сетки и легенды используются соответствующие команды."
      ]
    },
    {
      "cell_type": "markdown",
      "metadata": {
        "id": "2FWTQ7uOeVNS"
      },
      "source": [
        "## Задача регрессии\n",
        "\n",
        "Задача регрессии заключается в построении некоторой функции $f\\left(x_{1},x_{2},...,x_{d}\\right)$, которая наилучшим образом описывает данные из некоторой обучающей выборки, в которой каждому вектору значений независимых переменных (предикторов) $x$ ставится в соответствие зависимая переменная $y$. Эта функция ищется в некотором конкретном классе функций.\n",
        "\n",
        "### Понятие линейной регрессии\n",
        "\n",
        "Линейная регрессия (linear regression) — это метод восстановления зависимости одной (объясняемой, зависимой) переменной $y$ от другой или нескольких других переменных (факторов, независимых переменных) $\\mathbf{x}$ с линейной функцией зависимости от коэффициентов. \n",
        "\n",
        "В линейной регрессии функция $f$ предполагается линейной по $\\mathbf{x}$, т.е.\n",
        "\n",
        "$f\\left(\\mathbf{x}\\right)=\\beta+\\omega_{1}x_{1}+\\omega_{2}x_{2}+...+\\omega_{d}x_{d}=\\beta+\\sum_{i=1}^{d}\\omega_{i}x_{i}=\\beta+\\mathbf{\\boldsymbol{\\omega}^{T}x},$\n",
        "\n",
        "где $\\beta$ – истинное (неизвестное) смещение (bias), $\\omega_{i}$ – истинный (неизвестный) коэффициент регрессии или вес для признака $x_{i}$, $\\boldsymbol{\\omega}=\\left(\\omega_{1},\\omega_{2},...,\\omega_{d}\\right)^{T}$ – истинный $d$-мерный вектор весов."
      ]
    },
    {
      "cell_type": "code",
      "execution_count": null,
      "metadata": {
        "id": "ZGCeZCQyev5U"
      },
      "outputs": [],
      "source": [
        "x = np.array([1., 2., 3., 4., 5.])\n",
        "y = np.array([1., 3., 2., 3., 5.])"
      ]
    },
    {
      "cell_type": "code",
      "execution_count": null,
      "metadata": {
        "id": "PB4SM5yie75R"
      },
      "outputs": [],
      "source": [
        "plt.scatter(x, y)\n",
        "plt.axis([0, 6, 0, 6]);"
      ]
    },
    {
      "cell_type": "markdown",
      "metadata": {
        "id": "l-JeEc2TfQms"
      },
      "source": [
        "Для вычисления коэффициентов $a,\\,b$ парной линейной регрессии $y=a\\,x+b$ нужно вычислить математические ожидания и ковариацию переменных (признаков) $x$ и $y$, дисперсию переменной (признака) $x$:\n",
        "\n",
        "$$a=\\frac{\\sigma_{\\mathbf{XY}}}{\\sigma_{\\mathbf{X}}^{2}},\\,b=\\mu_{\\mathbf{Y}}-\\frac{\\sigma_{\\mathbf{XY}}}{\\sigma_{\\mathbf{X}}^{2}}\\,\\mu_{\\mathbf{X}},$$\n",
        "\n",
        "где\n",
        "\n",
        "$$\\mu_{\\mathbf{X}}=\\frac{1}{n}\\sum_{i=1}^{n}x_{i},\\,\\mu_{\\mathbf{Y}}=\\frac{1}{n}\\sum_{i=1}^{n}y_{i},$$\n",
        "$$\\sigma_{\\mathbf{XY}}=\\frac{1}{n}\\sum_{i=1}^{n}\\left(x_{i}-\\mu_{\\mathbf{X}}\\right)\\left(y_{i}-\\mu_{\\mathbf{Y}}\\right),$$\n",
        "$$\\sigma_{\\mathbf{X}}^{2}=\\frac{1}{n}\\sum_{i=1}^{n}\\left(x_{i}-\\mu_{\\mathbf{X}}\\right)^{2}.$$"
      ]
    },
    {
      "cell_type": "markdown",
      "metadata": {
        "id": "BP0b2dvJDQgs"
      },
      "source": [
        "Вычислим математические ожидания переменных (признаков) $x$ и $y$:"
      ]
    },
    {
      "cell_type": "code",
      "execution_count": null,
      "metadata": {
        "id": "azhrOB_sfN6a"
      },
      "outputs": [],
      "source": [
        "x_mean = np.mean(x)\n",
        "y_mean = np.mean(y)"
      ]
    },
    {
      "cell_type": "markdown",
      "metadata": {
        "id": "7DEh8GoZFHcF"
      },
      "source": [
        "и далее коэффициенты регрессии и смещения:"
      ]
    },
    {
      "cell_type": "code",
      "execution_count": null,
      "metadata": {
        "id": "0w_i4Qt7Ek2U"
      },
      "outputs": [],
      "source": [
        "a = (x - x_mean).dot(y - y_mean) / (x - x_mean).dot(x - x_mean)\n",
        "b = y_mean - a * x_mean"
      ]
    },
    {
      "cell_type": "markdown",
      "metadata": {
        "id": "kWKJlPIjFXzt"
      },
      "source": [
        "Прогнозируемые значения зависимой переменной вычисляются при помощи полученных коэффициентов так:"
      ]
    },
    {
      "cell_type": "code",
      "execution_count": null,
      "metadata": {
        "id": "mgL4nKmCfxG3"
      },
      "outputs": [],
      "source": [
        "y_hat = a * x + b\n",
        "y_hat"
      ]
    },
    {
      "cell_type": "markdown",
      "metadata": {
        "id": "MA30Be6uF7Vb"
      },
      "source": [
        "Построим на рисунке точки набора данных и линию регрессии:"
      ]
    },
    {
      "cell_type": "code",
      "execution_count": null,
      "metadata": {
        "id": "qRfXlPb3gOVC"
      },
      "outputs": [],
      "source": [
        "plt.scatter(x, y)\n",
        "plt.plot(x, y_hat, color='r')\n",
        "plt.axis([0, 6, 0, 6]);"
      ]
    },
    {
      "cell_type": "markdown",
      "metadata": {
        "id": "uIqwdUJkgunC"
      },
      "source": [
        "Построенная таким образом линейная функция позволяет прогнозировать значение $y$ по любому значению $x$:"
      ]
    },
    {
      "cell_type": "code",
      "execution_count": null,
      "metadata": {
        "id": "TPG-mZNygg65"
      },
      "outputs": [],
      "source": [
        "x_predict = 6\n",
        "y_predict = a * x_predict + b\n",
        "y_predict"
      ]
    },
    {
      "cell_type": "markdown",
      "metadata": {
        "id": "33PNitOWGoL7"
      },
      "source": [
        "Объединим программный код в следующий класс `SimpleLinearReg`:"
      ]
    },
    {
      "cell_type": "code",
      "execution_count": null,
      "metadata": {
        "id": "N4oGXNtwg1Eu"
      },
      "outputs": [],
      "source": [
        "class SimpleLinReg:\n",
        "\n",
        "    def __init__(self):\n",
        "        self.a_ = None\n",
        "        self.b_ = None\n",
        "\n",
        "    def fit(self, x_train, y_train):\n",
        "        assert x_train.ndim == 1, \\\n",
        "            \"В данных должен быть один признак\"\n",
        "        assert len(x_train) == len(y_train), \\\n",
        "            \"Данные должны иметь одинаковый размер\"\n",
        "\n",
        "        x_mean = np.mean(x_train)\n",
        "        y_mean = np.mean(y_train)\n",
        "\n",
        "        self.a_ = (x_train - x_mean).dot(y_train - y_mean) / \\\n",
        "                  (x_train - x_mean).dot(x_train - x_mean)\n",
        "        self.b_ = y_mean - self.a_ * x_mean\n",
        "\n",
        "        return self\n",
        "\n",
        "    def predict(self, x_predict):\n",
        "        assert x_predict.ndim == 1, \\\n",
        "            \"В данных должен быть один признак\"\n",
        "        assert self.a_ is not None and self.b_ is not None, \\\n",
        "            \"Модель вначале должна быть обучена\"\n",
        "\n",
        "        return np.array([self._predict(x) for x in x_predict])\n",
        "\n",
        "    def _predict(self, x_single):\n",
        "        return self.a_ * x_single + self.b_\n",
        "\n",
        "    def __repr__(self):\n",
        "        return \"SimpleLinearReg()\""
      ]
    },
    {
      "cell_type": "markdown",
      "metadata": {
        "id": "JZ1xr1xuhy0_"
      },
      "source": [
        "Теперь можно создавать объекты этого класса при помощи конструктора и применять к объектам методы класса:"
      ]
    },
    {
      "cell_type": "code",
      "execution_count": null,
      "metadata": {
        "id": "WEPcXamEh16M"
      },
      "outputs": [],
      "source": [
        "reg1 = SimpleLinReg()\n",
        "reg1"
      ]
    },
    {
      "cell_type": "code",
      "execution_count": null,
      "metadata": {
        "id": "EDk5UmzBiMRC"
      },
      "outputs": [],
      "source": [
        "reg1.fit(x, y)\n",
        "reg1.predict(np.array([x_predict]))"
      ]
    },
    {
      "cell_type": "code",
      "execution_count": null,
      "metadata": {
        "id": "djGB05lGioi3"
      },
      "outputs": [],
      "source": [
        "reg1.a_, reg1.b_"
      ]
    },
    {
      "cell_type": "code",
      "execution_count": null,
      "metadata": {
        "id": "IJlmupVMi0gE"
      },
      "outputs": [],
      "source": [
        "y_hat1 = reg1.predict(x)\n",
        "\n",
        "plt.scatter(x, y)\n",
        "plt.plot(x, y_hat1, color='r')\n",
        "plt.axis([0, 6, 0, 6]);"
      ]
    },
    {
      "cell_type": "markdown",
      "metadata": {
        "id": "t11K2j30XJ90"
      },
      "source": [
        "### Загрузка набора данных __boston_housing__\n",
        "\n",
        "Набор данных содержит 13 атрибутов домов в разных местах в окрестности города Бостон в конце 1970-х годов. Целевые значения представляют собой медианные значения стоимости домов в определенном месте (в тыс. долл. США). Набор загружается из модуля `keras.datasets`, причем для обучающие данные составляют 80%, а тестовые данные – 20% всех точек."
      ]
    },
    {
      "cell_type": "code",
      "execution_count": null,
      "metadata": {
        "id": "HXXvLrcblTmb"
      },
      "outputs": [],
      "source": [
        "import tensorflow as tf\n",
        "\n",
        "(x_train, y_train), (x_test, y_test) = \\\n",
        "    tf.keras.datasets.boston_housing.load_data(test_split=0.2)\n",
        "x_train.shape, y_train.shape, x_test.shape, y_test.shape"
      ]
    },
    {
      "cell_type": "markdown",
      "metadata": {
        "id": "7cjcVLe7IJCG"
      },
      "source": [
        "Данные из набора загружены в четыре массива:\n",
        "\n",
        "* `x_train` – массив значений признаков (предикторов) для обучения\n",
        "* `y_train` - массив значений отклика для `x_train`\n",
        "* `x_test` – массив значений признаков (предикторов) для тестирования\n",
        "* `y_test` - массив значений отклика для `x_test`\n",
        "\n",
        "Преобразуем массив `x_train` в датафрейм:\n"
      ]
    },
    {
      "cell_type": "code",
      "execution_count": null,
      "metadata": {
        "id": "Z9UINVh_X0gX"
      },
      "outputs": [],
      "source": [
        "df_train = pd.DataFrame(x_train)\n",
        "df_train"
      ]
    },
    {
      "cell_type": "markdown",
      "metadata": {
        "id": "IaUyRTRUJ2Ox"
      },
      "source": [
        "Рассмотрим задачу парной регрессии с признаком с индексом 5 в качестве независимой переменной (это признак `rm` – среднее количество комнат в жилом доме):"
      ]
    },
    {
      "cell_type": "code",
      "execution_count": null,
      "metadata": {
        "id": "Pn7TdPj8Znqs"
      },
      "outputs": [],
      "source": [
        "x = x_train[:,5]  # можно 12\n",
        "y = y_train\n",
        "x.shape, y.shape"
      ]
    },
    {
      "cell_type": "markdown",
      "metadata": {
        "id": "wjG31y-nKNq0"
      },
      "source": [
        "Набор переменных для парной регрессии имеет следующий вид:"
      ]
    },
    {
      "cell_type": "code",
      "execution_count": null,
      "metadata": {
        "id": "3CrHAJLRagB-"
      },
      "outputs": [],
      "source": [
        "plt.scatter(x, y);"
      ]
    },
    {
      "cell_type": "markdown",
      "metadata": {
        "id": "JDWAhMtTa8uQ"
      },
      "source": [
        "Очистим набор от точек, расположенных вдоль верхней границы графика."
      ]
    },
    {
      "cell_type": "code",
      "execution_count": null,
      "metadata": {
        "id": "VXMf1wj0a96U"
      },
      "outputs": [],
      "source": [
        "np.max(y)"
      ]
    },
    {
      "cell_type": "code",
      "execution_count": null,
      "metadata": {
        "id": "f-gVQf6GbCpP"
      },
      "outputs": [],
      "source": [
        "x = x[y < 50.0]\n",
        "y = y[y < 50.0]\n",
        "x.shape, y.shape"
      ]
    },
    {
      "cell_type": "code",
      "execution_count": null,
      "metadata": {
        "id": "1uAz_3embjzA"
      },
      "outputs": [],
      "source": [
        "plt.scatter(x, y);"
      ]
    },
    {
      "cell_type": "markdown",
      "metadata": {
        "id": "ociPbJ5TQyS7"
      },
      "source": [
        "Построим функцию парной регрессии для очищенного набора данных:"
      ]
    },
    {
      "cell_type": "code",
      "execution_count": null,
      "metadata": {
        "id": "vqr5MxRlCpw2"
      },
      "outputs": [],
      "source": [
        "reg = SimpleLinReg()\n",
        "reg.fit(x, y)"
      ]
    },
    {
      "cell_type": "code",
      "execution_count": null,
      "metadata": {
        "id": "su_HoO35C6EQ"
      },
      "outputs": [],
      "source": [
        "reg.a_, reg.b_"
      ]
    },
    {
      "cell_type": "markdown",
      "metadata": {
        "id": "tzXlKRkTDJUg"
      },
      "source": [
        "Изобразим на графике точки обучающего набора и линию регрессии:"
      ]
    },
    {
      "cell_type": "code",
      "execution_count": null,
      "metadata": {
        "id": "o7f7J-8dDAdW"
      },
      "outputs": [],
      "source": [
        "plt.scatter(x, y)\n",
        "plt.plot(x, reg.predict(x), color='r');"
      ]
    },
    {
      "cell_type": "markdown",
      "metadata": {
        "id": "-ym3SBSuDkpA"
      },
      "source": [
        "А теперь добавим также точки тестового набора другим цветом:"
      ]
    },
    {
      "cell_type": "code",
      "execution_count": null,
      "metadata": {
        "id": "qZ2IijUKDlWF"
      },
      "outputs": [],
      "source": [
        "plt.scatter(x, y)\n",
        "plt.scatter(x_test[:,5], y_test, color=\"c\")\n",
        "plt.plot(x, reg.predict(x), color='r');"
      ]
    },
    {
      "cell_type": "markdown",
      "metadata": {
        "id": "JyIOokMbEK4v"
      },
      "source": [
        "Построим прогнозные значения для точек тестового набора, чтобы оценить качество модели регрессии:"
      ]
    },
    {
      "cell_type": "code",
      "execution_count": null,
      "metadata": {
        "id": "JNipk_FYEQ8z"
      },
      "outputs": [],
      "source": [
        "y_predict = reg.predict(x_test[:,5])\n",
        "y_predict"
      ]
    },
    {
      "cell_type": "markdown",
      "metadata": {
        "id": "BkBtxcYNFgY_"
      },
      "source": [
        "## Метрики регрессии\n",
        "\n",
        "__Средняя квадратичная ошибка__ (Mean Squared Error, MSE)\n",
        "применяется в ситуациях, когда нам надо подчеркнуть большие ошибки и выбрать модель, которая дает меньше больших ошибок прогноза. \n",
        "\n",
        "$MSE=\\frac{1}{n}\\sum_{i=1}^{n}\\left(y_{i}-\\hat{y}_{i}\\right)^{2}$\n",
        "\n",
        "Грубые ошибки становятся заметнее за счет того, что ошибку прогноза мы возводим в квадрат. И про модель, которая дает нам меньшее значение среднеквадратической ошибки, можно сказать, что что у этой модели меньше грубых ошибок."
      ]
    },
    {
      "cell_type": "code",
      "execution_count": null,
      "metadata": {
        "id": "y24HM_16Ft09"
      },
      "outputs": [],
      "source": [
        "mse_test = np.sum((y_predict - y_test)**2) / len(y_test)\n",
        "mse_test"
      ]
    },
    {
      "cell_type": "markdown",
      "metadata": {
        "id": "Xv4eeXDZF6f4"
      },
      "source": [
        "__Корень из средней квадратичной ошибки__ (Root Mean Squared Error, RMSE)\n",
        "получается из MSE путем извлечения корня.\n",
        "\n",
        "$RMSE=\\sqrt{\\frac{1}{n}\\sum_{i=1}^{n}\\left(y_{i}-\\hat{y}_{i}\\right)^{2}}$\n",
        "\n",
        "Каждое отклонение возводится в квадрат, любое небольшое отклонение может значительно повлиять на показатель ошибки. "
      ]
    },
    {
      "cell_type": "code",
      "execution_count": null,
      "metadata": {
        "id": "Jw6rmYyvF2qs"
      },
      "outputs": [],
      "source": [
        "rmse_test = np.sqrt(mse_test)\n",
        "rmse_test"
      ]
    },
    {
      "cell_type": "markdown",
      "metadata": {
        "id": "MQ7pQ6x2GT-m"
      },
      "source": [
        "__Cредняя абсолютная ошибка__ (Mean Absolute Error, MAE) не так сильно штрафует за большие отклонения по сравнению со среднеквадратичным, и поэтому менее чувствительна к выбросам.\n",
        "\n",
        "$MAE=\\frac{1}{n}\\sum_{i=1}^{n}\\left|y_{i}-\\hat{y}_{i}\\right|$"
      ]
    },
    {
      "cell_type": "code",
      "execution_count": null,
      "metadata": {
        "id": "X0p2OwaaGhyq"
      },
      "outputs": [],
      "source": [
        "mae_test = np.sum(np.absolute(y_predict - y_test))/len(y_test)\n",
        "mae_test"
      ]
    },
    {
      "cell_type": "markdown",
      "metadata": {
        "id": "u3KMsEt0G1IY"
      },
      "source": [
        "__Коэффициент детерминации__ $R^2$ измеряет долю дисперсии, объясненную моделью, в общей дисперсии целевой переменной. \n",
        "\n",
        "$R^{2}=1-\\frac{Q}{S_{0}}, Q=\\sum_{i=1}^{n}\\left(y_{i}-\\hat{y}_{i}\\right)^{2}, S_{0}=\\sum_{i=1}^{n}\\left(y-\\bar{y}\\right)^{2}$,\n",
        "\n",
        "где $\\bar{y}$ – это выборочное среднее зависимой переменной $y$. Фактически, данная мера качества — это нормированная среднеквадратичная ошибка. Если она близка к единице, то модель хорошо объясняет данные, если же она близка к нулю, то прогнозы сопоставимы по качеству с константным предсказанием."
      ]
    },
    {
      "cell_type": "code",
      "execution_count": null,
      "metadata": {
        "id": "LYJy8reeGpJ8"
      },
      "outputs": [],
      "source": [
        "1 - mse_test/np.var(y_test)"
      ]
    },
    {
      "cell_type": "markdown",
      "metadata": {
        "id": "QFrXB-JT51cp"
      },
      "source": [
        "## Библиотека Tensorflow\n",
        "\n",
        "__TensorFlow__ - это комплексная платформа с открытым исходным кодом для машинного обучения с акцентом на обучение искусственных нейронных сетей. "
      ]
    },
    {
      "cell_type": "code",
      "execution_count": null,
      "metadata": {
        "id": "1L1uvn9AOCI4"
      },
      "outputs": [],
      "source": [
        "import tensorflow as tf\n",
        "print(tf.__version__)"
      ]
    },
    {
      "cell_type": "markdown",
      "metadata": {
        "id": "EsAs7ysUkP15"
      },
      "source": [
        "Рассмотрим задачу регрессии для набора boston_housing с использованием средств __Tensorflow__.\n",
        "\n",
        "Для этого создадим с использованием средств модуля __Keras__ модель простейшей нейронной сети из одного слоя с одним нейроном:"
      ]
    },
    {
      "cell_type": "code",
      "execution_count": null,
      "metadata": {
        "id": "CajZsv0LilnA"
      },
      "outputs": [],
      "source": [
        "model = tf.keras.Sequential( [ tf.keras.layers.Dense(1, input_shape=(1,)) ] )"
      ]
    },
    {
      "cell_type": "code",
      "execution_count": null,
      "metadata": {
        "id": "fVw_4xKUU3lg"
      },
      "outputs": [],
      "source": [
        "model.summary()"
      ]
    },
    {
      "cell_type": "markdown",
      "metadata": {
        "id": "mjMuncrIlsek"
      },
      "source": [
        "После того, как модель построена, настроим процесс ее обучения вызовом метода `compile()`:\n"
      ]
    },
    {
      "cell_type": "code",
      "execution_count": null,
      "metadata": {
        "id": "aN8AdWoMl6sd"
      },
      "outputs": [],
      "source": [
        "model.compile(\n",
        "    loss=tf.keras.losses.mean_absolute_error,\n",
        "    optimizer=tf.keras.optimizers.Adam(learning_rate=0.25),\n",
        "    metrics=['mean_absolute_error']\n",
        ")"
      ]
    },
    {
      "cell_type": "markdown",
      "metadata": {
        "id": "N6-B4elepBNK"
      },
      "source": [
        "Здесь в качестве функции потерь (ошибки) и для оценки качества модели используется средняя абсолютная ошибка MAE.  \n",
        "\n",
        "Модель может быть обучена на тренировочных данных, используя метод `fit()`:"
      ]
    },
    {
      "cell_type": "code",
      "execution_count": null,
      "metadata": {
        "id": "b0YPx7rhj7dh"
      },
      "outputs": [],
      "source": [
        "model.fit(x, y, epochs=100) # verbose=0"
      ]
    },
    {
      "cell_type": "markdown",
      "metadata": {
        "id": "0bWFMHNlSW7o"
      },
      "source": [
        "Выполним прогнозирование значений зависимой переменной (отклика):"
      ]
    },
    {
      "cell_type": "code",
      "execution_count": null,
      "metadata": {
        "id": "xac_QAeyif97"
      },
      "outputs": [],
      "source": [
        "y_predict2 = model.predict(x_test[:,5])\n",
        "y_predict2[:5]"
      ]
    },
    {
      "cell_type": "markdown",
      "metadata": {
        "id": "b7z2DBRsSjQb"
      },
      "source": [
        "и визуализируем их на рисунке:"
      ]
    },
    {
      "cell_type": "code",
      "execution_count": null,
      "metadata": {
        "id": "e19BGeTAXeCs"
      },
      "outputs": [],
      "source": [
        "plt.figure(figsize=(12,8))\n",
        "plt.scatter(x, y)\n",
        "plt.scatter(x_test[:,5], y_test, c='c')\n",
        "plt.plot(x_test[:,5], y_predict, c='m', label='точная линия регрессии')\n",
        "plt.plot(x_test[:,5], y_predict2, c='r', label='линия регрессии (ANN)')\n",
        "plt.legend();"
      ]
    },
    {
      "cell_type": "markdown",
      "metadata": {
        "id": "Q5Phno9N-c8z"
      },
      "source": [
        "### Нормализация\n",
        "\n",
        "Входные данные могут содержать значения, отличающиеся друг от друга на несколько порядков, например, возраст и доход клиента. Такая ситуация может вызвать неустойчивость работы модели машинного обучения, ухудшить результаты обучения и/или замедлить его процесс. \n",
        "\n",
        "__Нормализация__ — это процедура предварительной обработки входных данных, при которой значения признаков, образующих входной вектор, приводятся к некоторому заданному диапазону или распределению с  заданными параметрами (математическим ожиданием и дисперсией).\n",
        "\n",
        "В Tensorflow для встраивания нормализации в нейронную сеть создают специальный слой нормализации.\n",
        "\n",
        "Первым шагом является создание слоя:"
      ]
    },
    {
      "cell_type": "code",
      "execution_count": null,
      "metadata": {
        "id": "w9F6eLBA-O1f"
      },
      "outputs": [],
      "source": [
        "normalizer = tf.keras.layers.Normalization()"
      ]
    },
    {
      "cell_type": "markdown",
      "metadata": {
        "id": "bmgFnTPh_QQH"
      },
      "source": [
        "Теперь адаптируем слой к данным (например, признакам с индексами 4,5,7,12):"
      ]
    },
    {
      "cell_type": "code",
      "execution_count": null,
      "metadata": {
        "id": "qrl7d3p4_O2A"
      },
      "outputs": [],
      "source": [
        "normalizer.adapt(df_train[[4,5,7,12]])"
      ]
    },
    {
      "cell_type": "markdown",
      "metadata": {
        "id": "BDT-8-5yALS2"
      },
      "source": [
        "При этом вычисляются средние значения и дисперсии и сохраняются в слое:"
      ]
    },
    {
      "cell_type": "code",
      "execution_count": null,
      "metadata": {
        "id": "uThnhI9cAMYd"
      },
      "outputs": [],
      "source": [
        "print(normalizer.mean.numpy())\n",
        "print(normalizer.variance.numpy())"
      ]
    },
    {
      "cell_type": "markdown",
      "metadata": {
        "id": "uumrniExWkUC"
      },
      "source": [
        "Оценим эффект нормализации:"
      ]
    },
    {
      "cell_type": "code",
      "execution_count": null,
      "metadata": {
        "id": "PBIBOwxt6ydj"
      },
      "outputs": [],
      "source": [
        "df_train[[4,5,7,12]][0:5]"
      ]
    },
    {
      "cell_type": "code",
      "execution_count": null,
      "metadata": {
        "id": "LJEg36RlPPUP"
      },
      "outputs": [],
      "source": [
        "normalizer(df_train[[4,5,7,12]][0:5]).numpy()"
      ]
    },
    {
      "cell_type": "markdown",
      "metadata": {
        "id": "9vshF6Q3Cq5t"
      },
      "source": [
        "## Линейная регрессия с нормализацией и визуализацией обучения\n",
        "\n",
        "### Парная регрессия\n",
        "\n",
        "Начнем с парной регрессии, чтобы предсказать стоимость дома по признаку `rm` с индексом 5 (среднее количество комнат в жилом доме.).\n"
      ]
    },
    {
      "cell_type": "code",
      "execution_count": null,
      "metadata": {
        "id": "jLXYzdTQAS8N"
      },
      "outputs": [],
      "source": [
        "feature = np.array(df_train[5])\n",
        "\n",
        "feature_normalizer = tf.keras.layers.Normalization(axis=None,input_shape=(1,)) \n",
        "feature_normalizer.adapt(feature)"
      ]
    },
    {
      "cell_type": "markdown",
      "metadata": {
        "id": "GvjQAr0VDx7P"
      },
      "source": [
        "Построим последовательную модель с двумя слоями:"
      ]
    },
    {
      "cell_type": "code",
      "execution_count": null,
      "metadata": {
        "id": "13Pv8DzfAVzS"
      },
      "outputs": [],
      "source": [
        "feature_model = tf.keras.Sequential([\n",
        "    feature_normalizer,\n",
        "    tf.keras.layers.Dense(units=1)\n",
        "])\n",
        "\n",
        "feature_model.summary()"
      ]
    },
    {
      "cell_type": "markdown",
      "metadata": {
        "id": "VdGgbAKvEV-4"
      },
      "source": [
        "Эта модель будет предсказывать стоимость дома в зависимости от признака `rm`. \n",
        "\n",
        "Для тестирования можно запустить необученную модель на нескольких первых значениях, чтобы проверить результат:"
      ]
    },
    {
      "cell_type": "code",
      "execution_count": null,
      "metadata": {
        "id": "R0hEh8lFEdYW"
      },
      "outputs": [],
      "source": [
        "print(feature[:10])\n",
        "feature_model.predict(feature[:10])"
      ]
    },
    {
      "cell_type": "markdown",
      "metadata": {
        "id": "buo8KhxRE_gM"
      },
      "source": [
        "После построения модели настроим процедуру обучения с помощью метода `compile()`. Наиболее важными аргументами для компиляции являются функция потерь и оптимизатор, поскольку они определяют, что будет оптимизировано (`mean_absolute_error`) и как (оптимизатор `Adam`)."
      ]
    },
    {
      "cell_type": "code",
      "execution_count": null,
      "metadata": {
        "id": "l1_HyGNkFSM_"
      },
      "outputs": [],
      "source": [
        "feature_model.compile(\n",
        "    optimizer=tf.optimizers.Adam(learning_rate=0.25),\n",
        "    loss='mean_absolute_error')"
      ]
    },
    {
      "cell_type": "markdown",
      "metadata": {
        "id": "d-h5HshuFeFd"
      },
      "source": [
        "После настройки обучения используем метод `fit()` для выполнения обучения:"
      ]
    },
    {
      "cell_type": "code",
      "execution_count": null,
      "metadata": {
        "id": "9VBgltEoFs70"
      },
      "outputs": [],
      "source": [
        "%%time\n",
        "history = feature_model.fit(\n",
        "    df_train[5], y_train,\n",
        "    epochs=100,\n",
        "    # подавляем вывод\n",
        "    verbose=0,\n",
        "    # проверка (валидация) на 20% обучающих данных\n",
        "    validation_split = 0.2)"
      ]
    },
    {
      "cell_type": "markdown",
      "metadata": {
        "id": "oUX2nF-PGe9n"
      },
      "source": [
        "Визуализируем ход обучения модели, используя статистику, хранящуюся в объекте `history`."
      ]
    },
    {
      "cell_type": "code",
      "execution_count": null,
      "metadata": {
        "id": "UhqA_Z6cGmjM"
      },
      "outputs": [],
      "source": [
        "hist = pd.DataFrame(history.history)\n",
        "hist['epoch'] = history.epoch\n",
        "hist.tail()"
      ]
    },
    {
      "cell_type": "code",
      "execution_count": null,
      "metadata": {
        "id": "yBrYH0bFHNzV"
      },
      "outputs": [],
      "source": [
        "def plot_loss(history):\n",
        "  plt.plot(history.history['loss'], label='loss')\n",
        "  plt.plot(history.history['val_loss'], label='val_loss')\n",
        "  plt.ylim([0, max(history.history['loss'])*0.5])\n",
        "  plt.xlabel('Эпохи обучения')\n",
        "  plt.ylabel('Ошибка')\n",
        "  plt.legend()\n",
        "  plt.grid(True)"
      ]
    },
    {
      "cell_type": "code",
      "execution_count": null,
      "metadata": {
        "id": "E_NXyUc5HVTc"
      },
      "outputs": [],
      "source": [
        "plot_loss(history)"
      ]
    },
    {
      "cell_type": "markdown",
      "metadata": {
        "id": "IjW8AuMTHsvz"
      },
      "source": [
        "Запомним результаты на тестовом наборе для дальнейшего использования:"
      ]
    },
    {
      "cell_type": "code",
      "execution_count": null,
      "metadata": {
        "id": "s0uBQe5-Hwor"
      },
      "outputs": [],
      "source": [
        "test_results = {} # пустой словарь\n",
        "\n",
        "test_results['feature_model'] = feature_model.evaluate(\n",
        "    df_train[5],\n",
        "    y_train, verbose=0)"
      ]
    },
    {
      "cell_type": "markdown",
      "metadata": {
        "id": "3qUcW6twIay3"
      },
      "source": [
        "Поскольку использовалась парная регрессия, прогнозы модели легко рассматривать как функцию входных данных:"
      ]
    },
    {
      "cell_type": "code",
      "execution_count": null,
      "metadata": {
        "id": "sN31PkJYIbwY"
      },
      "outputs": [],
      "source": [
        "x = tf.linspace(4., 9., 51)\n",
        "y = feature_model.predict(x)"
      ]
    },
    {
      "cell_type": "code",
      "execution_count": null,
      "metadata": {
        "id": "5izifop6Ixp2"
      },
      "outputs": [],
      "source": [
        "def plot_rm(x, y):\n",
        "  plt.scatter(df_train[5], y_train, label='Data')\n",
        "  plt.plot(x, y, color='k', label='Прогноз')\n",
        "  plt.xlabel('Кол-во комнат')\n",
        "  plt.ylabel('Стоимость')\n",
        "  plt.legend()"
      ]
    },
    {
      "cell_type": "code",
      "execution_count": null,
      "metadata": {
        "id": "hWVHNX4GJAGr"
      },
      "outputs": [],
      "source": [
        "plot_rm(x,y)"
      ]
    },
    {
      "cell_type": "markdown",
      "metadata": {
        "id": "2OBDs735LU8y"
      },
      "source": [
        "### Множественная регрессия\n",
        "\n",
        "Можно использовать почти идентичный подход, чтобы делать прогнозы на основе нескольких признаков. \n",
        "\n",
        "В многомерном случае используется слой нормализации, адаптированный ко всему набору данных."
      ]
    },
    {
      "cell_type": "code",
      "execution_count": null,
      "metadata": {
        "id": "cW7lnQavL7Wm"
      },
      "outputs": [],
      "source": [
        "linear_model = tf.keras.Sequential([\n",
        "    normalizer,\n",
        "    tf.keras.layers.Dense(units=1)\n",
        "])"
      ]
    },
    {
      "cell_type": "markdown",
      "metadata": {
        "id": "hHoLGMN1Mjp6"
      },
      "source": [
        "При вызове модели для набора входных данных, модель вычисляяет по одному значению для каждого элемента входных данных:"
      ]
    },
    {
      "cell_type": "code",
      "execution_count": null,
      "metadata": {
        "id": "TSNBgC5HMsfd"
      },
      "outputs": [],
      "source": [
        "linear_model.predict(df_train[[4,5,7,12]][:10])"
      ]
    },
    {
      "cell_type": "markdown",
      "metadata": {
        "id": "c17My1MTNuYD"
      },
      "source": [
        "При вызове модели будут построены ее весовые матрицы и смещения:"
      ]
    },
    {
      "cell_type": "code",
      "execution_count": null,
      "metadata": {
        "id": "R3-R66iCN266"
      },
      "outputs": [],
      "source": [
        "linear_model.layers[1].kernel"
      ]
    },
    {
      "cell_type": "code",
      "execution_count": null,
      "metadata": {
        "id": "ISGNihctcRuh"
      },
      "outputs": [],
      "source": [
        "linear_model.layers[1].bias"
      ]
    },
    {
      "cell_type": "markdown",
      "metadata": {
        "id": "KQrrxviqONQf"
      },
      "source": [
        "Используем те же вызовы `compile()` и `fit()`, что и для модели парной регрессии:"
      ]
    },
    {
      "cell_type": "code",
      "execution_count": null,
      "metadata": {
        "id": "vOcPDY-ON6w0"
      },
      "outputs": [],
      "source": [
        "linear_model.compile(\n",
        "    optimizer=tf.optimizers.Adam(learning_rate=0.25),\n",
        "    loss='mean_absolute_error')"
      ]
    },
    {
      "cell_type": "code",
      "execution_count": null,
      "metadata": {
        "id": "lfvl4AKzOkY2"
      },
      "outputs": [],
      "source": [
        "%%time\n",
        "history = linear_model.fit(\n",
        "    df_train[[4,5,7,12]], y_train, \n",
        "    epochs=100,\n",
        "    # подавляем вывод\n",
        "    verbose=0,\n",
        "    # проверка (валидация) на 20% обучающих данных\n",
        "    validation_split = 0.2)"
      ]
    },
    {
      "cell_type": "markdown",
      "metadata": {
        "id": "xVQmjDdoO6mO"
      },
      "source": [
        "Использование большего числа признаков обеспечивает меньшую ошибку обучения и валидации, чем модель парной регрессии:"
      ]
    },
    {
      "cell_type": "code",
      "execution_count": null,
      "metadata": {
        "id": "xHIhYlPpO7Un"
      },
      "outputs": [],
      "source": [
        "plot_loss(history)"
      ]
    },
    {
      "cell_type": "markdown",
      "metadata": {
        "id": "AMiB8wridVA-"
      },
      "source": [
        "### Регуляризация нейронной сети\n",
        "\n",
        "Регуляризаторы позволяют применять штрафы к параметрам слоя или активности слоя во время оптимизации. Эти штрафы добавляются к функции потерь, которую оптимизирует нейронная сеть.\n",
        "\n",
        "Штрафы за регуляризацию применяются для каждого слоя отдельно.\n",
        "\n",
        "Возможны следующие виды регуляризаторов:\n",
        "\n",
        "   - `tf.keras.regularizers.L1(l1=0.01)`\n",
        "   - `tf.keras.regularizers.L2(l2=0.01)`\n",
        "   - `tf.keras.regularizers.L1L2(l1=0.0, l2=0.0)`\n",
        "\n",
        "Для регуляризации слоя нейронной сети при его создании должен быть указан параметр `kernel_regularizer`, например:\n",
        "\n",
        "`layer = tf.keras.layers.Dense(3, kernel_regularizer=tf.keras.regularizers.L2(l2=0.01))`"
      ]
    },
    {
      "cell_type": "code",
      "execution_count": null,
      "metadata": {
        "id": "952AS_hHiDtG"
      },
      "outputs": [],
      "source": [
        "df_normalizer = tf.keras.layers.Normalization()\n",
        "df_normalizer.adapt(df_train)\n",
        "print(df_normalizer.mean.numpy())\n",
        "print(df_normalizer.variance.numpy())"
      ]
    },
    {
      "cell_type": "markdown",
      "metadata": {
        "id": "tSRlCu92aRvo"
      },
      "source": [
        "Создаем модель с нормализацией всех признаков и регуляризацией `L1`:"
      ]
    },
    {
      "cell_type": "code",
      "execution_count": null,
      "metadata": {
        "id": "UdrB2cYOO--I"
      },
      "outputs": [],
      "source": [
        "l1_model = tf.keras.Sequential([\n",
        "    df_normalizer,\n",
        "    tf.keras.layers.Dense(units=1, \n",
        "                          kernel_regularizer=tf.keras.regularizers.L1(l1=0.01))\n",
        "])"
      ]
    },
    {
      "cell_type": "markdown",
      "metadata": {
        "id": "30PmHGhuafYR"
      },
      "source": [
        "Компилируем"
      ]
    },
    {
      "cell_type": "code",
      "execution_count": null,
      "metadata": {
        "id": "aoh2e9uSJKpH"
      },
      "outputs": [],
      "source": [
        "l1_model.compile(\n",
        "    optimizer=tf.optimizers.Adam(learning_rate=0.25),\n",
        "    loss='mean_absolute_error')"
      ]
    },
    {
      "cell_type": "markdown",
      "metadata": {
        "id": "7qDLNPR6ajnI"
      },
      "source": [
        "и обучаем модель:"
      ]
    },
    {
      "cell_type": "code",
      "execution_count": null,
      "metadata": {
        "id": "Rn_0lVSXhQBO"
      },
      "outputs": [],
      "source": [
        "%%time\n",
        "history = l1_model.fit(\n",
        "    df_train, y_train, \n",
        "    epochs=100,\n",
        "    # подавляем вывод\n",
        "    verbose=0,\n",
        "    # проверка (валидация) на 20% обучающих данных\n",
        "    validation_split = 0.2)"
      ]
    },
    {
      "cell_type": "markdown",
      "metadata": {
        "id": "4wtbhwYka1Ma"
      },
      "source": [
        "Веса в слое выглядят так:"
      ]
    },
    {
      "cell_type": "code",
      "execution_count": null,
      "metadata": {
        "id": "hZOHrGkOhdmg"
      },
      "outputs": [],
      "source": [
        "l1_model.layers[1].kernel"
      ]
    },
    {
      "cell_type": "markdown",
      "metadata": {
        "id": "reZHfji2bB0N"
      },
      "source": [
        "Кривые обучения получаются такими:"
      ]
    },
    {
      "cell_type": "code",
      "execution_count": null,
      "metadata": {
        "id": "Hl4vMW98jPH-"
      },
      "outputs": [],
      "source": [
        "plot_loss(history)"
      ]
    },
    {
      "cell_type": "code",
      "execution_count": null,
      "metadata": {
        "id": "3oCvtN7cjXcz"
      },
      "outputs": [],
      "source": [
        "hist = pd.DataFrame(history.history)\n",
        "hist"
      ]
    },
    {
      "cell_type": "markdown",
      "metadata": {
        "id": "dhGCQHAQDWYa"
      },
      "source": [
        "# Задание на лабораторную работу №1\n",
        "\n",
        "В соответствии с индивидуальным заданием, указанным в записной книжке команды, выполните следующие работы: \n",
        "\n",
        "1. Загрузите заданный в индивидуальном задании набор данных из Tensorflow Datasets и оставьте в наборе данных признаки, принимающие непрерывные числовые значения, включая указанные в индивидуальном задании независимую и зависимую переменные. Вычислите матрицу корреляции признаков и определите пары признаков с наиболее низкой и наиболее высокой корреляцией.\n",
        "\n",
        "2. Выполните визуализацию независимой и зависимой переменных в соответствии с индивидуальным заданием, подписывая оси и рисунок.  \n",
        "\n",
        "3. Постройте парную линейную регрессию для независимого и зависимого признаков при помощи точного подхода и при помощи нейронной сети с одним нейроном. Вычислите и сравните значения показателей качества $R^2$ двух подходов.\n",
        "\n",
        "4. Постройте диаграмму рассеяния для независимого и зависимого признаков и изобразите линии двух построенных парных регрессий, подписывая оси и рисунок и создавая легенду. \n",
        "\n",
        "5. Разбейте набор признаков на обучающую и контрольную выборки. Создайте и адаптируйте нормализующий слой Tensorflow для всех признаков набора данных (за исключением зависимого признака). \n",
        "\n",
        "6. Используя созданный нормализующий слой, постройте регресоры на базе следующих моделей множественной регрессии:\n",
        "    * линейной регрессии\n",
        "    * гребневой регрессии (L2)\n",
        "    * лассо регрессии (L1)\n",
        "\n",
        "7. Определите на контрольной выборке модель множественной регрессии с наиболее высоким качеством по показателю, указанному в индивидуальном задании, среди построенных моделей.\n",
        "\n",
        "8. Для лучшего регрессора визуализируйте кривые обучения (в зависимости от эпохи обучения).\n",
        "\n",
        "9. Определите медианные значения признаков (кроме независимого и зависимого признаков) и для построенных медианных значений визуализируйте на плоскости с независимым признаком в качестве оси абсцисс и зависимым признаком в качестве оси ординат точки тестовой выборки и линии (графики) различных моделей множественной регрессии разными цветами. Подпишите оси и создайте легенду и заголовок для рисунка.\n",
        "\n",
        "Сопроводите программный код необходимыми комментариями.\n",
        "\n",
        "Результат лабораторной работы оформить в виде отчета (шаблона отчета находится в учебных материалах команды в формате .ipynb) в формате PDF. Обязательно включить в отчет номер варианта и текст задания, программный код и пояснения с нему. Дополнительно представить файл Jupiter Notebook (с расширением .ipynb). Не архивировать файлы.\n",
        "\n",
        "Отчет по лабораторной работе представить как результат выполнения задания MS Teams (представить файлы PDF и ipynb). Не забыть нажать на кнопку сдачи задания.\n"
      ]
    },
    {
      "cell_type": "code",
      "execution_count": null,
      "metadata": {
        "id": "jxfcCjmn51c0"
      },
      "outputs": [],
      "source": []
    }
  ],
  "metadata": {
    "colab": {
      "provenance": []
    },
    "kernelspec": {
      "display_name": "tf",
      "language": "python",
      "name": "tf"
    },
    "language_info": {
      "codemirror_mode": {
        "name": "ipython",
        "version": 3
      },
      "file_extension": ".py",
      "mimetype": "text/x-python",
      "name": "python",
      "nbconvert_exporter": "python",
      "pygments_lexer": "ipython3",
      "version": "3.9.16"
    }
  },
  "nbformat": 4,
  "nbformat_minor": 0
}