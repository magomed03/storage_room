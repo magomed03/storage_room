{
 "cells": [
  {
   "cell_type": "markdown",
   "id": "dcfb0e2a-d97e-4c44-91fa-eb5c58050649",
   "metadata": {},
   "source": [
    "Примеры определения типа числовых величин."
   ]
  },
  {
   "cell_type": "code",
   "execution_count": 3,
   "id": "f81d601b-f8c1-42d8-9d64-4267c35df513",
   "metadata": {},
   "outputs": [
    {
     "data": {
      "text/plain": [
       "(Int64, Float64, Float64, ComplexF64, Irrational{:π})"
      ]
     },
     "execution_count": 3,
     "metadata": {},
     "output_type": "execute_result"
    }
   ],
   "source": [
    "typeof(3), typeof(3.5), typeof(3/3.55), typeof(sqrt(3+4im)), typeof(pi)"
   ]
  },
  {
   "cell_type": "code",
   "execution_count": 4,
   "id": "934dc0e2-bc37-4e73-9c33-14a00d10ebd3",
   "metadata": {},
   "outputs": [
    {
     "data": {
      "text/plain": [
       "(Inf, -Inf, NaN)"
      ]
     },
     "execution_count": 4,
     "metadata": {},
     "output_type": "execute_result"
    }
   ],
   "source": [
    "1.0/0.0, 1.0/(-0.0), 0.0/0.0"
   ]
  },
  {
   "cell_type": "code",
   "execution_count": 5,
   "id": "56165a1a-969d-41a1-9996-b58a3202cbde",
   "metadata": {},
   "outputs": [
    {
     "data": {
      "text/plain": [
       "(Float64, Float64, Float64)"
      ]
     },
     "execution_count": 5,
     "metadata": {},
     "output_type": "execute_result"
    }
   ],
   "source": [
    "typeof(1.0/0.0), typeof(1.0/(-0.0)), typeof(0.0/0.0)"
   ]
  },
  {
   "cell_type": "code",
   "execution_count": 9,
   "id": "515e0348-b444-4d57-ab02-23ebb0a83c13",
   "metadata": {},
   "outputs": [
    {
     "name": "stdout",
     "output_type": "stream",
     "text": [
      "   Int8: [-128,127]\n",
      "  Int16: [-32768,32767]\n",
      "  Int32: [-2147483648,2147483647]\n",
      "  Int64: [-9223372036854775808,9223372036854775807]\n",
      " Int128: [-170141183460469231731687303715884105728,170141183460469231731687303715884105727]\n",
      "  UInt8: [0,255]\n",
      " UInt16: [0,65535]\n",
      " UInt32: [0,4294967295]\n",
      " UInt64: [0,18446744073709551615]\n",
      "UInt128: [0,340282366920938463463374607431768211455]\n"
     ]
    }
   ],
   "source": [
    "for T in [Int8,Int16,Int32,Int64,Int128,UInt8,UInt16,UInt32,UInt64,UInt128]\n",
    "println(\"$(lpad(T,7)): [$(typemin(T)),$(typemax(T))]\")\n",
    "end"
   ]
  },
  {
   "cell_type": "markdown",
   "id": "3a62eae8-d2fe-4443-80c0-040bbc1c765a",
   "metadata": {},
   "source": [
    "Примеры приведения аргументов к одному типу."
   ]
  },
  {
   "cell_type": "code",
   "execution_count": 10,
   "id": "c0d332fc-88ee-4805-beab-53c69cfb3204",
   "metadata": {},
   "outputs": [
    {
     "data": {
      "text/plain": [
       "(2, '\\x02', Char)"
      ]
     },
     "execution_count": 10,
     "metadata": {},
     "output_type": "execute_result"
    }
   ],
   "source": [
    "Int64(2.0), Char(2), typeof(Char(2))"
   ]
  },
  {
   "cell_type": "code",
   "execution_count": 11,
   "id": "b08240dc-9f83-4add-9e25-dbd23e59f561",
   "metadata": {},
   "outputs": [
    {
     "data": {
      "text/plain": [
       "(2, '\\x02')"
      ]
     },
     "execution_count": 11,
     "metadata": {},
     "output_type": "execute_result"
    }
   ],
   "source": [
    "convert(Int64,2.0), convert(Char,2)"
   ]
  },
  {
   "cell_type": "code",
   "execution_count": 12,
   "id": "01733f35-b64b-4b74-944f-8d343166ba8e",
   "metadata": {},
   "outputs": [
    {
     "data": {
      "text/plain": [
       "Tuple{Float32, Float32, Float32}"
      ]
     },
     "execution_count": 12,
     "metadata": {},
     "output_type": "execute_result"
    }
   ],
   "source": [
    "typeof(promote(Int8(1), Float16(4.5), Float32(4.1)))"
   ]
  },
  {
   "cell_type": "markdown",
   "id": "300f4acf-ad44-4800-8e40-5fcfcb6a1886",
   "metadata": {},
   "source": [
    "Примеры определения функций."
   ]
  },
  {
   "cell_type": "code",
   "execution_count": 13,
   "id": "86afc32d-0ca4-427d-83a8-35986a2c748d",
   "metadata": {},
   "outputs": [
    {
     "data": {
      "text/plain": [
       "f (generic function with 1 method)"
      ]
     },
     "execution_count": 13,
     "metadata": {},
     "output_type": "execute_result"
    }
   ],
   "source": [
    "function f(x)\n",
    "x^2\n",
    "end"
   ]
  },
  {
   "cell_type": "code",
   "execution_count": 14,
   "id": "a22e60d8-f6ba-41ff-a976-f075ad46c55e",
   "metadata": {},
   "outputs": [
    {
     "data": {
      "text/plain": [
       "16"
      ]
     },
     "execution_count": 14,
     "metadata": {},
     "output_type": "execute_result"
    }
   ],
   "source": [
    "f(4)"
   ]
  },
  {
   "cell_type": "code",
   "execution_count": 15,
   "id": "d3253462-3f92-4ca4-ae18-335e1b67b017",
   "metadata": {},
   "outputs": [
    {
     "data": {
      "text/plain": [
       "g (generic function with 1 method)"
      ]
     },
     "execution_count": 15,
     "metadata": {},
     "output_type": "execute_result"
    }
   ],
   "source": [
    "g(x)=x^2"
   ]
  },
  {
   "cell_type": "code",
   "execution_count": 16,
   "id": "33cc773a-9b06-41a9-8a7a-b60f921115b0",
   "metadata": {},
   "outputs": [
    {
     "data": {
      "text/plain": [
       "64"
      ]
     },
     "execution_count": 16,
     "metadata": {},
     "output_type": "execute_result"
    }
   ],
   "source": [
    "g(8)"
   ]
  },
  {
   "cell_type": "markdown",
   "id": "62464571-c805-45dd-af40-45cce32e972c",
   "metadata": {},
   "source": [
    "Примеры работы с массивами."
   ]
  },
  {
   "cell_type": "code",
   "execution_count": 18,
   "id": "7bdc428d-d5f8-4ddb-a32b-1a227cec1fe9",
   "metadata": {},
   "outputs": [
    {
     "data": {
      "text/plain": [
       "(7, 2)"
      ]
     },
     "execution_count": 18,
     "metadata": {},
     "output_type": "execute_result"
    }
   ],
   "source": [
    "a = [4 7 6] # вектор-строка\n",
    "b = [1, 2, 3] # вектор-столбец\n",
    "a[2], b[2] # вторые элементы векторов a и b соответственно"
   ]
  },
  {
   "cell_type": "code",
   "execution_count": 19,
   "id": "f6e29c0c-930a-4523-96a8-b486d5680f9e",
   "metadata": {},
   "outputs": [
    {
     "data": {
      "text/plain": [
       "2×2 Matrix{Int64}:\n",
       " 1  2\n",
       " 3  4"
      ]
     },
     "execution_count": 19,
     "metadata": {},
     "output_type": "execute_result"
    }
   ],
   "source": [
    "a = 1; b = 2; c = 3; d = 4 # присвоение значений\n",
    "Am = [a b; c d] # матрица 2 х 2"
   ]
  },
  {
   "cell_type": "code",
   "execution_count": 20,
   "id": "e91fed44-8754-44d5-89d3-622fe797126f",
   "metadata": {},
   "outputs": [
    {
     "data": {
      "text/plain": [
       "(1, 2, 3, 4)"
      ]
     },
     "execution_count": 20,
     "metadata": {},
     "output_type": "execute_result"
    }
   ],
   "source": [
    "Am[1,1], Am[1,2], Am[2,1], Am[2,2] # элементы матрицы Am"
   ]
  },
  {
   "cell_type": "code",
   "execution_count": 21,
   "id": "4c70a35d-552c-4207-a0c6-8e7da7afc662",
   "metadata": {},
   "outputs": [
    {
     "data": {
      "text/plain": [
       "1×1 Matrix{Int64}:\n",
       " 27"
      ]
     },
     "execution_count": 21,
     "metadata": {},
     "output_type": "execute_result"
    }
   ],
   "source": [
    "aa = [1 2] # вектор-строка\n",
    "AA = [1 2; 3 4] # матрица 2 х 2\n",
    "aa*AA*aa' # умножение вектора-строки на матрицу и на вектор-столбец (операция транспонирования)"
   ]
  },
  {
   "cell_type": "code",
   "execution_count": 23,
   "id": "1d3d17e8-398f-459d-98d1-33ce0198ec2f",
   "metadata": {},
   "outputs": [
    {
     "data": {
      "text/plain": [
       "([1 2], [1 2; 3 4], [1; 2;;])"
      ]
     },
     "execution_count": 23,
     "metadata": {},
     "output_type": "execute_result"
    }
   ],
   "source": [
    "aa, AA, aa'"
   ]
  },
  {
   "cell_type": "markdown",
   "id": "e30baf45-4c8c-4a5c-b708-b202cad60ec3",
   "metadata": {},
   "source": [
    "Задания для саомстоятельно работы"
   ]
  },
  {
   "cell_type": "code",
   "execution_count": 45,
   "id": "9a58e72e-7e77-4122-9422-1a5298ac31b9",
   "metadata": {},
   "outputs": [
    {
     "data": {
      "text/plain": [
       "\"Первая строка\\nВторая строка\\nТретья строка\\nПоследняя строка(полный файл)\""
      ]
     },
     "execution_count": 45,
     "metadata": {},
     "output_type": "execute_result"
    }
   ],
   "source": [
    "# Пункт 1\n",
    "read(\"file.txt\", String) # считывает содержимое файла file.txt как строку"
   ]
  },
  {
   "cell_type": "code",
   "execution_count": 46,
   "id": "ac765cf9-a5b5-46f8-b7fd-8cf34af2eadd",
   "metadata": {},
   "outputs": [
    {
     "data": {
      "text/plain": [
       "\"Первая строка\""
      ]
     },
     "execution_count": 46,
     "metadata": {},
     "output_type": "execute_result"
    }
   ],
   "source": [
    "readline(\"file.txt\") # считывает первую строку из файла file.txt"
   ]
  },
  {
   "cell_type": "code",
   "execution_count": 47,
   "id": "d08cf07d-20ff-4a09-8801-925825c177dc",
   "metadata": {},
   "outputs": [
    {
     "data": {
      "text/plain": [
       "4-element Vector{String}:\n",
       " \"Первая строка\"\n",
       " \"Вторая строка\"\n",
       " \"Третья строка\"\n",
       " \"Последняя строка(полный файл)\""
      ]
     },
     "execution_count": 47,
     "metadata": {},
     "output_type": "execute_result"
    }
   ],
   "source": [
    "readlines(\"file.txt\") # считывает все строки из файла file.txt"
   ]
  },
  {
   "cell_type": "code",
   "execution_count": null,
   "id": "ee0db646-af78-4318-9778-78ac525c16ab",
   "metadata": {},
   "outputs": [],
   "source": [
    "readdlm(\"data.csv\", ',') # считывает CSV-файл с разделителем-запятой"
   ]
  },
  {
   "cell_type": "code",
   "execution_count": 50,
   "id": "047a4241-da18-4b90-9ccb-34c8f2cdde42",
   "metadata": {},
   "outputs": [
    {
     "name": "stdout",
     "output_type": "stream",
     "text": [
      "Hello, world!\n"
     ]
    }
   ],
   "source": [
    "print(\"Hello, \")\n",
    "println(\"world!\")\n",
    "# выводят \"Hello, world!\" с переводом строки после \"world!\""
   ]
  },
  {
   "cell_type": "code",
   "execution_count": 51,
   "id": "e9498e87-44bb-4665-bb38-92c6ccd49abb",
   "metadata": {},
   "outputs": [
    {
     "name": "stdout",
     "output_type": "stream",
     "text": [
      "[1, 2, 3]"
     ]
    }
   ],
   "source": [
    "show([1, 2, 3]) # отображает массив [1, 2, 3]"
   ]
  },
  {
   "cell_type": "code",
   "execution_count": 52,
   "id": "688d8c53-4451-463a-a47a-0478a019ca68",
   "metadata": {},
   "outputs": [
    {
     "data": {
      "text/plain": [
       "11"
      ]
     },
     "execution_count": 52,
     "metadata": {},
     "output_type": "execute_result"
    }
   ],
   "source": [
    "write(\"file.txt\", \"Hello World\") # записывает строку \"Hello World\" в файл file.txt"
   ]
  },
  {
   "cell_type": "code",
   "execution_count": 53,
   "id": "5dc94f6f-63c6-419f-bae0-ffd4732e2e9f",
   "metadata": {},
   "outputs": [
    {
     "data": {
      "text/plain": [
       "123"
      ]
     },
     "execution_count": 53,
     "metadata": {},
     "output_type": "execute_result"
    }
   ],
   "source": [
    "# Пункт 2\n",
    "parse(Int, \"123\") # преобразует строку \"123\" в целое число 123"
   ]
  },
  {
   "cell_type": "code",
   "execution_count": 59,
   "id": "81013e89-d3e5-4326-ac97-570b10fb8a87",
   "metadata": {},
   "outputs": [
    {
     "data": {
      "text/plain": [
       "2.5"
      ]
     },
     "execution_count": 59,
     "metadata": {},
     "output_type": "execute_result"
    }
   ],
   "source": [
    "# Пункт3\n",
    "# Целочисленные переменные\n",
    "a = 5\n",
    "b = 2\n",
    "\n",
    "# Операции\n",
    "addition = a + b      # Сложение: 7\n",
    "subtraction = a - b   # Вычитание: 3\n",
    "multiplication = a * b # Умножение: 10\n",
    "division = a / b      # Деление: 2.5"
   ]
  },
  {
   "cell_type": "code",
   "execution_count": 61,
   "id": "0e81f19c-8424-4aec-a52c-9fc4154a2fc3",
   "metadata": {},
   "outputs": [
    {
     "data": {
      "text/plain": [
       "25"
      ]
     },
     "execution_count": 61,
     "metadata": {},
     "output_type": "execute_result"
    }
   ],
   "source": [
    "# Возведение в степень\n",
    "power = a ^ b        # 5 ^ 2 = 25"
   ]
  },
  {
   "cell_type": "code",
   "execution_count": 62,
   "id": "fc50ba8e-59d5-4125-a198-4196827a357b",
   "metadata": {},
   "outputs": [
    {
     "data": {
      "text/plain": [
       "1.4142135623730951"
      ]
     },
     "execution_count": 62,
     "metadata": {},
     "output_type": "execute_result"
    }
   ],
   "source": [
    "# Извлечение корня\n",
    "sqrt_b = sqrt(b)     # Квадратный корень из 2 ≈ 1.41421"
   ]
  },
  {
   "cell_type": "code",
   "execution_count": 66,
   "id": "c0baea27-9f34-41e7-a3f5-3a25c185bf23",
   "metadata": {},
   "outputs": [
    {
     "data": {
      "text/plain": [
       "false"
      ]
     },
     "execution_count": 66,
     "metadata": {},
     "output_type": "execute_result"
    }
   ],
   "source": [
    "# Равенство\n",
    "is_equal = (a == b)  # false\n",
    "\n",
    "# Неравенство\n",
    "is_not_equal = (a != b) # true\n",
    "\n",
    "# Больше, меньше\n",
    "is_greater = (a > b) # true\n",
    "is_less = (a < b)    # false"
   ]
  },
  {
   "cell_type": "code",
   "execution_count": 67,
   "id": "865fd0a6-b015-47a1-bb1e-c8b6b7a3bdf7",
   "metadata": {},
   "outputs": [
    {
     "data": {
      "text/plain": [
       "true"
      ]
     },
     "execution_count": 67,
     "metadata": {},
     "output_type": "execute_result"
    }
   ],
   "source": [
    "# Логическое И (AND)\n",
    "logical_and = (a > 1) && (b < 3)  # true\n",
    "\n",
    "# Логическое ИЛИ (OR)\n",
    "logical_or = (a < 1) || (b < 3)   # true\n",
    "\n",
    "# Логическое НЕ (NOT)\n",
    "logical_not = !(a == b)           # true\n"
   ]
  },
  {
   "cell_type": "code",
   "execution_count": 68,
   "id": "8d9fde97-9026-4497-a46e-a778335b581a",
   "metadata": {},
   "outputs": [
    {
     "data": {
      "text/plain": [
       "2×2 Matrix{Int64}:\n",
       " 1  2\n",
       " 3  4"
      ]
     },
     "execution_count": 68,
     "metadata": {},
     "output_type": "execute_result"
    }
   ],
   "source": [
    "# Пункт 4\n",
    "# Векторы\n",
    "v1 = [1, 2, 3]\n",
    "v2 = [4, 5, 6]\n",
    "\n",
    "# Матрица\n",
    "m1 = [1 2; 3 4]\n"
   ]
  },
  {
   "cell_type": "code",
   "execution_count": 69,
   "id": "c731e6ed-1747-486c-a489-284cd3d777f7",
   "metadata": {},
   "outputs": [
    {
     "data": {
      "text/plain": [
       "3-element Vector{Int64}:\n",
       " -3\n",
       " -3\n",
       " -3"
      ]
     },
     "execution_count": 69,
     "metadata": {},
     "output_type": "execute_result"
    }
   ],
   "source": [
    "# Сложение векторов\n",
    "vector_add = v1 + v2  # [5, 7, 9]\n",
    "\n",
    "# Сложение матриц\n",
    "matrix_add = m1 + m1  # [2 4; 6 8]\n",
    "\n",
    "# Вычитание векторов\n",
    "vector_sub = v1 - v2  # [-3, -3, -3]\n"
   ]
  },
  {
   "cell_type": "code",
   "execution_count": null,
   "id": "26ee9a95-786c-4428-aeb5-6441eda44ecd",
   "metadata": {},
   "outputs": [],
   "source": [
    "# Скалярное произведение векторов\n",
    "dot_product = dot(v1, v2)  # 32 (1*4 + 2*5 + 3*6)\n"
   ]
  },
  {
   "cell_type": "code",
   "execution_count": 72,
   "id": "0e44750d-0248-4971-8bd0-49d47dc49018",
   "metadata": {},
   "outputs": [
    {
     "data": {
      "text/plain": [
       "2×2 transpose(::Matrix{Int64}) with eltype Int64:\n",
       " 1  3\n",
       " 2  4"
      ]
     },
     "execution_count": 72,
     "metadata": {},
     "output_type": "execute_result"
    }
   ],
   "source": [
    "# Транспонирование матрицы\n",
    "transpose_m1 = transpose(m1)  # [1 3; 2 4]\n"
   ]
  },
  {
   "cell_type": "code",
   "execution_count": 73,
   "id": "9cff7759-5594-484e-b2fb-dfa65f51b084",
   "metadata": {},
   "outputs": [
    {
     "data": {
      "text/plain": [
       "2×2 Matrix{Int64}:\n",
       " 2  4\n",
       " 6  8"
      ]
     },
     "execution_count": 73,
     "metadata": {},
     "output_type": "execute_result"
    }
   ],
   "source": [
    "# Умножение вектора на скаляр\n",
    "scalar_mult_vector = 3 * v1   # [3, 6, 9]\n",
    "\n",
    "# Умножение матрицы на скаляр\n",
    "scalar_mult_matrix = 2 * m1   # [2 4; 6 8]\n"
   ]
  },
  {
   "cell_type": "code",
   "execution_count": null,
   "id": "f6df08d1-ecb8-43ff-9700-740d5d147af4",
   "metadata": {},
   "outputs": [],
   "source": [
    "# Умножение матриц\n",
    "m2 = [5 6; 7 8]\n",
    "matrix_mult = m1 * m2 # Результат - матрица 2x2\n"
   ]
  },
  {
   "cell_type": "code",
   "execution_count": null,
   "id": "2a181580-5a12-4840-8e1c-8ff42be7ad22",
   "metadata": {},
   "outputs": [],
   "source": []
  }
 ],
 "metadata": {
  "kernelspec": {
   "display_name": "Julia 1.9.3",
   "language": "julia",
   "name": "julia-1.9"
  },
  "language_info": {
   "file_extension": ".jl",
   "mimetype": "application/julia",
   "name": "julia",
   "version": "1.9.3"
  }
 },
 "nbformat": 4,
 "nbformat_minor": 5
}
