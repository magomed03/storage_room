{
 "cells": [
  {
   "cell_type": "markdown",
   "id": "8edd6831-f290-499d-ab99-72b69f1e0c58",
   "metadata": {
    "editable": true,
    "jp-MarkdownHeadingCollapsed": true,
    "slideshow": {
     "slide_type": ""
    },
    "tags": []
   },
   "source": [
    "# Задание(повторяем примеры из раздела)"
   ]
  },
  {
   "cell_type": "markdown",
   "id": "e63d1973-ee6c-4352-831d-79194ffd1950",
   "metadata": {
    "jp-MarkdownHeadingCollapsed": true
   },
   "source": [
    "## Поэлементные операции над многомерными массивами"
   ]
  },
  {
   "cell_type": "code",
   "execution_count": 2,
   "id": "8587500b-7952-4158-86da-04e6d6bb5680",
   "metadata": {},
   "outputs": [
    {
     "data": {
      "text/plain": [
       "4×1 Matrix{Int64}:\n",
       "   40\n",
       " 1200\n",
       " 2176\n",
       "  216"
      ]
     },
     "execution_count": 2,
     "metadata": {},
     "output_type": "execute_result"
    }
   ],
   "source": [
    "# Массив 4x3 со случайными целыми числами (от 1 до 20):\n",
    "a = rand(1:20,(4,3))\n",
    "# Поэлементная сумма:\n",
    "sum(a)\n",
    "# Поэлементная сумма по столбцам:\n",
    "sum(a,dims=1)\n",
    "# Поэлементная сумма по строкам:\n",
    "sum(a,dims=2)\n",
    "# Поэлементное произведение:\n",
    "prod(a)\n",
    "# Поэлементное произведение по столбцам:\n",
    "prod(a,dims=1)\n",
    "# Поэлементное произведение по строкам:\n",
    "prod(a,dims=2)"
   ]
  },
  {
   "cell_type": "code",
   "execution_count": 5,
   "id": "644a2c3e-9628-4155-b8af-69ee6f12a4a0",
   "metadata": {},
   "outputs": [
    {
     "name": "stderr",
     "output_type": "stream",
     "text": [
      "\u001b[32m\u001b[1m   Resolving\u001b[22m\u001b[39m package versions...\n",
      "\u001b[32m\u001b[1m  No Changes\u001b[22m\u001b[39m to `C:\\Users\\adiks\\.julia\\environments\\v1.9\\Project.toml`\n",
      "\u001b[32m\u001b[1m  No Changes\u001b[22m\u001b[39m to `C:\\Users\\adiks\\.julia\\environments\\v1.9\\Manifest.toml`\n"
     ]
    },
    {
     "data": {
      "text/plain": [
       "4×1 Matrix{Float64}:\n",
       "  5.0\n",
       " 12.333333333333334\n",
       " 13.666666666666666\n",
       "  7.666666666666667"
      ]
     },
     "execution_count": 5,
     "metadata": {},
     "output_type": "execute_result"
    }
   ],
   "source": [
    "# Подключение пакета Statistics:\n",
    "import Pkg\n",
    "Pkg.add(\"Statistics\")\n",
    "using Statistics\n",
    "# Вычисление среднего значения массива:\n",
    "mean(a)\n",
    "# Среднее по столбцам:\n",
    "mean(a,dims=1)\n",
    "# Среднее по строкам:\n",
    "mean(a,dims=2)"
   ]
  },
  {
   "cell_type": "markdown",
   "id": "eccad577-666f-4152-ba3e-0671c0809710",
   "metadata": {
    "jp-MarkdownHeadingCollapsed": true
   },
   "source": [
    "## Транспонирование, след, ранг, определитель и инверсия матрицы"
   ]
  },
  {
   "cell_type": "code",
   "execution_count": 6,
   "id": "c544036d-af19-4111-890f-cb329d129124",
   "metadata": {},
   "outputs": [
    {
     "name": "stderr",
     "output_type": "stream",
     "text": [
      "\u001b[32m\u001b[1m   Resolving\u001b[22m\u001b[39m package versions...\n",
      "\u001b[32m\u001b[1m    Updating\u001b[22m\u001b[39m `C:\\Users\\adiks\\.julia\\environments\\v1.9\\Project.toml`\n",
      "  \u001b[90m[37e2e46d] \u001b[39m\u001b[92m+ LinearAlgebra\u001b[39m\n",
      "\u001b[32m\u001b[1m  No Changes\u001b[22m\u001b[39m to `C:\\Users\\adiks\\.julia\\environments\\v1.9\\Manifest.toml`\n"
     ]
    },
    {
     "data": {
      "text/plain": [
       "3×4 Matrix{Float64}:\n",
       "  0.0120272   0.150642   -0.103743   -0.0217696\n",
       " -0.0660249  -0.199137    0.189898    0.0683751\n",
       "  0.119144    0.0689872  -0.0554635  -0.0463341"
      ]
     },
     "execution_count": 6,
     "metadata": {},
     "output_type": "execute_result"
    }
   ],
   "source": [
    "# Подключение пакета LinearAlgebra:\n",
    "import Pkg\n",
    "Pkg.add(\"LinearAlgebra\")\n",
    "using LinearAlgebra\n",
    "# Массив 4x4 со случайными целыми числами (от 1 до 20):\n",
    "b = rand(1:20,(4,4))\n",
    "# Транспонирование:\n",
    "transpose(b)\n",
    "# След матрицы (сумма диагональных элементов):\n",
    "tr(b)\n",
    "# Извлечение диагональных элементов как массив:\n",
    "diag(b)\n",
    "# Ранг матрицы:\n",
    "rank(b)\n",
    "# Инверсия матрицы (определение обратной матрицы):\n",
    "inv(b)\n",
    "# Определитель матрицы:\n",
    "det(b)\n",
    "# Псевдобратная функция для прямоугольных матриц:\n",
    "pinv(a)"
   ]
  },
  {
   "cell_type": "markdown",
   "id": "0cae2aed-033e-4c4e-ac07-fdba74ea9932",
   "metadata": {
    "jp-MarkdownHeadingCollapsed": true
   },
   "source": [
    "## Вычисление нормы векторов и матриц, повороты, вращения"
   ]
  },
  {
   "cell_type": "code",
   "execution_count": 7,
   "id": "2e9b5bfb-546f-4c4d-9e3a-3403826d9935",
   "metadata": {},
   "outputs": [
    {
     "data": {
      "text/plain": [
       "11.0"
      ]
     },
     "execution_count": 7,
     "metadata": {},
     "output_type": "execute_result"
    }
   ],
   "source": [
    "# Создание вектора X:\n",
    "X = [2, 4, -5]\n",
    "# Вычисление евклидовой нормы:\n",
    "norm(X)\n",
    "# Вычисление p-нормы:\n",
    "p = 1\n",
    "norm(X,p)"
   ]
  },
  {
   "cell_type": "code",
   "execution_count": 8,
   "id": "52faeb19-ba9b-4555-a675-2671672bb882",
   "metadata": {},
   "outputs": [
    {
     "data": {
      "text/plain": [
       "9.486832980505138"
      ]
     },
     "execution_count": 8,
     "metadata": {},
     "output_type": "execute_result"
    }
   ],
   "source": [
    "# Расстояние между двумя векторами X и Y:\n",
    "X = [2, 4, -5];\n",
    "Y = [1,-1,3];\n",
    "norm(X-Y)"
   ]
  },
  {
   "cell_type": "code",
   "execution_count": 9,
   "id": "658b7537-2057-48c9-b180-66b3f24b3bfd",
   "metadata": {},
   "outputs": [
    {
     "data": {
      "text/plain": [
       "9.486832980505138"
      ]
     },
     "execution_count": 9,
     "metadata": {},
     "output_type": "execute_result"
    }
   ],
   "source": [
    "# Проверка по базовому определению:\n",
    "sqrt(sum((X-Y).^2))"
   ]
  },
  {
   "cell_type": "code",
   "execution_count": 11,
   "id": "603ad238-b78d-4f5c-a03a-2cfea3850cfe",
   "metadata": {},
   "outputs": [
    {
     "data": {
      "text/plain": [
       "2.4404307889469252"
      ]
     },
     "execution_count": 11,
     "metadata": {},
     "output_type": "execute_result"
    }
   ],
   "source": [
    "# Угол между двумя векторами:\n",
    "acos((transpose(X)*Y)/(norm(X)*norm(Y)))"
   ]
  },
  {
   "cell_type": "markdown",
   "id": "42b44d96-72cc-4638-82de-3d3aadabb0db",
   "metadata": {},
   "source": [
    "Вычисление нормы для двумерной матрицы:"
   ]
  },
  {
   "cell_type": "code",
   "execution_count": 12,
   "id": "c68441c0-308c-444c-a6c8-b786a7268488",
   "metadata": {},
   "outputs": [
    {
     "data": {
      "text/plain": [
       "3×3 Matrix{Int64}:\n",
       " 2  -4   5\n",
       " 3   2  -1\n",
       " 0   1  -2"
      ]
     },
     "execution_count": 12,
     "metadata": {},
     "output_type": "execute_result"
    }
   ],
   "source": [
    "# Создание матрицы:\n",
    "d = [5 -4 2 ; -1 2 3; -2 1 0]\n",
    "# Вычисление Евклидовой нормы:\n",
    "opnorm(d)\n",
    "# Вычисление p-нормы:\n",
    "p=1\n",
    "opnorm(d,p)\n",
    "# Поворот на 180 градусов:\n",
    "rot180(d)\n",
    "# Переворачивание строк:\n",
    "reverse(d,dims=1)\n",
    "# Переворачивание столбцов\n",
    "reverse(d,dims=2)"
   ]
  },
  {
   "cell_type": "markdown",
   "id": "20966ae2-9a9e-46f9-a07b-c416d0daca9a",
   "metadata": {
    "jp-MarkdownHeadingCollapsed": true
   },
   "source": [
    "## Матричное умножение, единичная матрица, скалярное произведение"
   ]
  },
  {
   "cell_type": "code",
   "execution_count": 14,
   "id": "7d442a18-0445-4711-972d-38777d0e1b86",
   "metadata": {},
   "outputs": [
    {
     "name": "stdout",
     "output_type": "stream",
     "text": [
      "Удиничная матрица [1 0 0; 0 1 0; 0 0 1]\n",
      "Скалярное произведение -17\n"
     ]
    }
   ],
   "source": [
    "# Матрица 2x3 со случайными целыми значениями от 1 до 10:\n",
    "A = rand(1:10,(2,3))\n",
    "# Матрица 3x4 со случайными целыми значениями от 1 до 10:\n",
    "B = rand(1:10,(3,4))\n",
    "# Произведение матриц A и B:\n",
    "A*B\n",
    "# Единичная матрица 3x3:\n",
    "Matrix{Int}(I, 3, 3)\n",
    "# Скалярное произведение векторов X и Y:\n",
    "X = [2, 4, -5]\n",
    "Y = [1,-1,3]\n",
    "dot(X,Y)\n",
    "# тоже скалярное произведение:\n",
    "X'Y\n",
    "\n",
    "println(\"Удиничная матрица \", Matrix{Int}(I, 3, 3))\n",
    "println(\"Скалярное произведение \", dot(X,Y))"
   ]
  },
  {
   "cell_type": "markdown",
   "id": "8beb3688-f646-4438-a3a7-382347f629c0",
   "metadata": {
    "jp-MarkdownHeadingCollapsed": true
   },
   "source": [
    "## Факторизация. Специальные матричные структуры"
   ]
  },
  {
   "cell_type": "code",
   "execution_count": 15,
   "id": "a6f90865-9bc7-4c18-a638-362ea9336875",
   "metadata": {},
   "outputs": [
    {
     "data": {
      "text/plain": [
       "3-element Vector{Float64}:\n",
       " 1.0000000000000002\n",
       " 1.0\n",
       " 1.0"
      ]
     },
     "execution_count": 15,
     "metadata": {},
     "output_type": "execute_result"
    }
   ],
   "source": [
    "# Задаём квадратную матрицу 3x3 со случайными значениями:\n",
    "A = rand(3, 3)\n",
    "# Задаём единичный вектор:\n",
    "x = fill(1.0, 3)\n",
    "# Задаём вектор b:\n",
    "b = A*x\n",
    "# Решение исходного уравнения получаем с помощью функции \\\n",
    "# (убеждаемся, что x - единичный вектор):\n",
    "A\\b"
   ]
  },
  {
   "cell_type": "code",
   "execution_count": 16,
   "id": "ffe2f67d-7545-45ec-b84a-e204b72e47b9",
   "metadata": {},
   "outputs": [
    {
     "data": {
      "text/plain": [
       "LU{Float64, Matrix{Float64}, Vector{Int64}}\n",
       "L factor:\n",
       "3×3 Matrix{Float64}:\n",
       " 1.0       0.0       0.0\n",
       " 0.137732  1.0       0.0\n",
       " 0.267182  0.925564  1.0\n",
       "U factor:\n",
       "3×3 Matrix{Float64}:\n",
       " 0.591678  0.807178  0.486095\n",
       " 0.0       0.348887  0.743889\n",
       " 0.0       0.0       0.144943"
      ]
     },
     "execution_count": 16,
     "metadata": {},
     "output_type": "execute_result"
    }
   ],
   "source": [
    "# LU-факторизация:\n",
    "Alu = lu(A)"
   ]
  },
  {
   "cell_type": "code",
   "execution_count": 17,
   "id": "365e8f08-8e91-4187-a263-b9083149274b",
   "metadata": {},
   "outputs": [
    {
     "data": {
      "text/plain": [
       "3×3 Matrix{Float64}:\n",
       " 0.591678  0.807178  0.486095\n",
       " 0.0       0.348887  0.743889\n",
       " 0.0       0.0       0.144943"
      ]
     },
     "execution_count": 17,
     "metadata": {},
     "output_type": "execute_result"
    }
   ],
   "source": [
    "# Матрица перестановок:\n",
    "Alu.P\n",
    "# Вектор перестановок:\n",
    "Alu.p\n",
    "# Матрица L:\n",
    "Alu.L\n",
    "# Матрица U:\n",
    "Alu.U"
   ]
  },
  {
   "cell_type": "code",
   "execution_count": 18,
   "id": "cc8ef318-dfaf-4e0d-8f3d-4bb62f2e1e00",
   "metadata": {},
   "outputs": [
    {
     "data": {
      "text/plain": [
       "3-element Vector{Float64}:\n",
       " 1.0000000000000002\n",
       " 1.0\n",
       " 1.0"
      ]
     },
     "execution_count": 18,
     "metadata": {},
     "output_type": "execute_result"
    }
   ],
   "source": [
    "# Решение СЛАУ через матрицу A:\n",
    "A\\b\n",
    "# Решение СЛАУ через объект факторизации:\n",
    "Alu\\b"
   ]
  },
  {
   "cell_type": "code",
   "execution_count": 20,
   "id": "6f7303e7-436c-4e96-a093-bafa180203ad",
   "metadata": {},
   "outputs": [
    {
     "data": {
      "text/plain": [
       "0.029920458614848326"
      ]
     },
     "execution_count": 20,
     "metadata": {},
     "output_type": "execute_result"
    }
   ],
   "source": [
    "# Детерминант матрицы A:\n",
    "det(A)\n",
    "# Детерминант матрицы A через объект факторизации:\n",
    "det(Alu)"
   ]
  },
  {
   "cell_type": "code",
   "execution_count": 21,
   "id": "76b5f976-311c-49c2-8801-ca48eff3cf3a",
   "metadata": {},
   "outputs": [
    {
     "data": {
      "text/plain": [
       "LinearAlgebra.QRCompactWY{Float64, Matrix{Float64}, Matrix{Float64}}\n",
       "Q factor:\n",
       "3×3 LinearAlgebra.QRCompactWYQ{Float64, Matrix{Float64}, Matrix{Float64}}:\n",
       " -0.95767    0.269196  -0.101992\n",
       " -0.131902  -0.725259  -0.675723\n",
       " -0.255872  -0.633666   0.730066\n",
       "R factor:\n",
       "3×3 Matrix{Float64}:\n",
       " -0.617831  -0.971501  -0.818961\n",
       "  0.0       -0.457655  -1.06765\n",
       "  0.0        0.0        0.105818"
      ]
     },
     "execution_count": 21,
     "metadata": {},
     "output_type": "execute_result"
    }
   ],
   "source": [
    "# QR-факторизация:\n",
    "Aqr = qr(A)"
   ]
  },
  {
   "cell_type": "code",
   "execution_count": 22,
   "id": "186bf4f4-58d3-4457-805f-5e37e9810a09",
   "metadata": {},
   "outputs": [
    {
     "data": {
      "text/plain": [
       "3×3 Matrix{Float64}:\n",
       " 1.0          0.0          -5.55112e-17\n",
       " 5.55112e-17  1.0           1.11022e-16\n",
       " 0.0          1.11022e-16   1.0"
      ]
     },
     "execution_count": 22,
     "metadata": {},
     "output_type": "execute_result"
    }
   ],
   "source": [
    "# Матрица Q:\n",
    "Aqr.Q\n",
    "# Матрица R:\n",
    "Aqr.R\n",
    "# Проверка, что матрица Q - ортогональная:\n",
    "Aqr.Q'*Aqr.Q"
   ]
  },
  {
   "cell_type": "code",
   "execution_count": 24,
   "id": "04105aa1-9372-446b-abde-ce78aa877f7d",
   "metadata": {},
   "outputs": [
    {
     "data": {
      "text/plain": [
       "3×3 Matrix{Float64}:\n",
       "  1.0          -8.65974e-15   6.21725e-15\n",
       "  2.22045e-15   1.0          -1.06581e-14\n",
       " -3.33067e-16  -6.66134e-15   1.0"
      ]
     },
     "execution_count": 24,
     "metadata": {},
     "output_type": "execute_result"
    }
   ],
   "source": [
    "# Симметризация матрицы A:\n",
    "Asym = A + A'\n",
    "# Спектральное разложение симметризованной матрицы:\n",
    "AsymEig = eigen(Asym)\n",
    "# Собственные значения:\n",
    "AsymEig.values\n",
    "# Собственные векторы:\n",
    "AsymEig.vectors\n",
    "# Проверяем, что получится единичная матрица:\n",
    "inv(AsymEig)*Asym"
   ]
  },
  {
   "cell_type": "code",
   "execution_count": 26,
   "id": "bdf862b6-adb5-4334-a992-c8079fc2bb24",
   "metadata": {},
   "outputs": [
    {
     "data": {
      "text/plain": [
       "false"
      ]
     },
     "execution_count": 26,
     "metadata": {},
     "output_type": "execute_result"
    }
   ],
   "source": [
    "# Добавление шума:\n",
    "Asym_noisy = copy(Asym)\n",
    "Asym_noisy[1,2] += 5eps()\n",
    "# Проверка, является ли матрица симметричной:\n",
    "issymmetric(Asym_noisy)"
   ]
  },
  {
   "cell_type": "code",
   "execution_count": 27,
   "id": "086ea198-dfb5-4539-b017-1d07d06cbc32",
   "metadata": {},
   "outputs": [
    {
     "data": {
      "text/plain": [
       "3×3 Symmetric{Float64, Matrix{Float64}}:\n",
       " 1.18336   0.888672  0.644181\n",
       " 0.888672  0.920123  1.34942\n",
       " 0.644181  1.34942   1.92667"
      ]
     },
     "execution_count": 27,
     "metadata": {},
     "output_type": "execute_result"
    }
   ],
   "source": [
    "# Явно указываем, что матрица является симметричной:\n",
    "Asym_explicit = Symmetric(Asym_noisy)"
   ]
  },
  {
   "cell_type": "code",
   "execution_count": 28,
   "id": "e7480bcd-a1ac-4304-a6f5-d6868eaff46b",
   "metadata": {},
   "outputs": [
    {
     "name": "stderr",
     "output_type": "stream",
     "text": [
      "\u001b[32m\u001b[1m   Resolving\u001b[22m\u001b[39m package versions...\n",
      "\u001b[32m\u001b[1m   Installed\u001b[22m\u001b[39m BenchmarkTools ─ v1.4.0\n",
      "\u001b[32m\u001b[1m    Updating\u001b[22m\u001b[39m `C:\\Users\\adiks\\.julia\\environments\\v1.9\\Project.toml`\n",
      "  \u001b[90m[6e4b80f9] \u001b[39m\u001b[92m+ BenchmarkTools v1.4.0\u001b[39m\n",
      "\u001b[32m\u001b[1m    Updating\u001b[22m\u001b[39m `C:\\Users\\adiks\\.julia\\environments\\v1.9\\Manifest.toml`\n",
      "  \u001b[90m[6e4b80f9] \u001b[39m\u001b[92m+ BenchmarkTools v1.4.0\u001b[39m\n",
      "  \u001b[90m[9abbd945] \u001b[39m\u001b[92m+ Profile\u001b[39m\n",
      "\u001b[32m\u001b[1mPrecompiling\u001b[22m\u001b[39m project...\n",
      "\u001b[32m  ✓ \u001b[39mBenchmarkTools\n",
      "  1 dependency successfully precompiled in 5 seconds. 204 already precompiled."
     ]
    },
    {
     "name": "stdout",
     "output_type": "stream",
     "text": [
      "  1.830 μs (10 allocations: 1.69 KiB)\n"
     ]
    },
    {
     "name": "stderr",
     "output_type": "stream",
     "text": [
      "\n"
     ]
    },
    {
     "name": "stdout",
     "output_type": "stream",
     "text": [
      "  2.367 μs (12 allocations: 1.64 KiB)\n",
      "  1.670 μs (10 allocations: 1.69 KiB)\n"
     ]
    }
   ],
   "source": [
    "import Pkg\n",
    "Pkg.add(\"BenchmarkTools\")\n",
    "using BenchmarkTools\n",
    "# Оценка эффективности выполнения операции по нахождению\n",
    "# собственных значений симметризованной матрицы:\n",
    "@btime eigvals(Asym);\n",
    "# Оценка эффективности выполнения операции по нахождению\n",
    "# собственных значений зашумлённой матрицы:\n",
    "@btime eigvals(Asym_noisy);\n",
    "# Оценка эффективности выполнения операции по нахождению\n",
    "# собственных значений зашумлённой матрицы,\n",
    "# для которой явно указано, что она симметричная:\n",
    "@btime eigvals(Asym_explicit);"
   ]
  },
  {
   "cell_type": "code",
   "execution_count": 29,
   "id": "6efd6019-d185-4546-914d-cae11816818e",
   "metadata": {},
   "outputs": [
    {
     "name": "stdout",
     "output_type": "stream",
     "text": [
      "  417.457 ms (17 allocations: 183.11 MiB)\n"
     ]
    },
    {
     "data": {
      "text/plain": [
       "6.919247259252579"
      ]
     },
     "execution_count": 29,
     "metadata": {},
     "output_type": "execute_result"
    }
   ],
   "source": [
    "# Трёхдиагональная матрица 1000000 х 1000000:\n",
    "n = 1000000;\n",
    "A = SymTridiagonal(randn(n), randn(n-1))\n",
    "# Оценка эффективности выполнения операции по нахождению\n",
    "# собственных значений:\n",
    "@btime eigmax(A)"
   ]
  },
  {
   "cell_type": "markdown",
   "id": "08db2427-cdd6-471b-aa32-d4b78c0794cd",
   "metadata": {
    "jp-MarkdownHeadingCollapsed": true
   },
   "source": [
    "## Общая линейная алгебра"
   ]
  },
  {
   "cell_type": "code",
   "execution_count": 30,
   "id": "988b42e8-d645-4b35-a6fb-bb99a9375251",
   "metadata": {},
   "outputs": [
    {
     "data": {
      "text/plain": [
       "LU{Rational{BigInt}, Matrix{Rational{BigInt}}, Vector{Int64}}\n",
       "L factor:\n",
       "3×3 Matrix{Rational{BigInt}}:\n",
       " 1//1   0//1   0//1\n",
       " 1//4   1//1   0//1\n",
       " 1//8  27//46  1//1\n",
       "U factor:\n",
       "3×3 Matrix{Rational{BigInt}}:\n",
       " 4//5   1//2    2//5\n",
       " 0//1  23//40   7//10\n",
       " 0//1   0//1   16//115"
      ]
     },
     "execution_count": 30,
     "metadata": {},
     "output_type": "execute_result"
    }
   ],
   "source": [
    "# Матрица с рациональными элементами:\n",
    "Arational = Matrix{Rational{BigInt}}(rand(1:10, 3, 3))/10\n",
    "# Единичный вектор:\n",
    "x = fill(1, 3)\n",
    "# Задаём вектор b:\n",
    "b = Arational*x\n",
    "# Решение исходного уравнения получаем с помощью функции \\\n",
    "# (убеждаемся, что x - единичный вектор):\n",
    "Arational\\b\n",
    "# LU-разложение:\n",
    "lu(Arational)"
   ]
  },
  {
   "cell_type": "markdown",
   "id": "6a264a94-9824-4bc4-bf57-a9e3a00e6a43",
   "metadata": {},
   "source": [
    "# Задания для самостоятельного выполнения\n"
   ]
  },
  {
   "cell_type": "markdown",
   "id": "605c569c-b8eb-4726-8087-c224cc157084",
   "metadata": {},
   "source": [
    "## Произведение векторов"
   ]
  },
  {
   "cell_type": "code",
   "execution_count": 33,
   "id": "c32e858a-f553-4503-9b5f-668ea130e0eb",
   "metadata": {},
   "outputs": [
    {
     "name": "stdout",
     "output_type": "stream",
     "text": [
      "Скалярное произведение: 14\n",
      "Внешнее произведение: [1 2 3; 2 4 6; 3 6 9]\n"
     ]
    }
   ],
   "source": [
    "# 1. Скалярное умножение вектора на самого себя\n",
    "v = [1, 2, 3] # Пример вектора, замените на ваш вектор\n",
    "\n",
    "dot_v = dot(v, v) # Результат скалярного умножения\n",
    "\n",
    "# 2. Внешнее произведение вектора на самого себя\n",
    "outer_v = v * v' # Результат внешнего произведения\n",
    "\n",
    "# Вывод результатов\n",
    "println(\"Скалярное произведение: $dot_v\")\n",
    "println(\"Внешнее произведение: $outer_v\")"
   ]
  },
  {
   "cell_type": "markdown",
   "id": "2a816481-9bf7-4e08-ac94-06828a7d3c4f",
   "metadata": {},
   "source": [
    "## Системы линейных уравнений"
   ]
  },
  {
   "cell_type": "code",
   "execution_count": 35,
   "id": "0bb0d2e4-e930-4eb4-8672-5779c0d2588b",
   "metadata": {},
   "outputs": [
    {
     "name": "stdout",
     "output_type": "stream",
     "text": [
      "Решение a): [2.5, -0.5]\n",
      "Решение b): Система не имеет единственного решения (вырожденная или несовместная)\n",
      "Решение c): Система не имеет единственного решения (вырожденная или несовместная)\n",
      "Решение d): [0.4999999999999999, 0.5]\n",
      "Решение e): [1.5000000000000004, -0.9999999999999997]\n",
      "Решение f): [-0.9999999999999989, 2.9999999999999982]\n"
     ]
    }
   ],
   "source": [
    "using LinearAlgebra\n",
    "\n",
    "# Функция для решения СЛАУ и обработки исключений\n",
    "function solve_system(A, b)\n",
    "    try\n",
    "        return A \\ b\n",
    "    catch e\n",
    "        if isa(e, SingularException)\n",
    "            return \"Система не имеет единственного решения (вырожденная или несовместная)\"\n",
    "        else\n",
    "            throw(e)\n",
    "        end\n",
    "    end\n",
    "end\n",
    "\n",
    "# Решение СЛАУ\n",
    "\n",
    "# a)\n",
    "A1 = [1 1; 1 -1]\n",
    "b1 = [2; 3]\n",
    "x1 = solve_system(A1, b1)\n",
    "\n",
    "# b)\n",
    "A2 = [1 1; 2 2]\n",
    "b2 = [2; 4]\n",
    "x2 = solve_system(A2, b2)\n",
    "\n",
    "# c)\n",
    "A3 = [1 1; 2 2]\n",
    "b3 = [2; 5]\n",
    "x3 = solve_system(A3, b3)\n",
    "\n",
    "# d)\n",
    "A4 = [1 1; 2 2; 3 3]\n",
    "b4 = [1; 2; 3]\n",
    "x4 = solve_system(A4, b4)\n",
    "\n",
    "# e)\n",
    "A5 = [1 1; 2 1; 1 -1]\n",
    "b5 = [2; 1; 3]\n",
    "x5 = solve_system(A5, b5)\n",
    "\n",
    "# f)\n",
    "A6 = [1 1; 2 1; 3 2]\n",
    "b6 = [2; 1; 3]\n",
    "x6 = solve_system(A6, b6)\n",
    "\n",
    "# Вывод результатов\n",
    "println(\"Решение a): $x1\")\n",
    "println(\"Решение b): $x2\")\n",
    "println(\"Решение c): $x3\")\n",
    "println(\"Решение d): $x4\")\n",
    "println(\"Решение e): $x5\")\n",
    "println(\"Решение f): $x6\")"
   ]
  },
  {
   "cell_type": "markdown",
   "id": "b786a31c-a4cb-45bf-83e1-aa6e17cd730d",
   "metadata": {
    "jp-MarkdownHeadingCollapsed": true
   },
   "source": [
    "## Операции с матрицами"
   ]
  },
  {
   "cell_type": "code",
   "execution_count": 39,
   "id": "8b18db77-1886-449d-8f23-223deb47ff78",
   "metadata": {},
   "outputs": [
    {
     "name": "stdout",
     "output_type": "stream",
     "text": [
      "Диагональный вид a): [-1.0 0.0; 0.0 3.0]\n",
      "Диагональный вид b): [-0.2360679774997897 0.0; 0.0 4.23606797749979]\n",
      "Диагональный вид c): [-2.1413361156553643 0.0 0.0; 0.0 0.51513804712807 0.0; 0.0 0.0 3.6261980685272945]\n",
      "A1 в 10 степени: [29525 -29524; -29524 29525]\n",
      "Квадратный корень из A2: ComplexF64[0.5688644810057828 + 0.35157758425414287im -0.9204420652599258 + 0.2172868967516401im; -0.9204420652599258 + 0.21728689675164012im 1.489306546265709 + 0.1342906875025027im]\n",
      "Кубический корень из A1: [1.0 -1.2599210498948732; -1.2599210498948732 1.0]\n",
      "Квадратный корень из A4: ComplexF64[0.5688644810057828 + 0.35157758425414287im 0.9204420652599258 - 0.2172868967516401im; 0.9204420652599258 - 0.21728689675164012im 1.489306546265709 + 0.1342906875025027im]\n",
      "Собственные значения A5: [-128.49322764802145, -55.887784553056875, 42.7521672793189, 87.16111477514521, 542.4677301466143]\n",
      "Диагональная матрица из собственных значений A5: [-128.49322764802145 0.0 0.0 0.0 0.0; 0.0 -55.887784553056875 0.0 0.0 0.0; 0.0 0.0 42.7521672793189 0.0 0.0; 0.0 0.0 0.0 87.16111477514521 0.0; 0.0 0.0 0.0 0.0 542.4677301466143]\n",
      "Нижнедиагональная матрица из A5: [140 0 0 0 0; 97 106 0 0 0; 74 89 152 0 0; 168 131 144 54 0; 131 36 71 142 36]\n"
     ]
    }
   ],
   "source": [
    "using LinearAlgebra\n",
    "\n",
    "# 1. Приведение матриц к диагональному виду\n",
    "\n",
    "# a)\n",
    "A1 = [1 -2; -2 1]\n",
    "D1 = Diagonal(eigvals(A1))\n",
    "\n",
    "# b)\n",
    "A2 = [1 -2; -2 3]\n",
    "D2 = Diagonal(eigvals(A2))\n",
    "\n",
    "# c)\n",
    "A3 = [1 -2 0; -2 1 2; 0 2 0]\n",
    "D3 = Diagonal(eigvals(A3))\n",
    "\n",
    "# 2. Вычисление степеней и корней матриц\n",
    "\n",
    "# a)\n",
    "pow_A1 = A1^10\n",
    "\n",
    "# b)\n",
    "sqrt_A2 = sqrt(A2)\n",
    "\n",
    "# c)\n",
    "cbrt_A1 = cbrt.(A1)\n",
    "\n",
    "# d)\n",
    "A4 = [1 2; 2 3]\n",
    "sqrt_A4 = sqrt(A4)\n",
    "\n",
    "# 3. Собственные значения матрицы A\n",
    "\n",
    "A5 = [140 97 74 168 131; 97 106 89 131 36; 74 89 152 144 71; 168 131 144 54 142; 131 36 71 142 36]\n",
    "eigenvalues_A5 = eigvals(A5)\n",
    "D5 = Diagonal(eigenvalues_A5)\n",
    "\n",
    "# Нижнедиагональная матрица из A\n",
    "lower_A5 = tril(A5)\n",
    "\n",
    "# Вывод результатов\n",
    "println(\"Диагональный вид a): $D1\")\n",
    "println(\"Диагональный вид b): $D2\")\n",
    "println(\"Диагональный вид c): $D3\")\n",
    "println(\"A1 в 10 степени: $pow_A1\")\n",
    "println(\"Квадратный корень из A2: $sqrt_A2\")\n",
    "println(\"Кубический корень из A1: $cbrt_A1\")\n",
    "println(\"Квадратный корень из A4: $sqrt_A4\")\n",
    "println(\"Собственные значения A5: $eigenvalues_A5\")\n",
    "println(\"Диагональная матрица из собственных значений A5: $D5\")\n",
    "println(\"Нижнедиагональная матрица из A5: $lower_A5\")"
   ]
  },
  {
   "cell_type": "markdown",
   "id": "a384d6eb-a2ca-409e-8650-83f976c8ec6a",
   "metadata": {
    "jp-MarkdownHeadingCollapsed": true
   },
   "source": [
    "## Линейные модели экономики"
   ]
  },
  {
   "cell_type": "code",
   "execution_count": 40,
   "id": "ddb92a7f-07ca-4a06-b450-fe569816f6b0",
   "metadata": {},
   "outputs": [
    {
     "name": "stdout",
     "output_type": "stream",
     "text": [
      "Продуктивность A1: false\n",
      "Продуктивность A2: false\n",
      "Продуктивность A3: true\n",
      "Продуктивность A4: false\n",
      "Продуктивность A5: false\n",
      "Продуктивность A6: true\n",
      "Спектральная продуктивность A1: false\n",
      "Спектральная продуктивность A2: false\n",
      "Спектральная продуктивность A3: true\n",
      "Спектральная продуктивность A4: false\n",
      "Спектральная продуктивность A5: false\n",
      "Спектральная продуктивность A6: true\n",
      "Спектральная продуктивность A7: true\n"
     ]
    }
   ],
   "source": [
    "using LinearAlgebra\n",
    "\n",
    "# Функция для проверки продуктивности матрицы\n",
    "function is_productive(A)\n",
    "    E = Matrix{Float64}(I, size(A))\n",
    "    inv_E_A = inv(E - A)\n",
    "    return all(inv_E_A .>= 0)\n",
    "end\n",
    "\n",
    "# Функция для проверки спектрального критерия продуктивности\n",
    "function is_spectral_productive(A)\n",
    "    eigenvalues = abs.(eigvals(A))\n",
    "    return all(eigenvalues .< 1)\n",
    "end\n",
    "\n",
    "# Матрицы для проверки\n",
    "A1 = [1 2; 3 4]\n",
    "A2 = 1/2 * A1\n",
    "A3 = 1/10 * A1\n",
    "A4 = [1 2; 3 1]\n",
    "A5 = 1/2 * A4\n",
    "A6 = 1/10 * A4\n",
    "A7 = [0.1 0.2 0.3; 0 0.1 0.2; 0 0.1 0.3]\n",
    "\n",
    "# Проверка продуктивности\n",
    "println(\"Продуктивность A1: $(is_productive(A1))\")\n",
    "println(\"Продуктивность A2: $(is_productive(A2))\")\n",
    "println(\"Продуктивность A3: $(is_productive(A3))\")\n",
    "println(\"Продуктивность A4: $(is_productive(A4))\")\n",
    "println(\"Продуктивность A5: $(is_productive(A5))\")\n",
    "println(\"Продуктивность A6: $(is_productive(A6))\")\n",
    "\n",
    "# Проверка спектрального критерия продуктивности\n",
    "println(\"Спектральная продуктивность A1: $(is_spectral_productive(A1))\")\n",
    "println(\"Спектральная продуктивность A2: $(is_spectral_productive(A2))\")\n",
    "println(\"Спектральная продуктивность A3: $(is_spectral_productive(A3))\")\n",
    "println(\"Спектральная продуктивность A4: $(is_spectral_productive(A4))\")\n",
    "println(\"Спектральная продуктивность A5: $(is_spectral_productive(A5))\")\n",
    "println(\"Спектральная продуктивность A6: $(is_spectral_productive(A6))\")\n",
    "println(\"Спектральная продуктивность A7: $(is_spectral_productive(A7))\")"
   ]
  },
  {
   "cell_type": "code",
   "execution_count": null,
   "id": "00f7b1fc-49f6-4765-bcec-69f61a66ce43",
   "metadata": {},
   "outputs": [],
   "source": []
  }
 ],
 "metadata": {
  "kernelspec": {
   "display_name": "Julia 1.9.3",
   "language": "julia",
   "name": "julia-1.9"
  },
  "language_info": {
   "file_extension": ".jl",
   "mimetype": "application/julia",
   "name": "julia",
   "version": "1.9.3"
  }
 },
 "nbformat": 4,
 "nbformat_minor": 5
}
