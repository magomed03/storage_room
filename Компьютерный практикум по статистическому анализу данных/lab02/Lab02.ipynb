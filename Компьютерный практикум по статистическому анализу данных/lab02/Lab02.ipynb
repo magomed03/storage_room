{
 "cells": [
  {
   "cell_type": "markdown",
   "id": "1a47e34f-9d80-46a8-8665-5121b2ebf84e",
   "metadata": {},
   "source": [
    "Задание(повторяем примеры из раздела)."
   ]
  },
  {
   "cell_type": "code",
   "execution_count": 7,
   "id": "f2e1eb76-8b5b-40cd-8fe5-bc883f1797b1",
   "metadata": {},
   "outputs": [
    {
     "data": {
      "text/plain": [
       "()"
      ]
     },
     "execution_count": 7,
     "metadata": {},
     "output_type": "execute_result"
    }
   ],
   "source": [
    "# Кортежи:\n",
    "\n",
    "# пустой кортеж:\n",
    "()"
   ]
  },
  {
   "cell_type": "code",
   "execution_count": 2,
   "id": "5af0f8b7-f30f-4f99-9f7a-be44061d86f3",
   "metadata": {},
   "outputs": [
    {
     "data": {
      "text/plain": [
       "(\"Python\", \"Julia\", \"R\")"
      ]
     },
     "execution_count": 2,
     "metadata": {},
     "output_type": "execute_result"
    }
   ],
   "source": [
    "# кортеж из элементов типа String:\n",
    "favoritelang = (\"Python\",\"Julia\",\"R\")"
   ]
  },
  {
   "cell_type": "code",
   "execution_count": 3,
   "id": "99730228-14e8-48e1-ad57-10ec3f29c02e",
   "metadata": {},
   "outputs": [
    {
     "data": {
      "text/plain": [
       "(1, 2, 3)"
      ]
     },
     "execution_count": 3,
     "metadata": {},
     "output_type": "execute_result"
    }
   ],
   "source": [
    "# кортеж из целых чисел:\n",
    "x1 = (1, 2, 3)"
   ]
  },
  {
   "cell_type": "code",
   "execution_count": 4,
   "id": "f26f2996-670a-4fe1-8685-15cb602953ae",
   "metadata": {},
   "outputs": [
    {
     "data": {
      "text/plain": [
       "(1, 2.0, \"tmp\")"
      ]
     },
     "execution_count": 4,
     "metadata": {},
     "output_type": "execute_result"
    }
   ],
   "source": [
    "# кортеж из элементов разных типов:\n",
    "x2 = (1, 2.0, \"tmp\")"
   ]
  },
  {
   "cell_type": "code",
   "execution_count": 5,
   "id": "8004d37d-0908-4ed3-a453-c704255b7fae",
   "metadata": {},
   "outputs": [
    {
     "data": {
      "text/plain": [
       "(a = 2, b = 3)"
      ]
     },
     "execution_count": 5,
     "metadata": {},
     "output_type": "execute_result"
    }
   ],
   "source": [
    "# именованный кортеж:\n",
    "x3 = (a=2, b=1+2)"
   ]
  },
  {
   "cell_type": "code",
   "execution_count": 8,
   "id": "8bb7e6a0-0acc-4204-9410-2637c61fbb5d",
   "metadata": {},
   "outputs": [
    {
     "data": {
      "text/plain": [
       "3"
      ]
     },
     "execution_count": 8,
     "metadata": {},
     "output_type": "execute_result"
    }
   ],
   "source": [
    "# Примеры операций над кортежами:\n",
    "\n",
    "# длина кортежа x2:\n",
    "length(x2)"
   ]
  },
  {
   "cell_type": "code",
   "execution_count": 11,
   "id": "992d4c87-f5ae-419d-bb03-24fa5992c7b6",
   "metadata": {},
   "outputs": [
    {
     "data": {
      "text/plain": [
       "(1, 2.0, \"tmp\")"
      ]
     },
     "execution_count": 11,
     "metadata": {},
     "output_type": "execute_result"
    }
   ],
   "source": [
    "# обратиться к элементам кортежа x2:\n",
    "x2[1], x2[2], x2[3]"
   ]
  },
  {
   "cell_type": "code",
   "execution_count": 12,
   "id": "84a7ad5a-7959-4ed1-ac84-f0836faa42da",
   "metadata": {},
   "outputs": [
    {
     "data": {
      "text/plain": [
       "5"
      ]
     },
     "execution_count": 12,
     "metadata": {},
     "output_type": "execute_result"
    }
   ],
   "source": [
    "# произвести какую-либо операцию (сложение)\n",
    "# с вторым и третьим элементами кортежа x1:\n",
    "с = x1[2] + x1[3]"
   ]
  },
  {
   "cell_type": "code",
   "execution_count": 13,
   "id": "4f0cf06b-0449-4f23-8291-34bcf43b0b03",
   "metadata": {},
   "outputs": [
    {
     "data": {
      "text/plain": [
       "(2, 3, 3)"
      ]
     },
     "execution_count": 13,
     "metadata": {},
     "output_type": "execute_result"
    }
   ],
   "source": [
    "# обращение к элементам именованного кортежа x3:\n",
    "x3.a, x3.b, x3[2]"
   ]
  },
  {
   "cell_type": "code",
   "execution_count": 14,
   "id": "03406855-269b-490b-b0a3-9ab6bb5fb41f",
   "metadata": {},
   "outputs": [
    {
     "data": {
      "text/plain": [
       "(true, false)"
      ]
     },
     "execution_count": 14,
     "metadata": {},
     "output_type": "execute_result"
    }
   ],
   "source": [
    "# проверка вхождения элементов tmp и 0 в кортеж x2\n",
    "# (два способа обращения к методу in()):\n",
    "in(\"tmp\", x2), 0 in x2"
   ]
  },
  {
   "cell_type": "code",
   "execution_count": 16,
   "id": "be609128-d40d-4c86-ab9d-ca74ca086120",
   "metadata": {},
   "outputs": [
    {
     "data": {
      "text/plain": [
       "Dict{String, Any} with 2 entries:\n",
       "  \"Бухгалтерия\" => \"555-2368\"\n",
       "  \"Иванов И.И.\" => (\"867-5309\", \"333-5544\")"
      ]
     },
     "execution_count": 16,
     "metadata": {},
     "output_type": "execute_result"
    }
   ],
   "source": [
    "# Словари:\n",
    "\n",
    "# создать словарь с именем phonebook:\n",
    "phonebook = Dict(\"Иванов И.И.\" => (\"867-5309\",\"333-5544\"), \"Бухгалтерия\" => \"555-2368\")"
   ]
  },
  {
   "cell_type": "code",
   "execution_count": 17,
   "id": "244ec4ca-4cdf-4337-9295-5a497c809bea",
   "metadata": {},
   "outputs": [
    {
     "data": {
      "text/plain": [
       "KeySet for a Dict{String, Any} with 2 entries. Keys:\n",
       "  \"Бухгалтерия\"\n",
       "  \"Иванов И.И.\""
      ]
     },
     "execution_count": 17,
     "metadata": {},
     "output_type": "execute_result"
    }
   ],
   "source": [
    "# вывести ключи словаря:\n",
    "keys(phonebook)"
   ]
  },
  {
   "cell_type": "code",
   "execution_count": 18,
   "id": "c2a348c0-96be-4605-8d85-11d808fbf651",
   "metadata": {},
   "outputs": [
    {
     "data": {
      "text/plain": [
       "ValueIterator for a Dict{String, Any} with 2 entries. Values:\n",
       "  \"555-2368\"\n",
       "  (\"867-5309\", \"333-5544\")"
      ]
     },
     "execution_count": 18,
     "metadata": {},
     "output_type": "execute_result"
    }
   ],
   "source": [
    "# вывести значения элементов словаря:\n",
    "values(phonebook)"
   ]
  },
  {
   "cell_type": "code",
   "execution_count": 19,
   "id": "0f60a295-6fa3-4ca4-8e59-9766e57f3d4b",
   "metadata": {},
   "outputs": [
    {
     "data": {
      "text/plain": [
       "Dict{String, Any} with 2 entries:\n",
       "  \"Бухгалтерия\" => \"555-2368\"\n",
       "  \"Иванов И.И.\" => (\"867-5309\", \"333-5544\")"
      ]
     },
     "execution_count": 19,
     "metadata": {},
     "output_type": "execute_result"
    }
   ],
   "source": [
    "# вывести заданные в словаре пары \"ключ - значение\":\n",
    "pairs(phonebook)"
   ]
  },
  {
   "cell_type": "code",
   "execution_count": 20,
   "id": "e998b487-ab08-42b7-b7f6-ffa9066d81c1",
   "metadata": {},
   "outputs": [
    {
     "data": {
      "text/plain": [
       "true"
      ]
     },
     "execution_count": 20,
     "metadata": {},
     "output_type": "execute_result"
    }
   ],
   "source": [
    "# проверка вхождения ключа в словарь:\n",
    "haskey(phonebook, \"Иванов И.И.\")"
   ]
  },
  {
   "cell_type": "code",
   "execution_count": 21,
   "id": "900579c6-e716-4067-bde5-f9763163f38a",
   "metadata": {},
   "outputs": [
    {
     "data": {
      "text/plain": [
       "\"555-3344\""
      ]
     },
     "execution_count": 21,
     "metadata": {},
     "output_type": "execute_result"
    }
   ],
   "source": [
    "# добавить элемент в словарь:\n",
    "phonebook[\"Сидоров П.С.\"] = \"555-3344\""
   ]
  },
  {
   "cell_type": "code",
   "execution_count": 23,
   "id": "100453ed-20ff-44c3-8350-04fc695d2668",
   "metadata": {},
   "outputs": [
    {
     "data": {
      "text/plain": [
       "(\"867-5309\", \"333-5544\")"
      ]
     },
     "execution_count": 23,
     "metadata": {},
     "output_type": "execute_result"
    }
   ],
   "source": [
    "# удалить ключ и связанные с ним значения из словаря\n",
    "pop!(phonebook, \"Иванов И.И.\")"
   ]
  },
  {
   "cell_type": "code",
   "execution_count": 24,
   "id": "7ecf6ffa-c1f4-42c8-b487-fd5111b637ff",
   "metadata": {},
   "outputs": [
    {
     "data": {
      "text/plain": [
       "(Dict{String, Real}(\"bar\" => 13.0, \"baz\" => 17, \"foo\" => 0.0), Dict{String, Real}(\"bar\" => 42.0, \"baz\" => 17, \"foo\" => 0.0))"
      ]
     },
     "execution_count": 24,
     "metadata": {},
     "output_type": "execute_result"
    }
   ],
   "source": [
    "# Объединение словарей (функция merge()):\n",
    "a = Dict(\"foo\" => 0.0, \"bar\" => 42.0);\n",
    "b = Dict(\"baz\" => 17, \"bar\" => 13.0);\n",
    "merge(a, b), merge(b,a)"
   ]
  },
  {
   "cell_type": "code",
   "execution_count": 26,
   "id": "1a529be1-9b7d-4402-8f38-8bbba6607be4",
   "metadata": {},
   "outputs": [
    {
     "data": {
      "text/plain": [
       "Set{Int64} with 4 elements:\n",
       "  5\n",
       "  4\n",
       "  3\n",
       "  1"
      ]
     },
     "execution_count": 26,
     "metadata": {},
     "output_type": "execute_result"
    }
   ],
   "source": [
    "# Множества:\n",
    "\n",
    "# создать множество из четырёх целочисленных значений:\n",
    "A = Set([1, 3, 4, 5])"
   ]
  },
  {
   "cell_type": "code",
   "execution_count": 27,
   "id": "8af52d4a-d388-4f01-881f-302a93ce2475",
   "metadata": {},
   "outputs": [
    {
     "data": {
      "text/plain": [
       "Set{Char} with 5 elements:\n",
       "  'a'\n",
       "  'd'\n",
       "  'r'\n",
       "  'k'\n",
       "  'b'"
      ]
     },
     "execution_count": 27,
     "metadata": {},
     "output_type": "execute_result"
    }
   ],
   "source": [
    "# создать множество из 11 символьных значений:\n",
    "B = Set(\"abrakadabra\")"
   ]
  },
  {
   "cell_type": "code",
   "execution_count": 28,
   "id": "12cf5f85-0bae-4e77-a8c3-5fafa2058d54",
   "metadata": {},
   "outputs": [
    {
     "data": {
      "text/plain": [
       "false"
      ]
     },
     "execution_count": 28,
     "metadata": {},
     "output_type": "execute_result"
    }
   ],
   "source": [
    "# проверка эквивалентности двух множеств:\n",
    "S1 = Set([1,2]);\n",
    "S2 = Set([3,4]);\n",
    "issetequal(S1,S2)"
   ]
  },
  {
   "cell_type": "code",
   "execution_count": 29,
   "id": "9425a926-7cb5-4574-bf68-ef24f3466526",
   "metadata": {},
   "outputs": [
    {
     "data": {
      "text/plain": [
       "true"
      ]
     },
     "execution_count": 29,
     "metadata": {},
     "output_type": "execute_result"
    }
   ],
   "source": [
    "S3 = Set([1,2,2,3,1,2,3,2,1]);\n",
    "S4 = Set([2,3,1]);\n",
    "issetequal(S3,S4)"
   ]
  },
  {
   "cell_type": "code",
   "execution_count": 30,
   "id": "1e0a0816-76f4-40d6-bae2-a261dc577a10",
   "metadata": {},
   "outputs": [
    {
     "data": {
      "text/plain": [
       "Set{Int64} with 4 elements:\n",
       "  4\n",
       "  2\n",
       "  3\n",
       "  1"
      ]
     },
     "execution_count": 30,
     "metadata": {},
     "output_type": "execute_result"
    }
   ],
   "source": [
    "# объединение множеств:\n",
    "C=union(S1,S2)"
   ]
  },
  {
   "cell_type": "code",
   "execution_count": 31,
   "id": "f17b6c89-87ff-45fc-adb8-3a21fd199a23",
   "metadata": {},
   "outputs": [
    {
     "data": {
      "text/plain": [
       "Set{Int64} with 2 elements:\n",
       "  2\n",
       "  1"
      ]
     },
     "execution_count": 31,
     "metadata": {},
     "output_type": "execute_result"
    }
   ],
   "source": [
    "# пересечение множеств:\n",
    "D = intersect(S1,S3)"
   ]
  },
  {
   "cell_type": "code",
   "execution_count": 32,
   "id": "c11c67ca-8d84-4a00-b4be-e48afcf4b716",
   "metadata": {},
   "outputs": [
    {
     "data": {
      "text/plain": [
       "Set{Int64} with 1 element:\n",
       "  3"
      ]
     },
     "execution_count": 32,
     "metadata": {},
     "output_type": "execute_result"
    }
   ],
   "source": [
    "# разность множеств:\n",
    "E = setdiff(S3,S1)"
   ]
  },
  {
   "cell_type": "code",
   "execution_count": 33,
   "id": "6ff97e69-e13b-45e0-80eb-ef6c5a059f78",
   "metadata": {},
   "outputs": [
    {
     "data": {
      "text/plain": [
       "true"
      ]
     },
     "execution_count": 33,
     "metadata": {},
     "output_type": "execute_result"
    }
   ],
   "source": [
    "# проверка вхождения элементов одного множества в другое:\n",
    "issubset(S1,S4)"
   ]
  },
  {
   "cell_type": "code",
   "execution_count": 34,
   "id": "ae73ede0-ac22-4436-9d3a-478f90030c82",
   "metadata": {},
   "outputs": [
    {
     "data": {
      "text/plain": [
       "Set{Int64} with 4 elements:\n",
       "  2\n",
       "  99\n",
       "  3\n",
       "  1"
      ]
     },
     "execution_count": 34,
     "metadata": {},
     "output_type": "execute_result"
    }
   ],
   "source": [
    "# добавление элемента в множество:\n",
    "push!(S4, 99)"
   ]
  },
  {
   "cell_type": "code",
   "execution_count": 35,
   "id": "008e834f-ec80-4a57-b746-7b161a752296",
   "metadata": {},
   "outputs": [
    {
     "data": {
      "text/plain": [
       "2"
      ]
     },
     "execution_count": 35,
     "metadata": {},
     "output_type": "execute_result"
    }
   ],
   "source": [
    "# удаление последнего элемента множества:\n",
    "pop!(S4)"
   ]
  },
  {
   "cell_type": "code",
   "execution_count": 36,
   "id": "04f4ef98-fb3f-4820-b82e-d44ef41176d6",
   "metadata": {},
   "outputs": [
    {
     "data": {
      "text/plain": [
       "Any[]"
      ]
     },
     "execution_count": 36,
     "metadata": {},
     "output_type": "execute_result"
    }
   ],
   "source": [
    "# Массивы:\n",
    "\n",
    "# создание пустого массива с абстрактным типом:\n",
    "empty_array_1 = []"
   ]
  },
  {
   "cell_type": "code",
   "execution_count": 37,
   "id": "fa5d8840-c5bd-4aed-aa6a-2d7ab6aeb6d7",
   "metadata": {},
   "outputs": [
    {
     "data": {
      "text/plain": [
       "Float64[]"
      ]
     },
     "execution_count": 37,
     "metadata": {},
     "output_type": "execute_result"
    }
   ],
   "source": [
    "# создание пустого массива с конкретным типом:\n",
    "empty_array_2 = (Int64)[]\n",
    "empty_array_3 = (Float64)[]"
   ]
  },
  {
   "cell_type": "code",
   "execution_count": 38,
   "id": "f1601a6c-e285-4453-b5a9-58bd5919a30b",
   "metadata": {},
   "outputs": [
    {
     "data": {
      "text/plain": [
       "3-element Vector{Int64}:\n",
       " 1\n",
       " 2\n",
       " 3"
      ]
     },
     "execution_count": 38,
     "metadata": {},
     "output_type": "execute_result"
    }
   ],
   "source": [
    "# вектор-столбец:\n",
    "a = [1, 2, 3]"
   ]
  },
  {
   "cell_type": "code",
   "execution_count": 39,
   "id": "d6c3ce49-50f7-4b6e-af21-3520abc657f3",
   "metadata": {},
   "outputs": [
    {
     "data": {
      "text/plain": [
       "1×3 Matrix{Int64}:\n",
       " 1  2  3"
      ]
     },
     "execution_count": 39,
     "metadata": {},
     "output_type": "execute_result"
    }
   ],
   "source": [
    "# вектор-строка:\n",
    "b = [1 2 3]"
   ]
  },
  {
   "cell_type": "code",
   "execution_count": 41,
   "id": "bde52c49-42d2-4276-8aa9-7faba90da2ad",
   "metadata": {},
   "outputs": [
    {
     "data": {
      "text/plain": [
       "3×3 Matrix{Int64}:\n",
       " 1  4  7\n",
       " 2  5  8\n",
       " 3  6  9"
      ]
     },
     "execution_count": 41,
     "metadata": {},
     "output_type": "execute_result"
    }
   ],
   "source": [
    "# многомерные массивы (матрицы):\n",
    "A = [[1, 2, 3] [4, 5, 6] [7, 8, 9]]\n"
   ]
  },
  {
   "cell_type": "code",
   "execution_count": 42,
   "id": "011688e7-e3d2-46ab-957f-e16525dce7f8",
   "metadata": {},
   "outputs": [
    {
     "data": {
      "text/plain": [
       "3×3 Matrix{Int64}:\n",
       " 1  2  3\n",
       " 4  5  6\n",
       " 7  8  9"
      ]
     },
     "execution_count": 42,
     "metadata": {},
     "output_type": "execute_result"
    }
   ],
   "source": [
    "B = [[1 2 3]; [4 5 6]; [7 8 9]]"
   ]
  },
  {
   "cell_type": "code",
   "execution_count": 45,
   "id": "f35a9514-421f-45cb-86ee-b6b8b1946532",
   "metadata": {},
   "outputs": [
    {
     "data": {
      "text/plain": [
       "1×8 Matrix{Float64}:\n",
       " 0.887967  0.397398  0.916631  0.193065  …  0.757686  0.541473  0.235496"
      ]
     },
     "execution_count": 45,
     "metadata": {},
     "output_type": "execute_result"
    }
   ],
   "source": [
    "# одномерный массив из 8 элементов (массив $1 \\times 8$)\n",
    "# со значениями, случайно распределёнными на интервале [0, 1):\n",
    "c = rand(1,8)"
   ]
  },
  {
   "cell_type": "code",
   "execution_count": 48,
   "id": "3cb70436-95d4-43e0-9a66-a60081031b3b",
   "metadata": {},
   "outputs": [
    {
     "data": {
      "text/plain": [
       "2×3 Matrix{Float64}:\n",
       " 0.895076  0.851244   0.439861\n",
       " 0.502467  0.0283441  0.569015"
      ]
     },
     "execution_count": 48,
     "metadata": {},
     "output_type": "execute_result"
    }
   ],
   "source": [
    "# многомерный массив $2 \\times 3$ (2 строки, 3 столбца) элементов\n",
    "# со значениями, случайно распределёнными на интервале [0, 1):\n",
    "C = rand(2,3)"
   ]
  },
  {
   "cell_type": "code",
   "execution_count": 49,
   "id": "954ac8e9-7e4b-4d1c-a4ce-27d1ab6f6f32",
   "metadata": {},
   "outputs": [
    {
     "data": {
      "text/plain": [
       "4×3×2 Array{Float64, 3}:\n",
       "[:, :, 1] =\n",
       " 0.364002   0.0102573  0.96375\n",
       " 0.0554138  0.594815   0.880497\n",
       " 0.52068    0.558104   0.705446\n",
       " 0.369265   0.465458   0.210343\n",
       "\n",
       "[:, :, 2] =\n",
       " 0.658919  0.516749   0.919094\n",
       " 0.975825  0.0762784  0.98538\n",
       " 0.356991  0.984591   0.638042\n",
       " 0.533648  0.123939   0.419453"
      ]
     },
     "execution_count": 49,
     "metadata": {},
     "output_type": "execute_result"
    }
   ],
   "source": [
    "# трёхмерный массив:\n",
    "D = rand(4, 3, 2)"
   ]
  },
  {
   "cell_type": "code",
   "execution_count": 50,
   "id": "1d36012b-adbb-4114-bbbb-f329fd7f76ac",
   "metadata": {},
   "outputs": [
    {
     "data": {
      "text/plain": [
       "10-element Vector{Float64}:\n",
       " 1.0\n",
       " 1.4142135623730951\n",
       " 1.7320508075688772\n",
       " 2.0\n",
       " 2.23606797749979\n",
       " 2.449489742783178\n",
       " 2.6457513110645907\n",
       " 2.8284271247461903\n",
       " 3.0\n",
       " 3.1622776601683795"
      ]
     },
     "execution_count": 50,
     "metadata": {},
     "output_type": "execute_result"
    }
   ],
   "source": [
    "# массив из квадратных корней всех целых чисел от 1 до 10:\n",
    "roots = [sqrt(i) for i in 1:10]"
   ]
  },
  {
   "cell_type": "code",
   "execution_count": 51,
   "id": "8a5fcab3-fff7-426a-ad8e-685bab7db234",
   "metadata": {},
   "outputs": [
    {
     "data": {
      "text/plain": [
       "5-element Vector{Int64}:\n",
       "   3\n",
       "  27\n",
       "  75\n",
       " 147\n",
       " 243"
      ]
     },
     "execution_count": 51,
     "metadata": {},
     "output_type": "execute_result"
    }
   ],
   "source": [
    "# массив с элементами вида 3*x^2,\n",
    "# где x - нечётное число от 1 до 9 (включительно)\n",
    "ar_1 = [3*i^2 for i in 1:2:9]"
   ]
  },
  {
   "cell_type": "code",
   "execution_count": 52,
   "id": "b2de4eca-af0a-4d0a-8ac5-103d6858aace",
   "metadata": {},
   "outputs": [
    {
     "data": {
      "text/plain": [
       "4-element Vector{Int64}:\n",
       "  1\n",
       "  9\n",
       " 49\n",
       " 81"
      ]
     },
     "execution_count": 52,
     "metadata": {},
     "output_type": "execute_result"
    }
   ],
   "source": [
    "# массив квадратов элементов, если квадрат не делится на 5 или 4:\n",
    "ar_2=[i^2 for i=1:10 if (i^2%5!=0 && i^2%4!=0)]"
   ]
  },
  {
   "cell_type": "code",
   "execution_count": 53,
   "id": "c4b22e79-90aa-4a61-8dba-2e11ef85c94f",
   "metadata": {},
   "outputs": [
    {
     "data": {
      "text/plain": [
       "5-element Vector{Float64}:\n",
       " 1.0\n",
       " 1.0\n",
       " 1.0\n",
       " 1.0\n",
       " 1.0"
      ]
     },
     "execution_count": 53,
     "metadata": {},
     "output_type": "execute_result"
    }
   ],
   "source": [
    "# Некоторые операции для работы с массивами:\n",
    "\n",
    "# одномерный массив из пяти единиц:\n",
    "ones(5)"
   ]
  },
  {
   "cell_type": "code",
   "execution_count": 54,
   "id": "fac770e4-7006-4903-a2db-a287ea4ad00a",
   "metadata": {},
   "outputs": [
    {
     "data": {
      "text/plain": [
       "2×3 Matrix{Float64}:\n",
       " 1.0  1.0  1.0\n",
       " 1.0  1.0  1.0"
      ]
     },
     "execution_count": 54,
     "metadata": {},
     "output_type": "execute_result"
    }
   ],
   "source": [
    "# двумерный массив 2x3 из единиц:\n",
    "ones(2,3)"
   ]
  },
  {
   "cell_type": "code",
   "execution_count": 55,
   "id": "a1816f7f-163a-498a-aed7-556aa58ac4f4",
   "metadata": {},
   "outputs": [
    {
     "data": {
      "text/plain": [
       "4-element Vector{Float64}:\n",
       " 0.0\n",
       " 0.0\n",
       " 0.0\n",
       " 0.0"
      ]
     },
     "execution_count": 55,
     "metadata": {},
     "output_type": "execute_result"
    }
   ],
   "source": [
    "# одномерный массив из 4 нулей:\n",
    "zeros(4)"
   ]
  },
  {
   "cell_type": "code",
   "execution_count": 56,
   "id": "b25a7d1e-c14f-4e82-bb8d-46aa1c38639b",
   "metadata": {},
   "outputs": [
    {
     "data": {
      "text/plain": [
       "3×2 Matrix{Float64}:\n",
       " 3.5  3.5\n",
       " 3.5  3.5\n",
       " 3.5  3.5"
      ]
     },
     "execution_count": 56,
     "metadata": {},
     "output_type": "execute_result"
    }
   ],
   "source": [
    "# заполнить массив 3x2 цифрами 3.5\n",
    "fill(3.5,(3,2))"
   ]
  },
  {
   "cell_type": "code",
   "execution_count": 60,
   "id": "cf336c7e-1423-40d0-986b-32b50cbd88ef",
   "metadata": {},
   "outputs": [
    {
     "data": {
      "text/plain": [
       "6×3 Matrix{Int64}:\n",
       " 1  1  1\n",
       " 2  2  2\n",
       " 1  1  1\n",
       " 2  2  2\n",
       " 1  1  1\n",
       " 2  2  2"
      ]
     },
     "execution_count": 60,
     "metadata": {},
     "output_type": "execute_result"
    }
   ],
   "source": [
    "# заполнение массива посредством функции repeat():\n",
    "repeat([1,2],3,3)\n"
   ]
  },
  {
   "cell_type": "code",
   "execution_count": 61,
   "id": "74945e50-20bf-4afb-998e-1cfda0b2851f",
   "metadata": {},
   "outputs": [
    {
     "data": {
      "text/plain": [
       "3×6 Matrix{Int64}:\n",
       " 1  2  1  2  1  2\n",
       " 1  2  1  2  1  2\n",
       " 1  2  1  2  1  2"
      ]
     },
     "execution_count": 61,
     "metadata": {},
     "output_type": "execute_result"
    }
   ],
   "source": [
    "repeat([1 2],3,3)"
   ]
  },
  {
   "cell_type": "code",
   "execution_count": 62,
   "id": "21991be5-b5f5-4ce6-94a4-dec103ee6d97",
   "metadata": {},
   "outputs": [
    {
     "data": {
      "text/plain": [
       "2×6 Matrix{Int64}:\n",
       " 1  3  5  7   9  11\n",
       " 2  4  6  8  10  12"
      ]
     },
     "execution_count": 62,
     "metadata": {},
     "output_type": "execute_result"
    }
   ],
   "source": [
    "# преобразование одномерного массива из целых чисел от 1 до 12\n",
    "# в двумерный массив 2x6\n",
    "a = collect(1:12)\n",
    "b = reshape(a,(2,6))"
   ]
  },
  {
   "cell_type": "code",
   "execution_count": 63,
   "id": "8af549af-f24c-4caf-ab9b-bf6096fc0ca6",
   "metadata": {},
   "outputs": [
    {
     "data": {
      "text/plain": [
       "6×2 adjoint(::Matrix{Int64}) with eltype Int64:\n",
       "  1   2\n",
       "  3   4\n",
       "  5   6\n",
       "  7   8\n",
       "  9  10\n",
       " 11  12"
      ]
     },
     "execution_count": 63,
     "metadata": {},
     "output_type": "execute_result"
    }
   ],
   "source": [
    "# транспонирование\n",
    "b'"
   ]
  },
  {
   "cell_type": "code",
   "execution_count": 64,
   "id": "36188fe4-0a9a-4f51-8e8f-079d9e63b960",
   "metadata": {},
   "outputs": [
    {
     "data": {
      "text/plain": [
       "6×2 transpose(::Matrix{Int64}) with eltype Int64:\n",
       "  1   2\n",
       "  3   4\n",
       "  5   6\n",
       "  7   8\n",
       "  9  10\n",
       " 11  12"
      ]
     },
     "execution_count": 64,
     "metadata": {},
     "output_type": "execute_result"
    }
   ],
   "source": [
    "# транспонирование\n",
    "с = transpose(b)"
   ]
  },
  {
   "cell_type": "code",
   "execution_count": 65,
   "id": "c890a294-cc14-45da-bc64-25bbc8749790",
   "metadata": {},
   "outputs": [
    {
     "data": {
      "text/plain": [
       "10×5 Matrix{Int64}:\n",
       " 15  18  18  14  13\n",
       " 16  11  12  19  17\n",
       " 20  16  19  13  13\n",
       " 15  20  19  17  16\n",
       " 20  12  17  14  10\n",
       " 17  20  14  14  19\n",
       " 17  10  15  12  12\n",
       " 19  19  16  11  12\n",
       " 17  10  16  10  14\n",
       " 10  20  11  18  17"
      ]
     },
     "execution_count": 65,
     "metadata": {},
     "output_type": "execute_result"
    }
   ],
   "source": [
    "# массив 10x5 целых чисел в диапазоне [10, 20]:\n",
    "ar = rand(10:20, 10, 5)"
   ]
  },
  {
   "cell_type": "code",
   "execution_count": 66,
   "id": "d0577bf0-b8c0-4f3f-b51f-a4dd35028a8d",
   "metadata": {},
   "outputs": [
    {
     "data": {
      "text/plain": [
       "10-element Vector{Int64}:\n",
       " 18\n",
       " 11\n",
       " 16\n",
       " 20\n",
       " 12\n",
       " 20\n",
       " 10\n",
       " 19\n",
       " 10\n",
       " 20"
      ]
     },
     "execution_count": 66,
     "metadata": {},
     "output_type": "execute_result"
    }
   ],
   "source": [
    "# выбор всех значений строки в столбце 2:\n",
    "ar[:, 2]"
   ]
  },
  {
   "cell_type": "code",
   "execution_count": 67,
   "id": "ee88e594-06ec-41cf-ae5e-2334ec01dcca",
   "metadata": {},
   "outputs": [
    {
     "data": {
      "text/plain": [
       "10×2 Matrix{Int64}:\n",
       " 18  13\n",
       " 11  17\n",
       " 16  13\n",
       " 20  16\n",
       " 12  10\n",
       " 20  19\n",
       " 10  12\n",
       " 19  12\n",
       " 10  14\n",
       " 20  17"
      ]
     },
     "execution_count": 67,
     "metadata": {},
     "output_type": "execute_result"
    }
   ],
   "source": [
    "# выбор всех значений в столбцах 2 и 5:\n",
    "ar[:, [2, 5]]"
   ]
  },
  {
   "cell_type": "code",
   "execution_count": 68,
   "id": "351a7425-6039-4ce9-a486-b156b4240149",
   "metadata": {},
   "outputs": [
    {
     "data": {
      "text/plain": [
       "10×3 Matrix{Int64}:\n",
       " 18  18  14\n",
       " 11  12  19\n",
       " 16  19  13\n",
       " 20  19  17\n",
       " 12  17  14\n",
       " 20  14  14\n",
       " 10  15  12\n",
       " 19  16  11\n",
       " 10  16  10\n",
       " 20  11  18"
      ]
     },
     "execution_count": 68,
     "metadata": {},
     "output_type": "execute_result"
    }
   ],
   "source": [
    "# все значения строк в столбцах 2, 3 и 4:\n",
    "ar[:, 2:4]"
   ]
  },
  {
   "cell_type": "code",
   "execution_count": 69,
   "id": "da319867-88c0-4957-a261-7b89a07c51eb",
   "metadata": {},
   "outputs": [
    {
     "data": {
      "text/plain": [
       "3×2 Matrix{Int64}:\n",
       " 16  17\n",
       " 15  16\n",
       " 17  19"
      ]
     },
     "execution_count": 69,
     "metadata": {},
     "output_type": "execute_result"
    }
   ],
   "source": [
    "# значения в строках 2, 4, 6 и в столбцах 1 и 5:\n",
    "ar[[2, 4, 6], [1, 5]]"
   ]
  },
  {
   "cell_type": "code",
   "execution_count": 70,
   "id": "c0640fb2-1d6c-4817-8cf8-beebfe09cf54",
   "metadata": {},
   "outputs": [
    {
     "data": {
      "text/plain": [
       "3-element Vector{Int64}:\n",
       " 18\n",
       " 14\n",
       " 13"
      ]
     },
     "execution_count": 70,
     "metadata": {},
     "output_type": "execute_result"
    }
   ],
   "source": [
    "# значения в строке 1 от столбца 3 до последнего столбца:\n",
    "ar[1, 3:end]"
   ]
  },
  {
   "cell_type": "code",
   "execution_count": 71,
   "id": "ff5b01b2-79f7-44ce-83cd-036566b78d4d",
   "metadata": {},
   "outputs": [
    {
     "data": {
      "text/plain": [
       "10×5 Matrix{Int64}:\n",
       " 10  10  11  10  10\n",
       " 15  10  12  11  12\n",
       " 15  11  14  12  12\n",
       " 16  12  15  13  13\n",
       " 17  16  16  14  13\n",
       " 17  18  16  14  14\n",
       " 17  19  17  14  16\n",
       " 19  20  18  17  17\n",
       " 20  20  19  18  17\n",
       " 20  20  19  19  19"
      ]
     },
     "execution_count": 71,
     "metadata": {},
     "output_type": "execute_result"
    }
   ],
   "source": [
    "# сортировка по столбцам:\n",
    "sort(ar,dims=1)"
   ]
  },
  {
   "cell_type": "code",
   "execution_count": 72,
   "id": "bd66b5d2-f0af-4fc1-a195-07e7de2a8302",
   "metadata": {},
   "outputs": [
    {
     "data": {
      "text/plain": [
       "10×5 Matrix{Int64}:\n",
       " 13  14  15  18  18\n",
       " 11  12  16  17  19\n",
       " 13  13  16  19  20\n",
       " 15  16  17  19  20\n",
       " 10  12  14  17  20\n",
       " 14  14  17  19  20\n",
       " 10  12  12  15  17\n",
       " 11  12  16  19  19\n",
       " 10  10  14  16  17\n",
       " 10  11  17  18  20"
      ]
     },
     "execution_count": 72,
     "metadata": {},
     "output_type": "execute_result"
    }
   ],
   "source": [
    "# сортировка по строкам:\n",
    "sort(ar,dims=2)"
   ]
  },
  {
   "cell_type": "code",
   "execution_count": 73,
   "id": "fa9bb0c1-18f3-439d-8415-35f9381b280e",
   "metadata": {},
   "outputs": [
    {
     "data": {
      "text/plain": [
       "10×5 BitMatrix:\n",
       " 1  1  1  0  0\n",
       " 1  0  0  1  1\n",
       " 1  1  1  0  0\n",
       " 1  1  1  1  1\n",
       " 1  0  1  0  0\n",
       " 1  1  0  0  1\n",
       " 1  0  1  0  0\n",
       " 1  1  1  0  0\n",
       " 1  0  1  0  0\n",
       " 0  1  0  1  1"
      ]
     },
     "execution_count": 73,
     "metadata": {},
     "output_type": "execute_result"
    }
   ],
   "source": [
    "# поэлементное сравнение с числом\n",
    "# (результат - массив логических значений):\n",
    "ar .> 14"
   ]
  },
  {
   "cell_type": "code",
   "execution_count": 74,
   "id": "c498f60f-f3e4-48ad-8ceb-5c7cc3a5af64",
   "metadata": {},
   "outputs": [
    {
     "data": {
      "text/plain": [
       "29-element Vector{CartesianIndex{2}}:\n",
       " CartesianIndex(1, 1)\n",
       " CartesianIndex(2, 1)\n",
       " CartesianIndex(3, 1)\n",
       " CartesianIndex(4, 1)\n",
       " CartesianIndex(5, 1)\n",
       " CartesianIndex(6, 1)\n",
       " CartesianIndex(7, 1)\n",
       " CartesianIndex(8, 1)\n",
       " CartesianIndex(9, 1)\n",
       " CartesianIndex(1, 2)\n",
       " CartesianIndex(3, 2)\n",
       " CartesianIndex(4, 2)\n",
       " CartesianIndex(6, 2)\n",
       " ⋮\n",
       " CartesianIndex(4, 3)\n",
       " CartesianIndex(5, 3)\n",
       " CartesianIndex(7, 3)\n",
       " CartesianIndex(8, 3)\n",
       " CartesianIndex(9, 3)\n",
       " CartesianIndex(2, 4)\n",
       " CartesianIndex(4, 4)\n",
       " CartesianIndex(10, 4)\n",
       " CartesianIndex(2, 5)\n",
       " CartesianIndex(4, 5)\n",
       " CartesianIndex(6, 5)\n",
       " CartesianIndex(10, 5)"
      ]
     },
     "execution_count": 74,
     "metadata": {},
     "output_type": "execute_result"
    }
   ],
   "source": [
    "# возврат индексов элементов массива, удовлетворяющих условию:\n",
    "findall(ar .> 14)"
   ]
  },
  {
   "cell_type": "markdown",
   "id": "229cf2c1-544d-4b19-a223-e11e9a4711bc",
   "metadata": {},
   "source": [
    "-----"
   ]
  },
  {
   "cell_type": "code",
   "execution_count": 76,
   "id": "ebbba743-0697-42ea-b875-7ac3b6d5a38f",
   "metadata": {},
   "outputs": [
    {
     "name": "stdout",
     "output_type": "stream",
     "text": [
      "Set([0, 4, 7, 9, 3, 1])\n"
     ]
    }
   ],
   "source": [
    "# Выполнение самостоятельной работы:\n",
    "\n",
    "# Задание №1.\n",
    "\n",
    "A = Set([0, 3, 4, 9])\n",
    "B = Set([1, 3, 4, 7])\n",
    "C = Set([0, 1, 2, 4, 7, 8, 9])\n",
    "\n",
    "P = union(intersect(A, B), intersect(A, C), intersect(B, C)) # union(intersect(A, B), intersect(A, B)) = intersect(A, B)\n",
    "\n",
    "println(P)"
   ]
  },
  {
   "cell_type": "code",
   "execution_count": 77,
   "id": "4aab8aaf-bd36-4c64-8642-9cbf13a225c4",
   "metadata": {},
   "outputs": [
    {
     "name": "stdout",
     "output_type": "stream",
     "text": [
      "Union: Set(Any[4, 2, \"cherry\", \"banana\", 3, 1, \"apple\"])\n",
      "Intersection: Set(Any[2, \"banana\"])\n",
      "Difference: Set(Any[3, 1, \"apple\"])\n"
     ]
    }
   ],
   "source": [
    "# Задание №2.\n",
    "\n",
    "# Пример 1:\n",
    "# Создаем множества\n",
    "set1 = Set([1, 2, 3, \"apple\", \"banana\"])\n",
    "set2 = Set([2, \"banana\", \"cherry\", 4])\n",
    "\n",
    "# Объединение\n",
    "union_set = union(set1, set2)\n",
    "\n",
    "# Пересечение\n",
    "intersection_set = intersect(set1, set2)\n",
    "\n",
    "# Разность\n",
    "difference_set = setdiff(set1, set2)\n",
    "\n",
    "println(\"Union: \", union_set)\n",
    "println(\"Intersection: \", intersection_set)\n",
    "println(\"Difference: \", difference_set)\n"
   ]
  },
  {
   "cell_type": "code",
   "execution_count": 78,
   "id": "e095d658-d700-4f77-bce2-60409a5f7293",
   "metadata": {},
   "outputs": [
    {
     "name": "stdout",
     "output_type": "stream",
     "text": [
      "Union: Set(Any[(4, 5), 6, \"hello\", (2, 3), 1, \"world\"])\n",
      "Intersection: Set(Any[(2, 3), 1])\n",
      "Difference: Set(Any[(4, 5), \"hello\"])\n"
     ]
    }
   ],
   "source": [
    "# Пример 2:\n",
    "# Создаем множества\n",
    "setA = Set([1, (2, 3), (4, 5), \"hello\"])\n",
    "setB = Set([(2, 3), \"world\", 1, 6])\n",
    "\n",
    "# Объединение\n",
    "unionAB = union(setA, setB)\n",
    "\n",
    "# Пересечение\n",
    "intersectionAB = intersect(setA, setB)\n",
    "\n",
    "# Разность\n",
    "differenceAB = setdiff(setA, setB)\n",
    "\n",
    "println(\"Union: \", unionAB)\n",
    "println(\"Intersection: \", intersectionAB)\n",
    "println(\"Difference: \", differenceAB)\n"
   ]
  },
  {
   "cell_type": "code",
   "execution_count": 80,
   "id": "c7a32c3b-79c4-43db-89bb-2431b1b9ac36",
   "metadata": {},
   "outputs": [
    {
     "name": "stdout",
     "output_type": "stream",
     "text": [
      "[1, 2, 3, 4, 5, 6, 7, 8, 9, 10, 11, 12, 13, 14, 15, 16, 17, 18, 19, 20, 21, 22, 23, 24, 25]\n",
      "[25, 24, 23, 22, 21, 20, 19, 18, 17, 16, 15, 14, 13, 12, 11, 10, 9, 8, 7, 6, 5, 4, 3, 2, 1]\n",
      "[1, 2, 3, 4, 5, 6, 7, 8, 9, 10, 11, 12, 13, 14, 15, 16, 17, 18, 19, 20, 21, 22, 23, 24, 25, 25, 24, 23, 22, 21, 20, 19, 18, 17, 16, 15, 14, 13, 12, 11, 10, 9, 8, 7, 6, 5, 4, 3, 2, 1]\n",
      "[4, 6, 3]\n",
      "[4, 4, 4, 4, 4, 4, 4, 4, 4, 4]\n",
      "[4, 6, 3, 4, 6, 3, 4, 6, 3, 4, 6, 3, 4, 6, 3, 4, 6, 3, 4, 6, 3, 4, 6, 3, 4, 6, 3, 4, 6, 3]\n"
     ]
    }
   ],
   "source": [
    "# Задание №3.\n",
    "\n",
    "# Пункт 3.1. Массив от 1 до N.\n",
    "N = 25\n",
    "arr1 = collect(1:N)\n",
    "println(arr1)\n",
    "# Пункт 3.2. Массив от N до 1.\n",
    "arr2 = collect(N:-1:1)\n",
    "println(arr2)\n",
    "# Пункт 3.3. Массив от 1 до N, затем обратно от N до 1.\n",
    "arr3 = [collect(1:N); collect(N:-1:1)]\n",
    "println(arr3)\n",
    "# Пункт 3.4. Массив tmp = (4, 6, 3).\n",
    "tmp = [4, 6, 3]\n",
    "println(tmp)\n",
    "# Пункт 3.5. Массив, где первый элемент tmp повторяется 10 раз.\n",
    "arr5 = fill(tmp[1], 10)\n",
    "println(arr5)\n",
    "# Пункт 3.6. Массив, где все элементы tmp повторяются 10 раз.\n",
    "arr6 = repeat(tmp, 10)\n",
    "println(arr6)\n"
   ]
  },
  {
   "cell_type": "code",
   "execution_count": 86,
   "id": "2a88fa5d-9dbd-472c-a6ca-ca0e4311b55c",
   "metadata": {},
   "outputs": [
    {
     "name": "stdout",
     "output_type": "stream",
     "text": [
      "[4, 4, 4, 4, 4, 4, 4, 4, 4, 4, 4, 6, 6, 6, 6, 6, 6, 6, 6, 6, 6, 3, 3, 3, 3, 3, 3, 3, 3, 3, 3]\n",
      "[4, 4, 4, 4, 4, 4, 4, 4, 4, 4, 6, 6, 6, 6, 6, 6, 6, 6, 6, 6, 6, 6, 6, 6, 6, 6, 6, 6, 6, 6, 3, 3, 3, 3, 3, 3, 3, 3, 3, 3, 3, 3, 3, 3, 3, 3, 3, 3, 3, 3, 3, 3, 3, 3, 3, 3, 3, 3, 3, 3]\n",
      "Number of 6's: 4\n",
      "53.11374594642971\n"
     ]
    }
   ],
   "source": [
    "# Пункт 3.7. Массив, где первый элемент tmp встречается 11 раз, остальные — 10 раз.\n",
    "arr7 = [fill(tmp[1], 11); fill(tmp[2], 10); fill(tmp[3], 10)]\n",
    "println(arr7)\n",
    "# Пункт 3.8. Массив, где элементы tmp встречаются 10, 20 и 30 раз подряд соответственно.\n",
    "arr8 = [fill(tmp[1], 10); fill(tmp[2], 20); fill(tmp[3], 30)]\n",
    "println(arr8)\n",
    "# Пункт 3.9. Массив из элементов 2tmp[i], i = 1, 2, 3, элемент 2tmp[3] встречается 4 раза; количество 6.\n",
    "arr9 = [2*tmp[1], 2*tmp[2], fill(2*tmp[3], 4)...]\n",
    "count_6s = count(x -> x == 6, arr9)\n",
    "println(\"Number of 6's: \", count_6s)\n",
    "# Пункт 3.10. Вектор значений y = e^(x)*cos(x) в точках x = 3,3.1,3.2,…,6; среднее значение y.\n",
    "using Statistics\n",
    "x_values = 3:0.1:6\n",
    "y_values = [exp(x) * cos(x) for x in x_values]\n",
    "mean_y = mean(y_values)\n",
    "println(mean_y)"
   ]
  },
  {
   "cell_type": "code",
   "execution_count": 87,
   "id": "5cb23cec-0426-4de7-a453-deef85cf31b1",
   "metadata": {},
   "outputs": [
    {
     "data": {
      "text/plain": [
       "12×12 Matrix{Tuple{Float64, Float64}}:\n",
       " (0.3, 0.2)  (0.3, 0.8)  (0.3, 1.4)  …  (0.3, 5.6)  (0.3, 6.2)  (0.3, 6.8)\n",
       " (0.6, 0.2)  (0.6, 0.8)  (0.6, 1.4)     (0.6, 5.6)  (0.6, 6.2)  (0.6, 6.8)\n",
       " (0.9, 0.2)  (0.9, 0.8)  (0.9, 1.4)     (0.9, 5.6)  (0.9, 6.2)  (0.9, 6.8)\n",
       " (1.2, 0.2)  (1.2, 0.8)  (1.2, 1.4)     (1.2, 5.6)  (1.2, 6.2)  (1.2, 6.8)\n",
       " (1.5, 0.2)  (1.5, 0.8)  (1.5, 1.4)     (1.5, 5.6)  (1.5, 6.2)  (1.5, 6.8)\n",
       " (1.8, 0.2)  (1.8, 0.8)  (1.8, 1.4)  …  (1.8, 5.6)  (1.8, 6.2)  (1.8, 6.8)\n",
       " (2.1, 0.2)  (2.1, 0.8)  (2.1, 1.4)     (2.1, 5.6)  (2.1, 6.2)  (2.1, 6.8)\n",
       " (2.4, 0.2)  (2.4, 0.8)  (2.4, 1.4)     (2.4, 5.6)  (2.4, 6.2)  (2.4, 6.8)\n",
       " (2.7, 0.2)  (2.7, 0.8)  (2.7, 1.4)     (2.7, 5.6)  (2.7, 6.2)  (2.7, 6.8)\n",
       " (3.0, 0.2)  (3.0, 0.8)  (3.0, 1.4)     (3.0, 5.6)  (3.0, 6.2)  (3.0, 6.8)\n",
       " (3.3, 0.2)  (3.3, 0.8)  (3.3, 1.4)  …  (3.3, 5.6)  (3.3, 6.2)  (3.3, 6.8)\n",
       " (3.6, 0.2)  (3.6, 0.8)  (3.6, 1.4)     (3.6, 5.6)  (3.6, 6.2)  (3.6, 6.8)"
      ]
     },
     "execution_count": 87,
     "metadata": {},
     "output_type": "execute_result"
    }
   ],
   "source": [
    "# Пункт 3.11. Вектор вида (xi, yj), x = 0.1, i = 3, 6, 9, … , 36, y = 0.2, j = 1, 4, 7, … , 34.\n",
    "x_vector = 0.1 * collect(3:3:36)\n",
    "y_vector = 0.2 * collect(1:3:34)\n",
    "xy_pairs = [(x, y) for x in x_vector, y in y_vector]\n"
   ]
  },
  {
   "cell_type": "code",
   "execution_count": 89,
   "id": "fcb305fe-fb4f-4889-8960-45b74db2dbb4",
   "metadata": {},
   "outputs": [
    {
     "data": {
      "text/plain": [
       "25-element Vector{Float64}:\n",
       "      2.0\n",
       "      2.0\n",
       "      2.6666666666666665\n",
       "      4.0\n",
       "      6.4\n",
       "     10.666666666666666\n",
       "     18.285714285714285\n",
       "     32.0\n",
       "     56.888888888888886\n",
       "    102.4\n",
       "    186.1818181818182\n",
       "    341.3333333333333\n",
       "    630.1538461538462\n",
       "   1170.2857142857142\n",
       "   2184.5333333333333\n",
       "   4096.0\n",
       "   7710.117647058823\n",
       "  14563.555555555555\n",
       "  27594.105263157893\n",
       "  52428.8\n",
       "  99864.38095238095\n",
       " 190650.18181818182\n",
       " 364722.0869565217\n",
       " 699050.6666666666\n",
       "      1.34217728e6"
      ]
     },
     "execution_count": 89,
     "metadata": {},
     "output_type": "execute_result"
    }
   ],
   "source": [
    "# Пункт 3.12. Вектор с элементами 2^(i)/i, i = 1, 2, … , M, M = 25.\n",
    "M = 25\n",
    "arr12 = [2^i / i for i in 1:M]"
   ]
  },
  {
   "cell_type": "code",
   "execution_count": 90,
   "id": "4c9ff2bf-bbe2-4582-b5e0-44d00a1651b2",
   "metadata": {},
   "outputs": [
    {
     "data": {
      "text/plain": [
       "30-element Vector{String}:\n",
       " \"fn1\"\n",
       " \"fn2\"\n",
       " \"fn3\"\n",
       " \"fn4\"\n",
       " \"fn5\"\n",
       " \"fn6\"\n",
       " \"fn7\"\n",
       " \"fn8\"\n",
       " \"fn9\"\n",
       " \"fn10\"\n",
       " \"fn11\"\n",
       " \"fn12\"\n",
       " \"fn13\"\n",
       " ⋮\n",
       " \"fn19\"\n",
       " \"fn20\"\n",
       " \"fn21\"\n",
       " \"fn22\"\n",
       " \"fn23\"\n",
       " \"fn24\"\n",
       " \"fn25\"\n",
       " \"fn26\"\n",
       " \"fn27\"\n",
       " \"fn28\"\n",
       " \"fn29\"\n",
       " \"fn30\""
      ]
     },
     "execution_count": 90,
     "metadata": {},
     "output_type": "execute_result"
    }
   ],
   "source": [
    "# Пункт 3.13. Вектор вида (\"fn1\", \"fn2\", …, \"fnN\"), N = 30.\n",
    "N = 30\n",
    "arr13 = [\"fn$i\" for i in 1:N]"
   ]
  },
  {
   "cell_type": "code",
   "execution_count": 95,
   "id": "e127404e-25a5-4781-96cc-f62bf85e4391",
   "metadata": {},
   "outputs": [
    {
     "data": {
      "text/plain": [
       "249-element Vector{Int64}:\n",
       " -127\n",
       " -410\n",
       "  -23\n",
       " -545\n",
       "  -96\n",
       "   16\n",
       "  696\n",
       "  507\n",
       "  214\n",
       " -548\n",
       "  396\n",
       "  516\n",
       "  329\n",
       "    ⋮\n",
       "  236\n",
       " -216\n",
       " -173\n",
       " -948\n",
       "  264\n",
       "  230\n",
       "  -31\n",
       "  527\n",
       "  728\n",
       "  403\n",
       "  -93\n",
       " -375"
      ]
     },
     "execution_count": 95,
     "metadata": {},
     "output_type": "execute_result"
    }
   ],
   "source": [
    "# Пункт 3.14.\n",
    "# Создаем векторы x и y:\n",
    "n = 250\n",
    "x = rand(0:999, n)\n",
    "y = rand(0:999, n)\n",
    "vec1 = y[2:end] - x[1:end-1] #  Вектор (y2 - x1, ..., yn - xn-1)."
   ]
  },
  {
   "cell_type": "code",
   "execution_count": 96,
   "id": "f9c2f3c4-f62f-4f0c-9485-b6a0434da23c",
   "metadata": {},
   "outputs": [
    {
     "data": {
      "text/plain": [
       "248-element Vector{Int64}:\n",
       "  348\n",
       " 1409\n",
       " 1788\n",
       "  793\n",
       "  884\n",
       "  524\n",
       "  534\n",
       "  225\n",
       " 1302\n",
       " 1411\n",
       "  485\n",
       "  442\n",
       "  257\n",
       "    ⋮\n",
       " 1894\n",
       "  861\n",
       " 1031\n",
       " 2139\n",
       " 1669\n",
       " 1077\n",
       " 2012\n",
       " 1103\n",
       "  253\n",
       " -471\n",
       "  796\n",
       " 1964"
      ]
     },
     "execution_count": 96,
     "metadata": {},
     "output_type": "execute_result"
    }
   ],
   "source": [
    "vec2 = x[1:end-2] + 2*x[2:end-1] - x[3:end] #  Вектор (x1 + 2x2 - x3, ..., xn-2 + 2xn-1 - xn)."
   ]
  },
  {
   "cell_type": "code",
   "execution_count": 97,
   "id": "178bd144-04c4-463b-8820-78fd4f198d0b",
   "metadata": {},
   "outputs": [
    {
     "data": {
      "text/plain": [
       "249-element Vector{Float64}:\n",
       "  -0.38526338525874715\n",
       "   0.22934257546780393\n",
       "   0.5982532238690296\n",
       "  -0.9283098480503401\n",
       "   0.9735400230947757\n",
       "  -5.041716702166441\n",
       "   0.11622581572725489\n",
       "  -0.14307524844351727\n",
       "   0.8733290197248826\n",
       "   0.9975280246453233\n",
       "   0.9649471574609657\n",
       "  -3.2161680306293183\n",
       "   0.6406468089502774\n",
       "   ⋮\n",
       "   1.7517951330789292\n",
       "  -1.1013863363487328\n",
       "  -0.33216127895415953\n",
       "  -0.7797019332587817\n",
       "  -1.0520941388181548\n",
       "  -0.13976606854906637\n",
       "  -0.14583165918581886\n",
       "  -0.5218265988400567\n",
       "   1.2167019783868809\n",
       "  -1.425338570664749\n",
       " -17.368692180095376\n",
       "   0.8273184619648049"
      ]
     },
     "execution_count": 97,
     "metadata": {},
     "output_type": "execute_result"
    }
   ],
   "source": [
    "vec3 = sin.(y[1:end-1]) ./ cos.(x[2:end]) #  Вектор (sin(y1)/cos(x2), sin(y2)/cos(x3), ..., sin(yn-1)/cos(xn))."
   ]
  },
  {
   "cell_type": "code",
   "execution_count": 99,
   "id": "bcfa892d-0c94-4fc5-bf5a-cbf98966551d",
   "metadata": {},
   "outputs": [
    {
     "name": "stdout",
     "output_type": "stream",
     "text": [
      "2492.180414380725\n",
      "[1, 4, 8, 9, 12, 13, 21, 23, 24, 27, 29, 33, 34, 35, 38, 41, 45, 47, 48, 49, 52, 55, 61, 66, 74, 75, 77, 78, 79, 82, 83, 86, 87, 90, 92, 93, 95, 96, 98, 99, 101, 102, 105, 106, 109, 111, 112, 113, 118, 122, 123, 127, 134, 135, 136, 137, 142, 148, 149, 153, 155, 156, 157, 158, 159, 161, 163, 166, 168, 172, 173, 176, 178, 179, 180, 182, 184, 185, 186, 190, 191, 194, 197, 199, 200, 208, 210, 211, 213, 214, 217, 226, 227, 228, 229, 230, 233, 239, 241, 243, 244, 245, 246, 247, 249]\n"
     ]
    }
   ],
   "source": [
    "sum_expr = sum(exp.(-x[2:end]) .* x[1:end-1] .+ 10) #  Вычисление суммы.\n",
    "println(sum_expr)\n",
    "y_gt_600 = y[y .> 600]\n",
    "indices_y_gt_600 = findall(y .> 600) #  Элементы y > 600.\n",
    "println(indices_y_gt_600)\n"
   ]
  },
  {
   "cell_type": "code",
   "execution_count": 101,
   "id": "22fa1f8d-7d32-4732-8dea-0a7bb513bf25",
   "metadata": {},
   "outputs": [
    {
     "name": "stdout",
     "output_type": "stream",
     "text": [
      "[265, 635, 314, 309, 138, 212, 857, 501, 889, 18, 6, 516, 148, 112, 982, 231, 156, 32, 659, 304, 373, 87, 928, 939, 446, 537, 885, 157, 413, 166, 153, 748, 387, 893, 164, 287, 550, 143, 501, 15, 476, 593, 294, 192, 379, 224, 560, 125, 537, 793, 38, 102, 749, 337, 534, 730, 96, 536, 626, 444, 457, 800, 581, 254, 900, 570, 291, 119, 358, 868, 377, 987, 584, 855, 145, 554, 17, 99, 662, 62, 514, 665, 992, 152, 9, 736, 228, 678, 703, 694, 347, 738, 27, 326, 46, 790, 711, 445, 996, 615, 797, 197, 88, 120, 922]\n"
     ]
    }
   ],
   "source": [
    "x_for_y_gt_600 = x[y .> 600] #  Соответствующие значения x для y > 600.\n",
    "println(x_for_y_gt_600)"
   ]
  },
  {
   "cell_type": "code",
   "execution_count": 102,
   "id": "88eb97f6-7ee1-4078-931b-61b398042980",
   "metadata": {},
   "outputs": [
    {
     "data": {
      "text/plain": [
       "250-element Vector{Float64}:\n",
       " 1.626841250961042e28\n",
       " 1.2733281038630335e20\n",
       " 8.391475832166273e29\n",
       " 9.106847060602672e25\n",
       " 5.96356875145031e27\n",
       " 8.412620131726251e22\n",
       " 1.8190704970932972e29\n",
       " 8.456028570358172e26\n",
       " 1.184902783279825e27\n",
       " 1.1294437507797768e28\n",
       " 1.041416965953231e22\n",
       " 3.540200191266548e30\n",
       " 2.0726498713476427e29\n",
       " ⋮\n",
       " 5.80628634328538e19\n",
       " 5.673710671956571e29\n",
       " 2.860182204554349e32\n",
       " 1.8700882101472678e26\n",
       " 1.5471596580244504e25\n",
       " 7.18643715742075e29\n",
       " 3.899558487988407e29\n",
       " 1.7474672943944017e31\n",
       " 6.447603739756042e30\n",
       " 7.767561588175014e29\n",
       " 4.300510764808849e31\n",
       " 2.163512256013356e27"
      ]
     },
     "execution_count": 102,
     "metadata": {},
     "output_type": "execute_result"
    }
   ],
   "source": [
    "vec4 = abs.(x .- x_mean) .^ 12 #  Вектор (|x1 - x̄|¹², |x2 - x̄|¹², ..., |xn - x̄|¹²)."
   ]
  },
  {
   "cell_type": "code",
   "execution_count": 104,
   "id": "6ab15fbf-258e-4832-9852-28bfd810e9e1",
   "metadata": {},
   "outputs": [
    {
     "name": "stdout",
     "output_type": "stream",
     "text": [
      "250\n",
      "140110\n",
      "39\n"
     ]
    }
   ],
   "source": [
    "count_y_within_200 = count(y -> y >= maximum(y) - 200, y) #  Элементы y, отстоящие от максимума не более чем на 200.\n",
    "println(count_y_within_200)\n",
    "even_count = count(iseven, x) #  Количество четных и нечетных элементов в x.\n",
    "odd_count = count(isodd, x)\n",
    "println(even_count, odd_count)\n",
    "multiples_of_7 = count(x -> x % 7 == 0, x) #  Элементы x, кратные 7.\n",
    "println(multiples_of_7)"
   ]
  },
  {
   "cell_type": "code",
   "execution_count": 105,
   "id": "0df2ace9-9a48-453d-b6c7-0248e83dba7a",
   "metadata": {},
   "outputs": [
    {
     "data": {
      "text/plain": [
       "250-element Vector{Int64}:\n",
       " 172\n",
       " 129\n",
       " 884\n",
       " 386\n",
       " 941\n",
       " 849\n",
       " 866\n",
       "  74\n",
       " 762\n",
       " 801\n",
       "  22\n",
       " 644\n",
       " 423\n",
       "   ⋮\n",
       " 928\n",
       " 939\n",
       " 992\n",
       " 294\n",
       " 987\n",
       " 291\n",
       " 102\n",
       " 748\n",
       " 790\n",
       " 152\n",
       " 537\n",
       " 445"
      ]
     },
     "execution_count": 105,
     "metadata": {},
     "output_type": "execute_result"
    }
   ],
   "source": [
    "sorted_x_by_y = x[sortperm(y)] #  Сортировка x по возрастанию y."
   ]
  },
  {
   "cell_type": "code",
   "execution_count": 107,
   "id": "4d9f70d4-ded8-48f2-9e27-1c595ad63dc9",
   "metadata": {},
   "outputs": [
    {
     "data": {
      "text/plain": [
       "10-element Vector{Int64}:\n",
       " 996\n",
       " 992\n",
       " 987\n",
       " 982\n",
       " 982\n",
       " 969\n",
       " 965\n",
       " 965\n",
       " 958\n",
       " 951"
      ]
     },
     "execution_count": 107,
     "metadata": {},
     "output_type": "execute_result"
    }
   ],
   "source": [
    "top_10_x = sort(x, rev=true)[1:10] #  Топ-10 наибольших элементов x."
   ]
  },
  {
   "cell_type": "code",
   "execution_count": 108,
   "id": "1ad05653-d382-4991-9fe3-020d91ec2ea2",
   "metadata": {},
   "outputs": [
    {
     "data": {
      "text/plain": [
       "223-element Vector{Int64}:\n",
       " 265\n",
       " 442\n",
       " 801\n",
       " 635\n",
       " 283\n",
       " 408\n",
       " 215\n",
       " 314\n",
       " 309\n",
       " 707\n",
       " 421\n",
       " 138\n",
       " 212\n",
       "   ⋮\n",
       " 531\n",
       " 815\n",
       " 445\n",
       " 791\n",
       " 996\n",
       " 644\n",
       " 615\n",
       " 797\n",
       " 197\n",
       " 799\n",
       " 922\n",
       " 679"
      ]
     },
     "execution_count": 108,
     "metadata": {},
     "output_type": "execute_result"
    }
   ],
   "source": [
    "unique_x = unique(x) #  Уникальные элементы в x."
   ]
  },
  {
   "cell_type": "code",
   "execution_count": 116,
   "id": "cd870bfc-e9cd-4b19-9948-28aee23e09b8",
   "metadata": {},
   "outputs": [
    {
     "name": "stdout",
     "output_type": "stream",
     "text": [
      "[1, 4, 9, 16, 25, 36, 49, 64, 81, 100, 121, 144, 169, 196, 225, 256, 289, 324, 361, 400, 441, 484, 529, 576, 625, 676, 729, 784, 841, 900, 961, 1024, 1089, 1156, 1225, 1296, 1369, 1444, 1521, 1600, 1681, 1764, 1849, 1936, 2025, 2116, 2209, 2304, 2401, 2500, 2601, 2704, 2809, 2916, 3025, 3136, 3249, 3364, 3481, 3600, 3721, 3844, 3969, 4096, 4225, 4356, 4489, 4624, 4761, 4900, 5041, 5184, 5329, 5476, 5625, 5776, 5929, 6084, 6241, 6400, 6561, 6724, 6889, 7056, 7225, 7396, 7569, 7744, 7921, 8100, 8281, 8464, 8649, 8836, 9025, 9216, 9409, 9604, 9801, 10000]\n",
      "[2, 3, 5, 7, 11, 13, 17, 19, 23, 29, 31, 37, 41, 43, 47, 53, 59, 61, 67, 71, 73, 79, 83, 89, 97, 101, 103, 107, 109, 113, 127, 131, 137, 139, 149, 151, 157, 163, 167, 173, 179, 181, 191, 193, 197, 199, 211, 223, 227, 229, 233, 239, 241, 251, 257, 263, 269, 271, 277, 281, 283, 293, 307, 311, 313, 317, 331, 337, 347, 349, 353, 359, 367, 373, 379, 383, 389, 397, 401, 409, 419, 421, 431, 433, 439, 443, 449, 457, 461, 463, 467, 479, 487, 491, 499, 503, 509, 521, 523, 541, 547, 557, 563, 569, 571, 577, 587, 593, 599, 601, 607, 613, 617, 619, 631, 641, 643, 647, 653, 659, 661, 673, 677, 683, 691, 701, 709, 719, 727, 733, 739, 743, 751, 757, 761, 769, 773, 787, 797, 809, 811, 821, 823, 827, 829, 839, 853, 857, 859, 863, 877, 881, 883, 887, 907, 911, 919, 929, 937, 941, 947, 953, 967, 971, 977, 983, 991, 997]\n",
      "461\n",
      "[461, 463, 467, 479, 487, 491, 499, 503, 509, 521, 523]\n"
     ]
    }
   ],
   "source": [
    "# Пукнт 4. Создание массива squares.\n",
    "squares = [i^2 for i in 1:100]\n",
    "println(squares)\n",
    "# Пункт 5. Работа с пакетом Primes.\n",
    "using Primes\n",
    "# Получаем первые 168 простых чисел\n",
    "myprimes = primes(2, 1000)  # Предполагаем, что первые 168 простых чисел находятся в этом диапазоне\n",
    "eighty_ninth_prime = myprimes[89]\n",
    "slice_89_to_99 = myprimes[89:99]\n",
    "println(myprimes)\n",
    "println(eighty_ninth_prime)\n",
    "println(slice_89_to_99)\n"
   ]
  },
  {
   "cell_type": "code",
   "execution_count": 117,
   "id": "41477cbc-8a0c-4410-8ca9-a79d0e297367",
   "metadata": {},
   "outputs": [
    {
     "name": "stdout",
     "output_type": "stream",
     "text": [
      "26852735\n",
      "61.44787453326052\n",
      "12.290893162283911\n"
     ]
    }
   ],
   "source": [
    "# Пункт 6. Вычисление выражений.\n",
    "sum_expr_6_1 = sum([i^3 + 4*i^2 for i in 10:100]) #  Первая сумма\n",
    "println(sum_expr_6_1)\n",
    "M = 25\n",
    "sum_expr_6_2 = sum([2 + 3/i for i in 1:M]) #  Вторая сумма\n",
    "println(sum_expr_6_2)\n",
    "sum_expr_6_3 = 1 + sum([prod(2:i)/prod(3:i+1) for i in 2:38]) #  Третья сумма\n",
    "println(sum_expr_6_3)"
   ]
  },
  {
   "cell_type": "code",
   "execution_count": null,
   "id": "809e04d1-0314-496e-b006-2bd1e03a921c",
   "metadata": {},
   "outputs": [],
   "source": []
  }
 ],
 "metadata": {
  "kernelspec": {
   "display_name": "Julia 1.9.3",
   "language": "julia",
   "name": "julia-1.9"
  },
  "language_info": {
   "file_extension": ".jl",
   "mimetype": "application/julia",
   "name": "julia",
   "version": "1.9.3"
  }
 },
 "nbformat": 4,
 "nbformat_minor": 5
}
