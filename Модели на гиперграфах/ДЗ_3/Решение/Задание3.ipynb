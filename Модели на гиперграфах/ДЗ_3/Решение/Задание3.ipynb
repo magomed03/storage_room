{
  "nbformat": 4,
  "nbformat_minor": 0,
  "metadata": {
    "colab": {
      "provenance": [],
      "toc_visible": true
    },
    "kernelspec": {
      "name": "python3",
      "display_name": "Python 3"
    },
    "language_info": {
      "name": "python"
    }
  },
  "cells": [
    {
      "cell_type": "markdown",
      "source": [
        "# Модели на Гиперграфах\n",
        "## Задание 3\n",
        "- Ф.И.О.: **Мухамедияр Адиль**\n",
        "- Номер студ. билета: **1032205725**\n",
        "- Группа: **НКНбд-01-20**"
      ],
      "metadata": {
        "id": "cPHZVxDU29b2"
      }
    },
    {
      "cell_type": "markdown",
      "source": [
        "----------"
      ],
      "metadata": {
        "id": "RpMGJt7w3Xcy"
      }
    },
    {
      "cell_type": "markdown",
      "source": [
        "### Задача 1"
      ],
      "metadata": {
        "id": "f_QGehNM3bLi"
      }
    },
    {
      "cell_type": "markdown",
      "source": [
        "**Условие**\n",
        "\n",
        "\n",
        "Заполнить массив из 10 элементов случайными числами в интервале [0..100] и отсортировать первую половину по возрастанию, а вторую – по убыванию.\n",
        "\n",
        "    Пример:\n",
        "\t Исходный массив:\n",
        "\t 14  25  13  30  76  58  32  11  41  97\n",
        "\t Результат:\n",
        "\t 13  14  25  30  76  97  58  41  32  11"
      ],
      "metadata": {
        "id": "-QTCQw063hhb"
      }
    },
    {
      "cell_type": "code",
      "execution_count": 19,
      "metadata": {
        "colab": {
          "base_uri": "https://localhost:8080/"
        },
        "id": "XXqKePuP25nm",
        "outputId": "f48bff05-b186-4b6a-e218-f245ede0cd11"
      },
      "outputs": [
        {
          "output_type": "stream",
          "name": "stdout",
          "text": [
            "Исходный массив:\n",
            "98 52 19 17 90 76 85 68 6 52\n",
            "Результат:\n",
            "17 19 52 90 98 85 76 68 52 6\n"
          ]
        }
      ],
      "source": [
        "import random\n",
        "\n",
        "# Создаем пустой массив\n",
        "arr = []\n",
        "\n",
        "# Заполняем массив случайными числами\n",
        "for _ in range(10):\n",
        "    num = random.randint(0, 100)\n",
        "    arr.append(num)\n",
        "\n",
        "# Выводим исходный массив\n",
        "print(\"Исходный массив:\")\n",
        "print(\" \".join(str(num) for num in arr))\n",
        "\n",
        "# Сортируем первую половину по возрастанию\n",
        "half_length = len(arr) // 2\n",
        "sorted_first_half = sorted(arr[:half_length])\n",
        "\n",
        "# Сортируем вторую половину по убыванию\n",
        "sorted_second_half = sorted(arr[half_length:], reverse=True)\n",
        "\n",
        "# Объединяем отсортированные половины массива\n",
        "result = sorted_first_half + sorted_second_half\n",
        "\n",
        "# Выводим результат\n",
        "print(\"Результат:\")\n",
        "print(\" \".join(str(num) for num in result))"
      ]
    },
    {
      "cell_type": "markdown",
      "source": [
        "----------"
      ],
      "metadata": {
        "id": "7tww8_JB93cm"
      }
    },
    {
      "cell_type": "markdown",
      "source": [
        "### Задача 2"
      ],
      "metadata": {
        "id": "3iEb-HlG5crs"
      }
    },
    {
      "cell_type": "markdown",
      "source": [
        "**Я решил 4 мини-задачи записать под один код**\n",
        "\n",
        "`«A»:` Напишите рекурсивную процедуру, которая переводит число в восьмеричную систему.\n",
        "\n",
        "Пример:\n",
        "\n",
        "Введите число: 66\n",
        "\n",
        "В восьмеричной: 102\n",
        "\n",
        "`«B»:` Напишите рекурсивную процедуру, которая переводит число в любую систему счисления с основанием от 2 до 9.\n",
        "\n",
        "Пример:\n",
        "\n",
        "Введите число: 75\n",
        "\n",
        "Основание: 6\n",
        "\n",
        "В системе с основанием 6: 203\n",
        "\n",
        "`«С»:` Напишите рекурсивную процедуру, которая переводит число в шестнадцатеричную систему.\n",
        "\n",
        "Пример:\n",
        "\n",
        "Введите число: 123\n",
        "\n",
        "В шестнадцатеричной: 7B\n",
        "\n",
        "`«D»:` Напишите рекурсивную процедуру, которая переводит число в любую систему счисления с основанием от 2 до 36.\n",
        "\n",
        "Пример:\n",
        "\n",
        "Введите число: 350\n",
        "\n",
        "Основание: 20\n",
        "\n",
        "В системе с основанием 20: HA"
      ],
      "metadata": {
        "id": "hpWDbv205hy0"
      }
    },
    {
      "cell_type": "code",
      "source": [
        "# Рекурсивная процедура для перевода числа n в систему счисления с основанием base\n",
        "def convert_to_base(n, base):\n",
        "    digits = \"0123456789ABCDEFGHIJKLMNOPQRSTUVWXYZ\"\n",
        "    if n < base:\n",
        "        return digits[n]\n",
        "    else:\n",
        "        return convert_to_base(n // base, base) + digits[n % base]\n",
        "\n",
        "# Задача A: перевод числа в восьмеричную систему\n",
        "num_A = int(input(\"Введите число: \"))\n",
        "result_A = convert_to_base(num_A, 8)\n",
        "print(\"В восьмеричной:\", result_A)\n",
        "\n",
        "# Задача B: перевод числа в систему с заданным основанием\n",
        "num_B = int(input(\"\\nВведите число: \"))\n",
        "base_B = int(input(\"Основание: \"))\n",
        "result_B = convert_to_base(num_B, base_B)\n",
        "print(\"В системе с основанием\", base_B, \":\", result_B)\n",
        "\n",
        "# Задача C: перевод числа в шестнадцатеричную систему\n",
        "num_C = int(input(\"\\nВведите число: \"))\n",
        "result_C = convert_to_base(num_C, 16)\n",
        "print(\"В шестнадцатеричной:\", result_C)\n",
        "\n",
        "# Задача D: перевод числа в систему с заданным основанием до 36\n",
        "num_D = int(input(\"\\nВведите число: \"))\n",
        "base_D = int(input(\"Основание: \"))\n",
        "result_D = convert_to_base(num_D, base_D)\n",
        "print(\"В системе с основанием\", base_D, \":\", result_D)"
      ],
      "metadata": {
        "colab": {
          "base_uri": "https://localhost:8080/"
        },
        "id": "Fg_C8jrK5ghL",
        "outputId": "0f4112be-4417-4f38-d3bc-659ac85d78db"
      },
      "execution_count": 21,
      "outputs": [
        {
          "output_type": "stream",
          "name": "stdout",
          "text": [
            "Введите число: 78\n",
            "В восьмеричной: 116\n",
            "\n",
            "Введите число: 23\n",
            "Основание: 4\n",
            "В системе с основанием 4 : 113\n",
            "\n",
            "Введите число: 10\n",
            "В шестнадцатеричной: A\n",
            "\n",
            "Введите число: 364\n",
            "Основание: 31\n",
            "В системе с основанием 31 : BN\n"
          ]
        }
      ]
    },
    {
      "cell_type": "markdown",
      "source": [
        "----------"
      ],
      "metadata": {
        "id": "RKr4d6hG95BP"
      }
    },
    {
      "cell_type": "markdown",
      "source": [
        "### Задача 3"
      ],
      "metadata": {
        "id": "7atrj8xr6MQi"
      }
    },
    {
      "cell_type": "markdown",
      "source": [
        "**Условие**\n",
        "\n",
        "Ввести адрес файла и «разобрать» его на части, разделенные знаком \"/\". Каждую часть вывести в отдельной строке.\n",
        "\n",
        "    Пример:\n",
        "    Введите адрес файла:\n",
        "    C:/Фото/2015/Байкал/shaman.jpg\n",
        "    C:\n",
        "    Фото\n",
        "    2015\n",
        "    Байкал\n",
        "    shaman.jpg"
      ],
      "metadata": {
        "id": "53KHI0iB6QDo"
      }
    },
    {
      "cell_type": "markdown",
      "source": [
        "Воспользовался методом `split()` для разделения строки адреса файла на части, используя разделитель `/`."
      ],
      "metadata": {
        "id": "swlRrsBL_sC_"
      }
    },
    {
      "cell_type": "code",
      "source": [
        "file_path = input(\"Введите адрес файла: \")\n",
        "parts = file_path.split(\"/\")\n",
        "\n",
        "for part in parts:\n",
        "    print(part)"
      ],
      "metadata": {
        "colab": {
          "base_uri": "https://localhost:8080/"
        },
        "id": "VwW-ZzzS6hTv",
        "outputId": "27ccff51-9c2f-46dc-b723-5c7769ec29b9"
      },
      "execution_count": 23,
      "outputs": [
        {
          "output_type": "stream",
          "name": "stdout",
          "text": [
            "Введите адрес файла: C:/Desktop/Курс 4/Модели на гиперграфах/ДЗ/Решение\n",
            "C:\n",
            "Desktop\n",
            "Курс 4\n",
            "Модели на гиперграфах\n",
            "ДЗ\n",
            "Решение\n"
          ]
        }
      ]
    },
    {
      "cell_type": "markdown",
      "source": [
        "----------"
      ],
      "metadata": {
        "id": "ZeY7ouka95xQ"
      }
    }
  ]
}