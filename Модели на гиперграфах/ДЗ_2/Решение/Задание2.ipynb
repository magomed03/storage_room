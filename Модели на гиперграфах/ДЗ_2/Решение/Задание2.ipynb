{
  "nbformat": 4,
  "nbformat_minor": 0,
  "metadata": {
    "colab": {
      "provenance": []
    },
    "kernelspec": {
      "name": "python3",
      "display_name": "Python 3"
    },
    "language_info": {
      "name": "python"
    }
  },
  "cells": [
    {
      "cell_type": "markdown",
      "source": [
        "# Модели на Гиперграфах\n",
        "## Задание 2\n",
        "- Ф.И.О.: **Мухамедияр Адиль**\n",
        "- Номер студ. билета: **1032205725**\n",
        "- Группа: **НКНбд-01-20**"
      ],
      "metadata": {
        "id": "cPHZVxDU29b2"
      }
    },
    {
      "cell_type": "markdown",
      "source": [
        "----------"
      ],
      "metadata": {
        "id": "RpMGJt7w3Xcy"
      }
    },
    {
      "cell_type": "markdown",
      "source": [
        "### Задача 1"
      ],
      "metadata": {
        "id": "f_QGehNM3bLi"
      }
    },
    {
      "cell_type": "markdown",
      "source": [
        "**Условие**\n",
        "\n",
        "\n",
        " Ввести с клавиатуры имя файла. Если расширение имени файла – htm, html или php, выдать сообщение «Это веб-страница!», иначе выдать сообщение «Что-то другое.»\n",
        "\tПример:\n",
        "\tВведите имя файла:\n",
        "\tC:\\DOC\\Сайт\\index.html\n",
        "\tЭто веб-страница!\n",
        "\n",
        "\tВведите имя файла:\n",
        "\tC:\\Документы\\Приказ.doc\n",
        "\tЧто-то другое."
      ],
      "metadata": {
        "id": "-QTCQw063hhb"
      }
    },
    {
      "cell_type": "code",
      "execution_count": 7,
      "metadata": {
        "colab": {
          "base_uri": "https://localhost:8080/"
        },
        "id": "XXqKePuP25nm",
        "outputId": "611122b4-bde7-4c53-8f84-eeb62a93cb20"
      },
      "outputs": [
        {
          "output_type": "stream",
          "name": "stdout",
          "text": [
            "Введите имя файла: C:\\Users\\adiks\\Desktop\\Курс 4\\Модели на гиперграфах\\ДЗ_1\\Решение\\Задание1.ipynb\n",
            "Что-то другое.\n"
          ]
        }
      ],
      "source": [
        "file_name = input(\"Введите имя файла: \")\n",
        "\n",
        "# Проверяем, оканчивается ли расширение файла на .htm, .html или .php\n",
        "if file_name.endswith((\".htm\", \".html\", \".php\")):\n",
        "    print(\"Это веб-страница!\")\n",
        "else:\n",
        "    print(\"Что-то другое.\")"
      ]
    },
    {
      "cell_type": "markdown",
      "source": [
        "----------"
      ],
      "metadata": {
        "id": "7tww8_JB93cm"
      }
    },
    {
      "cell_type": "markdown",
      "source": [
        "### Задача 2"
      ],
      "metadata": {
        "id": "3iEb-HlG5crs"
      }
    },
    {
      "cell_type": "markdown",
      "source": [
        "**Условие**\n",
        "\n",
        "Введите размер массива N и заполните массив из N элементов числами Фибоначчи. Первые два числа Фибоначчи равны 1, а каждое следующее равно сумме двух предыдущих.\n",
        "\n",
        "    Пример:\n",
        "     Введите размер массива:\n",
        "     6\n",
        "     Числа Фибоначчи:\n",
        "     1 1 2 3 5 8"
      ],
      "metadata": {
        "id": "hpWDbv205hy0"
      }
    },
    {
      "cell_type": "code",
      "source": [
        "N = int(input(\"Введите размер массива: \"))\n",
        "\n",
        "# Инициализируем пустой массив для хранения чисел Фибоначчи\n",
        "fibonacci_array = []\n",
        "\n",
        "# Первые два числа Фибоначчи\n",
        "fibonacci_array.append(1)\n",
        "fibonacci_array.append(1)\n",
        "\n",
        "# Заполняем массив числами Фибоначчи\n",
        "for i in range(2, N):\n",
        "    fibonacci_number = fibonacci_array[i-1] + fibonacci_array[i-2]\n",
        "    fibonacci_array.append(fibonacci_number)\n",
        "\n",
        "# Выводим числа Фибоначчи\n",
        "print(\"Числа Фибоначчи:\")\n",
        "for number in fibonacci_array:\n",
        "    print(number, end=\" \")"
      ],
      "metadata": {
        "colab": {
          "base_uri": "https://localhost:8080/"
        },
        "id": "Fg_C8jrK5ghL",
        "outputId": "df453d9f-ca59-408e-e567-1ad5bbf957cf"
      },
      "execution_count": 8,
      "outputs": [
        {
          "output_type": "stream",
          "name": "stdout",
          "text": [
            "Введите размер массива: 13\n",
            "Числа Фибоначчи:\n",
            "1 1 2 3 5 8 13 21 34 55 89 144 233 "
          ]
        }
      ]
    },
    {
      "cell_type": "markdown",
      "source": [
        "----------"
      ],
      "metadata": {
        "id": "RKr4d6hG95BP"
      }
    },
    {
      "cell_type": "markdown",
      "source": [
        "### Задача 3"
      ],
      "metadata": {
        "id": "7atrj8xr6MQi"
      }
    },
    {
      "cell_type": "markdown",
      "source": [
        "**Условие**\n",
        "\n",
        "Введите массив с клавиатуры и найдите (за один проход) количество элементов, имеющих максимальное значение.\n",
        "\n",
        "    Пример:\n",
        "     Массив:\n",
        "     3 4 5 5 3 4 5\n",
        "     Максимальное значение 5\n",
        "     Количество элементов 3"
      ],
      "metadata": {
        "id": "53KHI0iB6QDo"
      }
    },
    {
      "cell_type": "code",
      "source": [
        "array = list(map(int, input(\"Введите массив: \").split()))\n",
        "\n",
        "# Инициализируем переменные для хранения максимального значения и количества элементов\n",
        "max_value = float(\"-inf\")  # Изначально устанавливаем максимальное значение наименьшим возможным числом\n",
        "count = 0  # Изначально количество элементов равно 0\n",
        "\n",
        "# Проходим по всем элементам массива\n",
        "for num in array:\n",
        "    if num > max_value:\n",
        "        max_value = num\n",
        "        count = 1\n",
        "    elif num == max_value:\n",
        "        count += 1\n",
        "\n",
        "# Выводим результаты\n",
        "print(\"Максимальное значение:\", max_value)\n",
        "print(\"Количество элементов:\", count)"
      ],
      "metadata": {
        "colab": {
          "base_uri": "https://localhost:8080/"
        },
        "id": "VwW-ZzzS6hTv",
        "outputId": "75e2c7af-3fed-4fdf-ca19-5e5977a6ed3d"
      },
      "execution_count": 14,
      "outputs": [
        {
          "output_type": "stream",
          "name": "stdout",
          "text": [
            "Введите массив: 1 3 7 9 9 4 9\n",
            "Максимальное значение: 9\n",
            "Количество элементов: 3\n"
          ]
        }
      ]
    },
    {
      "cell_type": "markdown",
      "source": [
        "----------"
      ],
      "metadata": {
        "id": "ZeY7ouka95xQ"
      }
    },
    {
      "cell_type": "markdown",
      "source": [
        "### Задача 4"
      ],
      "metadata": {
        "id": "8rCx2VXv6O-u"
      }
    },
    {
      "cell_type": "markdown",
      "source": [
        "**Условие**\n",
        "\n",
        "С клавиатуры вводятся числа, ввод завершается числом 0. Определить, сколько было введено простых натуральных чисел (которые делятся только сами на себя и на 1), и сколько составных.\n",
        "\n",
        "    Пример:\n",
        "    15\n",
        "    7\n",
        "    13\n",
        "    -12\n",
        "    6\n",
        "    0\n",
        "    Простых: 2\n",
        "    Составных: 3"
      ],
      "metadata": {
        "id": "gpjaKQZg7K1r"
      }
    },
    {
      "cell_type": "code",
      "source": [
        "# Функция для проверки, является ли число простым\n",
        "def is_prime(number):\n",
        "    if number < 2:\n",
        "        return False\n",
        "    for i in range(2, int(number ** 0.5) + 1):\n",
        "        if number % i == 0:\n",
        "            return False\n",
        "    return True\n",
        "\n",
        "# Инициализируем счетчики для простых и составных чисел\n",
        "prime_count = 0\n",
        "composite_count = 0\n",
        "\n",
        "# Начинаем ввод чисел с клавиатуры\n",
        "while True:\n",
        "    num = int(input(\"Введите число (0 для завершения): \"))\n",
        "    if num == 0:\n",
        "        break  # Завершаем ввод, если введено число 0\n",
        "    if is_prime(num):\n",
        "        prime_count += 1\n",
        "    else:\n",
        "        composite_count += 1\n",
        "\n",
        "# Выводим результаты\n",
        "print(\"Простых:\", prime_count)\n",
        "print(\"Составных:\", composite_count)"
      ],
      "metadata": {
        "colab": {
          "base_uri": "https://localhost:8080/"
        },
        "id": "UUR63Hyu7MKx",
        "outputId": "668deb4d-0269-43ea-b015-9d311c9e4804"
      },
      "execution_count": 15,
      "outputs": [
        {
          "output_type": "stream",
          "name": "stdout",
          "text": [
            "Введите число (0 для завершения): 7\n",
            "Введите число (0 для завершения): 11\n",
            "Введите число (0 для завершения): 1\n",
            "Введите число (0 для завершения): 20\n",
            "Введите число (0 для завершения): 10\n",
            "Введите число (0 для завершения): 13\n",
            "Введите число (0 для завершения): 0\n",
            "Простых: 3\n",
            "Составных: 3\n"
          ]
        }
      ]
    },
    {
      "cell_type": "markdown",
      "source": [
        "----------"
      ],
      "metadata": {
        "id": "PXo9ry3G0c3A"
      }
    },
    {
      "cell_type": "markdown",
      "source": [
        "### Задача 5"
      ],
      "metadata": {
        "id": "hoS8ZueF0ezg"
      }
    },
    {
      "cell_type": "markdown",
      "source": [
        "**Условие**\n",
        "\n",
        "С клавиатуры вводятся числа, ввод завершается числом 0. Определить минимальное из введённых чисел Фибоначчи. Вывести \"нет\", если чисел Фибоначчи в последовательности нет.\n",
        "\n",
        "    Пример:\n",
        "    5\n",
        "    36\n",
        "    12\n",
        "    26\n",
        "    13\n",
        "    0\n",
        "    Ответ: 5\n",
        "\n",
        "    6\n",
        "    32\n",
        "    176\n",
        "    41\n",
        "    11\n",
        "    0\n",
        "    Ответ: Нет"
      ],
      "metadata": {
        "id": "9-l2_ysQ0md8"
      }
    },
    {
      "cell_type": "code",
      "source": [
        "# Функция для вычисления n-го числа Фибоначчи\n",
        "def fibonacci_number(n):\n",
        "    if n <= 0:\n",
        "        return None\n",
        "    elif n == 1 or n == 2:\n",
        "        return 1\n",
        "    else:\n",
        "        a, b = 1, 1\n",
        "        for _ in range(3, n + 1):\n",
        "            a, b = b, a + b\n",
        "        return b\n",
        "\n",
        "\n",
        "min_fibonacci = float(\"inf\")  # Для хранения минимального числа Фибоначчи\n",
        "fibonacci_exists = False  # Указывает, были ли числа Фибоначчи в последовательности\n",
        "\n",
        "# Начинаем ввод чисел с клавиатуры\n",
        "while True:\n",
        "    num = int(input(\"Введите число (0 для завершения): \"))\n",
        "    if num == 0:\n",
        "        break  # Завершаем ввод, если введено число 0\n",
        "    fib_num = fibonacci_number(num)\n",
        "    if fib_num is not None and (fibonacci_exists is False or fib_num < min_fibonacci):\n",
        "        fibonacci_exists = True\n",
        "        min_fibonacci = fib_num\n",
        "\n",
        "# Выводим результаты\n",
        "if fibonacci_exists:\n",
        "    print(\"Ответ:\", min_fibonacci)\n",
        "else:\n",
        "    print(\"Ответ: Нет\")"
      ],
      "metadata": {
        "colab": {
          "base_uri": "https://localhost:8080/"
        },
        "id": "WjFAlXyZz_hS",
        "outputId": "bc8718c6-342f-4ade-d6ea-f4cd833cd9b8"
      },
      "execution_count": 17,
      "outputs": [
        {
          "output_type": "stream",
          "name": "stdout",
          "text": [
            "Введите число (0 для завершения): 1\n",
            "Введите число (0 для завершения): 3\n",
            "Введите число (0 для завершения): 4\n",
            "Введите число (0 для завершения): 7\n",
            "Введите число (0 для завершения): 12\n",
            "Введите число (0 для завершения): 52\n",
            "Введите число (0 для завершения): 0\n",
            "Ответ: 1\n"
          ]
        }
      ]
    }
  ]
}