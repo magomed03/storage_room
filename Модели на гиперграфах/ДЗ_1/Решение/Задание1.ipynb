{
  "nbformat": 4,
  "nbformat_minor": 0,
  "metadata": {
    "colab": {
      "provenance": []
    },
    "kernelspec": {
      "name": "python3",
      "display_name": "Python 3"
    },
    "language_info": {
      "name": "python"
    }
  },
  "cells": [
    {
      "cell_type": "markdown",
      "source": [
        "# Модели на Гиперграфах\n",
        "## Задание 1\n",
        "- Ф.И.О.: **Мухамедияр Адиль**\n",
        "- Номер студ. билета: **1032205725**\n",
        "- Группа: **НКНбд-01-20**"
      ],
      "metadata": {
        "id": "cPHZVxDU29b2"
      }
    },
    {
      "cell_type": "markdown",
      "source": [
        "----------"
      ],
      "metadata": {
        "id": "RpMGJt7w3Xcy"
      }
    },
    {
      "cell_type": "markdown",
      "source": [
        "### Задача 1"
      ],
      "metadata": {
        "id": "f_QGehNM3bLi"
      }
    },
    {
      "cell_type": "markdown",
      "source": [
        "**Условие**\n",
        "\n",
        "Занятия в школе начинаются в 8-30. Урок длится 45 минут, перерывы между уроками - 10 минут. Ввести номер урока и вывести время его окончания.\n",
        "\n",
        "    Пример:\n",
        "\t Введите номер урока:\n",
        "\t 6\n",
        "\t 13-50"
      ],
      "metadata": {
        "id": "-QTCQw063hhb"
      }
    },
    {
      "cell_type": "code",
      "execution_count": 9,
      "metadata": {
        "colab": {
          "base_uri": "https://localhost:8080/"
        },
        "id": "XXqKePuP25nm",
        "outputId": "56de80f4-ead3-43e3-bb82-6899e6de2440"
      },
      "outputs": [
        {
          "output_type": "stream",
          "name": "stdout",
          "text": [
            "Введите номер урока: 3\n",
            "Время окончания Занятия: 10-20\n"
          ]
        }
      ],
      "source": [
        "lesson = int(input(\"Введите номер урока: \"))\n",
        "t0 = 8 * 60 + 30  # Время начала занятий в минутах (8 часов 30 минут)\n",
        "\n",
        "# Расчет времени окончания урока\n",
        "tn = t0 + (lesson - 1) * 55  # 45 минут урок + 10 минут перерыв\n",
        "\n",
        "# Преобразование времени окончания в формат ЧЧ-ММ\n",
        "hours = tn // 60\n",
        "minutes = tn % 60\n",
        "\n",
        "print(f\"Время окончания Занятия: {hours:02d}-{minutes:02d}\")"
      ]
    },
    {
      "cell_type": "markdown",
      "source": [
        "### Задача 2"
      ],
      "metadata": {
        "id": "3iEb-HlG5crs"
      }
    },
    {
      "cell_type": "markdown",
      "source": [
        "**Условие**\n",
        "\n",
        "В игре «Русское лото» из мешка случайным образом выбираются бочонки, на каждом из которых написано число от 1 до 90. Напишите программу, которая выводит наугад первые 5 выигрышных номеров."
      ],
      "metadata": {
        "id": "hpWDbv205hy0"
      }
    },
    {
      "cell_type": "code",
      "source": [
        "import random\n",
        "\n",
        "# Создание списка всех возможных номеров (от 1 до 90)\n",
        "all_numbers = list(range(1, 91))\n",
        "\n",
        "# Выбор и вывод 5 случайных номеров из списка\n",
        "winning_numbers = random.sample(all_numbers, 5)\n",
        "print(\"Выигрышные номера:\")\n",
        "for number in winning_numbers:\n",
        "    print(number)"
      ],
      "metadata": {
        "colab": {
          "base_uri": "https://localhost:8080/"
        },
        "id": "Fg_C8jrK5ghL",
        "outputId": "ad876163-3eef-4c0c-cd3a-2bbef430fbb9"
      },
      "execution_count": 10,
      "outputs": [
        {
          "output_type": "stream",
          "name": "stdout",
          "text": [
            "Выигрышные номера:\n",
            "36\n",
            "39\n",
            "88\n",
            "46\n",
            "48\n"
          ]
        }
      ]
    },
    {
      "cell_type": "markdown",
      "source": [
        "### Задача 3"
      ],
      "metadata": {
        "id": "7atrj8xr6MQi"
      }
    },
    {
      "cell_type": "markdown",
      "source": [
        "**Условие**\n",
        "\n",
        "Ввести пять чисел и найти наибольшее из них.\n",
        "\n",
        "    Пример:\n",
        "    Введите пять чисел:\n",
        "\t\t4    15    9    56    4\n",
        "\t\tНаибольшее число 56"
      ],
      "metadata": {
        "id": "53KHI0iB6QDo"
      }
    },
    {
      "cell_type": "code",
      "source": [
        "numbers = []  # Создание пустого списка для хранения чисел\n",
        "\n",
        "# Цикл для ввода пяти чисел\n",
        "for i in range(5):\n",
        "    number = int(input(f\"Введите число {i + 1}: \"))  # Запрос ввода числа от пользователя\n",
        "    numbers.append(number)  # Добавление числа в список\n",
        "\n",
        "max_number = max(numbers)  # Нахождение наибольшего числа\n",
        "\n",
        "print(f\"Наибольшее число: {max_number}\")"
      ],
      "metadata": {
        "colab": {
          "base_uri": "https://localhost:8080/"
        },
        "id": "VwW-ZzzS6hTv",
        "outputId": "a39351e3-e2ee-471a-e530-9328189b0249"
      },
      "execution_count": 12,
      "outputs": [
        {
          "output_type": "stream",
          "name": "stdout",
          "text": [
            "Введите число 1: -2\n",
            "Введите число 2: -3\n",
            "Введите число 3: -5\n",
            "Введите число 4: -11\n",
            "Введите число 5: -9\n",
            "Наибольшее число: -2\n"
          ]
        }
      ]
    },
    {
      "cell_type": "markdown",
      "source": [
        "### Задача 4"
      ],
      "metadata": {
        "id": "8rCx2VXv6O-u"
      }
    },
    {
      "cell_type": "markdown",
      "source": [
        "**Условие**\n",
        "\n",
        "Напишите программу, которая получает возраст человека (целое число, не превышающее 120) и выводит этот возраст со словом «год», «года» или «лет».\n",
        "\n",
        "Например, «21 год», «22 года», «25 лет».\n",
        "\n",
        "    Примеры:\n",
        "    Введите возраст: 18\n",
        "    Вам 18 лет.\n",
        "\n",
        "    Введите возраст: 21\n",
        "    Вам 21 год.\n",
        "\n",
        "    Введите возраст: 22\n",
        "    Вам 22 года."
      ],
      "metadata": {
        "id": "gpjaKQZg7K1r"
      }
    },
    {
      "cell_type": "code",
      "source": [
        "age = int(input(\"Введите возраст: \"))\n",
        "\n",
        "# Проверка для определения правильного склонения слова\n",
        "if age % 10 == 1 and age % 100 != 11:\n",
        "    word = \"год\"\n",
        "elif age % 10 in [2, 3, 4] and age % 100 not in [12, 13, 14]:\n",
        "    word = \"года\"\n",
        "else:\n",
        "    word = \"лет\"\n",
        "\n",
        "# Вывод возраста с правильным склонением\n",
        "print(f\"Вам {age} {word}.\")"
      ],
      "metadata": {
        "colab": {
          "base_uri": "https://localhost:8080/"
        },
        "id": "UUR63Hyu7MKx",
        "outputId": "561a5128-00e1-48da-ea19-de18f1deb49a"
      },
      "execution_count": 13,
      "outputs": [
        {
          "output_type": "stream",
          "name": "stdout",
          "text": [
            "Введите возраст: 20\n",
            "Вам 20 лет.\n"
          ]
        }
      ]
    }
  ]
}